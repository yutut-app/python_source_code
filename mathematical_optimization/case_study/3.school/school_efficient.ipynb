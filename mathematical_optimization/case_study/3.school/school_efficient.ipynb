{
 "cells": [
  {
   "cell_type": "markdown",
   "metadata": {},
   "source": [
    "# **第3章　学校のクラス編成**"
   ]
  },
  {
   "cell_type": "markdown",
   "metadata": {},
   "source": [
    "### **3.2 課題整理**"
   ]
  },
  {
   "cell_type": "markdown",
   "metadata": {},
   "source": [
    "### クラス編成問題\n",
    "\n",
    "- 公立中学校のクラス編成\n",
    "> **要件(1):学年の全生徒をそれぞれ一つのクラスに割り当てる**\n",
    "\n",
    "- 学校には318人の生徒がいて、8つのクラスがある\n",
    "> **要件(2):各クラスの生徒の人数は39人以上、40人以下とする**\n",
    "\n",
    "- 学年に男子生徒が158人、女子生徒が160人いる\n",
    "> **要件(3):各クラスの男子生徒、女子生徒の人数は20人以下とする**\n",
    "\n",
    "- 学力試験は500点満点で、平均点は303.6点\n",
    "> **要件(4):各クラスの学力の平均点は学年平均点±10点とする**\n",
    "\n",
    "- 学年にリーダー気質の生徒が17人いる\n",
    "> **要件(5):各クラスにリーダー気質の生徒を2人以上割り当てる**\n",
    "\n",
    "- 学年に特別に支援が必要な生徒が4人いる\n",
    "> **要件(6):特別な支援が必要な生徒は各クラスに1人以下とする**\n",
    "\n",
    "- 学年に特定ペア(双子や同姓同名)が3組いる\n",
    "> **要件(7):特定ペアの生徒は同一クラスに割り当てる**\n"
   ]
  },
  {
   "cell_type": "markdown",
   "metadata": {},
   "source": [
    "### **3.3 数理モデリングと実装**"
   ]
  },
  {
   "cell_type": "markdown",
   "metadata": {},
   "source": [
    "### ②データの確認"
   ]
  },
  {
   "cell_type": "code",
   "execution_count": 47,
   "metadata": {},
   "outputs": [],
   "source": [
    "# データ処理のためのライブラリpandasの取り込み\n",
    "import pandas as pd"
   ]
  },
  {
   "cell_type": "markdown",
   "metadata": {},
   "source": [
    "(1)生徒データ(students.csv)の確認"
   ]
  },
  {
   "cell_type": "code",
   "execution_count": 48,
   "metadata": {},
   "outputs": [
    {
     "name": "stdout",
     "output_type": "stream",
     "text": [
      "318\n"
     ]
    },
    {
     "data": {
      "text/html": [
       "<div>\n",
       "<style scoped>\n",
       "    .dataframe tbody tr th:only-of-type {\n",
       "        vertical-align: middle;\n",
       "    }\n",
       "\n",
       "    .dataframe tbody tr th {\n",
       "        vertical-align: top;\n",
       "    }\n",
       "\n",
       "    .dataframe thead th {\n",
       "        text-align: right;\n",
       "    }\n",
       "</style>\n",
       "<table border=\"1\" class=\"dataframe\">\n",
       "  <thead>\n",
       "    <tr style=\"text-align: right;\">\n",
       "      <th></th>\n",
       "      <th>student_id</th>\n",
       "      <th>gender</th>\n",
       "      <th>leader_flag</th>\n",
       "      <th>support_flag</th>\n",
       "      <th>score</th>\n",
       "    </tr>\n",
       "  </thead>\n",
       "  <tbody>\n",
       "    <tr>\n",
       "      <th>0</th>\n",
       "      <td>1</td>\n",
       "      <td>0</td>\n",
       "      <td>0</td>\n",
       "      <td>0</td>\n",
       "      <td>335</td>\n",
       "    </tr>\n",
       "    <tr>\n",
       "      <th>1</th>\n",
       "      <td>2</td>\n",
       "      <td>1</td>\n",
       "      <td>0</td>\n",
       "      <td>0</td>\n",
       "      <td>379</td>\n",
       "    </tr>\n",
       "    <tr>\n",
       "      <th>2</th>\n",
       "      <td>3</td>\n",
       "      <td>0</td>\n",
       "      <td>0</td>\n",
       "      <td>0</td>\n",
       "      <td>350</td>\n",
       "    </tr>\n",
       "    <tr>\n",
       "      <th>3</th>\n",
       "      <td>4</td>\n",
       "      <td>0</td>\n",
       "      <td>0</td>\n",
       "      <td>0</td>\n",
       "      <td>301</td>\n",
       "    </tr>\n",
       "    <tr>\n",
       "      <th>4</th>\n",
       "      <td>5</td>\n",
       "      <td>1</td>\n",
       "      <td>0</td>\n",
       "      <td>0</td>\n",
       "      <td>317</td>\n",
       "    </tr>\n",
       "  </tbody>\n",
       "</table>\n",
       "</div>"
      ],
      "text/plain": [
       "   student_id  gender  leader_flag  support_flag  score\n",
       "0           1       0            0             0    335\n",
       "1           2       1            0             0    379\n",
       "2           3       0            0             0    350\n",
       "3           4       0            0             0    301\n",
       "4           5       1            0             0    317"
      ]
     },
     "execution_count": 48,
     "metadata": {},
     "output_type": "execute_result"
    }
   ],
   "source": [
    "# students.csvからの生徒データの取得\n",
    "student_df = pd.read_csv('students.csv')\n",
    "print(len(student_df))\n",
    "student_df.head()"
   ]
  },
  {
   "cell_type": "code",
   "execution_count": 49,
   "metadata": {},
   "outputs": [
    {
     "data": {
      "text/plain": [
       "0        1\n",
       "1        2\n",
       "2        3\n",
       "3        4\n",
       "4        5\n",
       "      ... \n",
       "313    314\n",
       "314    315\n",
       "315    316\n",
       "316    317\n",
       "317    318\n",
       "Name: student_id, Length: 318, dtype: int64"
      ]
     },
     "execution_count": 49,
     "metadata": {},
     "output_type": "execute_result"
    }
   ],
   "source": [
    "# 学籍番号の確認\n",
    "student_df['student_id']"
   ]
  },
  {
   "cell_type": "code",
   "execution_count": 50,
   "metadata": {},
   "outputs": [
    {
     "data": {
      "text/plain": [
       "318"
      ]
     },
     "execution_count": 50,
     "metadata": {},
     "output_type": "execute_result"
    }
   ],
   "source": [
    "# 最大値の確認\n",
    "student_df['student_id'].max()"
   ]
  },
  {
   "cell_type": "code",
   "execution_count": 51,
   "metadata": {},
   "outputs": [
    {
     "data": {
      "text/plain": [
       "1"
      ]
     },
     "execution_count": 51,
     "metadata": {},
     "output_type": "execute_result"
    }
   ],
   "source": [
    "# 最小値の確認\n",
    "student_df['student_id'].min()"
   ]
  },
  {
   "cell_type": "code",
   "execution_count": 52,
   "metadata": {},
   "outputs": [
    {
     "data": {
      "text/plain": [
       "True"
      ]
     },
     "execution_count": 52,
     "metadata": {},
     "output_type": "execute_result"
    }
   ],
   "source": [
    "# 1〜318まで隙間なく番号が振られているかの確認\n",
    "set(range(1, 319)) == set(student_df['student_id'].tolist())"
   ]
  },
  {
   "cell_type": "code",
   "execution_count": 53,
   "metadata": {},
   "outputs": [
    {
     "data": {
      "text/plain": [
       "gender\n",
       "0    160\n",
       "1    158\n",
       "Name: count, dtype: int64"
      ]
     },
     "execution_count": 53,
     "metadata": {},
     "output_type": "execute_result"
    }
   ],
   "source": [
    "# 性別（gender）の確認\n",
    "student_df['gender'].value_counts()"
   ]
  },
  {
   "cell_type": "code",
   "execution_count": 54,
   "metadata": {},
   "outputs": [
    {
     "data": {
      "text/plain": [
       "count    318.000000\n",
       "mean     303.644654\n",
       "std       65.179995\n",
       "min       88.000000\n",
       "25%      261.000000\n",
       "50%      310.000000\n",
       "75%      350.000000\n",
       "max      485.000000\n",
       "Name: score, dtype: float64"
      ]
     },
     "execution_count": 54,
     "metadata": {},
     "output_type": "execute_result"
    }
   ],
   "source": [
    "# 学力試験の点数(score)の統計量の確認\n",
    "student_df['score'].describe()"
   ]
  },
  {
   "cell_type": "code",
   "execution_count": 55,
   "metadata": {},
   "outputs": [
    {
     "data": {
      "text/plain": [
       "<Axes: >"
      ]
     },
     "execution_count": 55,
     "metadata": {},
     "output_type": "execute_result"
    },
    {
     "data": {
      "image/png": "[encoded data removed]",
      "text/plain": [
       "<Figure size 640x480 with 1 Axes>"
      ]
     },
     "metadata": {},
     "output_type": "display_data"
    }
   ],
   "source": [
    "# 学力試験の点数(score)の分布の確認\n",
    "student_df['score'].hist()"
   ]
  },
  {
   "cell_type": "code",
   "execution_count": 56,
   "metadata": {},
   "outputs": [
    {
     "data": {
      "text/plain": [
       "leader_flag\n",
       "0    301\n",
       "1     17\n",
       "Name: count, dtype: int64"
      ]
     },
     "execution_count": 56,
     "metadata": {},
     "output_type": "execute_result"
    }
   ],
   "source": [
    "# リーダー気質フラグ(leader_flag)の確認\n",
    "student_df['leader_flag'].value_counts()"
   ]
  },
  {
   "cell_type": "code",
   "execution_count": 57,
   "metadata": {},
   "outputs": [
    {
     "data": {
      "text/plain": [
       "support_flag\n",
       "0    314\n",
       "1      4\n",
       "Name: count, dtype: int64"
      ]
     },
     "execution_count": 57,
     "metadata": {},
     "output_type": "execute_result"
    }
   ],
   "source": [
    "# 特別支援フラグ(support_flag)の確認\n",
    "student_df['support_flag'].value_counts()"
   ]
  },
  {
   "cell_type": "markdown",
   "metadata": {},
   "source": [
    "(2)特定ペアデータ(student_pairs.csv)の確認"
   ]
  },
  {
   "cell_type": "code",
   "execution_count": 58,
   "metadata": {},
   "outputs": [
    {
     "name": "stdout",
     "output_type": "stream",
     "text": [
      "3\n"
     ]
    },
    {
     "data": {
      "text/html": [
       "<div>\n",
       "<style scoped>\n",
       "    .dataframe tbody tr th:only-of-type {\n",
       "        vertical-align: middle;\n",
       "    }\n",
       "\n",
       "    .dataframe tbody tr th {\n",
       "        vertical-align: top;\n",
       "    }\n",
       "\n",
       "    .dataframe thead th {\n",
       "        text-align: right;\n",
       "    }\n",
       "</style>\n",
       "<table border=\"1\" class=\"dataframe\">\n",
       "  <thead>\n",
       "    <tr style=\"text-align: right;\">\n",
       "      <th></th>\n",
       "      <th>student_id1</th>\n",
       "      <th>student_id2</th>\n",
       "    </tr>\n",
       "  </thead>\n",
       "  <tbody>\n",
       "    <tr>\n",
       "      <th>0</th>\n",
       "      <td>118</td>\n",
       "      <td>189</td>\n",
       "    </tr>\n",
       "    <tr>\n",
       "      <th>1</th>\n",
       "      <td>72</td>\n",
       "      <td>50</td>\n",
       "    </tr>\n",
       "    <tr>\n",
       "      <th>2</th>\n",
       "      <td>314</td>\n",
       "      <td>233</td>\n",
       "    </tr>\n",
       "  </tbody>\n",
       "</table>\n",
       "</div>"
      ],
      "text/plain": [
       "   student_id1  student_id2\n",
       "0          118          189\n",
       "1           72           50\n",
       "2          314          233"
      ]
     },
     "execution_count": 58,
     "metadata": {},
     "output_type": "execute_result"
    }
   ],
   "source": [
    "# student_pairs.csvからの特定ペアデータの取得\n",
    "student_pairs_df = pd.read_csv('student_pairs.csv')\n",
    "print(len(student_pairs_df))\n",
    "student_pairs_df"
   ]
  },
  {
   "cell_type": "markdown",
   "metadata": {},
   "source": [
    "### ③数理モデリングと実装"
   ]
  },
  {
   "cell_type": "code",
   "execution_count": 59,
   "metadata": {},
   "outputs": [],
   "source": [
    "# PythonライブラリPuLPの取り込み\n",
    "import pulp"
   ]
  },
  {
   "cell_type": "code",
   "execution_count": 60,
   "metadata": {},
   "outputs": [],
   "source": [
    "# 数理モデルのインスタンス作成\n",
    "prob = pulp.LpProblem('ClassAssignmentProblem', pulp.LpMaximize)"
   ]
  },
  {
   "cell_type": "markdown",
   "metadata": {},
   "source": [
    "- リスト\n",
    "  - 生徒のリスト：$S$\n",
    "  - クラスのリスト：$C$\n",
    "- 変数\n",
    "  - 生徒sをクラスcに割り当てる場合に1、そうでない場合に0をとる変数：$x_{s,c} \\in (0,1)  (s \\in S, c \\in C)$"
   ]
  },
  {
   "cell_type": "code",
   "execution_count": 61,
   "metadata": {},
   "outputs": [
    {
     "name": "stdout",
     "output_type": "stream",
     "text": [
      "[1, 2, 3, 4, 5, 6, 7, 8, 9, 10, 11, 12, 13, 14, 15, 16, 17, 18, 19, 20, 21, 22, 23, 24, 25, 26, 27, 28, 29, 30, 31, 32, 33, 34, 35, 36, 37, 38, 39, 40, 41, 42, 43, 44, 45, 46, 47, 48, 49, 50, 51, 52, 53, 54, 55, 56, 57, 58, 59, 60, 61, 62, 63, 64, 65, 66, 67, 68, 69, 70, 71, 72, 73, 74, 75, 76, 77, 78, 79, 80, 81, 82, 83, 84, 85, 86, 87, 88, 89, 90, 91, 92, 93, 94, 95, 96, 97, 98, 99, 100, 101, 102, 103, 104, 105, 106, 107, 108, 109, 110, 111, 112, 113, 114, 115, 116, 117, 118, 119, 120, 121, 122, 123, 124, 125, 126, 127, 128, 129, 130, 131, 132, 133, 134, 135, 136, 137, 138, 139, 140, 141, 142, 143, 144, 145, 146, 147, 148, 149, 150, 151, 152, 153, 154, 155, 156, 157, 158, 159, 160, 161, 162, 163, 164, 165, 166, 167, 168, 169, 170, 171, 172, 173, 174, 175, 176, 177, 178, 179, 180, 181, 182, 183, 184, 185, 186, 187, 188, 189, 190, 191, 192, 193, 194, 195, 196, 197, 198, 199, 200, 201, 202, 203, 204, 205, 206, 207, 208, 209, 210, 211, 212, 213, 214, 215, 216, 217, 218, 219, 220, 221, 222, 223, 224, 225, 226, 227, 228, 229, 230, 231, 232, 233, 234, 235, 236, 237, 238, 239, 240, 241, 242, 243, 244, 245, 246, 247, 248, 249, 250, 251, 252, 253, 254, 255, 256, 257, 258, 259, 260, 261, 262, 263, 264, 265, 266, 267, 268, 269, 270, 271, 272, 273, 274, 275, 276, 277, 278, 279, 280, 281, 282, 283, 284, 285, 286, 287, 288, 289, 290, 291, 292, 293, 294, 295, 296, 297, 298, 299, 300, 301, 302, 303, 304, 305, 306, 307, 308, 309, 310, 311, 312, 313, 314, 315, 316, 317, 318]\n"
     ]
    }
   ],
   "source": [
    "# 生徒のリスト\n",
    "S = student_df['student_id'].tolist()\n",
    "print(S)"
   ]
  },
  {
   "cell_type": "code",
   "execution_count": 62,
   "metadata": {},
   "outputs": [
    {
     "data": {
      "text/plain": [
       "['A', 'B', 'C', 'D', 'E', 'F', 'G', 'H']"
      ]
     },
     "execution_count": 62,
     "metadata": {},
     "output_type": "execute_result"
    }
   ],
   "source": [
    "# クラスのリスト\n",
    "C = ['A', 'B', 'C', 'D', 'E', 'F', 'G', 'H']\n",
    "C"
   ]
  },
  {
   "cell_type": "code",
   "execution_count": 63,
   "metadata": {},
   "outputs": [
    {
     "name": "stdout",
     "output_type": "stream",
     "text": [
      "[(1, 'A'), (1, 'B'), (1, 'C'), (1, 'D'), (1, 'E'), (1, 'F'), (1, 'G'), (1, 'H'), (2, 'A'), (2, 'B'), (2, 'C'), (2, 'D'), (2, 'E'), (2, 'F'), (2, 'G'), (2, 'H'), (3, 'A'), (3, 'B'), (3, 'C'), (3, 'D'), (3, 'E'), (3, 'F'), (3, 'G'), (3, 'H'), (4, 'A'), (4, 'B'), (4, 'C'), (4, 'D'), (4, 'E'), (4, 'F')]\n"
     ]
    }
   ],
   "source": [
    "# 生徒とクラスのペアのリスト\n",
    "SC = [(s,c) for s in S for c in C]\n",
    "print(SC[:30])"
   ]
  },
  {
   "cell_type": "code",
   "execution_count": 64,
   "metadata": {},
   "outputs": [],
   "source": [
    "# 生徒をどのクラスに割り当てるかを変数として定義\n",
    "x = pulp.LpVariable.dicts('x', SC, cat='Binary')"
   ]
  },
  {
   "cell_type": "markdown",
   "metadata": {},
   "source": [
    "- 要件(1)学年の全生徒をそれぞれ一つのクラスに割り当てる\n",
    "  - $\\sum_{c \\in C} x_{s,c} = 1  (s \\in S)$"
   ]
  },
  {
   "cell_type": "code",
   "execution_count": 65,
   "metadata": {},
   "outputs": [],
   "source": [
    "# (1)各生徒は１つのクラスに割り当てる\n",
    "for s in S:\n",
    "    prob += pulp.lpSum([x[s,c] for c in C]) == 1"
   ]
  },
  {
   "cell_type": "markdown",
   "metadata": {},
   "source": [
    "- 要件(2)各クラスの生徒の人数は39人以上、40人以下とする\n",
    "  - $\\sum_{s \\in S} x_{s,c} \\geq 39  (s \\in S)$\n",
    "  - $\\sum_{s \\in S} x_{s,c} \\leq 40  (s \\in S)$"
   ]
  },
  {
   "cell_type": "code",
   "execution_count": 66,
   "metadata": {},
   "outputs": [],
   "source": [
    "# (2)各クラスの生徒の人数は39人以上、40人以下とする。\n",
    "for c in C:\n",
    "    prob += pulp.lpSum([x[s,c] for s in S]) >= 39\n",
    "    prob += pulp.lpSum([x[s,c] for s in S]) <= 40"
   ]
  },
  {
   "cell_type": "markdown",
   "metadata": {},
   "source": [
    "- 要件(3)各クラスの男子生徒、女子生徒の人数は20人以下とする\n",
    "  - $\\sum_{s \\in S_{male}} x_{s,c} \\leq 20  (s \\in S)$\n",
    "  - $\\sum_{s \\in S_{female}} x_{s,c} \\leq 20  (s \\in S)$"
   ]
  },
  {
   "cell_type": "code",
   "execution_count": 67,
   "metadata": {},
   "outputs": [],
   "source": [
    "# 男子生徒のリスト\n",
    "S_male = [row.student_id for row in student_df.itertuples() if row.gender == 1]\n",
    "\n",
    "# 女子生徒のリスト\n",
    "S_female = [row.student_id for row in student_df.itertuples() if row.gender == 0]\n",
    "\n",
    "# (3) 各クラスの男子生徒、女子生徒の人数は20人以下とする。\n",
    "for c in C:\n",
    "    prob += pulp.lpSum([x[s,c] for s in S_male]) <= 20\n",
    "    prob += pulp.lpSum([x[s,c] for s in S_female]) <= 20"
   ]
  },
  {
   "cell_type": "markdown",
   "metadata": {},
   "source": [
    "- 定数\n",
    "  - 各生徒学力：$score_s (s \\in S)$\n",
    "  - 学年平均点：$score\\_mean$\n",
    "- 要件(4)各クラスの学力試験の平均点は学年平均点±10点とする\n",
    "  - $score\\_mean - 10 \\leq　\\frac {\\sum_{s \\in S} score_s * x_{s,c}}{\\sum_{s \\in S} x_{s,c}} (c \\in C)$\n",
    "  - $\\frac {\\sum_{s \\in S} score_s * x_{s,c}}{\\sum_{s \\in S} x_{s,c}} \\leq　score\\_mean + 10(c \\in C)$"
   ]
  },
  {
   "cell_type": "markdown",
   "metadata": {},
   "source": [
    "- 要件(4)を線形に置き換える\n",
    "  - $(score\\_mean - 10)*\\sum_{s \\in S} x_{s,c} \\leq　\\sum_{s \\in S} score_s * x_{s,c} (c \\in C)$\n",
    "  - $\\sum_{s \\in S} score_s * x_{s,c} \\leq　(score\\_mean + 10)*\\sum_{s \\in S} x_{s,c}(c \\in C)$"
   ]
  },
  {
   "cell_type": "code",
   "execution_count": 68,
   "metadata": {},
   "outputs": [
    {
     "name": "stdout",
     "output_type": "stream",
     "text": [
      "{1: 335, 2: 379, 3: 350, 4: 301, 5: 317, 6: 390, 7: 322, 8: 317, 9: 390, 10: 357, 11: 252, 12: 285, 13: 218, 14: 260, 15: 347, 16: 358, 17: 291, 18: 335, 19: 437, 20: 200, 21: 361, 22: 312, 23: 342, 24: 303, 25: 275, 26: 292, 27: 268, 28: 261, 29: 339, 30: 296, 31: 261, 32: 309, 33: 295, 34: 292, 35: 397, 36: 326, 37: 283, 38: 291, 39: 408, 40: 317, 41: 241, 42: 380, 43: 340, 44: 341, 45: 276, 46: 336, 47: 291, 48: 245, 49: 352, 50: 267, 51: 189, 52: 337, 53: 379, 54: 264, 55: 332, 56: 275, 57: 290, 58: 279, 59: 327, 60: 315, 61: 258, 62: 334, 63: 122, 64: 222, 65: 421, 66: 314, 67: 349, 68: 385, 69: 256, 70: 206, 71: 88, 72: 326, 73: 352, 74: 439, 75: 273, 76: 231, 77: 284, 78: 278, 79: 367, 80: 233, 81: 283, 82: 247, 83: 413, 84: 212, 85: 366, 86: 344, 87: 215, 88: 123, 89: 350, 90: 220, 91: 351, 92: 383, 93: 352, 94: 316, 95: 337, 96: 300, 97: 350, 98: 352, 99: 409, 100: 336, 101: 224, 102: 369, 103: 233, 104: 209, 105: 322, 106: 355, 107: 346, 108: 390, 109: 102, 110: 239, 111: 335, 112: 320, 113: 269, 114: 277, 115: 287, 116: 231, 117: 390, 118: 301, 119: 329, 120: 246, 121: 280, 122: 355, 123: 128, 124: 214, 125: 267, 126: 373, 127: 335, 128: 175, 129: 311, 130: 349, 131: 313, 132: 335, 133: 323, 134: 269, 135: 272, 136: 391, 137: 228, 138: 190, 139: 382, 140: 378, 141: 287, 142: 314, 143: 287, 144: 237, 145: 406, 146: 374, 147: 341, 148: 217, 149: 282, 150: 344, 151: 325, 152: 240, 153: 336, 154: 299, 155: 308, 156: 354, 157: 244, 158: 362, 159: 354, 160: 266, 161: 327, 162: 234, 163: 293, 164: 239, 165: 213, 166: 304, 167: 211, 168: 160, 169: 235, 170: 246, 171: 278, 172: 346, 173: 197, 174: 320, 175: 163, 176: 366, 177: 389, 178: 305, 179: 430, 180: 98, 181: 388, 182: 320, 183: 350, 184: 391, 185: 233, 186: 315, 187: 261, 188: 306, 189: 252, 190: 247, 191: 288, 192: 325, 193: 393, 194: 365, 195: 321, 196: 321, 197: 216, 198: 377, 199: 186, 200: 385, 201: 296, 202: 225, 203: 176, 204: 337, 205: 329, 206: 399, 207: 277, 208: 386, 209: 337, 210: 363, 211: 355, 212: 241, 213: 255, 214: 273, 215: 310, 216: 390, 217: 260, 218: 334, 219: 359, 220: 373, 221: 384, 222: 376, 223: 270, 224: 432, 225: 266, 226: 342, 227: 287, 228: 283, 229: 257, 230: 325, 231: 375, 232: 288, 233: 224, 234: 308, 235: 273, 236: 264, 237: 485, 238: 252, 239: 344, 240: 375, 241: 344, 242: 351, 243: 222, 244: 319, 245: 251, 246: 89, 247: 306, 248: 205, 249: 240, 250: 306, 251: 235, 252: 343, 253: 329, 254: 359, 255: 266, 256: 263, 257: 355, 258: 289, 259: 399, 260: 349, 261: 389, 262: 245, 263: 281, 264: 440, 265: 267, 266: 258, 267: 404, 268: 355, 269: 249, 270: 330, 271: 277, 272: 233, 273: 261, 274: 330, 275: 365, 276: 280, 277: 257, 278: 354, 279: 310, 280: 299, 281: 343, 282: 271, 283: 366, 284: 320, 285: 322, 286: 344, 287: 254, 288: 310, 289: 320, 290: 332, 291: 407, 292: 353, 293: 388, 294: 296, 295: 326, 296: 238, 297: 243, 298: 417, 299: 390, 300: 240, 301: 364, 302: 277, 303: 320, 304: 278, 305: 276, 306: 265, 307: 322, 308: 306, 309: 274, 310: 323, 311: 292, 312: 331, 313: 223, 314: 244, 315: 309, 316: 239, 317: 356, 318: 256}\n",
      "303.6446540880503\n"
     ]
    }
   ],
   "source": [
    "# 学力を辞書表現に変換\n",
    "score = {row.student_id:row.score for row in student_df.itertuples()}\n",
    "print(score)\n",
    "\n",
    "# 平均点の算出\n",
    "score_mean = student_df['score'].mean()\n",
    "print(score_mean)\n",
    "    \n",
    "# (4) 各クラスの学力試験の平均点は学年平均点±10点とする。    \n",
    "for c in C:\n",
    "    prob += (score_mean - 10) * pulp.lpSum([x[s,c] for s in S]) <= pulp.lpSum([x[s,c] * score[s] for s in S]) \n",
    "    prob += pulp.lpSum([x[s,c] * score[s] for s in S]) <= (score_mean + 10) * pulp.lpSum([x[s,c] for s in S])"
   ]
  },
  {
   "cell_type": "markdown",
   "metadata": {},
   "source": [
    "- リスト\n",
    "  - リーダー気質の生徒のリスト：$S_{leader}$\n",
    "- 要件(5)各クラスにリーダー気質の生徒を2人以上割り当てる\n",
    "  - $\\sum_{s \\in S_{leader}} x_{s,c} \\geq 2(c \\in C)$"
   ]
  },
  {
   "cell_type": "code",
   "execution_count": 69,
   "metadata": {},
   "outputs": [],
   "source": [
    "# リーダー気質の生徒の集合\n",
    "S_leader = [row.student_id for row in student_df.itertuples() if row.leader_flag == 1]\n",
    "\n",
    "# (5)各クラスにリーダー気質の生徒を2人以上割り当てる。\n",
    "for c in C:\n",
    "    prob += pulp.lpSum([x[s,c] for s in S_leader]) >= 2"
   ]
  },
  {
   "cell_type": "markdown",
   "metadata": {},
   "source": [
    "- リスト\n",
    "  - 特別な支援が必要な生徒のリスト：$S_{support}$\n",
    "- 要件(6)特別な支援が必要な生徒は各クラスに1人以下とする\n",
    "  - $\\sum_{s \\in S_{support}} x_{s,c} \\leq 1(c \\in C)$"
   ]
  },
  {
   "cell_type": "code",
   "execution_count": 70,
   "metadata": {},
   "outputs": [],
   "source": [
    "# 特別な支援が必要な生徒の集合\n",
    "S_support = [row.student_id for row in student_df.itertuples() if row.support_flag == 1]\n",
    "\n",
    "# (6) 特別な支援が必要な生徒は各クラスに1人以下とする。\n",
    "for c in C:\n",
    "    prob += pulp.lpSum([x[s,c] for s in S_support]) <= 1"
   ]
  },
  {
   "cell_type": "markdown",
   "metadata": {},
   "source": [
    "- リスト\n",
    "  - 生徒の特定ペアリスト：$SS$\n",
    "- 要件(7) 特定ペアの生徒は同一クラスに割り当てない\n",
    "  - $x_{s1,c}+x_{s2,c} \\leq 1 (c \\in C, (s1, s2) \\in SS)$"
   ]
  },
  {
   "cell_type": "code",
   "execution_count": 71,
   "metadata": {},
   "outputs": [],
   "source": [
    "# 生徒の特定ペアリスト\n",
    "SS = [(row.student_id1, row.student_id2) for row in student_pairs_df.itertuples()]\n",
    "\n",
    "# (7) 特定ペアの生徒は同一クラスに割り当てない。\n",
    "for s1, s2 in SS:\n",
    "    for c in C:\n",
    "        prob += x[s1,c] + x[s2,c] <= 1"
   ]
  },
  {
   "cell_type": "markdown",
   "metadata": {},
   "source": [
    "## 数理モデル\n",
    "\n",
    "- リスト\n",
    "  - 生徒のリスト：$S$\n",
    "  - クラスのリスト：$C$\n",
    "  - 男子生徒のリスト：$S_{male}$\n",
    "  - 女子生徒のリスト：$S_{female}$\n",
    "  - リーダー気質の生徒のリスト：$S_{leader}$\n",
    "  - 特別な支援が必要な生徒のリスト：$S_{support}$\n",
    "  - 生徒の特定ペアリスト：$SS$\n",
    "- 変数\n",
    "  - 生徒sをクラスcに割り当てる場合に1、そうでない場合に0をとる変数：$x_{s,c} \\in (0,1)  (s \\in S, c \\in C)$\n",
    "- 定数\n",
    "  - 生徒sの学力試験のテスト：$score_s (s \\in S)$\n",
    "  - 学力試験の学年平均点：$score\\_mean$\n",
    "- 制約式\n",
    "  - 要件(1):学年の全生徒をそれぞれ一つのクラスに割り当てる\n",
    "    - $\\sum_{c \\in C} x_{s,c} = 1  (s \\in S)$\n",
    "  - 要件(2):各クラスの生徒の人数は39人以上、40人以下とする\n",
    "    - $\\sum_{s \\in S} x_{s,c} \\geq 39  (s \\in S)$\n",
    "    - $\\sum_{s \\in S} x_{s,c} \\leq 40  (s \\in S)$\n",
    "  - 要件(3):各クラスの男子生徒、女子生徒の人数は20人以下とする\n",
    "    - $\\sum_{s \\in S_{male}} x_{s,c} \\leq 20  (s \\in S)$\n",
    "    - $\\sum_{s \\in S_{female}} x_{s,c} \\leq 20  (s \\in S)$\n",
    "  - 要件(4):各クラスの学力試験の平均点は学年平均点±10点とする\n",
    "    - $score\\_mean - 10 \\leq　\\frac {\\sum_{s \\in S} score_s * x_{s,c}}{\\sum_{s \\in S} x_{s,c}} (c \\in C)$\n",
    "    - $\\frac {\\sum_{s \\in S} score_s * x_{s,c}}{\\sum_{s \\in S} x_{s,c}} \\leq　score\\_mean + 10(c \\in C)$\n",
    "  - 要件(5):各クラスにリーダー気質の生徒を2人以上割り当てる\n",
    "    - $\\sum_{s \\in S_{leader}} x_{s,c} \\geq 2(c \\in C)$\n",
    "  - 要件(6):特別な支援が必要な生徒は各クラスに1人以下とする\n",
    "    - $\\sum_{s \\in S_{support}} x_{s,c} \\leq 1(c \\in C)$\n",
    "  - 要件(7):特定ペアの生徒は同一クラスに割り当てない\n",
    "    - $x_{s1,c}+x_{s2,c} \\leq 1 (c \\in C, (s1, s2) \\in SS)$\n",
    "- 目的関数(最大化)\n",
    "  - なし"
   ]
  },
  {
   "cell_type": "code",
   "execution_count": 72,
   "metadata": {},
   "outputs": [],
   "source": [
    "#prob # 追記"
   ]
  },
  {
   "cell_type": "code",
   "execution_count": 73,
   "metadata": {},
   "outputs": [
    {
     "name": "stdout",
     "output_type": "stream",
     "text": [
      "Welcome to the CBC MILP Solver \n",
      "Version: 2.10.3 \n",
      "Build Date: Dec 15 2019 \n",
      "\n",
      "command line - /Users/y_suzuki/anaconda3/lib/python3.11/site-packages/pulp/solverdir/cbc/osx/64/cbc /var/folders/_c/n95nswwd7dq6t2vx_rfc73fm0000gn/T/beb491b0515e4be99ccd9676e749077d-pulp.mps -max -timeMode elapsed -branch -printingOptions all -solution /var/folders/_c/n95nswwd7dq6t2vx_rfc73fm0000gn/T/beb491b0515e4be99ccd9676e749077d-pulp.sol (default strategy 1)\n",
      "At line 2 NAME          MODEL\n",
      "At line 3 ROWS\n",
      "At line 411 COLUMNS\n",
      "At line 20981 RHS\n",
      "At line 21388 BOUNDS\n",
      "At line 23934 ENDATA\n",
      "Problem MODEL has 406 rows, 2545 columns and 15480 elements\n",
      "Coin0008I MODEL read with 0 errors\n",
      "Option for timeMode changed from cpu to elapsed\n",
      "Continuous objective value is 0 - 0.16 seconds\n",
      "Cgl0005I 318 SOS with 2544 members\n",
      "Cgl0004I processed model has 398 rows, 2544 columns (2544 integer (2544 of which binary)) and 12936 elements\n",
      "Cbc0038I Initial state - 38 integers unsatisfied sum - 7.12529\n",
      "Cbc0038I Pass   1: suminf.    0.21051 (2) obj. 0 iterations 454\n",
      "Cbc0038I Solution found of 0\n",
      "Cbc0038I Before mini branch and bound, 2532 integers at bound fixed and 0 continuous\n",
      "Cbc0038I Mini branch and bound did not improve solution (0.34 seconds)\n",
      "Cbc0038I After 0.34 seconds - Feasibility pump exiting with objective of 0 - took 0.03 seconds\n",
      "Cbc0012I Integer solution of 0 found by feasibility pump after 0 iterations and 0 nodes (0.34 seconds)\n",
      "Cbc0001I Search completed - best objective 0, took 0 iterations and 0 nodes (0.34 seconds)\n",
      "Cbc0035I Maximum depth 0, 0 variables fixed on reduced cost\n",
      "Cuts at root node changed objective from 0 to 0\n",
      "Probing was tried 0 times and created 0 cuts of which 0 were active after adding rounds of cuts (0.000 seconds)\n",
      "Gomory was tried 0 times and created 0 cuts of which 0 were active after adding rounds of cuts (0.000 seconds)\n",
      "Knapsack was tried 0 times and created 0 cuts of which 0 were active after adding rounds of cuts (0.000 seconds)\n",
      "Clique was tried 0 times and created 0 cuts of which 0 were active after adding rounds of cuts (0.000 seconds)\n",
      "MixedIntegerRounding2 was tried 0 times and created 0 cuts of which 0 were active after adding rounds of cuts (0.000 seconds)\n",
      "FlowCover was tried 0 times and created 0 cuts of which 0 were active after adding rounds of cuts (0.000 seconds)\n",
      "TwoMirCuts was tried 0 times and created 0 cuts of which 0 were active after adding rounds of cuts (0.000 seconds)\n",
      "ZeroHalf was tried 0 times and created 0 cuts of which 0 were active after adding rounds of cuts (0.000 seconds)\n",
      "\n",
      "Result - Optimal solution found\n",
      "\n",
      "Objective value:                -0.00000000\n",
      "Enumerated nodes:               0\n",
      "Total iterations:               0\n",
      "Time (CPU seconds):             0.22\n",
      "Time (Wallclock seconds):       0.35\n",
      "\n",
      "Option for printingOptions changed from normal to all\n",
      "Total time (CPU seconds):       0.24   (Wallclock seconds):       0.37\n",
      "\n",
      "1\n",
      "Optimal\n"
     ]
    }
   ],
   "source": [
    "# 求解\n",
    "status = prob.solve()\n",
    "print(status)\n",
    "print(pulp.LpStatus[status])"
   ]
  },
  {
   "cell_type": "code",
   "execution_count": 74,
   "metadata": {},
   "outputs": [
    {
     "name": "stdout",
     "output_type": "stream",
     "text": [
      "Class: A\n",
      "Num: 39\n",
      "Student: [2, 9, 19, 39, 42, 63, 65, 71, 79, 83, 85, 88, 99, 109, 111, 123, 126, 136, 138, 145, 148, 165, 168, 173, 177, 179, 180, 193, 199, 206, 224, 233, 240, 246, 264, 267, 291, 292, 298]\n",
      "\n",
      "Class: B\n",
      "Num: 40\n",
      "Student: [11, 15, 43, 48, 50, 70, 82, 89, 91, 102, 104, 113, 114, 120, 121, 124, 127, 146, 149, 159, 167, 170, 172, 176, 190, 203, 213, 220, 222, 231, 238, 245, 263, 270, 275, 276, 283, 287, 290, 317]\n",
      "\n",
      "Class: C\n",
      "Num: 40\n",
      "Student: [3, 14, 23, 27, 31, 33, 41, 49, 53, 54, 58, 73, 93, 97, 98, 107, 122, 152, 156, 160, 171, 187, 201, 210, 211, 217, 219, 227, 236, 242, 254, 258, 260, 268, 273, 274, 277, 278, 301, 318]\n",
      "\n",
      "Class: D\n",
      "Num: 40\n",
      "Student: [10, 13, 16, 36, 37, 51, 56, 59, 61, 67, 68, 75, 84, 92, 108, 128, 134, 139, 140, 158, 161, 175, 183, 188, 192, 198, 200, 205, 221, 225, 235, 241, 252, 255, 256, 257, 261, 266, 293, 316]\n",
      "\n",
      "Class: E\n",
      "Num: 39\n",
      "Student: [4, 5, 21, 22, 24, 38, 69, 72, 78, 87, 96, 105, 106, 115, 129, 132, 141, 143, 150, 154, 164, 166, 184, 189, 195, 196, 197, 243, 244, 249, 250, 269, 271, 288, 300, 305, 309, 310, 315]\n",
      "\n",
      "Class: F\n",
      "Num: 40\n",
      "Student: [12, 17, 25, 45, 46, 74, 76, 80, 95, 100, 101, 103, 110, 112, 116, 119, 125, 130, 135, 151, 153, 169, 178, 182, 185, 202, 209, 230, 232, 237, 239, 247, 272, 281, 282, 284, 289, 303, 304, 306]\n",
      "\n",
      "Class: G\n",
      "Num: 40\n",
      "Student: [7, 18, 28, 32, 35, 44, 52, 55, 57, 60, 64, 66, 81, 117, 118, 131, 147, 155, 181, 186, 194, 204, 207, 208, 214, 215, 216, 223, 226, 228, 229, 262, 265, 279, 280, 296, 299, 308, 312, 313]\n",
      "\n",
      "Class: H\n",
      "Num: 40\n",
      "Student: [1, 6, 8, 20, 26, 29, 30, 34, 40, 47, 62, 77, 86, 90, 94, 133, 137, 142, 144, 157, 162, 163, 174, 191, 212, 218, 234, 248, 251, 253, 259, 285, 286, 294, 295, 297, 302, 307, 311, 314]\n",
      "\n"
     ]
    }
   ],
   "source": [
    "# 最適化結果の表示\n",
    "# 各クラスに割り当てられている生徒のリストを辞書に格納\n",
    "C2Ss = {}\n",
    "for c in C:\n",
    "    C2Ss[c] = [s for s in S if x[s,c].value()==1]\n",
    "            \n",
    "for c, Ss in C2Ss.items():\n",
    "    print('Class:', c)\n",
    "    print('Num:', len(Ss))\n",
    "    print('Student:', Ss)\n",
    "    print()"
   ]
  },
  {
   "cell_type": "code",
   "execution_count": 75,
   "metadata": {},
   "outputs": [
    {
     "name": "stdout",
     "output_type": "stream",
     "text": [
      "Welcome to the CBC MILP Solver \n",
      "Version: 2.10.3 \n",
      "Build Date: Dec 15 2019 \n",
      "\n",
      "command line - /Users/y_suzuki/anaconda3/lib/python3.11/site-packages/pulp/solverdir/cbc/osx/64/cbc /var/folders/_c/n95nswwd7dq6t2vx_rfc73fm0000gn/T/d6ceeef4638e4beaa4a8c646536cd35b-pulp.mps -max -timeMode elapsed -branch -printingOptions all -solution /var/folders/_c/n95nswwd7dq6t2vx_rfc73fm0000gn/T/d6ceeef4638e4beaa4a8c646536cd35b-pulp.sol (default strategy 1)\n",
      "At line 2 NAME          MODEL\n",
      "At line 3 ROWS\n",
      "At line 411 COLUMNS\n",
      "At line 20981 RHS\n",
      "At line 21388 BOUNDS\n",
      "At line 23934 ENDATA\n",
      "Problem MODEL has 406 rows, 2545 columns and 15480 elements\n",
      "Coin0008I MODEL read with 0 errors\n",
      "Option for timeMode changed from cpu to elapsed\n",
      "Continuous objective value is 0 - 0.13 seconds\n",
      "Cgl0005I 318 SOS with 2544 members\n",
      "Cgl0004I processed model has 398 rows, 2544 columns (2544 integer (2544 of which binary)) and 12936 elements\n",
      "Cbc0038I Initial state - 38 integers unsatisfied sum - 8.90073\n",
      "Cbc0038I Pass   1: suminf.    0.30070 (6) obj. 0 iterations 257\n",
      "Cbc0038I Solution found of 0\n",
      "Cbc0038I Before mini branch and bound, 2526 integers at bound fixed and 0 continuous\n",
      "Cbc0038I Mini branch and bound did not improve solution (0.22 seconds)\n",
      "Cbc0038I After 0.22 seconds - Feasibility pump exiting with objective of 0 - took 0.02 seconds\n",
      "Cbc0012I Integer solution of 0 found by feasibility pump after 0 iterations and 0 nodes (0.22 seconds)\n",
      "Cbc0001I Search completed - best objective 0, took 0 iterations and 0 nodes (0.22 seconds)\n",
      "Cbc0035I Maximum depth 0, 0 variables fixed on reduced cost\n",
      "Cuts at root node changed objective from 0 to 0\n",
      "Probing was tried 0 times and created 0 cuts of which 0 were active after adding rounds of cuts (0.000 seconds)\n",
      "Gomory was tried 0 times and created 0 cuts of which 0 were active after adding rounds of cuts (0.000 seconds)\n",
      "Knapsack was tried 0 times and created 0 cuts of which 0 were active after adding rounds of cuts (0.000 seconds)\n",
      "Clique was tried 0 times and created 0 cuts of which 0 were active after adding rounds of cuts (0.000 seconds)\n",
      "MixedIntegerRounding2 was tried 0 times and created 0 cuts of which 0 were active after adding rounds of cuts (0.000 seconds)\n",
      "FlowCover was tried 0 times and created 0 cuts of which 0 were active after adding rounds of cuts (0.000 seconds)\n",
      "TwoMirCuts was tried 0 times and created 0 cuts of which 0 were active after adding rounds of cuts (0.000 seconds)\n",
      "ZeroHalf was tried 0 times and created 0 cuts of which 0 were active after adding rounds of cuts (0.000 seconds)\n",
      "\n",
      "Result - Optimal solution found\n",
      "\n",
      "Objective value:                -0.00000000\n",
      "Enumerated nodes:               0\n",
      "Total iterations:               0\n",
      "Time (CPU seconds):             0.18\n",
      "Time (Wallclock seconds):       0.23\n",
      "\n",
      "Option for printingOptions changed from normal to all\n",
      "Total time (CPU seconds):       0.19   (Wallclock seconds):       0.24\n",
      "\n",
      "Status: Optimal\n",
      "Class: A\n",
      "Num: 39\n",
      "Student: [2, 9, 19, 39, 42, 63, 65, 71, 79, 83, 85, 88, 99, 109, 111, 123, 126, 136, 138, 145, 148, 165, 168, 173, 177, 179, 180, 193, 199, 206, 224, 233, 240, 246, 264, 267, 291, 292, 298]\n",
      "\n",
      "Class: B\n",
      "Num: 40\n",
      "Student: [4, 11, 15, 43, 48, 50, 70, 82, 89, 91, 102, 104, 108, 113, 114, 120, 121, 124, 127, 149, 159, 167, 170, 176, 190, 213, 220, 222, 231, 237, 238, 245, 263, 270, 275, 276, 283, 287, 290, 317]\n",
      "\n",
      "Class: C\n",
      "Num: 40\n",
      "Student: [3, 14, 23, 25, 27, 31, 33, 41, 49, 53, 54, 58, 73, 93, 97, 98, 107, 122, 152, 156, 160, 171, 187, 210, 211, 217, 219, 227, 236, 242, 254, 258, 260, 268, 273, 274, 277, 278, 301, 318]\n",
      "\n",
      "Class: D\n",
      "Num: 40\n",
      "Student: [10, 13, 16, 36, 37, 51, 56, 59, 61, 62, 67, 68, 75, 84, 92, 128, 139, 140, 158, 161, 175, 183, 192, 198, 200, 203, 205, 221, 225, 235, 241, 252, 255, 256, 257, 261, 266, 284, 293, 316]\n",
      "\n",
      "Class: E\n",
      "Num: 40\n",
      "Student: [5, 21, 22, 24, 38, 69, 72, 78, 87, 96, 105, 106, 115, 129, 132, 141, 143, 146, 150, 154, 164, 166, 184, 189, 195, 196, 197, 212, 243, 244, 247, 249, 269, 271, 288, 300, 305, 309, 310, 315]\n",
      "\n",
      "Class: F\n",
      "Num: 40\n",
      "Student: [1, 12, 17, 45, 46, 74, 76, 80, 95, 100, 101, 103, 110, 112, 116, 119, 125, 130, 134, 135, 151, 153, 169, 172, 178, 182, 185, 188, 202, 209, 230, 232, 239, 272, 281, 282, 289, 303, 304, 306]\n",
      "\n",
      "Class: G\n",
      "Num: 40\n",
      "Student: [7, 18, 28, 32, 35, 44, 52, 55, 57, 60, 64, 66, 81, 117, 118, 131, 147, 155, 181, 186, 194, 204, 207, 208, 214, 215, 216, 223, 226, 228, 229, 250, 262, 265, 279, 280, 296, 299, 308, 313]\n",
      "\n",
      "Class: H\n",
      "Num: 39\n",
      "Student: [6, 8, 20, 26, 29, 30, 34, 40, 47, 77, 86, 90, 94, 133, 137, 142, 144, 157, 162, 163, 174, 191, 201, 218, 234, 248, 251, 253, 259, 285, 286, 294, 295, 297, 302, 307, 311, 312, 314]\n",
      "\n"
     ]
    }
   ],
   "source": [
    "import pandas as pd\n",
    "import pulp\n",
    "\n",
    "s_df = pd.read_csv('students.csv')\n",
    "s_pair_df = pd.read_csv('student_pairs.csv')\n",
    "\n",
    "prob = pulp.LpProblem('ClassAssignmentProblem', pulp.LpMaximize)\n",
    "\n",
    "# 生徒のリスト\n",
    "S = s_df['student_id'].tolist()\n",
    "\n",
    "# クラスのリスト\n",
    "C = ['A', 'B', 'C', 'D', 'E', 'F', 'G', 'H']\n",
    "\n",
    "# 生徒とクラスのペアのリスト\n",
    "SC = [(s,c) for s in S for c in C]\n",
    "\n",
    "# 生徒をどのクラスに割り当てるを変数として定義\n",
    "x = pulp.LpVariable.dicts('x', SC, cat='Binary')\n",
    "\n",
    "# (1)各生徒は１つのクラスに割り当てる\n",
    "for s in S:\n",
    "    prob += pulp.lpSum([x[s,c] for c in C]) == 1\n",
    "\n",
    "# (2)各クラスの生徒の人数は39人以上、40人以下とする。\n",
    "for c in C:\n",
    "    prob += pulp.lpSum([x[s,c] for s in S]) >= 39\n",
    "    prob += pulp.lpSum([x[s,c] for s in S]) <= 40\n",
    "\n",
    "# 男子生徒のリスト\n",
    "S_male = [row.student_id for row in s_df.itertuples() if row.gender == 1]\n",
    "\n",
    "# 女子生徒のリスト\n",
    "S_female = [row.student_id for row in s_df.itertuples() if row.gender == 0]\n",
    "\n",
    "# (3) 各クラスの男子生徒、女子生徒の人数は20人以下とする。\n",
    "for c in C:\n",
    "    prob += pulp.lpSum([x[s,c] for s in S_male]) <= 20\n",
    "    prob += pulp.lpSum([x[s,c] for s in S_female]) <= 20\n",
    "\n",
    "# 学力を辞書表現に変換\n",
    "score = {row.student_id:row.score for row in s_df.itertuples()}\n",
    "\n",
    "# 平均点の算出\n",
    "score_mean = s_df.score.mean()\n",
    "\n",
    "# (4) 各クラスの学力試験の平均点は学年平均点±10点とする。\n",
    "for c in C:\n",
    "    prob += pulp.lpSum([x[s,c]*score[s] for s in S]) >= (score_mean - 10) * pulp.lpSum([x[s,c] for s in S])\n",
    "    prob += pulp.lpSum([x[s,c]*score[s] for s in S]) <= (score_mean + 10) * pulp.lpSum([x[s,c] for s in S])\n",
    "\n",
    "# リーダー気質の生徒の集合\n",
    "S_leader = [row.student_id for row in s_df.itertuples() if row.leader_flag == 1]\n",
    "\n",
    "# (5)各クラスにリーダー気質の生徒を2人以上割り当てる。\n",
    "for c in C:\n",
    "    prob += pulp.lpSum([x[s,c] for s in S_leader]) >= 2\n",
    "\n",
    "# 特別な支援が必要な生徒の集合\n",
    "S_support = [row.student_id for row in s_df.itertuples() if row.support_flag == 1]\n",
    "\n",
    "# (6) 特別な支援が必要な生徒は各クラスに1人以下とする。\n",
    "for c in C:\n",
    "    prob += pulp.lpSum([x[s,c] for s in S_support]) <= 1\n",
    "\n",
    "    # 生徒の特定ペアリスト\n",
    "SS = [(row.student_id1, row.student_id2) for row in s_pair_df.itertuples()]\n",
    "\n",
    "# (7) 特定ペアの生徒は同一クラスに割り当てない。\n",
    "for row in s_pair_df.itertuples():\n",
    "    s1 = row.student_id1\n",
    "    s2 = row.student_id2\n",
    "    for c in C:\n",
    "        prob += x[s1,c] + x[s2,c] <= 1\n",
    "\n",
    "# 求解\n",
    "status = prob.solve()\n",
    "print('Status:', pulp.LpStatus[status])\n",
    "\n",
    "# 最適化結果の表示\n",
    "# 各クラスに割り当てられている生徒のリストを辞書に格納\n",
    "C2Ss = {}\n",
    "for c in C:\n",
    "    C2Ss[c] = [s for s in S if x[s,c].value()==1]\n",
    "\n",
    "for c, Ss in C2Ss.items():\n",
    "    print('Class:', c)\n",
    "    print('Num:', len(Ss))\n",
    "    print('Student:', Ss)\n",
    "    print()"
   ]
  },
  {
   "cell_type": "markdown",
   "metadata": {},
   "source": [
    "### 3.4 **数理モデルの検証**"
   ]
  },
  {
   "cell_type": "markdown",
   "metadata": {},
   "source": [
    "### ①解が要件を満たしているかどうか確認する"
   ]
  },
  {
   "cell_type": "markdown",
   "metadata": {},
   "source": [
    "要件(1) 学年の全生徒をそれぞれ①つのクラスに割り当てる"
   ]
  },
  {
   "cell_type": "code",
   "execution_count": 76,
   "metadata": {},
   "outputs": [],
   "source": [
    "for s in S:\n",
    "    # 割り当てられたクラスを取得\n",
    "    assigned_class = [c for c in C if x[s,c].value()==1]\n",
    "    #print(assigned_class)\n",
    "\n",
    "    # 1つのクラスに割り当てられているか確認\n",
    "    if len(assigned_class) != 1:\n",
    "        print('error:', s, assigned_class)"
   ]
  },
  {
   "cell_type": "markdown",
   "metadata": {},
   "source": [
    "検証用データフレームの作成"
   ]
  },
  {
   "cell_type": "code",
   "execution_count": 77,
   "metadata": {},
   "outputs": [
    {
     "data": {
      "text/html": [
       "<div>\n",
       "<style scoped>\n",
       "    .dataframe tbody tr th:only-of-type {\n",
       "        vertical-align: middle;\n",
       "    }\n",
       "\n",
       "    .dataframe tbody tr th {\n",
       "        vertical-align: top;\n",
       "    }\n",
       "\n",
       "    .dataframe thead th {\n",
       "        text-align: right;\n",
       "    }\n",
       "</style>\n",
       "<table border=\"1\" class=\"dataframe\">\n",
       "  <thead>\n",
       "    <tr style=\"text-align: right;\">\n",
       "      <th></th>\n",
       "      <th>student_id</th>\n",
       "      <th>gender</th>\n",
       "      <th>leader_flag</th>\n",
       "      <th>support_flag</th>\n",
       "      <th>score</th>\n",
       "      <th>assigned_class</th>\n",
       "    </tr>\n",
       "  </thead>\n",
       "  <tbody>\n",
       "    <tr>\n",
       "      <th>0</th>\n",
       "      <td>1</td>\n",
       "      <td>0</td>\n",
       "      <td>0</td>\n",
       "      <td>0</td>\n",
       "      <td>335</td>\n",
       "      <td>F</td>\n",
       "    </tr>\n",
       "    <tr>\n",
       "      <th>1</th>\n",
       "      <td>2</td>\n",
       "      <td>1</td>\n",
       "      <td>0</td>\n",
       "      <td>0</td>\n",
       "      <td>379</td>\n",
       "      <td>A</td>\n",
       "    </tr>\n",
       "    <tr>\n",
       "      <th>2</th>\n",
       "      <td>3</td>\n",
       "      <td>0</td>\n",
       "      <td>0</td>\n",
       "      <td>0</td>\n",
       "      <td>350</td>\n",
       "      <td>C</td>\n",
       "    </tr>\n",
       "    <tr>\n",
       "      <th>3</th>\n",
       "      <td>4</td>\n",
       "      <td>0</td>\n",
       "      <td>0</td>\n",
       "      <td>0</td>\n",
       "      <td>301</td>\n",
       "      <td>B</td>\n",
       "    </tr>\n",
       "    <tr>\n",
       "      <th>4</th>\n",
       "      <td>5</td>\n",
       "      <td>1</td>\n",
       "      <td>0</td>\n",
       "      <td>0</td>\n",
       "      <td>317</td>\n",
       "      <td>E</td>\n",
       "    </tr>\n",
       "  </tbody>\n",
       "</table>\n",
       "</div>"
      ],
      "text/plain": [
       "   student_id  gender  leader_flag  support_flag  score assigned_class\n",
       "0           1       0            0             0    335              F\n",
       "1           2       1            0             0    379              A\n",
       "2           3       0            0             0    350              C\n",
       "3           4       0            0             0    301              B\n",
       "4           5       1            0             0    317              E"
      ]
     },
     "execution_count": 77,
     "metadata": {},
     "output_type": "execute_result"
    }
   ],
   "source": [
    "# 検証用のデータフレームの用意\n",
    "result_df = s_df.copy()\n",
    "\n",
    "# 各生徒がどのクラスに割り当てられたかの情報を辞書に格納\n",
    "S2C = {s:c for s in S for c in C if x[s,c].value()==1}\n",
    "\n",
    "# 生徒データに各生徒がどのクラスに割り当てられたかの情報を結合            \n",
    "result_df['assigned_class'] = result_df['student_id'].map(S2C)\n",
    "result_df.head(5)"
   ]
  },
  {
   "cell_type": "markdown",
   "metadata": {},
   "source": [
    "要件(2) 各クラスの生徒の人数は39人以上、40人以下とする"
   ]
  },
  {
   "cell_type": "code",
   "execution_count": 78,
   "metadata": {},
   "outputs": [
    {
     "data": {
      "text/plain": [
       "assigned_class\n",
       "A    39\n",
       "B    40\n",
       "C    40\n",
       "D    40\n",
       "E    40\n",
       "F    40\n",
       "G    40\n",
       "H    39\n",
       "Name: student_id, dtype: int64"
      ]
     },
     "execution_count": 78,
     "metadata": {},
     "output_type": "execute_result"
    }
   ],
   "source": [
    "result_df.groupby('assigned_class')['student_id'].count()"
   ]
  },
  {
   "cell_type": "markdown",
   "metadata": {},
   "source": [
    "(3) 各クラスの男子生徒、女子生徒の人数は20人以下とする。"
   ]
  },
  {
   "cell_type": "code",
   "execution_count": 79,
   "metadata": {},
   "outputs": [
    {
     "data": {
      "text/plain": [
       "assigned_class  gender\n",
       "A               0         20\n",
       "                1         19\n",
       "B               0         20\n",
       "                1         20\n",
       "C               0         20\n",
       "                1         20\n",
       "D               0         20\n",
       "                1         20\n",
       "E               0         20\n",
       "                1         20\n",
       "F               0         20\n",
       "                1         20\n",
       "G               0         20\n",
       "                1         20\n",
       "H               0         20\n",
       "                1         19\n",
       "Name: student_id, dtype: int64"
      ]
     },
     "execution_count": 79,
     "metadata": {},
     "output_type": "execute_result"
    }
   ],
   "source": [
    "result_df.groupby(['assigned_class', 'gender'])['student_id'].count()"
   ]
  },
  {
   "cell_type": "markdown",
   "metadata": {},
   "source": [
    "(4) 各クラスの学力試験の平均点は学年平均点±10点とする。"
   ]
  },
  {
   "cell_type": "code",
   "execution_count": 80,
   "metadata": {},
   "outputs": [
    {
     "data": {
      "text/plain": [
       "assigned_class\n",
       "A    309.000000\n",
       "B    303.300000\n",
       "C    312.125000\n",
       "D    308.600000\n",
       "E    294.750000\n",
       "F    294.675000\n",
       "G    312.200000\n",
       "H    294.410256\n",
       "Name: score, dtype: float64"
      ]
     },
     "execution_count": 80,
     "metadata": {},
     "output_type": "execute_result"
    }
   ],
   "source": [
    "result_df.groupby('assigned_class')['score'].mean()"
   ]
  },
  {
   "cell_type": "markdown",
   "metadata": {},
   "source": [
    "(5) 各クラスにリーダー気質の生徒を2人以上割り当てる。"
   ]
  },
  {
   "cell_type": "code",
   "execution_count": 81,
   "metadata": {},
   "outputs": [
    {
     "data": {
      "text/plain": [
       "assigned_class\n",
       "A    3\n",
       "B    2\n",
       "C    2\n",
       "D    2\n",
       "E    2\n",
       "F    2\n",
       "G    2\n",
       "H    2\n",
       "Name: leader_flag, dtype: int64"
      ]
     },
     "execution_count": 81,
     "metadata": {},
     "output_type": "execute_result"
    }
   ],
   "source": [
    "result_df.groupby(['assigned_class'])['leader_flag'].sum()"
   ]
  },
  {
   "cell_type": "markdown",
   "metadata": {},
   "source": [
    "(6) 特別な支援が必要な生徒は各クラスに1人以下とする。"
   ]
  },
  {
   "cell_type": "code",
   "execution_count": 82,
   "metadata": {},
   "outputs": [
    {
     "data": {
      "text/plain": [
       "assigned_class\n",
       "A    0\n",
       "B    1\n",
       "C    1\n",
       "D    0\n",
       "E    1\n",
       "F    0\n",
       "G    1\n",
       "H    0\n",
       "Name: support_flag, dtype: int64"
      ]
     },
     "execution_count": 82,
     "metadata": {},
     "output_type": "execute_result"
    }
   ],
   "source": [
    "result_df.groupby(['assigned_class'])['support_flag'].sum()"
   ]
  },
  {
   "cell_type": "markdown",
   "metadata": {},
   "source": [
    "(7) 特定ペアの生徒は同一クラスに割り当てない。"
   ]
  },
  {
   "cell_type": "code",
   "execution_count": 83,
   "metadata": {},
   "outputs": [
    {
     "name": "stdout",
     "output_type": "stream",
     "text": [
      "case: 0\n",
      "s1:118-G\n",
      "s2:189-E\n",
      "\n",
      "case: 1\n",
      "s1:72-E\n",
      "s2:50-B\n",
      "\n",
      "case: 2\n",
      "s1:314-H\n",
      "s2:233-A\n",
      "\n"
     ]
    }
   ],
   "source": [
    "for i, (s1, s2) in enumerate(SS):\n",
    "    print('case:',i)\n",
    "    c1 = S2C[s1]\n",
    "    c2 = S2C[s2]\n",
    "    print('s1:{}-{}'.format(s1, c1))\n",
    "    print('s2:{}-{}'.format(s2, c2))\n",
    "    print('')"
   ]
  },
  {
   "cell_type": "markdown",
   "metadata": {},
   "source": [
    "### ②設定した制約の見直しと課題の洗い出し"
   ]
  },
  {
   "cell_type": "markdown",
   "metadata": {},
   "source": [
    "- 定数\n",
    "  - 初期フラグ編成フラグ：$init\\_flag_{s,c} (s \\in S, c \\in C)$\n",
    "- 目的関数(最大化)\n",
    "  - 初期クラス編成とできるだけ一致させる\n",
    "    - $\\sum_{s \\in S, c \\in C} x_{s,c}*init\\_flag_{s,c} $"
   ]
  },
  {
   "cell_type": "code",
   "execution_count": 84,
   "metadata": {},
   "outputs": [],
   "source": [
    "# データの可視化ライブラリmatplotlibの取り込み\n",
    "import matplotlib.pyplot as plt"
   ]
  },
  {
   "cell_type": "code",
   "execution_count": 85,
   "metadata": {},
   "outputs": [
    {
     "data": {
      "image/png": "[encoded data removed]",
      "text/plain": [
       "<Figure size 1200x2000 with 8 Axes>"
      ]
     },
     "metadata": {},
     "output_type": "display_data"
    }
   ],
   "source": [
    "fig = plt.figure(figsize=(12,20))\n",
    "for i, c in enumerate(C):\n",
    "    cls_df = result_df[result_df['assigned_class']==c]\n",
    "    ax = fig.add_subplot(4\n",
    "                         , 2\n",
    "                         , i+1\n",
    "                         , xlabel='score'\n",
    "                         , ylabel='num'\n",
    "                         , xlim=(0, 500)\n",
    "                         , ylim=(0, 20)\n",
    "                        )\n",
    "    ax.hist(cls_df['score'], bins=range(0,500,40), edgecolor='black')\n",
    "    ax.set_title('Class:{:s}'.format(c), loc='center', y=0.9)"
   ]
  },
  {
   "cell_type": "markdown",
   "metadata": {},
   "source": [
    "### ③制約の改善と数理最適化モデルの修正"
   ]
  },
  {
   "cell_type": "code",
   "execution_count": 86,
   "metadata": {},
   "outputs": [
    {
     "data": {
      "text/html": [
       "<div>\n",
       "<style scoped>\n",
       "    .dataframe tbody tr th:only-of-type {\n",
       "        vertical-align: middle;\n",
       "    }\n",
       "\n",
       "    .dataframe tbody tr th {\n",
       "        vertical-align: top;\n",
       "    }\n",
       "\n",
       "    .dataframe thead th {\n",
       "        text-align: right;\n",
       "    }\n",
       "</style>\n",
       "<table border=\"1\" class=\"dataframe\">\n",
       "  <thead>\n",
       "    <tr style=\"text-align: right;\">\n",
       "      <th></th>\n",
       "      <th>student_id</th>\n",
       "      <th>gender</th>\n",
       "      <th>leader_flag</th>\n",
       "      <th>support_flag</th>\n",
       "      <th>score</th>\n",
       "      <th>score_rank</th>\n",
       "      <th>init_assigned_class</th>\n",
       "    </tr>\n",
       "  </thead>\n",
       "  <tbody>\n",
       "    <tr>\n",
       "      <th>0</th>\n",
       "      <td>1</td>\n",
       "      <td>0</td>\n",
       "      <td>0</td>\n",
       "      <td>0</td>\n",
       "      <td>335</td>\n",
       "      <td>109.0</td>\n",
       "      <td>F</td>\n",
       "    </tr>\n",
       "    <tr>\n",
       "      <th>1</th>\n",
       "      <td>2</td>\n",
       "      <td>1</td>\n",
       "      <td>0</td>\n",
       "      <td>0</td>\n",
       "      <td>379</td>\n",
       "      <td>38.0</td>\n",
       "      <td>G</td>\n",
       "    </tr>\n",
       "    <tr>\n",
       "      <th>2</th>\n",
       "      <td>3</td>\n",
       "      <td>0</td>\n",
       "      <td>0</td>\n",
       "      <td>0</td>\n",
       "      <td>350</td>\n",
       "      <td>79.0</td>\n",
       "      <td>H</td>\n",
       "    </tr>\n",
       "    <tr>\n",
       "      <th>3</th>\n",
       "      <td>4</td>\n",
       "      <td>0</td>\n",
       "      <td>0</td>\n",
       "      <td>0</td>\n",
       "      <td>301</td>\n",
       "      <td>172.0</td>\n",
       "      <td>E</td>\n",
       "    </tr>\n",
       "    <tr>\n",
       "      <th>4</th>\n",
       "      <td>5</td>\n",
       "      <td>1</td>\n",
       "      <td>0</td>\n",
       "      <td>0</td>\n",
       "      <td>317</td>\n",
       "      <td>147.0</td>\n",
       "      <td>D</td>\n",
       "    </tr>\n",
       "  </tbody>\n",
       "</table>\n",
       "</div>"
      ],
      "text/plain": [
       "   student_id  gender  leader_flag  support_flag  score  score_rank  \\\n",
       "0           1       0            0             0    335       109.0   \n",
       "1           2       1            0             0    379        38.0   \n",
       "2           3       0            0             0    350        79.0   \n",
       "3           4       0            0             0    301       172.0   \n",
       "4           5       1            0             0    317       147.0   \n",
       "\n",
       "  init_assigned_class  \n",
       "0                   F  \n",
       "1                   G  \n",
       "2                   H  \n",
       "3                   E  \n",
       "4                   D  "
      ]
     },
     "execution_count": 86,
     "metadata": {},
     "output_type": "execute_result"
    }
   ],
   "source": [
    "# 初期クラス編成のデータを作成\n",
    "# 学力をもとに順位を付与\n",
    "s_df['score_rank'] = s_df['score'].rank(ascending=False, method='first') \n",
    "\n",
    "# 学力順にクラス編成し、init_assigned_classカラムを作成\n",
    "class_dic = {0:'A', 1:'B', 2:'C', 3:'D', 4:'E', 5:'F', 6:'G', 7:'H'}\n",
    "s_df['init_assigned_class'] = s_df['score_rank'].map(lambda x:x % 8).map(class_dic)\n",
    "s_df.head()"
   ]
  },
  {
   "cell_type": "code",
   "execution_count": 87,
   "metadata": {},
   "outputs": [],
   "source": [
    "# init_flagを作成\n",
    "init_flag = {(s,c):0 for s in S for c in C}\n",
    "\n",
    "for row in s_df.itertuples():\n",
    "    init_flag[row.student_id, row.init_assigned_class] = 1"
   ]
  },
  {
   "cell_type": "code",
   "execution_count": 88,
   "metadata": {},
   "outputs": [
    {
     "data": {
      "image/png": "[encoded data removed]",
      "text/plain": [
       "<Figure size 1200x2000 with 8 Axes>"
      ]
     },
     "metadata": {},
     "output_type": "display_data"
    }
   ],
   "source": [
    "fig = plt.figure(figsize=(12,20))\n",
    "for i, c in enumerate(C):\n",
    "    cls_df = s_df[s_df['init_assigned_class']==c]\n",
    "    ax = fig.add_subplot(4\n",
    "                         , 2\n",
    "                         , i+1\n",
    "                         , xlabel='score'\n",
    "                         , ylabel='num'\n",
    "                         , xlim=(0, 500)\n",
    "                         , ylim=(0, 20)\n",
    "                         \n",
    "                        )\n",
    "    ax.hist(cls_df['score'], bins=range(0,500,40), edgecolor='black')\n",
    "    ax.set_title('Class:{:s}'.format(c), loc='center', y=0.9)"
   ]
  },
  {
   "cell_type": "raw",
   "metadata": {},
   "source": [
    "# 目的関数:初期クラス編成と最適化結果のクラス編成をできるだけ一致させる\n",
    "prob += pulp.lpSum([x[s,c] * init_flag[s,c] for s,c in SC])"
   ]
  },
  {
   "cell_type": "markdown",
   "metadata": {},
   "source": [
    "### コード全体"
   ]
  },
  {
   "cell_type": "code",
   "execution_count": 94,
   "metadata": {},
   "outputs": [
    {
     "name": "stdout",
     "output_type": "stream",
     "text": [
      "[(1, 'F'), (2, 'G'), (3, 'H'), (4, 'E'), (5, 'D'), (6, 'F'), (7, 'G'), (8, 'E'), (9, 'G'), (10, 'G'), (11, 'D'), (12, 'E'), (13, 'E'), (14, 'B'), (15, 'G'), (16, 'F'), (17, 'B'), (18, 'G'), (19, 'E'), (20, 'H'), (21, 'C'), (22, 'E'), (23, 'A'), (24, 'D'), (25, 'H'), (26, 'G'), (27, 'C'), (28, 'F'), (29, 'F'), (30, 'B'), (31, 'G'), (32, 'B'), (33, 'E'), (34, 'H'), (35, 'B'), (36, 'G'), (37, 'G'), (38, 'C'), (39, 'D'), (40, 'F'), (41, 'B'), (42, 'F'), (43, 'E'), (44, 'C'), (45, 'F'), (46, 'C'), (47, 'D'), (48, 'E'), (49, 'B'), (50, 'D'), (51, 'C'), (52, 'G'), (53, 'H'), (54, 'C'), (55, 'E'), (56, 'A'), (57, 'E'), (58, 'F'), (59, 'E'), (60, 'H'), (61, 'D'), (62, 'C'), (63, 'C'), (64, 'B'), (65, 'H'), (66, 'B'), (67, 'D'), (68, 'A'), (69, 'H'), (70, 'F'), (71, 'G'), (72, 'H'), (73, 'C'), (74, 'D'), (75, 'C'), (76, 'C'), (77, 'F'), (78, 'G'), (79, 'B'), (80, 'G'), (81, 'H'), (82, 'A'), (83, 'B'), (84, 'C'), (85, 'C'), (86, 'B'), (87, 'H'), (88, 'B'), (89, 'A'), (90, 'D'), (91, 'F'), (92, 'D'), (93, 'D'), (94, 'G'), (95, 'H'), (96, 'G'), (97, 'B'), (98, 'E'), (99, 'C'), (100, 'D'), (101, 'G'), (102, 'A'), (103, 'H'), (104, 'E'), (105, 'H'), (106, 'A'), (107, 'H'), (108, 'H'), (109, 'D'), (110, 'G'), (111, 'H'), (112, 'E'), (113, 'A'), (114, 'B'), (115, 'A'), (116, 'D'), (117, 'A'), (118, 'F'), (119, 'B'), (120, 'C'), (121, 'D'), (122, 'B'), (123, 'A'), (124, 'A'), (125, 'E'), (126, 'G'), (127, 'A'), (128, 'F'), (129, 'F'), (130, 'E'), (131, 'D'), (132, 'B'), (133, 'E'), (134, 'B'), (135, 'F'), (136, 'D'), (137, 'E'), (138, 'B'), (139, 'E'), (140, 'A'), (141, 'B'), (142, 'C'), (143, 'C'), (144, 'C'), (145, 'F'), (146, 'F'), (147, 'D'), (148, 'F'), (149, 'B'), (150, 'C'), (151, 'B'), (152, 'D'), (153, 'E'), (154, 'H'), (155, 'D'), (156, 'F'), (157, 'G'), (158, 'B'), (159, 'G'), (160, 'G'), (161, 'F'), (162, 'F'), (163, 'F'), (164, 'H'), (165, 'B'), (166, 'C'), (167, 'D'), (168, 'H'), (169, 'D'), (170, 'D'), (171, 'H'), (172, 'A'), (173, 'A'), (174, 'F'), (175, 'G'), (176, 'D'), (177, 'D'), (178, 'B'), (179, 'G'), (180, 'E'), (181, 'F'), (182, 'G'), (183, 'C'), (184, 'E'), (185, 'A'), (186, 'A'), (187, 'H'), (188, 'F'), (189, 'E'), (190, 'B'), (191, 'G'), (192, 'C'), (193, 'C'), (194, 'F'), (195, 'C'), (196, 'D'), (197, 'G'), (198, 'B'), (199, 'D'), (200, 'B'), (201, 'C'), (202, 'F'), (203, 'E'), (204, 'A'), (205, 'C'), (206, 'H'), (207, 'C'), (208, 'H'), (209, 'B'), (210, 'A'), (211, 'C'), (212, 'C'), (213, 'B'), (214, 'D'), (215, 'G'), (216, 'B'), (217, 'C'), (218, 'D'), (219, 'D'), (220, 'H'), (221, 'C'), (222, 'C'), (223, 'H'), (224, 'F'), (225, 'H'), (226, 'B'), (227, 'D'), (228, 'A'), (229, 'F'), (230, 'D'), (231, 'D'), (232, 'H'), (233, 'H'), (234, 'E'), (235, 'E'), (236, 'D'), (237, 'B'), (238, 'F'), (239, 'D'), (240, 'E'), (241, 'E'), (242, 'G'), (243, 'C'), (244, 'C'), (245, 'G'), (246, 'F'), (247, 'G'), (248, 'G'), (249, 'E'), (250, 'H'), (251, 'E'), (252, 'G'), (253, 'D'), (254, 'E'), (255, 'A'), (256, 'E'), (257, 'D'), (258, 'F'), (259, 'A'), (260, 'F'), (261, 'E'), (262, 'F'), (263, 'C'), (264, 'C'), (265, 'F'), (266, 'E'), (267, 'G'), (268, 'E'), (269, 'H'), (270, 'H'), (271, 'D'), (272, 'B'), (273, 'A'), (274, 'A'), (275, 'G'), (276, 'E'), (277, 'G'), (278, 'H'), (279, 'H'), (280, 'A'), (281, 'H'), (282, 'G'), (283, 'E'), (284, 'H'), (285, 'A'), (286, 'F'), (287, 'C'), (288, 'A'), (289, 'A'), (290, 'F'), (291, 'E'), (292, 'A'), (293, 'G'), (294, 'D'), (295, 'A'), (296, 'B'), (297, 'A'), (298, 'A'), (299, 'C'), (300, 'F'), (301, 'H'), (302, 'E'), (303, 'B'), (304, 'A'), (305, 'G'), (306, 'B'), (307, 'B'), (308, 'A'), (309, 'B'), (310, 'F'), (311, 'A'), (312, 'G'), (313, 'A'), (314, 'H'), (315, 'C'), (316, 'A'), (317, 'H'), (318, 'A')]\n",
      "Welcome to the CBC MILP Solver \n",
      "Version: 2.10.3 \n",
      "Build Date: Dec 15 2019 \n",
      "\n",
      "command line - /Users/y_suzuki/anaconda3/lib/python3.11/site-packages/pulp/solverdir/cbc/osx/64/cbc /var/folders/_c/n95nswwd7dq6t2vx_rfc73fm0000gn/T/b8b5286fc9a945b2a4eefc61adc08737-pulp.mps -max -timeMode elapsed -branch -printingOptions all -solution /var/folders/_c/n95nswwd7dq6t2vx_rfc73fm0000gn/T/b8b5286fc9a945b2a4eefc61adc08737-pulp.sol (default strategy 1)\n",
      "At line 2 NAME          MODEL\n",
      "At line 3 ROWS\n",
      "At line 411 COLUMNS\n",
      "At line 21298 RHS\n",
      "At line 21705 BOUNDS\n",
      "At line 24250 ENDATA\n",
      "Problem MODEL has 406 rows, 2544 columns and 15480 elements\n",
      "Coin0008I MODEL read with 0 errors\n",
      "Option for timeMode changed from cpu to elapsed\n",
      "Continuous objective value is 298 - 0.00 seconds\n",
      "Cgl0005I 318 SOS with 2544 members\n",
      "Cgl0004I processed model has 398 rows, 2544 columns (2544 integer (2544 of which binary)) and 12936 elements\n",
      "Cutoff increment increased from 1e-05 to 0.9999\n",
      "Cbc0038I Initial state - 0 integers unsatisfied sum - 1.03251e-14\n",
      "Cbc0038I Solution found of -298\n",
      "Cbc0038I Before mini branch and bound, 2544 integers at bound fixed and 0 continuous\n",
      "Cbc0038I Mini branch and bound did not improve solution (0.06 seconds)\n",
      "Cbc0038I After 0.06 seconds - Feasibility pump exiting with objective of -298 - took 0.01 seconds\n",
      "Cbc0012I Integer solution of -298 found by feasibility pump after 0 iterations and 0 nodes (0.06 seconds)\n",
      "Cbc0001I Search completed - best objective -298, took 0 iterations and 0 nodes (0.06 seconds)\n",
      "Cbc0035I Maximum depth 0, 0 variables fixed on reduced cost\n",
      "Cuts at root node changed objective from -298 to -298\n",
      "Probing was tried 0 times and created 0 cuts of which 0 were active after adding rounds of cuts (0.000 seconds)\n",
      "Gomory was tried 0 times and created 0 cuts of which 0 were active after adding rounds of cuts (0.000 seconds)\n",
      "Knapsack was tried 0 times and created 0 cuts of which 0 were active after adding rounds of cuts (0.000 seconds)\n",
      "Clique was tried 0 times and created 0 cuts of which 0 were active after adding rounds of cuts (0.000 seconds)\n",
      "MixedIntegerRounding2 was tried 0 times and created 0 cuts of which 0 were active after adding rounds of cuts (0.000 seconds)\n",
      "FlowCover was tried 0 times and created 0 cuts of which 0 were active after adding rounds of cuts (0.000 seconds)\n",
      "TwoMirCuts was tried 0 times and created 0 cuts of which 0 were active after adding rounds of cuts (0.000 seconds)\n",
      "ZeroHalf was tried 0 times and created 0 cuts of which 0 were active after adding rounds of cuts (0.000 seconds)\n",
      "\n",
      "Result - Optimal solution found\n",
      "\n",
      "Objective value:                298.00000000\n",
      "Enumerated nodes:               0\n",
      "Total iterations:               0\n",
      "Time (CPU seconds):             0.04\n",
      "Time (Wallclock seconds):       0.07\n",
      "\n",
      "Option for printingOptions changed from normal to all\n",
      "Total time (CPU seconds):       0.05   (Wallclock seconds):       0.09\n",
      "\n",
      "Status: Optimal\n",
      "Class: A\n",
      "Num: 40\n",
      "Student: [2, 23, 56, 68, 76, 82, 89, 102, 106, 113, 115, 121, 123, 124, 127, 140, 172, 173, 185, 186, 204, 210, 228, 255, 267, 273, 274, 280, 285, 288, 289, 292, 295, 297, 304, 308, 311, 313, 316, 318]\n",
      "\n",
      "Class: B\n",
      "Num: 39\n",
      "Student: [11, 14, 17, 30, 32, 35, 41, 49, 64, 66, 79, 83, 86, 88, 97, 114, 119, 122, 132, 134, 141, 149, 151, 165, 175, 178, 190, 198, 200, 209, 213, 216, 226, 237, 272, 296, 303, 306, 307]\n",
      "\n",
      "Class: C\n",
      "Num: 40\n",
      "Student: [21, 38, 44, 46, 51, 54, 62, 63, 73, 75, 84, 85, 99, 120, 138, 142, 143, 144, 150, 166, 183, 184, 192, 193, 195, 201, 205, 207, 211, 212, 217, 221, 222, 243, 244, 263, 264, 287, 299, 315]\n",
      "\n",
      "Class: D\n",
      "Num: 40\n",
      "Student: [5, 24, 39, 47, 50, 61, 67, 74, 90, 92, 93, 100, 109, 116, 131, 136, 147, 152, 155, 167, 169, 170, 176, 177, 196, 199, 214, 218, 219, 227, 230, 231, 236, 238, 239, 253, 257, 259, 271, 309]\n",
      "\n",
      "Class: E\n",
      "Num: 39\n",
      "Student: [4, 8, 12, 13, 19, 22, 33, 43, 48, 55, 57, 59, 98, 112, 125, 130, 133, 137, 139, 153, 160, 189, 203, 234, 235, 240, 241, 249, 251, 254, 256, 261, 266, 268, 276, 283, 291, 294, 302]\n",
      "\n",
      "Class: F\n",
      "Num: 40\n",
      "Student: [1, 6, 16, 27, 28, 29, 40, 42, 45, 58, 70, 77, 91, 118, 128, 129, 135, 145, 146, 148, 156, 161, 162, 163, 174, 181, 188, 194, 202, 224, 229, 246, 258, 260, 262, 265, 286, 290, 300, 310]\n",
      "\n",
      "Class: G\n",
      "Num: 40\n",
      "Student: [7, 9, 10, 15, 18, 26, 31, 36, 37, 52, 71, 78, 80, 94, 96, 101, 104, 110, 126, 157, 159, 179, 180, 182, 191, 197, 215, 242, 245, 247, 248, 252, 275, 277, 282, 293, 298, 305, 312, 314]\n",
      "\n",
      "Class: H\n",
      "Num: 40\n",
      "Student: [3, 20, 25, 34, 53, 60, 65, 69, 72, 81, 87, 95, 103, 105, 107, 108, 111, 117, 154, 158, 164, 168, 171, 187, 206, 208, 220, 223, 225, 232, 233, 250, 269, 270, 278, 279, 281, 284, 301, 317]\n",
      "\n"
     ]
    }
   ],
   "source": [
    "import pandas as pd\n",
    "import pulp\n",
    "\n",
    "s_df = pd.read_csv('students.csv')\n",
    "s_pair_df = pd.read_csv('student_pairs.csv')\n",
    "\n",
    "prob = pulp.LpProblem('ClassAssignmentProblem', pulp.LpMaximize)\n",
    "\n",
    "# 生徒のリスト\n",
    "S = s_df['student_id'].tolist()\n",
    "\n",
    "# クラスのリスト\n",
    "C = ['A', 'B', 'C', 'D', 'E', 'F', 'G', 'H']\n",
    "\n",
    "# 生徒とクラスのペアのリスト\n",
    "SC = [(s,c) for s in S for c in C]\n",
    "\n",
    "# 生徒をどのクラスに割り当てるを変数として定義\n",
    "x = pulp.LpVariable.dicts('x', SC, cat='Binary')\n",
    "\n",
    "# (1)各生徒は１つのクラスに割り当てる\n",
    "for s in S:\n",
    "    prob += pulp.lpSum([x[s,c] for c in C]) == 1\n",
    "\n",
    "# (2)各クラスの生徒の人数は39人以上、40人以下とする。\n",
    "for c in C:\n",
    "    prob += pulp.lpSum([x[s,c] for s in S]) >= 39\n",
    "    prob += pulp.lpSum([x[s,c] for s in S]) <= 40\n",
    "\n",
    "# 男子生徒のリスト\n",
    "S_male = [row.student_id for row in s_df.itertuples() if row.gender == 1]\n",
    "\n",
    "# 女子生徒のリスト\n",
    "S_female = [row.student_id for row in s_df.itertuples() if row.gender == 0]\n",
    "\n",
    "# (3) 各クラスの男子生徒、女子生徒の人数は20人以下とする。\n",
    "for c in C:\n",
    "    prob += pulp.lpSum([x[s,c] for s in S_male]) <= 20\n",
    "    prob += pulp.lpSum([x[s,c] for s in S_female]) <= 20\n",
    "\n",
    "# 学力を辞書表現に変換\n",
    "score = {row.student_id:row.score for row in s_df.itertuples()}\n",
    "\n",
    "# 平均点の算出\n",
    "score_mean = s_df['score'].mean()\n",
    "\n",
    "# (4) 各クラスの学力試験の平均点は学年平均点±10点とする。      \n",
    "for c in C:\n",
    "    prob += pulp.lpSum([x[s,c]*score[s] for s in S]) >= (score_mean - 10) * pulp.lpSum([x[s,c] for s in S])\n",
    "    prob += pulp.lpSum([x[s,c]*score[s] for s in S]) <= (score_mean + 10) * pulp.lpSum([x[s,c] for s in S])\n",
    "\n",
    "# リーダー気質の生徒の集合\n",
    "S_leader = [row.student_id for row in s_df.itertuples() if row.leader_flag == 1]\n",
    "\n",
    "# (5)各クラスにリーダー気質の生徒を2人以上割り当てる。\n",
    "for c in C:\n",
    "    prob += pulp.lpSum([x[s,c] for s in S_leader]) >= 2\n",
    "\n",
    "# 特別な支援が必要な生徒の集合\n",
    "S_support = [row.student_id for row in s_df.itertuples() if row.support_flag == 1]\n",
    "\n",
    "# (6) 特別な支援が必要な生徒は各クラスに1人以下とする。\n",
    "for c in C:\n",
    "    prob += pulp.lpSum([x[s,c] for s in S_support]) <= 1\n",
    "\n",
    "# 生徒の特定ペアリスト\n",
    "SS = [(row.student_id1, row.student_id2) for row in s_pair_df.itertuples()]\n",
    "\n",
    "# (7) 特定ペアの生徒は同一クラスに割り当てない。\n",
    "for s1, s2 in SS:\n",
    "    for c in C:\n",
    "        prob += x[s1,c] + x[s2,c] <= 1\n",
    "\n",
    "# 初期クラス編成を作成\n",
    "s_df['score_rank'] = s_df['score'].rank(ascending=False, method='first')\n",
    "class_dic = {0:'A', 1:'B', 2:'C', 3:'D', 4:'E', 5:'F', 6:'G', 7:'H'}\n",
    "s_df['init_assigned_class'] = s_df['score_rank'].map(lambda x:x % 8).map(class_dic)\n",
    "init_flag = {(s,c): 0 for s in S for c in C}\n",
    "for row in s_df.itertuples():\n",
    "    init_flag[row.student_id, row.init_assigned_class] = 1\n",
    "# 新しいリスト initSC を作成\n",
    "# リスト init_flag を使用して、init_flag[s,c] が 1 である (s,c) のペアを initSC に追加\n",
    "initSC = [(s, c) for s in S for c in C if init_flag[s, c] == 1]\n",
    "print(initSC)\n",
    "    \n",
    "# 目的関数:初期クラス編成と最適化結果のクラス編成をできるだけ一致させる\n",
    "prob += pulp.lpSum([x[s,c] for s,c in initSC])  \n",
    "\n",
    "# 求解        \n",
    "status = prob.solve()\n",
    "print('Status:', pulp.LpStatus[status])\n",
    "\n",
    "# 最適化結果の表示\n",
    "# 各クラスに割り当てられている生徒のリストを辞書に格納\n",
    "C2Ss = {}\n",
    "for c in C:\n",
    "    C2Ss[c] = [s for s in S if x[s,c].value()==1]\n",
    "    \n",
    "for c, Ss in C2Ss.items():\n",
    "    print('Class:', c)\n",
    "    print('Num:', len(Ss))\n",
    "    print('Student:', Ss)\n",
    "    print()"
   ]
  },
  {
   "cell_type": "code",
   "execution_count": 91,
   "metadata": {},
   "outputs": [
    {
     "data": {
      "text/html": [
       "<div>\n",
       "<style scoped>\n",
       "    .dataframe tbody tr th:only-of-type {\n",
       "        vertical-align: middle;\n",
       "    }\n",
       "\n",
       "    .dataframe tbody tr th {\n",
       "        vertical-align: top;\n",
       "    }\n",
       "\n",
       "    .dataframe thead th {\n",
       "        text-align: right;\n",
       "    }\n",
       "</style>\n",
       "<table border=\"1\" class=\"dataframe\">\n",
       "  <thead>\n",
       "    <tr style=\"text-align: right;\">\n",
       "      <th></th>\n",
       "      <th>student_id</th>\n",
       "      <th>gender</th>\n",
       "      <th>leader_flag</th>\n",
       "      <th>support_flag</th>\n",
       "      <th>score</th>\n",
       "      <th>score_rank</th>\n",
       "      <th>init_assigned_class</th>\n",
       "      <th>assigned_class</th>\n",
       "    </tr>\n",
       "  </thead>\n",
       "  <tbody>\n",
       "    <tr>\n",
       "      <th>0</th>\n",
       "      <td>1</td>\n",
       "      <td>0</td>\n",
       "      <td>0</td>\n",
       "      <td>0</td>\n",
       "      <td>335</td>\n",
       "      <td>109.0</td>\n",
       "      <td>F</td>\n",
       "      <td>F</td>\n",
       "    </tr>\n",
       "    <tr>\n",
       "      <th>1</th>\n",
       "      <td>2</td>\n",
       "      <td>1</td>\n",
       "      <td>0</td>\n",
       "      <td>0</td>\n",
       "      <td>379</td>\n",
       "      <td>38.0</td>\n",
       "      <td>G</td>\n",
       "      <td>A</td>\n",
       "    </tr>\n",
       "    <tr>\n",
       "      <th>2</th>\n",
       "      <td>3</td>\n",
       "      <td>0</td>\n",
       "      <td>0</td>\n",
       "      <td>0</td>\n",
       "      <td>350</td>\n",
       "      <td>79.0</td>\n",
       "      <td>H</td>\n",
       "      <td>H</td>\n",
       "    </tr>\n",
       "    <tr>\n",
       "      <th>3</th>\n",
       "      <td>4</td>\n",
       "      <td>0</td>\n",
       "      <td>0</td>\n",
       "      <td>0</td>\n",
       "      <td>301</td>\n",
       "      <td>172.0</td>\n",
       "      <td>E</td>\n",
       "      <td>E</td>\n",
       "    </tr>\n",
       "    <tr>\n",
       "      <th>4</th>\n",
       "      <td>5</td>\n",
       "      <td>1</td>\n",
       "      <td>0</td>\n",
       "      <td>0</td>\n",
       "      <td>317</td>\n",
       "      <td>147.0</td>\n",
       "      <td>D</td>\n",
       "      <td>D</td>\n",
       "    </tr>\n",
       "  </tbody>\n",
       "</table>\n",
       "</div>"
      ],
      "text/plain": [
       "   student_id  gender  leader_flag  support_flag  score  score_rank  \\\n",
       "0           1       0            0             0    335       109.0   \n",
       "1           2       1            0             0    379        38.0   \n",
       "2           3       0            0             0    350        79.0   \n",
       "3           4       0            0             0    301       172.0   \n",
       "4           5       1            0             0    317       147.0   \n",
       "\n",
       "  init_assigned_class assigned_class  \n",
       "0                   F              F  \n",
       "1                   G              A  \n",
       "2                   H              H  \n",
       "3                   E              E  \n",
       "4                   D              D  "
      ]
     },
     "execution_count": 91,
     "metadata": {},
     "output_type": "execute_result"
    }
   ],
   "source": [
    "# 検証用のデータフレームの用意\n",
    "result_df2 = s_df.copy()\n",
    "\n",
    "# 各生徒がどのクラスに割り当てられたかの情報を辞書に格納\n",
    "S2C = {}\n",
    "for s in S:\n",
    "    S2C[s] = [c for c in C if x[s,c].value()==1][0]\n",
    "\n",
    "# 生徒データに各生徒が度のクラスに割り当てられたかの情報を結合            \n",
    "result_df2['assigned_class'] = result_df2['student_id'].map(S2C)\n",
    "result_df2.head(5)"
   ]
  },
  {
   "cell_type": "code",
   "execution_count": 92,
   "metadata": {},
   "outputs": [
    {
     "data": {
      "image/png": "[encoded data removed]",
      "text/plain": [
       "<Figure size 1200x2000 with 8 Axes>"
      ]
     },
     "metadata": {},
     "output_type": "display_data"
    }
   ],
   "source": [
    "fig = plt.figure(figsize=(12,20))\n",
    "for i, c in enumerate(C):\n",
    "    cls_df = result_df2[result_df2['assigned_class']==c]\n",
    "    ax = fig.add_subplot(4\n",
    "                         , 2\n",
    "                         , i+1\n",
    "                         , xlabel='score'\n",
    "                         , ylabel='num'\n",
    "                         , xlim=(0, 500)\n",
    "                         , ylim=(0, 20)\n",
    "                         \n",
    "                        )    \n",
    "    ax.hist(cls_df['score'], bins=range(0,500,40), edgecolor='black')\n",
    "    ax.set_title('Class:{:s}'.format(c), loc='center', y=0.9)"
   ]
  }
 ],
 "metadata": {
  "kernelspec": {
   "display_name": "Python 3",
   "language": "python",
   "name": "python3"
  },
  "language_info": {
   "codemirror_mode": {
    "name": "ipython",
    "version": 3
   },
   "file_extension": ".py",
   "mimetype": "text/x-python",
   "name": "python",
   "nbconvert_exporter": "python",
   "pygments_lexer": "ipython3",
   "version": "3.11.3"
  }
 },
 "nbformat": 4,
 "nbformat_minor": 4
}
