{
 "cells": [
  {
   "cell_type": "markdown",
   "id": "f68f4594-51a2-437d-ae3b-76eadc0b1998",
   "metadata": {},
   "source": [
    "# 5章 1つの車両を用いた多機関の配送計画"
   ]
  },
  {
   "cell_type": "raw",
   "id": "8eb69631-d10d-4209-a04c-422aa4010331",
   "metadata": {},
   "source": [
    "# 第二版のソースコードを以下のフォルダに配置\n",
    "PyOptBook\n",
    "  |- 5.routing_ver2(第二版のソースコード)\n",
    "      |-small_locations.cv  \n",
    "      |-small_distances.csv  \n",
    "      |-small_orders.csv  \n",
    "      |-locations.csv \n",
    "      |-distances.csv\n",
    "      |-orders.csv  \n",
    "\n",
    "# 初版のソースコードは以下のフォルダに配置\n",
    "PyOptBook\n",
    "  |- 5.routing"
   ]
  },
  {
   "cell_type": "markdown",
   "id": "c996b6d2",
   "metadata": {},
   "source": [
    "## 課題整理\n",
    "1. 配送計画の概要とアウトプットイメージ\n",
    "   -  配送車両：トラック1台\n",
    "   -  地点：配送拠点である配送センターが1箇所、配送先であるお店を複数持つ\n",
    "   -  配送ルート：配送センターを出発し、いくつかのお店を訪問して、被葬センターに戻ってくるまでの配送の順番を表したもので、同じお店に２回以上訪問しない\n",
    "   -  それぞれのお店は荷物を注文する\n",
    "   -  各荷物には配送期間と荷物の重量が指定されている\n",
    "   -  配送計画：20日分の配送ルート、および各配送日にお店に配送する荷物が決定された表\n",
    "2. トラックに関する要件\n",
    "   -  1日に配送できる荷物の重量は400[kg]以下とする\n",
    "3. ドライバーに関する要件\n",
    "   -  ドライバーの所定労働時間は1日8時間とする\n",
    "   -  ドライバーが所定労働時間を超えて配送業務を行う場合、1時間あたり3000の残業時間が発生する\n",
    "   -  ドライバーの1日の残業時間は3時間以下とする\n",
    "4. 外部配送業者に関する要件\n",
    "   -  配送先のお店が増えて配送距離が伸びた\n",
    "   -  遠くまで配送する必要が出てきた\n",
    "   -  繁忙期にお店からの荷物の注文が増えて、配送の頻度が高くなった\n",
    "   -  複数のお店の指定配送期間が、たまたま重なってしまった\n",
    "   -  外注すると、1[kg]あたり46円の外注費用が発生する\n",
    "5. 最適化の要件\n",
    "   -  配送費用の最小化を目指し、「残業費用」と「外注費用」の和を最小化"
   ]
  },
  {
   "cell_type": "markdown",
   "id": "5ea5558f",
   "metadata": {},
   "source": [
    "## 数理モデル\n",
    "- 集合\n",
    "  - 配送の集合：$D=\\{1,2,...,20\\}$\n",
    "  - 配送センター：$p$\n",
    "  - お店の集合：$S=\\{s_1,s_2,...\\}$\n",
    "  - 地点の集合：$K=\\{k,k_1,k_2,...\\}(\\{p,s_1,s_2,...\\})$\n",
    "  - 荷物の集合：$R=\\{r_1,r_2,...\\}$\n",
    "- 定数\n",
    "  - 移動時間：$t_{k1,k2} \\in R_{\\geq 0} (k1,k2 \\in K)$\n",
    "  - 荷物の配送先のお店：$s_{r} \\in S (r \\in R)$\n",
    "  - 指定配送期間(開始日と終了日)：$b_r,e_r \\in D (r \\in R)$\n",
    "  - 荷物の重量：$w_r \\in R_{\\geq 0} (r \\in R)$\n",
    "  - トラックの最大積載量：4000[kg]\n",
    "  - 1日の所定労働時間：8[時間]\n",
    "  - 1日の最大残業時間：3[時間]\n",
    "  - 残業費用：1[時間]あたり3000[円]\n",
    "  - 外注費用：1[kg]あたり46[円]\n",
    "- 変数\n",
    "  - 地点間の移動の有無を表す決定変数：$x_{d,k1,k2} \\in \\{0,1\\}(d \\in D, k1,k2 \\in K)$\n",
    "  - 地点移動の順番を表す補助変数：$u_{d,k} \\in Z_{\\geq 0}(d \\in D, k \\in K)$\n",
    "  - 荷物自動配送の有無を表す決定変数：$y_{d,r} \\in \\{0,1\\}(d \\in D, r \\in R)$\n",
    "  - 残業時間を表す補助変数：$h_d \\in R_{\\geq 0}(d \\in D)$\n",
    "- 制約式\n",
    "  - サイクルとなる経路\n",
    "    - 各配送日について、ある地点に移動する数とその地点から移動する数は一致する：\n",
    "      - $\\sum_{k2 \\in K} x_{d,k2,k1} = \\sum_{k2 \\in K} x_{d,k1,k2} (d \\in D, k1 \\in K)$\n",
    "    - 各配送日について、地点に訪問する数は高々１回までとする：\n",
    "      - $\\sum_{k2 \\in K} x_{d,k2,k1} \\leq 1 (d \\in D, k1 \\in K)$\n",
    "  - 配送センターを出発するサイクル\n",
    "    - 各配送日について、配送センターを出発地点(0番目に訪問)とする：\n",
    "      - $u_{d,p}=0(d \\in D)$\n",
    "    - 各配送日における、地点への訪問順番の上限値：\n",
    "      - $1 \\leq |K|-1(d \\in D, s \\in S))$\n",
    "    - 各配送日について、お店間だけのサイクルを禁止する：\n",
    "      - $u_{d,s1}+1 \\leq u_{d,s2}(|K|-1)(1-x_{d,s1,s2})(d \\in D, s1,s2 \\in S))$\n",
    "  - 荷物を自社配送するなら期間内で高々1回までとする：\n",
    "    - 各荷物は、自社配送するなら期間内で高々1回までとする\n",
    "      - $\\sum_{d \\in D} y_{d,r} \\leq 1 (r \\in R)$\n",
    "  - 荷物を自社配送するなら、配送先のお店に訪問する：\n",
    "    - 各配送日について、荷物を自社配送するなら、配送先のお店に訪問する\n",
    "      - $y_{d,r} \\leq \\sum_{k \\in K} x_{d,k,s_r} (d \\in D, r \\in R)$\n",
    "  - トラックの積載量：\n",
    "    - 各配送日について、荷物の重量は4000[kg]以下とする\n",
    "      - $\\sum_{r \\in R} w_ry_{d,r} \\leq 4000 (d \\in D)$\n",
    "  - ドライバーの残業時間の定義：\n",
    "    - 各配送日について、ドライバーの残業時間は所定労働時間の8時間を差し引いた労働時間となる。\n",
    "      - $\\sum_{k1,k2 \\in K} t_{k1,k2} x_{d,k1,k2}-8 \\leq h_d (d \\in D)$\n",
    "  - ドライバーの残業時間の制約：\n",
    "    - 各配送日について、ドライバーの残業時間は3時間以内とする。\n",
    "      - $h_d \\leq 3 (d \\in D)$\n",
    "  - 荷物は指定配送期間に配送：\n",
    "    - 各荷物は、開始日より前の配送を禁止する：\n",
    "      - $y_{d,r}=0(r \\in R, d \\in D, d<b_r)$\n",
    "    - 各荷物は、終了日より後の配送を禁止する：\n",
    "      - $y_{d,r}=0(r \\in R, d \\in D, e_r<d)$\n",
    "  - 配送費用（残業費用＋外注費用）の最小化：\n",
    "    - 配送費用（残業費用＋外注費用）を最小化する：\n",
    "      - $\\sum_{d \\in D} 3000h_d + \\sum_{r \\in R} 46w_r(1-\\sum_{d \\in D}y_{d,r}))$"
   ]
  },
  {
   "cell_type": "markdown",
   "id": "42ac30b2-41e1-4049-a037-43dfed035aa0",
   "metadata": {},
   "source": [
    "## 5.4. 素朴な数理モデルの実装と実験"
   ]
  },
  {
   "cell_type": "markdown",
   "id": "48edabf7-9a56-4843-a554-9b4afbd0d583",
   "metadata": {},
   "source": [
    "### ②データ確認"
   ]
  },
  {
   "cell_type": "code",
   "execution_count": 23,
   "id": "6a1cc9a4-9b1b-4ae3-9e27-860eee01dbb0",
   "metadata": {},
   "outputs": [
    {
     "name": "stdout",
     "output_type": "stream",
     "text": [
      "5\n"
     ]
    },
    {
     "data": {
      "text/html": [
       "<div>\n",
       "<style scoped>\n",
       "    .dataframe tbody tr th:only-of-type {\n",
       "        vertical-align: middle;\n",
       "    }\n",
       "\n",
       "    .dataframe tbody tr th {\n",
       "        vertical-align: top;\n",
       "    }\n",
       "\n",
       "    .dataframe thead th {\n",
       "        text-align: right;\n",
       "    }\n",
       "</style>\n",
       "<table border=\"1\" class=\"dataframe\">\n",
       "  <thead>\n",
       "    <tr style=\"text-align: right;\">\n",
       "      <th></th>\n",
       "      <th>k</th>\n",
       "      <th>x</th>\n",
       "      <th>y</th>\n",
       "      <th>depo_flag</th>\n",
       "    </tr>\n",
       "  </thead>\n",
       "  <tbody>\n",
       "    <tr>\n",
       "      <th>0</th>\n",
       "      <td>p</td>\n",
       "      <td>0</td>\n",
       "      <td>0</td>\n",
       "      <td>1</td>\n",
       "    </tr>\n",
       "    <tr>\n",
       "      <th>1</th>\n",
       "      <td>s1</td>\n",
       "      <td>-2</td>\n",
       "      <td>0</td>\n",
       "      <td>0</td>\n",
       "    </tr>\n",
       "    <tr>\n",
       "      <th>2</th>\n",
       "      <td>s2</td>\n",
       "      <td>-2</td>\n",
       "      <td>-2</td>\n",
       "      <td>0</td>\n",
       "    </tr>\n",
       "    <tr>\n",
       "      <th>3</th>\n",
       "      <td>s3</td>\n",
       "      <td>4</td>\n",
       "      <td>0</td>\n",
       "      <td>0</td>\n",
       "    </tr>\n",
       "    <tr>\n",
       "      <th>4</th>\n",
       "      <td>s4</td>\n",
       "      <td>4</td>\n",
       "      <td>2</td>\n",
       "      <td>0</td>\n",
       "    </tr>\n",
       "  </tbody>\n",
       "</table>\n",
       "</div>"
      ],
      "text/plain": [
       "    k  x  y  depo_flag\n",
       "0   p  0  0          1\n",
       "1  s1 -2  0          0\n",
       "2  s2 -2 -2          0\n",
       "3  s3  4  0          0\n",
       "4  s4  4  2          0"
      ]
     },
     "execution_count": 23,
     "metadata": {},
     "output_type": "execute_result"
    }
   ],
   "source": [
    "import pandas as pd\n",
    "k_df = pd.read_csv('small_locations.csv')\n",
    "print(len(k_df))\n",
    "k_df.head()"
   ]
  },
  {
   "cell_type": "code",
   "execution_count": 24,
   "id": "60effaff-ea78-490e-a494-2153ea23e58d",
   "metadata": {},
   "outputs": [
    {
     "data": {
      "text/plain": [
       "<matplotlib.collections.PathCollection at 0x140e10d90>"
      ]
     },
     "execution_count": 24,
     "metadata": {},
     "output_type": "execute_result"
    },
    {
     "data": {
      "text/plain": [
       "Text(0, 0.1, 'p')"
      ]
     },
     "execution_count": 24,
     "metadata": {},
     "output_type": "execute_result"
    },
    {
     "data": {
      "text/plain": [
       "<matplotlib.collections.PathCollection at 0x140e12210>"
      ]
     },
     "execution_count": 24,
     "metadata": {},
     "output_type": "execute_result"
    },
    {
     "data": {
      "text/plain": [
       "Text(-2, 0.1, 's1')"
      ]
     },
     "execution_count": 24,
     "metadata": {},
     "output_type": "execute_result"
    },
    {
     "data": {
      "text/plain": [
       "<matplotlib.collections.PathCollection at 0x140eb4290>"
      ]
     },
     "execution_count": 24,
     "metadata": {},
     "output_type": "execute_result"
    },
    {
     "data": {
      "text/plain": [
       "Text(-2, -1.9, 's2')"
      ]
     },
     "execution_count": 24,
     "metadata": {},
     "output_type": "execute_result"
    },
    {
     "data": {
      "text/plain": [
       "<matplotlib.collections.PathCollection at 0x140eb5b90>"
      ]
     },
     "execution_count": 24,
     "metadata": {},
     "output_type": "execute_result"
    },
    {
     "data": {
      "text/plain": [
       "Text(4, 0.1, 's3')"
      ]
     },
     "execution_count": 24,
     "metadata": {},
     "output_type": "execute_result"
    },
    {
     "data": {
      "text/plain": [
       "<matplotlib.collections.PathCollection at 0x140e38450>"
      ]
     },
     "execution_count": 24,
     "metadata": {},
     "output_type": "execute_result"
    },
    {
     "data": {
      "text/plain": [
       "Text(4, 2.1, 's4')"
      ]
     },
     "execution_count": 24,
     "metadata": {},
     "output_type": "execute_result"
    },
    {
     "data": {
      "image/png": "[encoded data removed]",
      "text/plain": [
       "<Figure size 640x480 with 1 Axes>"
      ]
     },
     "metadata": {},
     "output_type": "display_data"
    }
   ],
   "source": [
    "import matplotlib.pyplot as plt\n",
    "fig = plt.subplot()\n",
    "fig.set_aspect('equal')\n",
    "for row in k_df.itertuples():\n",
    "    if row.depo_flag:\n",
    "        fig.scatter(row.x, row.y, marker='o')\n",
    "    else:\n",
    "        fig.scatter(row.x, row.y, marker='x')\n",
    "    fig.annotate(row.k, (row.x,row.y+0.1))\n",
    "plt.show()"
   ]
  },
  {
   "cell_type": "code",
   "execution_count": 25,
   "id": "3dcb5d88-2e0b-4703-babf-acff9c34234c",
   "metadata": {},
   "outputs": [
    {
     "name": "stdout",
     "output_type": "stream",
     "text": [
      "25\n"
     ]
    },
    {
     "data": {
      "text/html": [
       "<div>\n",
       "<style scoped>\n",
       "    .dataframe tbody tr th:only-of-type {\n",
       "        vertical-align: middle;\n",
       "    }\n",
       "\n",
       "    .dataframe tbody tr th {\n",
       "        vertical-align: top;\n",
       "    }\n",
       "\n",
       "    .dataframe thead th {\n",
       "        text-align: right;\n",
       "    }\n",
       "</style>\n",
       "<table border=\"1\" class=\"dataframe\">\n",
       "  <thead>\n",
       "    <tr style=\"text-align: right;\">\n",
       "      <th></th>\n",
       "      <th>k1</th>\n",
       "      <th>k2</th>\n",
       "      <th>t</th>\n",
       "    </tr>\n",
       "  </thead>\n",
       "  <tbody>\n",
       "    <tr>\n",
       "      <th>0</th>\n",
       "      <td>p</td>\n",
       "      <td>p</td>\n",
       "      <td>0.000000</td>\n",
       "    </tr>\n",
       "    <tr>\n",
       "      <th>1</th>\n",
       "      <td>p</td>\n",
       "      <td>s1</td>\n",
       "      <td>2.000000</td>\n",
       "    </tr>\n",
       "    <tr>\n",
       "      <th>2</th>\n",
       "      <td>p</td>\n",
       "      <td>s2</td>\n",
       "      <td>2.828427</td>\n",
       "    </tr>\n",
       "    <tr>\n",
       "      <th>3</th>\n",
       "      <td>p</td>\n",
       "      <td>s3</td>\n",
       "      <td>4.000000</td>\n",
       "    </tr>\n",
       "    <tr>\n",
       "      <th>4</th>\n",
       "      <td>p</td>\n",
       "      <td>s4</td>\n",
       "      <td>4.472136</td>\n",
       "    </tr>\n",
       "  </tbody>\n",
       "</table>\n",
       "</div>"
      ],
      "text/plain": [
       "  k1  k2         t\n",
       "0  p   p  0.000000\n",
       "1  p  s1  2.000000\n",
       "2  p  s2  2.828427\n",
       "3  p  s3  4.000000\n",
       "4  p  s4  4.472136"
      ]
     },
     "execution_count": 25,
     "metadata": {},
     "output_type": "execute_result"
    }
   ],
   "source": [
    "kk_df = pd.read_csv('small_distances.csv')\n",
    "print(len(kk_df))\n",
    "kk_df.head()"
   ]
  },
  {
   "cell_type": "code",
   "execution_count": 26,
   "id": "31f222d0-83ab-42b4-ba71-09099eb83639",
   "metadata": {},
   "outputs": [
    {
     "name": "stdout",
     "output_type": "stream",
     "text": [
      "8\n"
     ]
    },
    {
     "data": {
      "text/html": [
       "<div>\n",
       "<style scoped>\n",
       "    .dataframe tbody tr th:only-of-type {\n",
       "        vertical-align: middle;\n",
       "    }\n",
       "\n",
       "    .dataframe tbody tr th {\n",
       "        vertical-align: top;\n",
       "    }\n",
       "\n",
       "    .dataframe thead th {\n",
       "        text-align: right;\n",
       "    }\n",
       "</style>\n",
       "<table border=\"1\" class=\"dataframe\">\n",
       "  <thead>\n",
       "    <tr style=\"text-align: right;\">\n",
       "      <th></th>\n",
       "      <th>r</th>\n",
       "      <th>s</th>\n",
       "      <th>w</th>\n",
       "      <th>b</th>\n",
       "      <th>e</th>\n",
       "    </tr>\n",
       "  </thead>\n",
       "  <tbody>\n",
       "    <tr>\n",
       "      <th>0</th>\n",
       "      <td>r1</td>\n",
       "      <td>s1</td>\n",
       "      <td>1000</td>\n",
       "      <td>1</td>\n",
       "      <td>1</td>\n",
       "    </tr>\n",
       "    <tr>\n",
       "      <th>1</th>\n",
       "      <td>r2</td>\n",
       "      <td>s2</td>\n",
       "      <td>1000</td>\n",
       "      <td>1</td>\n",
       "      <td>2</td>\n",
       "    </tr>\n",
       "    <tr>\n",
       "      <th>2</th>\n",
       "      <td>r3</td>\n",
       "      <td>s3</td>\n",
       "      <td>1000</td>\n",
       "      <td>2</td>\n",
       "      <td>2</td>\n",
       "    </tr>\n",
       "    <tr>\n",
       "      <th>3</th>\n",
       "      <td>r4</td>\n",
       "      <td>s4</td>\n",
       "      <td>1500</td>\n",
       "      <td>2</td>\n",
       "      <td>3</td>\n",
       "    </tr>\n",
       "    <tr>\n",
       "      <th>4</th>\n",
       "      <td>r5</td>\n",
       "      <td>s1</td>\n",
       "      <td>1500</td>\n",
       "      <td>2</td>\n",
       "      <td>4</td>\n",
       "    </tr>\n",
       "  </tbody>\n",
       "</table>\n",
       "</div>"
      ],
      "text/plain": [
       "    r   s     w  b  e\n",
       "0  r1  s1  1000  1  1\n",
       "1  r2  s2  1000  1  2\n",
       "2  r3  s3  1000  2  2\n",
       "3  r4  s4  1500  2  3\n",
       "4  r5  s1  1500  2  4"
      ]
     },
     "execution_count": 26,
     "metadata": {},
     "output_type": "execute_result"
    }
   ],
   "source": [
    "r_df = pd.read_csv('small_orders.csv')\n",
    "print(len(r_df))\n",
    "r_df.head()"
   ]
  },
  {
   "cell_type": "markdown",
   "id": "a65d0d35-565e-4f95-ac37-ff24a37a4fa4",
   "metadata": {},
   "source": [
    "### ③素朴な数理モデルの実装と確認（小規模データ）"
   ]
  },
  {
   "cell_type": "code",
   "execution_count": 27,
   "id": "dd120b8b-b67e-4b2a-9d85-504b5a9b0e15",
   "metadata": {},
   "outputs": [
    {
     "name": "stdout",
     "output_type": "stream",
     "text": [
      "[1, 2, 3, 4]\n",
      "['p', 's1', 's2', 's3', 's4']\n",
      "['r1', 'r2', 'r3', 'r4', 'r5', 'r6', 'r7', 'r8']\n",
      "[(1, 'p', 'p'), (1, 'p', 's1'), (1, 'p', 's2'), (1, 'p', 's3'), (1, 'p', 's4')]\n",
      "[(1, 'r1'), (1, 'r2'), (1, 'r3'), (1, 'r4'), (1, 'r5')]\n",
      "[(1, 'p'), (1, 's1'), (1, 's2'), (1, 's3'), (1, 's4')]\n"
     ]
    }
   ],
   "source": [
    "# 配送日のリスト\n",
    "D = list(range(r_df.b.min(), r_df.e.max() + 1))\n",
    "\n",
    "# 配送センター\n",
    "p = k_df[k_df.depo_flag == 1].k.tolist()[0]\n",
    "\n",
    "# お店のリスト\n",
    "S = k_df[k_df.depo_flag == 0].k.tolist()\n",
    "\n",
    "# 地点のリスト\n",
    "K = [p] + S\n",
    "\n",
    "# 荷物のリスト\n",
    "R = r_df.r.tolist()\n",
    "\n",
    "# 各変数を定義するために必要なリスト\n",
    "DKK = [(d,k1,k2) for d in D for k1 in K for k2 in K]\n",
    "DR = [(d,r) for d in D for r in R]\n",
    "DK = [(d,k) for d in D for k in K]\n",
    "\n",
    "# 表示\n",
    "print(D)\n",
    "print(K)\n",
    "print(R)\n",
    "print(DKK[:5])\n",
    "print(DR[:5])\n",
    "print(DK[:5])"
   ]
  },
  {
   "cell_type": "code",
   "execution_count": 28,
   "id": "0928185f-f772-47c6-9a01-0f4a61deacda",
   "metadata": {},
   "outputs": [
    {
     "name": "stdout",
     "output_type": "stream",
     "text": [
      "R2S: {'r1': 's1', 'r2': 's2', 'r3': 's3', 'r4': 's4', 'r5': 's1', 'r6': 's2', 'r7': 's3', 'r8': 's4'}\n",
      "R2W: {'r1': 1000, 'r2': 1000, 'r3': 1000, 'r4': 1500, 'r5': 1500, 'r6': 1500, 'r7': 1500, 'r8': 3000}\n",
      "R2B: {'r1': 1, 'r2': 1, 'r3': 2, 'r4': 2, 'r5': 2, 'r6': 3, 'r7': 3, 'r8': 4}\n",
      "R2E: {'r1': 1, 'r2': 2, 'r3': 2, 'r4': 3, 'r5': 4, 'r6': 4, 'r7': 4, 'r8': 4}\n",
      "KK2T: {('p', 'p'): 0.0, ('p', 's1'): 2.0, ('p', 's2'): 2.8284271247461903, ('p', 's3'): 4.0, ('p', 's4'): 4.47213595499958, ('s1', 'p'): 2.0, ('s1', 's1'): 0.0, ('s1', 's2'): 2.0, ('s1', 's3'): 6.0, ('s1', 's4'): 6.324555320336759, ('s2', 'p'): 2.8284271247461903, ('s2', 's1'): 2.0, ('s2', 's2'): 0.0, ('s2', 's3'): 6.324555320336759, ('s2', 's4'): 7.211102550927978, ('s3', 'p'): 4.0, ('s3', 's1'): 6.0, ('s3', 's2'): 6.324555320336759, ('s3', 's3'): 0.0, ('s3', 's4'): 2.0, ('s4', 'p'): 4.47213595499958, ('s4', 's1'): 6.324555320336759, ('s4', 's2'): 7.211102550927978, ('s4', 's3'): 2.0, ('s4', 's4'): 0.0}\n"
     ]
    }
   ],
   "source": [
    "# 荷物に紐づける配送先のお店\n",
    "R2S = {row.r:row.s for row in r_df.itertuples()}\n",
    "\n",
    "# 荷物に紐づける重量\n",
    "R2W = {row.r:row.w for row in r_df.itertuples()}\n",
    "\n",
    "# 荷物に紐づける指定配送期間の開始日\n",
    "R2B = {row.r:row.b for row in r_df.itertuples()}\n",
    "\n",
    "# 荷物に紐づける指定配送期間の終了日\n",
    "R2E = {row.r:row.e for row in r_df.itertuples()}\n",
    "\n",
    "# 地点間の移動時間\n",
    "KK2T = {(row.k1,row.k2):row.t for row in kk_df.itertuples()}\n",
    "\n",
    "print('R2S:', R2S)\n",
    "print('R2W:', R2W)\n",
    "print('R2B:', R2B)\n",
    "print('R2E:', R2E)\n",
    "print('KK2T:', KK2T)"
   ]
  },
  {
   "cell_type": "markdown",
   "id": "d8cd2067-b830-4303-8902-9c97faefa884",
   "metadata": {},
   "source": [
    "### ☆「素朴な数理モデル」の実装"
   ]
  },
  {
   "cell_type": "code",
   "execution_count": 29,
   "id": "a64b7c5e-c529-4374-bf9d-811d91aafb6c",
   "metadata": {},
   "outputs": [
    {
     "name": "stdout",
     "output_type": "stream",
     "text": [
      "Welcome to the CBC MILP Solver \n",
      "Version: 2.10.3 \n",
      "Build Date: Dec 15 2019 \n",
      "\n",
      "command line - /Users/y_suzuki/anaconda3/lib/python3.11/site-packages/pulp/solverdir/cbc/osx/64/cbc /var/folders/_c/n95nswwd7dq6t2vx_rfc73fm0000gn/T/60a6aeb6e4e64277878d2811a8a40b4f-pulp.mps -timeMode elapsed -branch -printingOptions all -solution /var/folders/_c/n95nswwd7dq6t2vx_rfc73fm0000gn/T/60a6aeb6e4e64277878d2811a8a40b4f-pulp.sol (default strategy 1)\n",
      "At line 2 NAME          MODEL\n",
      "At line 3 ROWS\n",
      "At line 215 COLUMNS\n",
      "At line 1410 RHS\n",
      "At line 1621 BOUNDS\n",
      "At line 1774 ENDATA\n",
      "Problem MODEL has 210 rows, 156 columns and 818 elements\n",
      "Coin0008I MODEL read with 0 errors\n",
      "Option for timeMode changed from cpu to elapsed\n",
      "Continuous objective value is -552000 - 0.00 seconds\n",
      "Cgl0002I 18 variables fixed\n",
      "Cgl0003I 8 fixed, 0 tightened bounds, 50 strengthened rows, 0 substitutions\n",
      "Cgl0003I 0 fixed, 0 tightened bounds, 25 strengthened rows, 0 substitutions\n",
      "Cgl0003I 0 fixed, 0 tightened bounds, 7 strengthened rows, 0 substitutions\n",
      "Cgl0004I processed model has 114 rows, 106 columns (102 integer (86 of which binary)) and 595 elements\n",
      "Cbc0038I Initial state - 30 integers unsatisfied sum - 8.95238\n",
      "Cbc0038I Pass   1: suminf.    4.25000 (17) obj. -362250 iterations 24\n",
      "Cbc0038I Pass   2: suminf.    4.25000 (17) obj. -362250 iterations 1\n",
      "Cbc0038I Pass   3: suminf.    1.50000 (6) obj. -103500 iterations 14\n",
      "Cbc0038I Pass   4: suminf.    1.50000 (6) obj. -103500 iterations 5\n",
      "Cbc0038I Solution found of 0\n",
      "Cbc0038I Branch and bound needed to clear up 1 general integers\n",
      "Cbc0038I Full problem 114 rows 106 columns, reduced to 0 rows 0 columns\n",
      "Cbc0038I Cleaned solution of 0\n",
      "Cbc0038I Before mini branch and bound, 65 integers at bound fixed and 3 continuous\n",
      "Cbc0038I Full problem 114 rows 106 columns, reduced to 0 rows 0 columns\n",
      "Cbc0038I Mini branch and bound did not improve solution (0.03 seconds)\n",
      "Cbc0038I Round again with cutoff of -54801.5\n",
      "Cbc0038I Pass   5: suminf.    4.25000 (17) obj. -362250 iterations 0\n",
      "Cbc0038I Pass   6: suminf.    4.25000 (17) obj. -362250 iterations 1\n",
      "Cbc0038I Pass   7: suminf.    1.05897 (4) obj. -54801.5 iterations 32\n",
      "Cbc0038I Pass   8: suminf.    1.03125 (4) obj. -146477 iterations 13\n",
      "Cbc0038I Pass   9: suminf.    5.58509 (20) obj. -217569 iterations 34\n",
      "Cbc0038I Pass  10: suminf.    2.64085 (11) obj. -215938 iterations 9\n",
      "Cbc0038I Solution found of -65000\n",
      "Cbc0038I Branch and bound needed to clear up 2 general integers\n",
      "Cbc0038I Full problem 115 rows 106 columns, reduced to 0 rows 0 columns\n",
      "Cbc0038I Cleaned solution of -92000\n",
      "Cbc0038I Before mini branch and bound, 54 integers at bound fixed and 0 continuous\n",
      "Cbc0038I Full problem 114 rows 106 columns, reduced to 12 rows 11 columns\n",
      "Cbc0038I Mini branch and bound improved solution from -92000 to -161000 (0.05 seconds)\n",
      "Cbc0038I Round again with cutoff of -238403\n",
      "Cbc0038I Pass  11: suminf.    4.25000 (17) obj. -362250 iterations 0\n",
      "Cbc0038I Pass  12: suminf.    4.25000 (17) obj. -362250 iterations 1\n",
      "Cbc0038I Pass  13: suminf.    3.36535 (11) obj. -238403 iterations 16\n",
      "Cbc0038I Pass  14: suminf.    2.74357 (11) obj. -238403 iterations 25\n",
      "Cbc0038I Pass  15: suminf.    2.74357 (11) obj. -238403 iterations 0\n",
      "Cbc0038I Pass  16: suminf.    1.00000 (4) obj. -326207 iterations 25\n",
      "Cbc0038I Pass  17: suminf.    1.00000 (4) obj. -326207 iterations 2\n",
      "Cbc0038I Pass  18: suminf.    0.32568 (4) obj. -238403 iterations 16\n",
      "Cbc0038I Pass  19: suminf.    4.37193 (19) obj. -238403 iterations 49\n",
      "Cbc0038I Pass  20: suminf.    3.30340 (11) obj. -239956 iterations 14\n",
      "Cbc0038I Pass  21: suminf.    2.23983 (5) obj. -238403 iterations 26\n",
      "Cbc0038I Pass  22: suminf.    2.23983 (5) obj. -238403 iterations 0\n",
      "Cbc0038I Pass  23: suminf.    1.25000 (5) obj. -275623 iterations 15\n",
      "Cbc0038I Pass  24: suminf.    3.29808 (15) obj. -238403 iterations 30\n",
      "Cbc0038I Pass  25: suminf.    2.26329 (10) obj. -238403 iterations 15\n",
      "Cbc0038I Solution found of -254736\n",
      "Cbc0038I Branch and bound needed to clear up 2 general integers\n",
      "Cbc0038I Full problem 115 rows 106 columns, reduced to 0 rows 0 columns\n",
      "Cbc0038I Cleaned solution of -261167\n",
      "Cbc0038I Before mini branch and bound, 38 integers at bound fixed and 0 continuous\n",
      "Cbc0038I Full problem 114 rows 106 columns, reduced to 50 rows 45 columns\n",
      "Cbc0038I Mini branch and bound improved solution from -261167 to -431334 (0.09 seconds)\n",
      "Cbc0038I Round again with cutoff of -466339\n",
      "Cbc0038I Pass  26: suminf.    6.28372 (27) obj. -466339 iterations 9\n",
      "Cbc0038I Pass  27: suminf.    5.43372 (21) obj. -466339 iterations 12\n",
      "Cbc0038I Pass  28: suminf.    5.24352 (24) obj. -466339 iterations 9\n",
      "Cbc0038I Pass  29: suminf.    4.72544 (24) obj. -466339 iterations 34\n",
      "Cbc0038I Pass  30: suminf.    4.11031 (20) obj. -466339 iterations 18\n",
      "Cbc0038I Pass  31: suminf.    3.55742 (18) obj. -466339 iterations 23\n",
      "Cbc0038I Pass  32: suminf.    3.58098 (17) obj. -466339 iterations 9\n",
      "Cbc0038I Pass  33: suminf.    2.51923 (14) obj. -466339 iterations 26\n",
      "Cbc0038I Pass  34: suminf.    2.02051 (10) obj. -466339 iterations 20\n",
      "Cbc0038I Pass  35: suminf.    2.26399 (11) obj. -466339 iterations 17\n",
      "Cbc0038I Pass  36: suminf.    2.19266 (10) obj. -466339 iterations 8\n",
      "Cbc0038I Pass  37: suminf.    2.03872 (11) obj. -466339 iterations 8\n",
      "Cbc0038I Pass  38: suminf.    4.53892 (21) obj. -466339 iterations 30\n",
      "Cbc0038I Pass  39: suminf.    3.80313 (19) obj. -466339 iterations 18\n",
      "Cbc0038I Pass  40: suminf.    3.51672 (10) obj. -466339 iterations 27\n",
      "Cbc0038I Pass  41: suminf.    1.91667 (7) obj. -468334 iterations 24\n",
      "Cbc0038I Pass  42: suminf.    2.02051 (10) obj. -466339 iterations 10\n",
      "Cbc0038I Pass  43: suminf.    2.26399 (11) obj. -466339 iterations 18\n",
      "Cbc0038I Pass  44: suminf.    2.19266 (10) obj. -466339 iterations 8\n",
      "Cbc0038I Pass  45: suminf.    2.03872 (11) obj. -466339 iterations 7\n",
      "Cbc0038I Pass  46: suminf.    5.01288 (24) obj. -466339 iterations 30\n",
      "Cbc0038I Pass  47: suminf.    3.52075 (26) obj. -466339 iterations 18\n",
      "Cbc0038I Pass  48: suminf.    3.50607 (14) obj. -466339 iterations 31\n",
      "Cbc0038I Pass  49: suminf.    6.12814 (17) obj. -466339 iterations 21\n",
      "Cbc0038I Pass  50: suminf.    6.07672 (15) obj. -466339 iterations 5\n",
      "Cbc0038I Pass  51: suminf.    5.21781 (17) obj. -466339 iterations 8\n",
      "Cbc0038I Pass  52: suminf.    3.17666 (15) obj. -466339 iterations 16\n",
      "Cbc0038I Pass  53: suminf.    3.16961 (17) obj. -466339 iterations 2\n",
      "Cbc0038I Pass  54: suminf.    3.33286 (12) obj. -466339 iterations 25\n",
      "Cbc0038I Pass  55: suminf.    3.33286 (12) obj. -466339 iterations 2\n",
      "Cbc0038I No solution found this major pass\n",
      "Cbc0038I Before mini branch and bound, 35 integers at bound fixed and 1 continuous\n",
      "Cbc0038I Full problem 114 rows 106 columns, reduced to 45 rows 39 columns\n",
      "Cbc0038I Mini branch and bound did not improve solution (0.14 seconds)\n",
      "Cbc0038I After 0.14 seconds - Feasibility pump exiting with objective of -431334 - took 0.08 seconds\n",
      "Cbc0012I Integer solution of -431334.37 found by feasibility pump after 0 iterations and 0 nodes (0.14 seconds)\n",
      "Cbc0038I Full problem 114 rows 106 columns, reduced to 6 rows 7 columns\n",
      "Cbc0012I Integer solution of -472750.78 found by DiveCoefficient after 194 iterations and 0 nodes (0.48 seconds)\n",
      "Cbc0031I 15 added rows had average density of 10\n",
      "Cbc0013I At root node, 15 cuts changed objective from -548015.05 to -472750.78 in 7 passes\n",
      "Cbc0014I Cut generator 0 (Probing) - 31 row cuts average 2.6 elements, 0 column cuts (0 active)  in 0.003 seconds - new frequency is 1\n",
      "Cbc0014I Cut generator 1 (Gomory) - 79 row cuts average 26.8 elements, 0 column cuts (0 active)  in 0.002 seconds - new frequency is 1\n",
      "Cbc0014I Cut generator 2 (Knapsack) - 8 row cuts average 8.0 elements, 0 column cuts (0 active)  in 0.005 seconds - new frequency is 1\n",
      "Cbc0014I Cut generator 3 (Clique) - 0 row cuts average 0.0 elements, 0 column cuts (0 active)  in 0.000 seconds - new frequency is -100\n",
      "Cbc0014I Cut generator 4 (MixedIntegerRounding2) - 8 row cuts average 13.8 elements, 0 column cuts (0 active)  in 0.001 seconds - new frequency is -100\n",
      "Cbc0014I Cut generator 5 (FlowCover) - 1 row cuts average 2.0 elements, 0 column cuts (0 active)  in 0.001 seconds - new frequency is -100\n",
      "Cbc0014I Cut generator 6 (TwoMirCuts) - 188 row cuts average 20.2 elements, 0 column cuts (0 active)  in 0.008 seconds - new frequency is 1\n",
      "Cbc0014I Cut generator 7 (ZeroHalf) - 13 row cuts average 3.5 elements, 0 column cuts (0 active)  in 0.071 seconds - new frequency is 1\n",
      "Cbc0001I Search completed - best objective -472750.776405, took 194 iterations and 0 nodes (0.48 seconds)\n",
      "Cbc0035I Maximum depth 0, 2 variables fixed on reduced cost\n",
      "Cuts at root node changed objective from -548015 to -472751\n",
      "Probing was tried 7 times and created 31 cuts of which 0 were active after adding rounds of cuts (0.003 seconds)\n",
      "Gomory was tried 7 times and created 79 cuts of which 0 were active after adding rounds of cuts (0.002 seconds)\n",
      "Knapsack was tried 7 times and created 8 cuts of which 0 were active after adding rounds of cuts (0.005 seconds)\n",
      "Clique was tried 7 times and created 0 cuts of which 0 were active afteステータス: Optimal\n",
      "残業費用:10249[円]\n",
      "外注費用:69000[円]\n",
      "費用合計:79249[円]\n"
     ]
    }
   ],
   "source": [
    "import pulp\n",
    "\n",
    "prob = pulp.LpProblem('vrp_small', pulp.LpMinimize)\n",
    "\n",
    "x = pulp.LpVariable.dicts('x', DKK, cat='Binary')\n",
    "u = pulp.LpVariable.dicts('u', DK, cat='Integer', lowBound=0)\n",
    "y = pulp.LpVariable.dicts('y', DR, cat='Binary')\n",
    "h = pulp.LpVariable.dicts('h', D, cat='Continuous', lowBound=0)\n",
    "\n",
    "for d in D:\n",
    "    for k1 in K:\n",
    "        # (A-1) 各配送日について、ある地点に移動する数とその地点から移動する数は一致\n",
    "        prob += pulp.lpSum([x[d,k1,k2] for k2 in K]) == pulp.lpSum([x[d,k2,k1] for k2 in K])        \n",
    "        \n",
    "        # (A-2) 各配送日について、地点に訪問する数は高々1回まで\n",
    "        prob += pulp.lpSum([x[d,k2,k1] for k2 in K]) <= 1\n",
    "        \n",
    "for d in D:\n",
    "    # (B-1) 各配送日について、配送センターは出発地点(0番目に訪問)\n",
    "    prob += u[d,p] == 0\n",
    "    \n",
    "    # (B-2) 各配送日における、地点への訪問順番の上下限値\n",
    "    for s in S:\n",
    "        prob += 1 <= u[d,s]\n",
    "        prob += u[d,s] <= len(K) - 1\n",
    "        \n",
    "    # (B-3) 各配送日について、お店間だけのサイクルを禁止\n",
    "    for s1 in S:\n",
    "        for s2 in S:\n",
    "            prob += u[d,s1] + 1 <= u[d,s2] + (len(K) - 1) * (1 - x[d,s1,s2])\n",
    "            \n",
    "# (C) 各荷物は、自社配送するなら期間内で高々1回まで\n",
    "for r in R:\n",
    "    prob += pulp.lpSum([y[d,r] for d in D]) <= 1\n",
    "    \n",
    "# (D) 各配送日について、荷物を自社配送するなら、配送先のお店に訪問\n",
    "for d in D:\n",
    "    for r in R:\n",
    "        tar_s = R2S[r]\n",
    "        prob += y[d,r] <= pulp.lpSum(x[d,k,tar_s] for k in K)\n",
    "\n",
    "# (E) 各配送日について、荷物の重量は4,000[kg]以下\n",
    "for d in D:\n",
    "    prob += pulp.lpSum([y[d,r] * R2W[r] for r in R]) <= 4000\n",
    "    \n",
    "# (F) 各配送日について、ドライバーの残業時間は所定労働時間の8時間を差し引いた労働時間\n",
    "for d in D:\n",
    "    prob += pulp.lpSum([KK2T[k1,k2] * x[d,k1,k2] for k1 in K for k2 in K]) - 8 <= h[d]\n",
    "\n",
    "# (G) 各配送日について、ドライバーの残業時間は3時間以内\n",
    "for d in D:\n",
    "    prob += h[d] <= 3\n",
    "    \n",
    "# (H) 各荷物は指定配送期間外の配送を禁止  \n",
    "for r in R:\n",
    "    for d in D:\n",
    "        if d < R2B[r]:\n",
    "            prob += y[d,r] == 0\n",
    "        if R2E[r] < d:\n",
    "            prob += y[d,r] == 0\n",
    "\n",
    "# (I) 配送費用（残業費用+外注費用）を最小化する\n",
    "zangyo = pulp.lpSum([3000 * h[d] for d in D])    \n",
    "gaityu = pulp.lpSum([46 * R2W[r] * (1 - pulp.lpSum(y[d,r] for d in D)) for r in R])\n",
    "prob += zangyo + gaityu\n",
    "\n",
    "# 求解（明示的にCBCソルバーを指定する）\n",
    "solver = pulp.PULP_CBC_CMD()\n",
    "status = prob.solve(solver)\n",
    "print('ステータス:', pulp.LpStatus[status])\n",
    "\n",
    "# 結果の表示\n",
    "print('残業費用:{:.0f}[円]'.format(zangyo.value()))\n",
    "print('外注費用:{:.0f}[円]'.format(gaityu.value()))\n",
    "print('費用合計:{:.0f}[円]'.format(zangyo.value() + gaityu.value()))"
   ]
  },
  {
   "cell_type": "code",
   "execution_count": 30,
   "id": "37bba49d-eb14-435f-a286-5ecb1a6e1b71",
   "metadata": {},
   "outputs": [
    {
     "name": "stdout",
     "output_type": "stream",
     "text": [
      "r adding rounds of cuts (0.000 seconds)\n",
      "MixedIntegerRounding2 was tried 7 times and created 8 cuts of which 0 were active after adding rounds of cuts (0.001 seconds)\n",
      "FlowCover was tried 7 times and created 1 cuts of which 0 were active after adding rounds of cuts (0.001 seconds)\n",
      "TwoMirCuts was tried 7 times and created 188 cuts of which 0 were active after adding rounds of cuts (0.008 seconds)\n",
      "ZeroHalf was tried 7 times and created 13 cuts of which 0 were active after adding rounds of cuts (0.071 seconds)\n",
      "\n",
      "Result - Optimal solution found\n",
      "\n",
      "Objective value:                -472750.77640500\n",
      "Enumerated nodes:               0\n",
      "Total iterations:               194\n",
      "Time (CPU seconds):             0.20\n",
      "Time (Wallclock seconds):       0.50\n",
      "\n",
      "Option for printingOptions changed from normal to all\n",
      "Total time (CPU seconds):       0.20   (Wallclock seconds):       0.51\n",
      "\n",
      "---配送日:1日目---\n",
      "配送重量:2000.0[kg]\n",
      "移動時間:6.83[h]\n",
      "残業時間:0.00[h]\n",
      "x: [('p', 's1'), ('s1', 's2'), ('s2', 'p')]\n",
      "u: [0.0, 1.0, 2.0, 0.0]\n",
      "配送ルート: p->s1->s2->p\n",
      "---配送日:2日目---\n",
      "配送重量:2500.0[kg]\n",
      "移動時間:10.47[h]\n",
      "残業時間:2.47[h]\n",
      "x: [('p', 's3'), ('s3', 's4'), ('s4', 'p')]\n",
      "u: [0.0, 1.0, 2.0, 0.0]\n",
      "配送ルート: p->s3->s4->p\n",
      "---配送日:3日目---\n",
      "配送重量:3000.0[kg]\n",
      "移動時間:6.83[h]\n",
      "残業時間:0.00[h]\n",
      "x: [('p', 's1'), ('s1', 's2'), ('s2', 'p')]\n",
      "u: [0.0, 1.0, 4.0, 0.0]\n",
      "配送ルート: p->s1->s2->p\n",
      "---配送日:4日目---\n",
      "配送重量:3000.0[kg]\n",
      "移動時間:8.94[h]\n",
      "残業時間:0.94[h]\n",
      "x: [('p', 's4'), ('s4', 'p')]\n",
      "u: [0.0, 1.0, 0.0]\n",
      "配送ルート: p->s4->p\n"
     ]
    }
   ],
   "source": [
    "for d in D:\n",
    "    X = [(k1,k2) for k1 in K for k2 in K if x[d,k1,k2].value() == 1]\n",
    "    \n",
    "    time = sum([KK2T[k1,k2] for k1,k2 in X])\n",
    "    print('---配送日:{}日目---'.format(d))\n",
    "    print('配送重量:{}[kg]'.format(sum([y[d,r].value() * R2W[r] for r in R])))\n",
    "    print('移動時間:{:.2f}[h]'.format(time))\n",
    "    print('残業時間:{:.2f}[h]'.format(h[d].value()))\n",
    "    print('x:', X)\n",
    "    \n",
    "    # 移動する地点の順番のリストを作成\n",
    "    tar = p\n",
    "    Route = [p]\n",
    "    while len(X) >= 1:\n",
    "        for k1,k2 in X:\n",
    "            if k1 == tar:\n",
    "                tar = k2\n",
    "                Route.append(k2)\n",
    "                X.remove((k1,k2))\n",
    "                \n",
    "    print('u:', [u[d,k].value() for k in Route])\n",
    "    print('配送ルート:', '->'.join(Route))    "
   ]
  },
  {
   "cell_type": "code",
   "execution_count": 31,
   "id": "8161e593-f67a-48ed-84ce-bdaa3b0df774",
   "metadata": {},
   "outputs": [
    {
     "name": "stdout",
     "output_type": "stream",
     "text": [
      "荷物r1(お店s1,1000[kg])-配送日:1日目\n",
      "荷物r2(お店s2,1000[kg])-配送日:1日目\n",
      "荷物r3(お店s3,1000[kg])-配送日:2日目\n",
      "荷物r4(お店s4,1500[kg])-配送日:2日目\n",
      "荷物r5(お店s1,1500[kg])-配送日:3日目\n",
      "荷物r6(お店s2,1500[kg])-配送日:3日目\n",
      "荷物r7(お店s3,1500[kg])-外注費用:69000[円]\n",
      "荷物r8(お店s4,3000[kg])-配送日:4日目\n"
     ]
    }
   ],
   "source": [
    "for r in R:\n",
    "    # 自社トラックで配送したかどうかのフラグ\n",
    "    owned_truck_flag = sum([y[d,r].value() for d in D])\n",
    "    if owned_truck_flag:\n",
    "        # 配送日の取得\n",
    "        tar_d = [d for d in D if y[d,r].value() == 1][0]\n",
    "        text = '荷物{}(お店{},{}[kg])-配送日:{}日目'.format(r, R2S[r], R2W[r], tar_d)\n",
    "    else:\n",
    "        # 外注費用の取得\n",
    "        gc = 46 * R2W[r]\n",
    "        text = '荷物{}(お店{},{}[kg])-外注費用:{}[円]'.format(r, R2S[r], R2W[r], gc)        \n",
    "    print(text)"
   ]
  },
  {
   "cell_type": "markdown",
   "id": "c4f2f3d0-841c-4585-b0f0-e40b27921f7a",
   "metadata": {},
   "source": [
    "### ④素朴な数理モデルの実験（中規模データ）"
   ]
  },
  {
   "cell_type": "code",
   "execution_count": 32,
   "id": "b1ce7512-23be-446a-a353-dbe16fb0f5f1",
   "metadata": {},
   "outputs": [
    {
     "name": "stdout",
     "output_type": "stream",
     "text": [
      "10\n"
     ]
    },
    {
     "data": {
      "text/html": [
       "<div>\n",
       "<style scoped>\n",
       "    .dataframe tbody tr th:only-of-type {\n",
       "        vertical-align: middle;\n",
       "    }\n",
       "\n",
       "    .dataframe tbody tr th {\n",
       "        vertical-align: top;\n",
       "    }\n",
       "\n",
       "    .dataframe thead th {\n",
       "        text-align: right;\n",
       "    }\n",
       "</style>\n",
       "<table border=\"1\" class=\"dataframe\">\n",
       "  <thead>\n",
       "    <tr style=\"text-align: right;\">\n",
       "      <th></th>\n",
       "      <th>k</th>\n",
       "      <th>x</th>\n",
       "      <th>y</th>\n",
       "      <th>depo_flag</th>\n",
       "    </tr>\n",
       "  </thead>\n",
       "  <tbody>\n",
       "    <tr>\n",
       "      <th>0</th>\n",
       "      <td>p</td>\n",
       "      <td>0.000000</td>\n",
       "      <td>0.000000</td>\n",
       "      <td>1</td>\n",
       "    </tr>\n",
       "    <tr>\n",
       "      <th>1</th>\n",
       "      <td>s1</td>\n",
       "      <td>0.529473</td>\n",
       "      <td>-0.397044</td>\n",
       "      <td>0</td>\n",
       "    </tr>\n",
       "    <tr>\n",
       "      <th>2</th>\n",
       "      <td>s2</td>\n",
       "      <td>2.916925</td>\n",
       "      <td>-0.302511</td>\n",
       "      <td>0</td>\n",
       "    </tr>\n",
       "    <tr>\n",
       "      <th>3</th>\n",
       "      <td>s3</td>\n",
       "      <td>0.131532</td>\n",
       "      <td>1.898977</td>\n",
       "      <td>0</td>\n",
       "    </tr>\n",
       "    <tr>\n",
       "      <th>4</th>\n",
       "      <td>s4</td>\n",
       "      <td>-1.091079</td>\n",
       "      <td>-0.709964</td>\n",
       "      <td>0</td>\n",
       "    </tr>\n",
       "  </tbody>\n",
       "</table>\n",
       "</div>"
      ],
      "text/plain": [
       "    k         x         y  depo_flag\n",
       "0   p  0.000000  0.000000          1\n",
       "1  s1  0.529473 -0.397044          0\n",
       "2  s2  2.916925 -0.302511          0\n",
       "3  s3  0.131532  1.898977          0\n",
       "4  s4 -1.091079 -0.709964          0"
      ]
     },
     "execution_count": 32,
     "metadata": {},
     "output_type": "execute_result"
    }
   ],
   "source": [
    "k_df = pd.read_csv('locations.csv')\n",
    "print(len(k_df))\n",
    "k_df.head()"
   ]
  },
  {
   "cell_type": "code",
   "execution_count": 33,
   "id": "b59281a3-776f-4686-9a46-4b2d3646a901",
   "metadata": {},
   "outputs": [
    {
     "data": {
      "text/plain": [
       "<matplotlib.collections.PathCollection at 0x140e39ad0>"
      ]
     },
     "execution_count": 33,
     "metadata": {},
     "output_type": "execute_result"
    },
    {
     "data": {
      "text/plain": [
       "Text(0.0, 0.1, 'p')"
      ]
     },
     "execution_count": 33,
     "metadata": {},
     "output_type": "execute_result"
    },
    {
     "data": {
      "text/plain": [
       "<matplotlib.collections.PathCollection at 0x119c725d0>"
      ]
     },
     "execution_count": 33,
     "metadata": {},
     "output_type": "execute_result"
    },
    {
     "data": {
      "text/plain": [
       "Text(0.5294729842620497, -0.2970441822729051, 's1')"
      ]
     },
     "execution_count": 33,
     "metadata": {},
     "output_type": "execute_result"
    },
    {
     "data": {
      "text/plain": [
       "<matplotlib.collections.PathCollection at 0x140d6aa50>"
      ]
     },
     "execution_count": 33,
     "metadata": {},
     "output_type": "execute_result"
    },
    {
     "data": {
      "text/plain": [
       "Text(2.916925424409336, -0.2025105555236922, 's2')"
      ]
     },
     "execution_count": 33,
     "metadata": {},
     "output_type": "execute_result"
    },
    {
     "data": {
      "text/plain": [
       "<matplotlib.collections.PathCollection at 0x14058edd0>"
      ]
     },
     "execution_count": 33,
     "metadata": {},
     "output_type": "execute_result"
    },
    {
     "data": {
      "text/plain": [
       "Text(0.1315318098938193, 1.998977340473876, 's3')"
      ]
     },
     "execution_count": 33,
     "metadata": {},
     "output_type": "execute_result"
    },
    {
     "data": {
      "text/plain": [
       "<matplotlib.collections.PathCollection at 0x14058c110>"
      ]
     },
     "execution_count": 33,
     "metadata": {},
     "output_type": "execute_result"
    },
    {
     "data": {
      "text/plain": [
       "Text(-1.0910788858274902, -0.6099639895163461, 's4')"
      ]
     },
     "execution_count": 33,
     "metadata": {},
     "output_type": "execute_result"
    },
    {
     "data": {
      "text/plain": [
       "<matplotlib.collections.PathCollection at 0x1405472d0>"
      ]
     },
     "execution_count": 33,
     "metadata": {},
     "output_type": "execute_result"
    },
    {
     "data": {
      "text/plain": [
       "Text(0.2251238710044425, -0.29584394933523106, 's5')"
      ]
     },
     "execution_count": 33,
     "metadata": {},
     "output_type": "execute_result"
    },
    {
     "data": {
      "text/plain": [
       "<matplotlib.collections.PathCollection at 0x140c98d50>"
      ]
     },
     "execution_count": 33,
     "metadata": {},
     "output_type": "execute_result"
    },
    {
     "data": {
      "text/plain": [
       "Text(-1.4313175349061673, -0.1458518127051047, 's6')"
      ]
     },
     "execution_count": 33,
     "metadata": {},
     "output_type": "execute_result"
    },
    {
     "data": {
      "text/plain": [
       "<matplotlib.collections.PathCollection at 0x140c99590>"
      ]
     },
     "execution_count": 33,
     "metadata": {},
     "output_type": "execute_result"
    },
    {
     "data": {
      "text/plain": [
       "Text(-0.4305947364014917, 0.8241659231313945, 's7')"
      ]
     },
     "execution_count": 33,
     "metadata": {},
     "output_type": "execute_result"
    },
    {
     "data": {
      "text/plain": [
       "<matplotlib.collections.PathCollection at 0x140e38090>"
      ]
     },
     "execution_count": 33,
     "metadata": {},
     "output_type": "execute_result"
    },
    {
     "data": {
      "text/plain": [
       "Text(-1.997746235366033, -0.7402148452279417, 's8')"
      ]
     },
     "execution_count": 33,
     "metadata": {},
     "output_type": "execute_result"
    },
    {
     "data": {
      "text/plain": [
       "<matplotlib.collections.PathCollection at 0x1406c3a10>"
      ]
     },
     "execution_count": 33,
     "metadata": {},
     "output_type": "execute_result"
    },
    {
     "data": {
      "text/plain": [
       "Text(1.3816692113846043, 2.328797208677574, 's9')"
      ]
     },
     "execution_count": 33,
     "metadata": {},
     "output_type": "execute_result"
    },
    {
     "data": {
      "image/png": "[encoded data removed]",
      "text/plain": [
       "<Figure size 640x480 with 1 Axes>"
      ]
     },
     "metadata": {},
     "output_type": "display_data"
    }
   ],
   "source": [
    "fig = plt.subplot()\n",
    "fig.set_aspect('equal')\n",
    "for row in k_df.itertuples():\n",
    "    if row.depo_flag:\n",
    "        fig.scatter(row.x, row.y, marker='o')\n",
    "    else:\n",
    "        fig.scatter(row.x, row.y, marker='x')\n",
    "    fig.annotate(row.k, (row.x,row.y+0.1))\n",
    "plt.show()"
   ]
  },
  {
   "cell_type": "code",
   "execution_count": 34,
   "id": "d1716056-9f89-4f9f-9823-581b92ce9f23",
   "metadata": {},
   "outputs": [
    {
     "name": "stdout",
     "output_type": "stream",
     "text": [
      "100\n"
     ]
    },
    {
     "data": {
      "text/html": [
       "<div>\n",
       "<style scoped>\n",
       "    .dataframe tbody tr th:only-of-type {\n",
       "        vertical-align: middle;\n",
       "    }\n",
       "\n",
       "    .dataframe tbody tr th {\n",
       "        vertical-align: top;\n",
       "    }\n",
       "\n",
       "    .dataframe thead th {\n",
       "        text-align: right;\n",
       "    }\n",
       "</style>\n",
       "<table border=\"1\" class=\"dataframe\">\n",
       "  <thead>\n",
       "    <tr style=\"text-align: right;\">\n",
       "      <th></th>\n",
       "      <th>k1</th>\n",
       "      <th>k2</th>\n",
       "      <th>t</th>\n",
       "    </tr>\n",
       "  </thead>\n",
       "  <tbody>\n",
       "    <tr>\n",
       "      <th>0</th>\n",
       "      <td>p</td>\n",
       "      <td>p</td>\n",
       "      <td>0.000000</td>\n",
       "    </tr>\n",
       "    <tr>\n",
       "      <th>1</th>\n",
       "      <td>p</td>\n",
       "      <td>s1</td>\n",
       "      <td>0.661805</td>\n",
       "    </tr>\n",
       "    <tr>\n",
       "      <th>2</th>\n",
       "      <td>p</td>\n",
       "      <td>s2</td>\n",
       "      <td>2.932570</td>\n",
       "    </tr>\n",
       "    <tr>\n",
       "      <th>3</th>\n",
       "      <td>p</td>\n",
       "      <td>s3</td>\n",
       "      <td>1.903527</td>\n",
       "    </tr>\n",
       "    <tr>\n",
       "      <th>4</th>\n",
       "      <td>p</td>\n",
       "      <td>s4</td>\n",
       "      <td>1.301730</td>\n",
       "    </tr>\n",
       "  </tbody>\n",
       "</table>\n",
       "</div>"
      ],
      "text/plain": [
       "  k1  k2         t\n",
       "0  p   p  0.000000\n",
       "1  p  s1  0.661805\n",
       "2  p  s2  2.932570\n",
       "3  p  s3  1.903527\n",
       "4  p  s4  1.301730"
      ]
     },
     "execution_count": 34,
     "metadata": {},
     "output_type": "execute_result"
    }
   ],
   "source": [
    "kk_df = pd.read_csv('distances.csv')\n",
    "print(len(kk_df))\n",
    "kk_df.head()"
   ]
  },
  {
   "cell_type": "code",
   "execution_count": 35,
   "id": "bb8ebfdd-2e3e-41a5-8213-d8505e6ff8d1",
   "metadata": {},
   "outputs": [
    {
     "name": "stdout",
     "output_type": "stream",
     "text": [
      "100\n"
     ]
    },
    {
     "data": {
      "text/html": [
       "<div>\n",
       "<style scoped>\n",
       "    .dataframe tbody tr th:only-of-type {\n",
       "        vertical-align: middle;\n",
       "    }\n",
       "\n",
       "    .dataframe tbody tr th {\n",
       "        vertical-align: top;\n",
       "    }\n",
       "\n",
       "    .dataframe thead th {\n",
       "        text-align: right;\n",
       "    }\n",
       "</style>\n",
       "<table border=\"1\" class=\"dataframe\">\n",
       "  <thead>\n",
       "    <tr style=\"text-align: right;\">\n",
       "      <th></th>\n",
       "      <th>r</th>\n",
       "      <th>s</th>\n",
       "      <th>w</th>\n",
       "      <th>b</th>\n",
       "      <th>e</th>\n",
       "    </tr>\n",
       "  </thead>\n",
       "  <tbody>\n",
       "    <tr>\n",
       "      <th>0</th>\n",
       "      <td>r00</td>\n",
       "      <td>s4</td>\n",
       "      <td>1000</td>\n",
       "      <td>17</td>\n",
       "      <td>18</td>\n",
       "    </tr>\n",
       "    <tr>\n",
       "      <th>1</th>\n",
       "      <td>r01</td>\n",
       "      <td>s1</td>\n",
       "      <td>950</td>\n",
       "      <td>16</td>\n",
       "      <td>18</td>\n",
       "    </tr>\n",
       "    <tr>\n",
       "      <th>2</th>\n",
       "      <td>r02</td>\n",
       "      <td>s6</td>\n",
       "      <td>1330</td>\n",
       "      <td>2</td>\n",
       "      <td>4</td>\n",
       "    </tr>\n",
       "    <tr>\n",
       "      <th>3</th>\n",
       "      <td>r03</td>\n",
       "      <td>s5</td>\n",
       "      <td>1130</td>\n",
       "      <td>19</td>\n",
       "      <td>20</td>\n",
       "    </tr>\n",
       "    <tr>\n",
       "      <th>4</th>\n",
       "      <td>r04</td>\n",
       "      <td>s2</td>\n",
       "      <td>710</td>\n",
       "      <td>1</td>\n",
       "      <td>2</td>\n",
       "    </tr>\n",
       "  </tbody>\n",
       "</table>\n",
       "</div>"
      ],
      "text/plain": [
       "     r   s     w   b   e\n",
       "0  r00  s4  1000  17  18\n",
       "1  r01  s1   950  16  18\n",
       "2  r02  s6  1330   2   4\n",
       "3  r03  s5  1130  19  20\n",
       "4  r04  s2   710   1   2"
      ]
     },
     "execution_count": 35,
     "metadata": {},
     "output_type": "execute_result"
    }
   ],
   "source": [
    "r_df = pd.read_csv('orders.csv')\n",
    "print(len(r_df))\n",
    "r_df.head()"
   ]
  },
  {
   "cell_type": "code",
   "execution_count": 36,
   "id": "7c70cfc5-c3ae-4da5-8339-68ba04cd2c53",
   "metadata": {},
   "outputs": [
    {
     "name": "stdout",
     "output_type": "stream",
     "text": [
      "[1, 2, 3, 4, 5, 6, 7, 8, 9, 10, 11, 12, 13, 14, 15, 16, 17, 18, 19, 20]\n",
      "['p', 's1', 's2', 's3', 's4', 's5', 's6', 's7', 's8', 's9']\n",
      "['r00', 'r01', 'r02', 'r03', 'r04']\n",
      "[(1, 'p', 'p'), (1, 'p', 's1'), (1, 'p', 's2'), (1, 'p', 's3'), (1, 'p', 's4')]\n",
      "[(1, 'r00'), (1, 'r01'), (1, 'r02'), (1, 'r03'), (1, 'r04')]\n",
      "[(1, 'p'), (1, 's1'), (1, 's2'), (1, 's3'), (1, 's4')]\n"
     ]
    }
   ],
   "source": [
    "# 配送日のリスト\n",
    "D = list(range(r_df.b.min(), r_df.e.max() + 1))\n",
    "\n",
    "# 配送センター\n",
    "p = k_df[k_df.depo_flag == 1].k.tolist()[0]\n",
    "\n",
    "# お店のリスト\n",
    "S = k_df[k_df.depo_flag == 0].k.tolist()\n",
    "\n",
    "# 地点のリスト\n",
    "K = [p] + S\n",
    "\n",
    "# 荷物のリスト\n",
    "R = r_df.r.tolist()\n",
    "\n",
    "# 各種変数を定義するために必要なリスト\n",
    "DKK = [(d,k1,k2) for d in D for k1 in K for k2 in K]\n",
    "DR = [(d,r) for d in D for r in R]\n",
    "DK = [(d,k) for d in D for k in K]\n",
    "\n",
    "#表示\n",
    "print(D)\n",
    "print(K)\n",
    "print(R[:5])\n",
    "print(DKK[:5])\n",
    "print(DR[:5])\n",
    "print(DK[:5])"
   ]
  },
  {
   "cell_type": "code",
   "execution_count": 37,
   "id": "a4258ee0-00ab-449e-ada1-16f2e67eebf9",
   "metadata": {},
   "outputs": [
    {
     "name": "stdout",
     "output_type": "stream",
     "text": [
      "R2S: {'r00': 's4', 'r01': 's1', 'r02': 's6', 'r03': 's5', 'r04': 's2', 'r05': 's5', 'r06': 's3', 'r07': 's4', 'r08': 's2', 'r09': 's6', 'r10': 's9', 'r11': 's3', 'r12': 's1', 'r13': 's7', 'r14': 's9', 'r15': 's3', 'r16': 's5', 'r17': 's7', 'r18': 's4', 'r19': 's9', 'r20': 's6', 'r21': 's8', 'r22': 's4', 'r23': 's9', 'r24': 's2', 'r25': 's3', 'r26': 's5', 'r27': 's5', 'r28': 's2', 'r29': 's4', 'r30': 's4', 'r31': 's1', 'r32': 's7', 'r33': 's8', 'r34': 's5', 'r35': 's6', 'r36': 's1', 'r37': 's7', 'r38': 's7', 'r39': 's2', 'r40': 's4', 'r41': 's3', 'r42': 's7', 'r43': 's5', 'r44': 's2', 'r45': 's9', 'r46': 's9', 'r47': 's7', 'r48': 's2', 'r49': 's9', 'r50': 's7', 'r51': 's7', 'r52': 's6', 'r53': 's9', 'r54': 's5', 'r55': 's5', 'r56': 's4', 'r57': 's8', 'r58': 's6', 'r59': 's3', 'r60': 's2', 'r61': 's7', 'r62': 's1', 'r63': 's5', 'r64': 's7', 'r65': 's8', 'r66': 's8', 'r67': 's1', 'r68': 's7', 'r69': 's2', 'r70': 's1', 'r71': 's2', 'r72': 's3', 'r73': 's3', 'r74': 's1', 'r75': 's2', 'r76': 's3', 'r77': 's3', 'r78': 's4', 'r79': 's9', 'r80': 's6', 'r81': 's7', 'r82': 's2', 'r83': 's2', 'r84': 's2', 'r85': 's8', 'r86': 's6', 'r87': 's1', 'r88': 's2', 'r89': 's5', 'r90': 's7', 'r91': 's2', 'r92': 's7', 'r93': 's6', 'r94': 's1', 'r95': 's3', 'r96': 's5', 'r97': 's9', 'r98': 's9', 'r99': 's9'}\n",
      "R2W: {'r00': 1000, 'r01': 950, 'r02': 1330, 'r03': 1130, 'r04': 710, 'r05': 690, 'r06': 1180, 'r07': 690, 'r08': 960, 'r09': 930, 'r10': 910, 'r11': 1100, 'r12': 1360, 'r13': 1120, 'r14': 820, 'r15': 650, 'r16': 1590, 'r17': 930, 'r18': 880, 'r19': 1470, 'r20': 1020, 'r21': 2020, 'r22': 790, 'r23': 890, 'r24': 1160, 'r25': 560, 'r26': 1440, 'r27': 900, 'r28': 1230, 'r29': 1020, 'r30': 1020, 'r31': 1080, 'r32': 1110, 'r33': 1840, 'r34': 690, 'r35': 980, 'r36': 1220, 'r37': 1230, 'r38': 1360, 'r39': 890, 'r40': 1130, 'r41': 1450, 'r42': 870, 'r43': 1290, 'r44': 620, 'r45': 970, 'r46': 1060, 'r47': 860, 'r48': 1680, 'r49': 1250, 'r50': 1090, 'r51': 850, 'r52': 970, 'r53': 890, 'r54': 780, 'r55': 520, 'r56': 480, 'r57': 880, 'r58': 830, 'r59': 690, 'r60': 1100, 'r61': 1200, 'r62': 1090, 'r63': 560, 'r64': 780, 'r65': 1170, 'r66': 950, 'r67': 1120, 'r68': 1240, 'r69': 1040, 'r70': 1260, 'r71': 970, 'r72': 940, 'r73': 1060, 'r74': 1310, 'r75': 740, 'r76': 630, 'r77': 880, 'r78': 1270, 'r79': 910, 'r80': 1560, 'r81': 990, 'r82': 590, 'r83': 1770, 'r84': 650, 'r85': 1160, 'r86': 900, 'r87': 1060, 'r88': 770, 'r89': 780, 'r90': 850, 'r91': 1190, 'r92': 1580, 'r93': 910, 'r94': 900, 'r95': 1290, 'r96': 700, 'r97': 1270, 'r98': 1100, 'r99': 850}\n",
      "R2B: {'r00': 17, 'r01': 16, 'r02': 2, 'r03': 19, 'r04': 1, 'r05': 10, 'r06': 13, 'r07': 4, 'r08': 16, 'r09': 14, 'r10': 16, 'r11': 8, 'r12': 12, 'r13': 19, 'r14': 9, 'r15': 16, 'r16': 16, 'r17': 15, 'r18': 13, 'r19': 9, 'r20': 2, 'r21': 19, 'r22': 10, 'r23': 5, 'r24': 14, 'r25': 2, 'r26': 16, 'r27': 6, 'r28': 14, 'r29': 4, 'r30': 16, 'r31': 6, 'r32': 8, 'r33': 7, 'r34': 18, 'r35': 18, 'r36': 11, 'r37': 10, 'r38': 16, 'r39': 15, 'r40': 19, 'r41': 18, 'r42': 19, 'r43': 6, 'r44': 6, 'r45': 17, 'r46': 1, 'r47': 2, 'r48': 9, 'r49': 13, 'r50': 18, 'r51': 8, 'r52': 16, 'r53': 1, 'r54': 6, 'r55': 19, 'r56': 4, 'r57': 2, 'r58': 19, 'r59': 14, 'r60': 18, 'r61': 13, 'r62': 17, 'r63': 19, 'r64': 6, 'r65': 2, 'r66': 7, 'r67': 6, 'r68': 17, 'r69': 10, 'r70': 15, 'r71': 11, 'r72': 13, 'r73': 5, 'r74': 5, 'r75': 8, 'r76': 16, 'r77': 1, 'r78': 2, 'r79': 5, 'r80': 2, 'r81': 6, 'r82': 8, 'r83': 18, 'r84': 10, 'r85': 18, 'r86': 15, 'r87': 15, 'r88': 18, 'r89': 17, 'r90': 7, 'r91': 7, 'r92': 18, 'r93': 4, 'r94': 16, 'r95': 13, 'r96': 4, 'r97': 13, 'r98': 10, 'r99': 1}\n",
      "R2E: {'r00': 18, 'r01': 18, 'r02': 4, 'r03': 20, 'r04': 2, 'r05': 12, 'r06': 15, 'r07': 6, 'r08': 17, 'r09': 15, 'r10': 17, 'r11': 9, 'r12': 14, 'r13': 20, 'r14': 10, 'r15': 17, 'r16': 17, 'r17': 16, 'r18': 14, 'r19': 10, 'r20': 4, 'r21': 20, 'r22': 11, 'r23': 7, 'r24': 16, 'r25': 3, 'r26': 18, 'r27': 8, 'r28': 16, 'r29': 5, 'r30': 18, 'r31': 8, 'r32': 10, 'r33': 8, 'r34': 19, 'r35': 20, 'r36': 12, 'r37': 12, 'r38': 18, 'r39': 17, 'r40': 20, 'r41': 19, 'r42': 20, 'r43': 7, 'r44': 8, 'r45': 19, 'r46': 3, 'r47': 4, 'r48': 11, 'r49': 15, 'r50': 19, 'r51': 10, 'r52': 17, 'r53': 3, 'r54': 8, 'r55': 20, 'r56': 6, 'r57': 4, 'r58': 20, 'r59': 16, 'r60': 20, 'r61': 15, 'r62': 18, 'r63': 20, 'r64': 7, 'r65': 3, 'r66': 9, 'r67': 8, 'r68': 19, 'r69': 11, 'r70': 17, 'r71': 12, 'r72': 15, 'r73': 6, 'r74': 7, 'r75': 9, 'r76': 18, 'r77': 3, 'r78': 3, 'r79': 7, 'r80': 3, 'r81': 8, 'r82': 9, 'r83': 20, 'r84': 11, 'r85': 19, 'r86': 17, 'r87': 17, 'r88': 20, 'r89': 18, 'r90': 9, 'r91': 9, 'r92': 20, 'r93': 5, 'r94': 18, 'r95': 14, 'r96': 5, 'r97': 14, 'r98': 12, 'r99': 3}\n",
      "KK2T: {('p', 'p'): 0.0, ('p', 's1'): 0.6618048985464831, ('p', 's2'): 2.9325699595693937, ('p', 's3'): 1.903527135779046, ('p', 's4'): 1.301730387410743, ('p', 's5'): 0.4553824651008621, ('p', 's6'): 1.4522785543897057, ('p', 's7'): 0.8425129739306184, ('p', 's8'): 2.1672450270010017, ('p', 's9'): 2.6223170683761907, ('s1', 'p'): 0.6618048985464831, ('s1', 's1'): 0.0, ('s1', 's2'): 2.3893232850645365, ('s1', 's3'): 2.33025149097131, ('s1', 's4'): 1.6504869491807492, ('s1', 's5'): 0.3043514798712115, ('s1', 's6'): 1.966610940851162, ('s1', 's7'): 1.4760901492526832, ('s1', 's8'): 2.565781990068833, ('s1', 's9'): 2.7606668433461263, ('s2', 'p'): 2.9325699595693937, ('s2', 's1'): 2.3893232850645365, ('s2', 's2'): 0.0, ('s2', 's3'): 3.5503473835679253, ('s2', 's4'): 4.028661918273781, ('s2', 's5'): 2.693419151434357, ('s2', 's6'): 4.34861208276556, ('s2', 's7'): 3.5014219709795844, ('s2', 's8'): 4.943998728414635, ('s2', 's9'): 2.960494998600176, ('s3', 'p'): 1.903527135779046, ('s3', 's1'): 2.33025149097131, ('s3', 's2'): 3.5503473835679253, ('s3', 's3'): 0.0, ('s3', 's4'): 2.881206652884047, ('s3', 's5'): 2.296729027565957, ('s3', 's6'): 2.65382557280395, ('s3', 's7'): 1.302370193289199, ('s3', 's8'): 3.469437825388361, ('s3', 's9'): 1.2929132484695316, ('s4', 'p'): 1.301730387410743, ('s4', 's1'): 1.6504869491807492, ('s4', 's2'): 4.028661918273781, ('s4', 's3'): 2.881206652884047, ('s4', 's4'): 0.0, ('s4', 's5'): 1.3531670616503215, ('s4', 's6'): 0.5754671589164339, ('s4', 's7'): 1.578913524545914, ('s4', 's8'): 0.9159754189566712, ('s4', 's9'): 3.840677092945487, ('s5', 'p'): 0.4553824651008621, ('s5', 's1'): 0.3043514798712115, ('s5', 's2'): 2.693419151434357, ('s5', 's3'): 2.296729027565957, ('s5', 's4'): 1.3531670616503215, ('s5', 's5'): 0.0, ('s5', 's6'): 1.6632184980530935, ('s5', 's7'): 1.297840131341717, ('s5', 's8'): 2.266851782298962, ('s5', 's9'): 2.868159398061737, ('s6', 'p'): 1.4522785543897057, ('s6', 's1'): 1.966610940851162, ('s6', 's2'): 4.34861208276556, ('s6', 's3'): 2.65382557280395, ('s6', 's4'): 0.5754671589164339, ('s6', 's5'): 1.6632184980530935, ('s6', 's6'): 0.0, ('s6', 's7'): 1.393693125219608, ('s6', 's8'): 0.8210413431334596, ('s6', 's9'): 3.746569392636121, ('s7', 'p'): 0.8425129739306184, ('s7', 's1'): 1.4760901492526832, ('s7', 's2'): 3.5014219709795844, ('s7', 's3'): 1.302370193289199, ('s7', 's4'): 1.578913524545914, ('s7', 's5'): 1.297840131341717, ('s7', 's6'): 1.393693125219608, ('s7', 's7'): 0.0, ('s7', 's8'): 2.2143285684647966, ('s7', 's9'): 2.3554651179522046, ('s8', 'p'): 2.1672450270010017, ('s8', 's1'): 2.565781990068833, ('s8', 's2'): 4.943998728414635, ('s8', 's3'): 3.469437825388361, ('s8', 's4'): 0.9159754189566712, ('s8', 's5'): 2.266851782298962, ('s8', 's6'): 0.8210413431334596, ('s8', 's7'): 2.2143285684647966, ('s8', 's8'): 0.0, ('s8', 's9'): 4.56500643468924, ('s9', 'p'): 2.6223170683761907, ('s9', 's1'): 2.7606668433461263, ('s9', 's2'): 2.960494998600176, ('s9', 's3'): 1.2929132484695316, ('s9', 's4'): 3.840677092945487, ('s9', 's5'): 2.868159398061737, ('s9', 's6'): 3.746569392636121, ('s9', 's7'): 2.3554651179522046, ('s9', 's8'): 4.56500643468924, ('s9', 's9'): 0.0}\n"
     ]
    }
   ],
   "source": [
    "# 荷物に紐づける配送先のお店\n",
    "R2S = {row.r:row.s for row in r_df.itertuples()}\n",
    "\n",
    "# 荷物に紐づける重量\n",
    "R2W = {row.r:row.w for row in r_df.itertuples()}\n",
    "\n",
    "# 荷物に紐づける指定配送期間の開始日\n",
    "R2B = {row.r:row.b for row in r_df.itertuples()}\n",
    "\n",
    "# 荷物に紐づける指定配送期間の終了日\n",
    "R2E = {row.r:row.e for row in r_df.itertuples()}\n",
    "\n",
    "# 地点の移動時間\n",
    "KK2T = {(row.k1,row.k2):row.t for row in kk_df.itertuples()}\n",
    "\n",
    "# 表示\n",
    "print('R2S:', R2S)\n",
    "print('R2W:', R2W)\n",
    "print('R2B:', R2B)\n",
    "print('R2E:', R2E)\n",
    "print('KK2T:', KK2T)"
   ]
  },
  {
   "cell_type": "code",
   "execution_count": 38,
   "id": "c68db20a-093d-4c00-bea9-e6994695dbd2",
   "metadata": {},
   "outputs": [
    {
     "name": "stdout",
     "output_type": "stream",
     "text": [
      "Welcome to the CBC MILP Solver \n",
      "Version: 2.10.3 \n",
      "Build Date: Dec 15 2019 \n",
      "\n",
      "command line - /Users/y_suzuki/anaconda3/lib/python3.11/site-packages/pulp/solverdir/cbc/osx/64/cbc /var/folders/_c/n95nswwd7dq6t2vx_rfc73fm0000gn/T/705d1dbeeb6a482bac322dcff8eca6e1-pulp.mps -ratio 0.1 -timeMode elapsed -branch -printingOptions all -solution /var/folders/_c/n95nswwd7dq6t2vx_rfc73fm0000gn/T/705d1dbeeb6a482bac322dcff8eca6e1-pulp.sol (default strategy 1)\n",
      "At line 2 NAME          MODEL\n",
      "At line 3 ROWS\n",
      "At line 6312 COLUMNS\n",
      "At line 57180 RHS\n",
      "At line 63488 BOUNDS\n",
      "At line 67689 ENDATA\n",
      "Problem MODEL has 6307 rows, 4220 columns and 40067 elements\n",
      "Coin0008I MODEL read with 0 errors\n",
      "ratioGap was changed from 0 to 0.1\n",
      "Option for timeMode changed from cpu to elapsed\n",
      "Continuous objective value is -3.68e+06 - 0.01 seconds\n",
      "Cgl0002I 1747 variables fixed\n",
      "Cgl0008I 300 inequality constraints converted to equality constraints\n",
      "Cgl0003I 0 fixed, 0 tightened bounds, 1442 strengthened rows, 0 substitutions\n",
      "Cgl0003I 0 fixed, 0 tightened bounds, 1441 strengthened rows, 0 substitutions\n",
      "Cgl0003I 0 fixed, 0 tightened bounds, 1441 strengthened rows, 0 substitutions\n",
      "Cgl0003I 0 fixed, 0 tightened bounds, 1441 strengthened rows, 0 substitutions\n",
      "Cgl0003I 0 fixed, 0 tightened bounds, 1441 strengthened rows, 0 substitutions\n",
      "Cgl0003I 0 fixed, 0 tightened bounds, 1441 strengthened rows, 0 substitutions\n",
      "Cgl0003I 0 fixed, 0 tightened bounds, 1440 strengthened rows, 0 substitutions\n",
      "Cgl0004I processed model has 2233 rows, 2553 columns (2533 integer (2353 of which binary)) and 24961 elements\n",
      "Cbc0038I Initial state - 322 integers unsatisfied sum - 81.1278\n",
      "Cbc0038I Pass   1: suminf.    7.06793 (50) obj. -3.07948e+06 iterations 532\n",
      "Cbc0038I Pass   2: suminf.    6.38455 (44) obj. -3.03282e+06 iterations 20\n",
      "Cbc0038I Pass   3: suminf.    4.67320 (42) obj. -2.83927e+06 iterations 73\n",
      "Cbc0038I Pass   4: suminf.    4.22222 (38) obj. -2.67111e+06 iterations 31\n",
      "Cbc0038I Pass   5: suminf.    4.22222 (38) obj. -2.67111e+06 iterations 14\n",
      "Cbc0038I Pass   6: suminf.    3.55556 (28) obj. -2.50577e+06 iterations 45\n",
      "Cbc0038I Pass   7: suminf.    3.33333 (30) obj. -2.50224e+06 iterations 6\n",
      "Cbc0038I Pass   8: suminf.    2.66667 (20) obj. -2.46243e+06 iterations 32\n",
      "Cbc0038I Pass   9: suminf.    2.44444 (22) obj. -2.4589e+06 iterations 19\n",
      "Cbc0038I Pass  10: suminf.    2.19608 (20) obj. -2.34768e+06 iterations 27\n",
      "Cbc0038I Pass  11: suminf.    2.11111 (19) obj. -2.34768e+06 iterations 32\n",
      "Cbc0038I Pass  12: suminf.    1.64052 (15) obj. -2.26877e+06 iterations 21\n",
      "Cbc0038I Pass  13: suminf.    1.55556 (14) obj. -2.26877e+06 iterations 20\n",
      "Cbc0038I Pass  14: suminf.    0.55556 (5) obj. -2.26877e+06 iterations 46\n",
      "Cbc0038I Pass  15: suminf.    0.55556 (5) obj. -2.26877e+06 iterations 20\n",
      "Cbc0038I Solution found of -2.23033e+06\n",
      "Cbc0038I Relaxing continuous gives -2.23033e+06\n",
      "Cbc0038I Cleaned solution of -2.23033e+06\n",
      "Cbc0038I Before mini branch and bound, 1959 integers at bound fixed and 194 continuous\n",
      "Cbc0038I Full problem 2233 rows 2553 columns, reduced to 41 rows 38 columns\n",
      "Cbc0038I Mini branch and bound improved solution from -2.23033e+06 to -2.56153e+06 (0.74 seconds)\n",
      "Cbc0038I Round again with cutoff of -2.67338e+06\n",
      "Cbc0038I Pass  16: suminf.    7.06793 (50) obj. -3.07948e+06 iterations 0\n",
      "Cbc0038I Pass  17: suminf.    6.38455 (44) obj. -3.03282e+06 iterations 24\n",
      "Cbc0038I Pass  18: suminf.    4.55556 (38) obj. -2.80247e+06 iterations 110\n",
      "Cbc0038I Pass  19: suminf.    4.44444 (40) obj. -2.79787e+06 iterations 11\n",
      "Cbc0038I Pass  20: suminf.    3.76176 (27) obj. -2.67338e+06 iterations 98\n",
      "Cbc0038I Pass  21: suminf.    3.69628 (29) obj. -2.67338e+06 iterations 34\n",
      "Cbc0038I Pass  22: suminf.    4.79973 (36) obj. -2.67338e+06 iterations 79\n",
      "Cbc0038I Pass  23: suminf.    4.70294 (30) obj. -2.67338e+06 iterations 42\n",
      "Cbc0038I Pass  24: suminf.    3.83338 (20) obj. -2.67338e+06 iterations 98\n",
      "Cbc0038I Pass  25: suminf.    2.88835 (20) obj. -2.67338e+06 iterations 37\n",
      "Cbc0038I Pass  26: suminf.    2.26676 (18) obj. -2.69233e+06 iterations 45\n",
      "Cbc0038I Pass  27: suminf.    1.62815 (13) obj. -2.67338e+06 iterations 92\n",
      "Cbc0038I Pass  28: suminf.    1.50554 (13) obj. -2.67338e+06 iterations 60\n",
      "Cbc0038I Pass  29: suminf.    1.43001 (6) obj. -2.67338e+06 iterations 142\n",
      "Cbc0038I Pass  30: suminf.    1.23386 (5) obj. -2.67338e+06 iterations 70\n",
      "Cbc0038I Pass  31: suminf.    1.52002 (7) obj. -2.67338e+06 iterations 64\n",
      "Cbc0038I Pass  32: suminf.    1.32734 (5) obj. -2.67338e+06 iterations 58\n",
      "Cbc0038I Pass  33: suminf.    1.60578 (7) obj. -2.67338e+06 iterations 82\n",
      "Cbc0038I Pass  34: suminf.   38.98470 (175) obj. -2.67338e+06 iterations 647\n",
      "Cbc0038I Pass  35: suminf.   14.32385 (86) obj. -2.67338e+06 iterations 349\n",
      "Cbc0038I Pass  36: suminf.   13.95213 (89) obj. -2.67338e+06 iterations 19\n",
      "Cbc0038I Pass  37: suminf.    9.35335 (77) obj. -2.67338e+06 iterations 102\n",
      "Cbc0038I Pass  38: suminf.    9.35335 (77) obj. -2.67338e+06 iterations 12\n",
      "Cbc0038I Pass  39: suminf.    7.67196 (54) obj. -2.67338e+06 iterations 128\n",
      "Cbc0038I Pass  40: suminf.    7.01020 (55) obj. -2.67338e+06 iterations 17\n",
      "Cbc0038I Pass  41: suminf.    5.57473 (44) obj. -2.69941e+06 iterations 89\n",
      "Cbc0038I Pass  42: suminf.    4.96608 (44) obj. -2.67338e+06 iterations 56\n",
      "Cbc0038I Pass  43: suminf.    6.27768 (46) obj. -2.67338e+06 iterations 136\n",
      "Cbc0038I Pass  44: suminf.    5.59531 (51) obj. -2.67338e+06 iterations 77\n",
      "Cbc0038I Pass  45: suminf.    5.80563 (46) obj. -2.67338e+06 iterations 92\n",
      "Cbc0038I No solution found this major pass\n",
      "Cbc0038I Before mini branch and bound, 1735 integers at bound fixed and 94 continuous\n",
      "Cbc0038I Full problem 2233 rows 2553 columns, reduced to 453 rows 257 columns\n",
      "Cbc0038I Mini branch and bound improved solution from -2.56153e+06 to -2.93248e+06 (1.08 seconds)\n",
      "Cbc0038I Round again with cutoff of -3.08199e+06\n",
      "Cbc0038I Pass  45: suminf.    7.10034 (51) obj. -3.08199e+06 iterations 15\n",
      "Cbc0038I Pass  46: suminf.    6.96026 (47) obj. -3.08199e+06 iterations 30\n",
      "Cbc0038I Pass  47: suminf.    6.86107 (50) obj. -3.08199e+06 iterations 97\n",
      "Cbc0038I Pass  48: suminf.    6.88377 (51) obj. -3.08199e+06 iterations 12\n",
      "Cbc0038I Pass  49: suminf.    5.95660 (43) obj. -3.08199e+06 iterations 85\n",
      "Cbc0038I Pass  50: suminf.    5.61554 (41) obj. -3.08199e+06 iterations 29\n",
      "Cbc0038I Pass  51: suminf.    6.46828 (43) obj. -3.08199e+06 iterations 157\n",
      "Cbc0038I Pass  52: suminf.    6.14554 (41) obj. -3.08199e+06 iterations 45\n",
      "Cbc0038I Pass  53: suminf.    5.48280 (43) obj. -3.08199e+06 iterations 62\n",
      "Cbc0038I Pass  54: suminf.    5.18765 (41) obj. -3.08199e+06 iterations 39\n",
      "Cbc0038I Pass  55: suminf.    5.59179 (35) obj. -3.08199e+06 iterations 123\n",
      "Cbc0038I Pass  56: suminf.    5.21995 (38) obj. -3.08199e+06 iterations 42\n",
      "Cbc0038I Pass  57: suminf.    5.85196 (38) obj. -3.08199e+06 iterations 128\n",
      "Cbc0038I Pass  58: suminf.   41.72064 (202) obj. -3.08199e+06 iterations 639\n",
      "Cbc0038I Pass  59: suminf.   19.73959 (118) obj. -3.08199e+06 iterations 335\n",
      "Cbc0038I Pass  60: suminf.   19.28914 (118) obj. -3.08199e+06 iterations 42\n",
      "Cbc0038I Pass  61: suminf.   18.91136 (114) obj. -3.08199e+06 iterations 9\n",
      "Cbc0038I Pass  62: suminf.   13.11568 (91) obj. -3.08199e+06 iterations 82\n",
      "Cbc0038I Pass  63: suminf.   13.46279 (89) obj. -3.08199e+06 iterations 17\n",
      "Cbc0038I Pass  64: suminf.   13.20182 (89) obj. -3.08199e+06 iterations 7\n",
      "Cbc0038I Pass  65: suminf.   12.42479 (95) obj. -3.08199e+06 iterations 86\n",
      "Cbc0038I Pass  66: suminf.   12.13392 (91) obj. -3.08199e+06 iterations 43\n",
      "Cbc0038I Pass  67: suminf.   12.46240 (96) obj. -3.08199e+06 iterations 84\n",
      "Cbc0038I Pass  68: suminf.   12.28368 (90) obj. -3.08199e+06 iterations 41\n",
      "Cbc0038I Pass  69: suminf.   11.58939 (96) obj. -3.08199e+06 iterations 72\n",
      "Cbc0038I Pass  70: suminf.   11.54129 (90) obj. -3.08199e+06 iterations 22\n",
      "Cbc0038I Pass  71: suminf.   10.93984 (87) obj. -3.08199e+06 iterations 100\n",
      "Cbc0038I Pass  72: suminf.   10.89373 (87) obj. -3.08199e+06 iterations 38\n",
      "Cbc0038I Pass  73: suminf.   10.63263 (87) obj. -3.08199e+06 iterations 89\n",
      "Cbc0038I Pass  74: suminf.   10.58652 (83) obj. -3.08199e+06 iterations 19\n",
      "Cbc0038I No solution found this major pass\n",
      "Cbc0038I Before mini branch and bound, 1707 integers at bound fixed and 94 continuous\n",
      "Cbc0038I Full problem 2233 rows 2553 columns, reduced to 471 rows 283 columns\n",
      "Cbc0038I Mini branch and bound improved solution from -2.93248e+06 to -3.12455e+06 (1.52 seconds)\n",
      "Cbc0038I Round again with cutoff of -3.29119e+06\n",
      "Cbc0038I Pass  74: suminf.   13.60138 (80) obj. -3.29119e+06 iterations 186\n",
      "Cbc0038I Pass  75: suminf.   11.57043 (69) obj. -3.29119e+06 iterations 46\n",
      "Cbc0038I Pass  76: suminf.   10.19258 (65) obj. -3.29119e+06 iterations 154\n",
      "Cbc0038I Pass  77: suminf.    9.90521 (68) obj. -3.29119e+06 iterations 41\n",
      "Cbc0038I Pass  78: suminf.    9.63104 (59) obj. -3.29119e+06 iterations 159\n",
      "Cbc0038I Pass  79: suminf.    9.04088 (60) obj. -3.29119e+06 iterations 48\n",
      "Cbc0038I Pass  80: suminf.    8.52055 (58) obj. -3.29119e+06 iterations 98\n",
      "Cbc0038I Pass  81: suminf.    8.23155 (62) obj. -3.29119e+06 iterations 17\n",
      "Cbc0038I Pass  82: suminf.    8.74215 (55) obj. -3.29119e+06 iterations 108\n",
      "Cbc0038I Pass  83: suminf.    8.15199 (56) obj. -3.29119e+06 iterations 39\n",
      "Cbc0038I Pass  84: suminf.    5.77591 (43) obj. -3.29119e+06 iterations 173\n",
      "Cbc0038I Pass  85: suminf.    5.48522 (42) obj. -3.29119e+06 iterations 37\n",
      "Cbc0038I Pass  86: suminf.    6.60217 (46) obj. -3.29119e+06 iterations 81\n",
      "Cbc0038I Pass  87: suminf.    6.04280 (47) obj. -3.29119e+06 iterations 19\n",
      "Cbc0038I Pass  88: suminf.    6.77775 (45) obj. -3.29119e+06 iterations 105\n",
      "Cbc0038I Pass  89: suminf.    5.82885 (44) obj. -3.29119e+06 iterations 72\n",
      "Cbc0038I Pass  90: suminf.    6.85867 (49) obj. -3.29119e+06 iterations 84\n",
      "Cbc0038I Pass  91: suminf.    6.29930 (50) obj. -3.29119e+06 iterations 52\n",
      "Cbc0038I Pass  92: suminf.    7.64469 (41) obj. -3.29119e+06 iterations 74\n",
      "Cbc0038I Pass  93: suminf.    5.74789 (43) obj. -3.29119e+06 iterations 70\n",
      "Cbc0038I Pass  94: suminf.    7.42856 (49) obj. -3.29119e+06 iterations 131\n",
      "Cbc0038I Pass  95: suminf.    6.90517 (51) obj. -3.29119e+06 iterations 61\n",
      "Cbc0038I Pass  96: suminf.    6.05996 (40) obj. -3.29119e+06 iterations 114\n",
      "Cbc0038I Pass  97: suminf.    6.02560 (40) obj. -3.29119e+06 iterations 18\n",
      "Cbc0038I Pass  98: suminf.    6.16749 (45) obj. -3.29119e+06 iterations 118\n",
      "Cbc0038I Pass  99: suminf.    6.13829 (44) obj. -3.29119e+06 iterations 31\n",
      "Cbc0038I Pass 100: suminf.    5.37474 (36) obj. -3.29119e+06 iterations 82\n",
      "Cbc0038I Pass 101: suminf.    5.26124 (36) obj. -3.29119e+06 iterations 46\n",
      "Cbc0038I Pass 102: suminf.    5.47998 (42) obj. -3.29119e+06 iterations 75\n",
      "Cbc0038I Pass 103: suminf.    5.47163 (41) obj. -3.29119e+06 iterations 35\n",
      "Cbc0038I No solution found this major pass\n",
      "Cbc0038I Before mini branch and bound, 1923 integers at bound fixed and 188 continuous\n",
      "Cbc0038I Full problem 2233 rows 2553 columns, reduced to 106 rows 84 columns\n",
      "Cbc0038I Mini branch and bound did not improve solution (1.72 seconds)\n",
      "Cbc0038I After 1.72 seconds - Feasibility pump exiting with objective of -3.12455e+06 - took 0.99 seconds\n",
      "Cbc0012I Integer solution of -3124554.3 found by feasibility pump after 0 iterations and 0 nodes (1.72 seconds)\n",
      "Cbc0038I Full problem 2233 rows 2553 columns, reduced to 100 rows 70 columns\n",
      "Cbc0031I 172 added rows had average density of 43.098837\n",
      "Cbc0013I At root node, 172 cuts changed objective from -3680000 to -3648560.4 in 54 passes\n",
      "Cbc0014I Cut generator 0 (Probing) - 1266 row cuts average 3.6 elements, 0 column cuts (10 active)  in 0.297 seconds - new frequency is 1\n",
      "Cbc0014I Cut generator 1 (Gomory) - 4201 row cuts average 171.9 elements, 0 column cuts (0 active)  in 1.438 seconds - new frequency is 1\n",
      "Cbc0014I Cut generator 2 (Knapsack) - 910 row cuts average 8.7 elements, 0 column cuts (0 active)  in 0.462 seconds - new frequency is 1\n",
      "Cbc0014I Cut generator 3 (Clique) - 0 row cuts average 0.0 elements, 0 column cuts (0 active)  in 0.031 seconds - new frequency is -100\n",
      "Cbc0014I Cut generator 4 (MixedIntegerRounding2) - 539 row cuts average 69.1 elements, 0 column cuts (0 active)  in 0.155 seconds - new frequency is 1\n",
      "Cbc0014I Cut generator 5 (FlowCover) - 277 row cuts average 2.1 elements, 0 column cuts (0 active)  in 0.236 seconds - new frequency is -100\n",
      "Cbc0014I Cut generator 6 (TwoMirCuts) - 2561 row cuts average 45.8 elements, 0 column cuts (0 active)  in 0.526 seconds - new frequency is 1\n",
      "Cbc0014I Cut generator 7 (ZeroHalf) - 173 row cuts average 9.5 elements, 0 column cuts (0 active)  in 1.433 seconds - new frequency is -100\n",
      "Cbc0010I After 0 nodes, 1 on tree, -3124554.3 best solution, best possible -3648560.4 (10.02 seconds)\n",
      "Cbc0038I Full problem 2233 rows 2553 columns, reduced to 903 rows 402 columns\n",
      "Cbc0038I Full problem 2233 rows 2553 columns, reduced to 921 rows 394 columns\n",
      "Cbc0010I After 100 nodes, 62 on tree, -3124554.3 best solution, best possible -3648560.4 (14.99 seconds)\n",
      "Cbc0038I Full problem 2233 rows 2553 columns, reduced to 681 rows 323 columns\n",
      "Cbc0010I After 200 nodes, 107 on tree, -3124554.3 best solution, best possible -3648560.4 (18.70 seconds)\n",
      "Cbc0038I Full problem 2233 rows 2553 columns, reduced to 672 rows 320 columns\n",
      "Cbc0010I After 300 nodes, 139 on tree, -3124554.3 best solution, best possible -3648560.4 (21.12 seconds)\n",
      "Cbc0038I Full problem 2233 rows 2553 columns, reduced to 427 rows 226 columns\n",
      "Cbc0010I After 400 nodes, 197 on tree, -3124554.3 best solution, best possible -3648560.4 (23.68 seconds)\n",
      "Cbc0038I Full problem 2233 rows 2553 columns, reduced to 332 rows 193 columns\n",
      "Cbc0012I Integer solution of -3124910 found by RINS after 68612 iterations and 500 nodes (25.15 seconds)\n",
      "Cbc0010I After 500 nodes, 254 on tree, -3124910 best solution, best possible -3648560.4 (25.15 seconds)\n",
      "Cbc0004I Integer solution of -3449775.8 found after 69293 iterations and 542 nodes (25.66 seconds)\n",
      "Cbc0011I Exiting as integer gap of 198784.58 less than 1e-10 or 10%\n",
      "Cbc0001I Search completed - best objective -3449775.787461018, took 69382 iterations and 543 nodes (25.70 seconds)\n",
      "Cbc0032I Strong branching done 2370 times (20118 iterations), fathomed 6 nodes and fixed 17 variables\n",
      "Cbc0035I Maximum depth 148, 0 variables fixed on reduced cost\n",
      "Cuts at root node changed objective from -3.68e+06 to -3.64856e+06\n",
      "Probing was tried 338 times and created 4792 cuts of which 10 were active after adding rounds of cuts (0.769 seconds)\n",
      "Gomory was tried 338 times and created 4951 cuts of which 0 were active after adding rounds of cuts (3.347 seconds)\n",
      "Knapsack was tried 338 times and created 2595 cuts of which 0 were active after adding rounds of cuts (2.552 seconds)\n",
      "Clique was tried 54 times and created 0 cuts of which 0 were active after adding rounds of cuts (0.031 seconds)\n",
      "MixedIntegerRounding2 was tried 338 times and created 1710 cuts of which 0 were active after adding rounds of cuts (0.633 seconds)\n",
      "FlowCover was tried 54 times and created 277 cuts of which 0 were active after adding rounds of cuts (0.236 seconds)\n",
      "TwoMirCuts was tried 338 times and created 5576 cuts of which 0 were active after adding rounds of cuts (1.323 seconds)\n",
      "ZeroHalf was tried 54 times and created 173 cuts of which 0 were active after adding rounds of cuts (1.433 seconds)\n",
      "ImplicationCuts was tried 16 times and created 1 cuts of which 0 were active after adding rounds of cuts (0.001 seconds)\n",
      "\n",
      "Result - Optimal solution found (within gap tolerance)\n",
      "\n",
      "Objective value:                -3449775.78746102\n",
      "Lower bound:                    -3648560.372\n",
      "Gap:                            0.05\n",
      "Enumerated nodes:               543\n",
      "Total iterations:               69382\n",
      "Time (CPU seconds):             23.68\n",
      "Time (Wallclock seconds):       25.86\n",
      "\n",
      "Option for printingOptions changed from normal to all\n",
      "Total time (CPU seconds):       23.71   (Wallclock seconds):       25.90\n",
      "\n",
      "ステータス: Optimal\n",
      "残業費用:27364[円]\n",
      "外注費用:1265460[円]\n",
      "費用合計:1292824[円]\n"
     ]
    }
   ],
   "source": [
    "import pulp\n",
    "\n",
    "prob = pulp.LpProblem('vrp', pulp.LpMinimize)\n",
    "\n",
    "x = pulp.LpVariable.dicts('x', DKK, cat='Binary')\n",
    "u = pulp.LpVariable.dicts('u', DK, cat='Integer', lowBound=0)\n",
    "y = pulp.LpVariable.dicts('y', DR, cat='Binary')\n",
    "h = pulp.LpVariable.dicts('h', D, cat='Continuous', lowBound=0)\n",
    "\n",
    "for d in D:\n",
    "    for k1 in K:\n",
    "        # (A-1) 各配送日について、ある地点に移動する数とその地点から移動する数は一致\n",
    "        prob += pulp.lpSum([x[d,k1,k2] for k2 in K]) == pulp.lpSum([x[d,k2,k1] for k2 in K])        \n",
    "        \n",
    "        # (A-2) 各配送日について、地点に訪問する数は高々1回まで\n",
    "        prob += pulp.lpSum([x[d,k2,k1] for k2 in K]) <= 1\n",
    "        \n",
    "for d in D:\n",
    "    # (B-1) 各配送日について、配送センターは出発地点(0番目に訪問)\n",
    "    prob += u[d,p] == 0\n",
    "    \n",
    "    # (B-2) 各配送日における、地点への訪問順番の上下限値\n",
    "    for s in S:\n",
    "        prob += 1 <= u[d,s]\n",
    "        prob += u[d,s] <= len(K) - 1\n",
    "        \n",
    "    # (B-3) 各配送日について、お店間だけのサイクルを禁止\n",
    "    for s1 in S:\n",
    "        for s2 in S:\n",
    "            prob += u[d,s1] + 1 <= u[d,s2] + (len(K) - 1) * (1 - x[d,s1,s2])\n",
    "            \n",
    "# (C) 各荷物は、自社配送するなら期間内で高々1回まで\n",
    "for r in R:\n",
    "    prob += pulp.lpSum([y[d,r] for d in D]) <= 1\n",
    "    \n",
    "# (D) 各配送日について、荷物を自社配送するなら、配送先のお店に訪問\n",
    "for d in D:\n",
    "    for r in R:\n",
    "        tar_s = R2S[r]\n",
    "        prob += y[d,r] <= pulp.lpSum(x[d,k,tar_s] for k in K)\n",
    "\n",
    "# (E) 各配送日について、荷物の重量は4,000[kg]以下\n",
    "for d in D:\n",
    "    prob += pulp.lpSum([y[d,r] * R2W[r] for r in R]) <= 4000\n",
    "    \n",
    "# (F) 各配送日について、ドライバーの残業時間は所定労働時間の8時間を差し引いた労働時間\n",
    "for d in D:\n",
    "    prob += pulp.lpSum([KK2T[k1,k2] * x[d,k1,k2] for k1 in K for k2 in K]) - 8 <= h[d]\n",
    "\n",
    "# (G) 各配送日について、ドライバーの残業時間は3時間以内\n",
    "for d in D:\n",
    "    prob += h[d] <= 3\n",
    "    \n",
    "# (H) 各荷物は指定配送期間外の配送を禁止  \n",
    "for r in R:\n",
    "    for d in D:\n",
    "        if d < R2B[r]:\n",
    "            prob += y[d,r] == 0\n",
    "        if R2E[r] < d:\n",
    "            prob += y[d,r] == 0\n",
    "\n",
    "# (I) 配送費用（残業費用+外注費用）を最小化する\n",
    "zangyo = pulp.lpSum([3000 * h[d] for d in D])    \n",
    "gaityu = pulp.lpSum([46 * R2W[r] * (1 - pulp.lpSum(y[d,r] for d in D)) for r in R])\n",
    "prob += zangyo + gaityu\n",
    "\n",
    "# 求解（明示的にCBCソルバーを指定する）\n",
    "solver = pulp.PULP_CBC_CMD(gapRel=0.1) # 計算が終わらないため、終了条件として、引数 gapRel=0.1(目的関数値に対して10%以内の誤差) を指定\n",
    "status = prob.solve(solver)\n",
    "print('ステータス:', pulp.LpStatus[status])\n",
    "\n",
    "# 結果の表示\n",
    "print('残業費用:{:.0f}[円]'.format(zangyo.value()))\n",
    "print('外注費用:{:.0f}[円]'.format(gaityu.value()))\n",
    "print('費用合計:{:.0f}[円]'.format(zangyo.value() + gaityu.value()))"
   ]
  },
  {
   "cell_type": "markdown",
   "id": "f1b76649-c84b-4476-b2df-3b4618d4c704",
   "metadata": {},
   "source": [
    "### **===以下、実行環境によって出力が異なることに注意（終了条件を指定しているため）===**"
   ]
  },
  {
   "cell_type": "code",
   "execution_count": 39,
   "id": "ee720f2c-7aed-487a-984b-f099094d1cf7",
   "metadata": {},
   "outputs": [
    {
     "name": "stdout",
     "output_type": "stream",
     "text": [
      "---配送日:1日目---\n",
      "配送重量:3510.0[kg]\n",
      "移動時間:8.52[h]\n",
      "残業時間:0.52[h]\n",
      "配送ルート: p->s9->s2->p\n",
      "---配送日:2日目---\n",
      "配送重量:3480.0[kg]\n",
      "移動時間:7.64[h]\n",
      "残業時間:0.00[h]\n",
      "配送ルート: p->s3->s7->s6->s8->s4->p\n",
      "---配送日:3日目---\n",
      "配送重量:3590.0[kg]\n",
      "移動時間:8.44[h]\n",
      "残業時間:0.44[h]\n",
      "配送ルート: p->s7->s8->s6->s3->p\n",
      "---配送日:4日目---\n",
      "配送重量:3830.0[kg]\n",
      "移動時間:5.78[h]\n",
      "残業時間:0.00[h]\n",
      "配送ルート: p->s5->s4->s8->s6->s7->p\n",
      "---配送日:5日目---\n",
      "配送重量:3980.0[kg]\n",
      "移動時間:6.72[h]\n",
      "残業時間:0.00[h]\n",
      "配送ルート: p->s3->s9->s1->s5->p\n",
      "---配送日:6日目---\n",
      "配送重量:3880.0[kg]\n",
      "移動時間:6.29[h]\n",
      "残業時間:0.00[h]\n",
      "配送ルート: p->s7->s5->s1->s6->s4->p\n",
      "---配送日:7日目---\n",
      "配送重量:3520.0[kg]\n",
      "移動時間:10.76[h]\n",
      "残業時間:2.76[h]\n",
      "配送ルート: p->s4->s8->s5->s7->s9->p\n",
      "---配送日:8日目---\n",
      "配送重量:3670.0[kg]\n",
      "移動時間:6.20[h]\n",
      "残業時間:0.00[h]\n",
      "配送ルート: p->s1->s2->s5->p\n",
      "---配送日:9日目---\n",
      "配送重量:3800.0[kg]\n",
      "移動時間:8.75[h]\n",
      "残業時間:0.75[h]\n",
      "配送ルート: p->s7->s3->s2->s1->p\n",
      "---配送日:10日目---\n",
      "配送重量:3830.0[kg]\n",
      "移動時間:8.37[h]\n",
      "残業時間:0.37[h]\n",
      "配送ルート: p->s5->s4->s7->s9->p\n",
      "---配送日:11日目---\n",
      "配送重量:3870.0[kg]\n",
      "移動時間:7.40[h]\n",
      "残業時間:0.00[h]\n",
      "配送ルート: p->s1->s2->s7->p\n",
      "---配送日:12日目---\n",
      "配送重量:3690.0[kg]\n",
      "移動時間:6.72[h]\n",
      "残業時間:0.00[h]\n",
      "配送ルート: p->s5->s1->s9->s7->p\n",
      "---配送日:13日目---\n",
      "配送重量:3810.0[kg]\n",
      "移動時間:6.62[h]\n",
      "残業時間:0.00[h]\n",
      "配送ルート: p->s3->s9->s1->p\n",
      "---配送日:14日目---\n",
      "配送重量:4000.0[kg]\n",
      "移動時間:7.23[h]\n",
      "残業時間:0.00[h]\n",
      "配送ルート: p->s1->s6->s7->s3->p\n",
      "---配送日:15日目---\n",
      "配送重量:3210.0[kg]\n",
      "移動時間:10.28[h]\n",
      "残業時間:2.28[h]\n",
      "配送ルート: p->s8->s6->s1->s2->p\n",
      "---配送日:16日目---\n",
      "配送重量:4000.0[kg]\n",
      "移動時間:8.39[h]\n",
      "残業時間:0.39[h]\n",
      "配送ルート: p->s2->s3->p\n",
      "---配送日:17日目---\n",
      "配送重量:3980.0[kg]\n",
      "移動時間:9.64[h]\n",
      "残業時間:1.64[h]\n",
      "配送ルート: p->s4->s9->s7->s1->p\n",
      "---配送日:18日目---\n",
      "配送重量:3960.0[kg]\n",
      "移動時間:6.00[h]\n",
      "残業時間:0.00[h]\n",
      "配送ルート: p->s5->s6->s8->s7->p\n",
      "---配送日:19日目---\n",
      "配送重量:4000.0[kg]\n",
      "移動時間:7.49[h]\n",
      "残業時間:0.00[h]\n",
      "配送ルート: p->s7->s2->s5->p\n",
      "---配送日:20日目---\n",
      "配送重量:3980.0[kg]\n",
      "移動時間:5.67[h]\n",
      "残業時間:0.00[h]\n",
      "配送ルート: p->s1->s5->s6->s8->s4->p\n"
     ]
    }
   ],
   "source": [
    "for d in D:\n",
    "    X = [(k1,k2) for k1 in K for k2 in K if x[d,k1,k2].value()==1]\n",
    "    \n",
    "    time = sum([KK2T[k1,k2] for k1,k2 in X])\n",
    "    print('---配送日:{}日目---'.format(d))\n",
    "    print('配送重量:{}[kg]'.format(sum([y[d,r].value() * R2W[r] for r in R])))\n",
    "    print('移動時間:{:.2f}[h]'.format(time))\n",
    "    print('残業時間:{:.2f}[h]'.format(h[d].value()))\n",
    "    \n",
    "    # 移動する地点の順番のリストを作成\n",
    "    tar = p\n",
    "    Route = [p]\n",
    "    while len(X) >= 1:\n",
    "        for k1,k2 in X:\n",
    "            if k1 == tar:\n",
    "                tar = k2\n",
    "                Route.append(k2)\n",
    "                X.remove((k1,k2))\n",
    "                \n",
    "    print('配送ルート:', '->'.join(Route))    "
   ]
  },
  {
   "cell_type": "code",
   "execution_count": 40,
   "id": "dd8f7bbd-fba1-4f3e-b7e4-ceb8f5b22554",
   "metadata": {},
   "outputs": [
    {
     "name": "stdout",
     "output_type": "stream",
     "text": [
      "荷物r00(お店s4,1000[kg])-外注費用:46000[円]\n",
      "荷物r01(お店s1,950[kg])-外注費用:43700[円]\n",
      "荷物r02(お店s6,1330[kg])-配送日:2日目\n",
      "荷物r03(お店s5,1130[kg])-配送日:20日目\n",
      "荷物r04(お店s2,710[kg])-配送日:1日目\n",
      "荷物r05(お店s5,690[kg])-配送日:10日目\n",
      "荷物r06(お店s3,1180[kg])-配送日:14日目\n",
      "荷物r07(お店s4,690[kg])-外注費用:31740[円]\n",
      "荷物r08(お店s2,960[kg])-配送日:16日目\n",
      "荷物r09(お店s6,930[kg])-配送日:14日目\n",
      "荷物r10(お店s9,910[kg])-外注費用:41860[円]\n",
      "荷物r11(お店s3,1100[kg])-配送日:9日目\n",
      "荷物r12(お店s1,1360[kg])-配送日:12日目\n",
      "荷物r13(お店s7,1120[kg])-外注費用:51520[円]\n",
      "荷物r14(お店s9,820[kg])-配送日:10日目\n",
      "荷物r15(お店s3,650[kg])-配送日:16日目\n",
      "荷物r16(お店s5,1590[kg])-外注費用:73140[円]\n",
      "荷物r17(お店s7,930[kg])-外注費用:42780[円]\n",
      "荷物r18(お店s4,880[kg])-外注費用:40480[円]\n",
      "荷物r19(お店s9,1470[kg])-配送日:10日目\n",
      "荷物r20(お店s6,1020[kg])-配送日:4日目\n",
      "荷物r21(お店s8,2020[kg])-配送日:20日目\n",
      "荷物r22(お店s4,790[kg])-外注費用:36340[円]\n",
      "荷物r23(お店s9,890[kg])-配送日:7日目\n",
      "荷物r24(お店s2,1160[kg])-配送日:16日目\n",
      "荷物r25(お店s3,560[kg])-外注費用:25760[円]\n",
      "荷物r26(お店s5,1440[kg])-配送日:18日目\n",
      "荷物r27(お店s5,900[kg])-配送日:7日目\n",
      "荷物r28(お店s2,1230[kg])-配送日:16日目\n",
      "荷物r29(お店s4,1020[kg])-配送日:4日目\n",
      "荷物r30(お店s4,1020[kg])-配送日:17日目\n",
      "荷物r31(お店s1,1080[kg])-配送日:8日目\n",
      "荷物r32(お店s7,1110[kg])-配送日:9日目\n",
      "荷物r33(お店s8,1840[kg])-外注費用:84640[円]\n",
      "荷物r34(お店s5,690[kg])-外注費用:31740[円]\n",
      "荷物r35(お店s6,980[kg])-外注費用:45080[円]\n",
      "荷物r36(お店s1,1220[kg])-配送日:11日目\n",
      "荷物r37(お店s7,1230[kg])-配送日:12日目\n",
      "荷物r38(お店s7,1360[kg])-配送日:18日目\n",
      "荷物r39(お店s2,890[kg])-配送日:15日目\n",
      "荷物r40(お店s4,1130[kg])-外注費用:51980[円]\n",
      "荷物r41(お店s3,1450[kg])-外注費用:66700[円]\n",
      "荷物r42(お店s7,870[kg])-外注費用:40020[円]\n",
      "荷物r43(お店s5,1290[kg])-配送日:6日目\n",
      "荷物r44(お店s2,620[kg])-配送日:8日目\n",
      "荷物r45(お店s9,970[kg])-配送日:17日目\n",
      "荷物r46(お店s9,1060[kg])-配送日:1日目\n",
      "荷物r47(お店s7,860[kg])-配送日:3日目\n",
      "荷物r48(お店s2,1680[kg])-配送日:11日目\n",
      "荷物r49(お店s9,1250[kg])-配送日:13日目\n",
      "荷物r50(お店s7,1090[kg])-配送日:19日目\n",
      "荷物r51(お店s7,850[kg])-配送日:10日目\n",
      "荷物r52(お店s6,970[kg])-外注費用:44620[円]\n",
      "荷物r53(お店s9,890[kg])-配送日:1日目\n",
      "荷物r54(お店s5,780[kg])-配送日:8日目\n",
      "荷物r55(お店s5,520[kg])-外注費用:23920[円]\n",
      "荷物r56(お店s4,480[kg])-配送日:6日目\n",
      "荷物r57(お店s8,880[kg])-配送日:4日目\n",
      "荷物r58(お店s6,830[kg])-配送日:20日目\n",
      "荷物r59(お店s3,690[kg])-配送日:14日目\n",
      "荷物r60(お店s2,1100[kg])-外注費用:50600[円]\n",
      "荷物r61(お店s7,1200[kg])-配送日:14日目\n",
      "荷物r62(お店s1,1090[kg])-配送日:17日目\n",
      "荷物r63(お店s5,560[kg])-配送日:19日目\n",
      "荷物r64(お店s7,780[kg])-配送日:7日目\n",
      "荷物r65(お店s8,1170[kg])-配送日:3日目\n",
      "荷物r66(お店s8,950[kg])-配送日:7日目\n",
      "荷物r67(お店s1,1120[kg])-配送日:6日目\n",
      "荷物r68(お店s7,1240[kg])-外注費用:57040[円]\n",
      "荷物r69(お店s2,1040[kg])-外注費用:47840[円]\n",
      "荷物r70(お店s1,1260[kg])-配送日:15日目\n",
      "荷物r71(お店s2,970[kg])-配送日:11日目\n",
      "荷物r72(お店s3,940[kg])-外注費用:43240[円]\n",
      "荷物r73(お店s3,1060[kg])-配送日:5日目\n",
      "荷物r74(お店s1,1310[kg])-配送日:5日目\n",
      "荷物r75(お店s2,740[kg])-配送日:9日目\n",
      "荷物r76(お店s3,630[kg])-外注費用:28980[円]\n",
      "荷物r77(お店s3,880[kg])-配送日:2日目\n",
      "荷物r78(お店s4,1270[kg])-配送日:2日目\n",
      "荷物r79(お店s9,910[kg])-配送日:5日目\n",
      "荷物r80(お店s6,1560[kg])-配送日:3日目\n",
      "荷物r81(お店s7,990[kg])-配送日:6日目\n",
      "荷物r82(お店s2,590[kg])-外注費用:27140[円]\n",
      "荷物r83(お店s2,1770[kg])-外注費用:81420[円]\n",
      "荷物r84(お店s2,650[kg])-外注費用:29900[円]\n",
      "荷物r85(お店s8,1160[kg])-配送日:18日目\n",
      "荷物r86(お店s6,900[kg])-外注費用:41400[円]\n",
      "荷物r87(お店s1,1060[kg])-配送日:15日目\n",
      "荷物r88(お店s2,770[kg])-配送日:19日目\n",
      "荷物r89(お店s5,780[kg])-外注費用:35880[円]\n",
      "荷物r90(お店s7,850[kg])-配送日:9日目\n",
      "荷物r91(お店s2,1190[kg])-配送日:8日目\n",
      "荷物r92(お店s7,1580[kg])-配送日:19日目\n",
      "荷物r93(お店s6,910[kg])-配送日:4日目\n",
      "荷物r94(お店s1,900[kg])-配送日:17日目\n",
      "荷物r95(お店s3,1290[kg])-配送日:13日目\n",
      "荷物r96(お店s5,700[kg])-配送日:5日目\n",
      "荷物r97(お店s9,1270[kg])-配送日:13日目\n",
      "荷物r98(お店s9,1100[kg])-配送日:12日目\n",
      "荷物r99(お店s9,850[kg])-配送日:1日目\n"
     ]
    }
   ],
   "source": [
    "for r in R:\n",
    "    # 自社のトラックで配送したかどうかのフラグ\n",
    "    owned_truck_flag = sum([y[d,r].value() for d in D])\n",
    "    if owned_truck_flag:\n",
    "        # 配送日の取得\n",
    "        tar_d = [d for d in D if y[d,r].value() == 1][0]\n",
    "        text = '荷物{}(お店{},{}[kg])-配送日:{}日目'.format(r, R2S[r], R2W[r], tar_d)\n",
    "    else:\n",
    "        # 外注費用の取得\n",
    "        gc = 46 * R2W[r]\n",
    "        text = '荷物{}(お店{},{}[kg])-外注費用:{}[円]'.format(r, R2S[r], R2W[r], gc)        \n",
    "    print(text)"
   ]
  },
  {
   "cell_type": "code",
   "execution_count": 41,
   "id": "da6632fb-da9c-43f1-a6a9-d44d69b54912",
   "metadata": {},
   "outputs": [
    {
     "name": "stdout",
     "output_type": "stream",
     "text": [
      "---配送日:1日目---\n",
      "移動時間:8.52[h]\n",
      "(A)配送ルートのお店: {'s2', 's9'}\n",
      "(B)荷物の注文があるお店: {'s2', 's9'}\n",
      "(A)-(B): set()\n",
      "---配送日:2日目---\n",
      "移動時間:7.64[h]\n",
      "(A)配送ルートのお店: {'s8', 's7', 's6', 's4', 's3'}\n",
      "(B)荷物の注文があるお店: {'s4', 's3', 's6'}\n",
      "(A)-(B): {'s7', 's8'}\n",
      "---配送日:3日目---\n",
      "移動時間:8.44[h]\n",
      "(A)配送ルートのお店: {'s7', 's8', 's3', 's6'}\n",
      "(B)荷物の注文があるお店: {'s7', 's8', 's6'}\n",
      "(A)-(B): {'s3'}\n",
      "---配送日:4日目---\n",
      "移動時間:5.78[h]\n",
      "(A)配送ルートのお店: {'s8', 's5', 's7', 's6', 's4'}\n",
      "(B)荷物の注文があるお店: {'s4', 's8', 's6'}\n",
      "(A)-(B): {'s7', 's5'}\n",
      "---配送日:5日目---\n",
      "移動時間:6.72[h]\n",
      "(A)配送ルートのお店: {'s9', 's5', 's3', 's1'}\n",
      "(B)荷物の注文があるお店: {'s5', 's9', 's3', 's1'}\n",
      "(A)-(B): set()\n",
      "---配送日:6日目---\n",
      "移動時間:6.29[h]\n",
      "(A)配送ルートのお店: {'s5', 's1', 's7', 's6', 's4'}\n",
      "(B)荷物の注文があるお店: {'s7', 's4', 's5', 's1'}\n",
      "(A)-(B): {'s6'}\n",
      "---配送日:7日目---\n",
      "移動時間:10.76[h]\n",
      "(A)配送ルートのお店: {'s9', 's8', 's5', 's7', 's4'}\n",
      "(B)荷物の注文があるお店: {'s8', 's7', 's9', 's5'}\n",
      "(A)-(B): {'s4'}\n",
      "---配送日:8日目---\n",
      "移動時間:6.20[h]\n",
      "(A)配送ルートのお店: {'s2', 's5', 's1'}\n",
      "(B)荷物の注文があるお店: {'s2', 's5', 's1'}\n",
      "(A)-(B): set()\n",
      "---配送日:9日目---\n",
      "移動時間:8.75[h]\n",
      "(A)配送ルートのお店: {'s7', 's2', 's3', 's1'}\n",
      "(B)荷物の注文があるお店: {'s7', 's2', 's3'}\n",
      "(A)-(B): {'s1'}\n",
      "---配送日:10日目---\n",
      "移動時間:8.37[h]\n",
      "(A)配送ルートのお店: {'s7', 's4', 's9', 's5'}\n",
      "(B)荷物の注文があるお店: {'s7', 's9', 's5'}\n",
      "(A)-(B): {'s4'}\n",
      "---配送日:11日目---\n",
      "移動時間:7.40[h]\n",
      "(A)配送ルートのお店: {'s7', 's2', 's1'}\n",
      "(B)荷物の注文があるお店: {'s2', 's1'}\n",
      "(A)-(B): {'s7'}\n",
      "---配送日:12日目---\n",
      "移動時間:6.72[h]\n",
      "(A)配送ルートのお店: {'s7', 's9', 's5', 's1'}\n",
      "(B)荷物の注文があるお店: {'s7', 's9', 's1'}\n",
      "(A)-(B): {'s5'}\n",
      "---配送日:13日目---\n",
      "移動時間:6.62[h]\n",
      "(A)配送ルートのお店: {'s9', 's3', 's1'}\n",
      "(B)荷物の注文があるお店: {'s9', 's3'}\n",
      "(A)-(B): {'s1'}\n",
      "---配送日:14日目---\n",
      "移動時間:7.23[h]\n",
      "(A)配送ルートのお店: {'s7', 's3', 's1', 's6'}\n",
      "(B)荷物の注文があるお店: {'s7', 's3', 's6'}\n",
      "(A)-(B): {'s1'}\n",
      "---配送日:15日目---\n",
      "移動時間:10.28[h]\n",
      "(A)配送ルートのお店: {'s2', 's8', 's1', 's6'}\n",
      "(B)荷物の注文があるお店: {'s2', 's1'}\n",
      "(A)-(B): {'s8', 's6'}\n",
      "---配送日:16日目---\n",
      "移動時間:8.39[h]\n",
      "(A)配送ルートのお店: {'s2', 's3'}\n",
      "(B)荷物の注文があるお店: {'s2', 's3'}\n",
      "(A)-(B): set()\n",
      "---配送日:17日目---\n",
      "移動時間:9.64[h]\n",
      "(A)配送ルートのお店: {'s7', 's9', 's4', 's1'}\n",
      "(B)荷物の注文があるお店: {'s4', 's9', 's1'}\n",
      "(A)-(B): {'s7'}\n",
      "---配送日:18日目---\n",
      "移動時間:6.00[h]\n",
      "(A)配送ルートのお店: {'s5', 's7', 's8', 's6'}\n",
      "(B)荷物の注文があるお店: {'s8', 's7', 's5'}\n",
      "(A)-(B): {'s6'}\n",
      "---配送日:19日目---\n",
      "移動時間:7.49[h]\n",
      "(A)配送ルートのお店: {'s7', 's2', 's5'}\n",
      "(B)荷物の注文があるお店: {'s7', 's2', 's5'}\n",
      "(A)-(B): set()\n",
      "---配送日:20日目---\n",
      "移動時間:5.67[h]\n",
      "(A)配送ルートのお店: {'s8', 's5', 's1', 's6', 's4'}\n",
      "(B)荷物の注文があるお店: {'s8', 's5', 's6'}\n",
      "(A)-(B): {'s4', 's1'}\n"
     ]
    }
   ],
   "source": [
    "# 各配送日に対して、配送したお店を紐づける辞書の作成\n",
    "resD2S = {d:set() for d in D}\n",
    "for d,r in y:\n",
    "    if y[d,r].value() == 1:\n",
    "        resD2S[d].add(R2S[r])\n",
    "        \n",
    "for d in D:\n",
    "    print('---配送日:{}日目---'.format(d))\n",
    "    X = [(k1,k2) for k1 in K for k2 in K if x[d,k1,k2].value() == 1]\n",
    "    time = sum([KK2T[k1,k2] for k1,k2 in X])\n",
    "    print('移動時間:{:.2f}[h]'.format(time))\n",
    "    routeS = set([k1 for k1,k2 in X]) - set([p])\n",
    "    print('(A)配送ルートのお店:', routeS)\n",
    "    targetS = resD2S[d]\n",
    "    print('(B)荷物の注文があるお店:', targetS)\n",
    "    \n",
    "    print('(A)-(B):', routeS - targetS)    "
   ]
  },
  {
   "cell_type": "code",
   "execution_count": 42,
   "id": "89b16c0a-abe2-4de3-abc7-35e8e2f2a47e",
   "metadata": {},
   "outputs": [
    {
     "data": {
      "text/plain": [
       "<matplotlib.collections.PathCollection at 0x1405265d0>"
      ]
     },
     "execution_count": 42,
     "metadata": {},
     "output_type": "execute_result"
    },
    {
     "data": {
      "text/plain": [
       "<matplotlib.collections.PathCollection at 0x140c98890>"
      ]
     },
     "execution_count": 42,
     "metadata": {},
     "output_type": "execute_result"
    },
    {
     "data": {
      "text/plain": [
       "<matplotlib.collections.PathCollection at 0x119c71690>"
      ]
     },
     "execution_count": 42,
     "metadata": {},
     "output_type": "execute_result"
    },
    {
     "data": {
      "text/plain": [
       "<matplotlib.patches.FancyArrow at 0x140e145d0>"
      ]
     },
     "execution_count": 42,
     "metadata": {},
     "output_type": "execute_result"
    },
    {
     "data": {
      "text/plain": [
       "<matplotlib.patches.FancyArrow at 0x119c4b050>"
      ]
     },
     "execution_count": 42,
     "metadata": {},
     "output_type": "execute_result"
    },
    {
     "data": {
      "text/plain": [
       "<matplotlib.patches.FancyArrow at 0x140dcc5d0>"
      ]
     },
     "execution_count": 42,
     "metadata": {},
     "output_type": "execute_result"
    },
    {
     "data": {
      "text/plain": [
       "<matplotlib.collections.PathCollection at 0x13de1d2d0>"
      ]
     },
     "execution_count": 42,
     "metadata": {},
     "output_type": "execute_result"
    },
    {
     "data": {
      "text/plain": [
       "<matplotlib.collections.PathCollection at 0x140b64610>"
      ]
     },
     "execution_count": 42,
     "metadata": {},
     "output_type": "execute_result"
    },
    {
     "data": {
      "text/plain": [
       "<matplotlib.collections.PathCollection at 0x140b65a50>"
      ]
     },
     "execution_count": 42,
     "metadata": {},
     "output_type": "execute_result"
    },
    {
     "data": {
      "text/plain": [
       "<matplotlib.collections.PathCollection at 0x140b67190>"
      ]
     },
     "execution_count": 42,
     "metadata": {},
     "output_type": "execute_result"
    },
    {
     "data": {
      "text/plain": [
       "<matplotlib.collections.PathCollection at 0x14058c910>"
      ]
     },
     "execution_count": 42,
     "metadata": {},
     "output_type": "execute_result"
    },
    {
     "data": {
      "text/plain": [
       "<matplotlib.collections.PathCollection at 0x140b457d0>"
      ]
     },
     "execution_count": 42,
     "metadata": {},
     "output_type": "execute_result"
    },
    {
     "data": {
      "text/plain": [
       "<matplotlib.patches.FancyArrow at 0x140b94190>"
      ]
     },
     "execution_count": 42,
     "metadata": {},
     "output_type": "execute_result"
    },
    {
     "data": {
      "text/plain": [
       "<matplotlib.patches.FancyArrow at 0x140b66b50>"
      ]
     },
     "execution_count": 42,
     "metadata": {},
     "output_type": "execute_result"
    },
    {
     "data": {
      "text/plain": [
       "<matplotlib.patches.FancyArrow at 0x13de1fb50>"
      ]
     },
     "execution_count": 42,
     "metadata": {},
     "output_type": "execute_result"
    },
    {
     "data": {
      "text/plain": [
       "<matplotlib.patches.FancyArrow at 0x119c70c10>"
      ]
     },
     "execution_count": 42,
     "metadata": {},
     "output_type": "execute_result"
    },
    {
     "data": {
      "text/plain": [
       "<matplotlib.patches.FancyArrow at 0x140b96850>"
      ]
     },
     "execution_count": 42,
     "metadata": {},
     "output_type": "execute_result"
    },
    {
     "data": {
      "text/plain": [
       "<matplotlib.patches.FancyArrow at 0x13decb850>"
      ]
     },
     "execution_count": 42,
     "metadata": {},
     "output_type": "execute_result"
    },
    {
     "data": {
      "text/plain": [
       "<matplotlib.collections.PathCollection at 0x140b652d0>"
      ]
     },
     "execution_count": 42,
     "metadata": {},
     "output_type": "execute_result"
    },
    {
     "data": {
      "text/plain": [
       "<matplotlib.collections.PathCollection at 0x119c70790>"
      ]
     },
     "execution_count": 42,
     "metadata": {},
     "output_type": "execute_result"
    },
    {
     "data": {
      "text/plain": [
       "<matplotlib.collections.PathCollection at 0x140bae890>"
      ]
     },
     "execution_count": 42,
     "metadata": {},
     "output_type": "execute_result"
    },
    {
     "data": {
      "text/plain": [
       "<matplotlib.collections.PathCollection at 0x140bad1d0>"
      ]
     },
     "execution_count": 42,
     "metadata": {},
     "output_type": "execute_result"
    },
    {
     "data": {
      "text/plain": [
       "<matplotlib.collections.PathCollection at 0x140bada50>"
      ]
     },
     "execution_count": 42,
     "metadata": {},
     "output_type": "execute_result"
    },
    {
     "data": {
      "text/plain": [
       "<matplotlib.patches.FancyArrow at 0x140b34e90>"
      ]
     },
     "execution_count": 42,
     "metadata": {},
     "output_type": "execute_result"
    },
    {
     "data": {
      "text/plain": [
       "<matplotlib.patches.FancyArrow at 0x14063a890>"
      ]
     },
     "execution_count": 42,
     "metadata": {},
     "output_type": "execute_result"
    },
    {
     "data": {
      "text/plain": [
       "<matplotlib.patches.FancyArrow at 0x140bacb90>"
      ]
     },
     "execution_count": 42,
     "metadata": {},
     "output_type": "execute_result"
    },
    {
     "data": {
      "text/plain": [
       "<matplotlib.patches.FancyArrow at 0x140562c10>"
      ]
     },
     "execution_count": 42,
     "metadata": {},
     "output_type": "execute_result"
    },
    {
     "data": {
      "text/plain": [
       "<matplotlib.patches.FancyArrow at 0x140ea2210>"
      ]
     },
     "execution_count": 42,
     "metadata": {},
     "output_type": "execute_result"
    },
    {
     "data": {
      "text/plain": [
       "<matplotlib.collections.PathCollection at 0x1406f9290>"
      ]
     },
     "execution_count": 42,
     "metadata": {},
     "output_type": "execute_result"
    },
    {
     "data": {
      "text/plain": [
       "<matplotlib.collections.PathCollection at 0x13deca810>"
      ]
     },
     "execution_count": 42,
     "metadata": {},
     "output_type": "execute_result"
    },
    {
     "data": {
      "text/plain": [
       "<matplotlib.collections.PathCollection at 0x1406e7b10>"
      ]
     },
     "execution_count": 42,
     "metadata": {},
     "output_type": "execute_result"
    },
    {
     "data": {
      "text/plain": [
       "<matplotlib.collections.PathCollection at 0x13dec91d0>"
      ]
     },
     "execution_count": 42,
     "metadata": {},
     "output_type": "execute_result"
    },
    {
     "data": {
      "text/plain": [
       "<matplotlib.collections.PathCollection at 0x119bfac10>"
      ]
     },
     "execution_count": 42,
     "metadata": {},
     "output_type": "execute_result"
    },
    {
     "data": {
      "text/plain": [
       "<matplotlib.collections.PathCollection at 0x140bc2510>"
      ]
     },
     "execution_count": 42,
     "metadata": {},
     "output_type": "execute_result"
    },
    {
     "data": {
      "text/plain": [
       "<matplotlib.patches.FancyArrow at 0x14074b4d0>"
      ]
     },
     "execution_count": 42,
     "metadata": {},
     "output_type": "execute_result"
    },
    {
     "data": {
      "text/plain": [
       "<matplotlib.patches.FancyArrow at 0x140723450>"
      ]
     },
     "execution_count": 42,
     "metadata": {},
     "output_type": "execute_result"
    },
    {
     "data": {
      "text/plain": [
       "<matplotlib.patches.FancyArrow at 0x140b79710>"
      ]
     },
     "execution_count": 42,
     "metadata": {},
     "output_type": "execute_result"
    },
    {
     "data": {
      "text/plain": [
       "<matplotlib.patches.FancyArrow at 0x140ae5bd0>"
      ]
     },
     "execution_count": 42,
     "metadata": {},
     "output_type": "execute_result"
    },
    {
     "data": {
      "text/plain": [
       "<matplotlib.patches.FancyArrow at 0x140e45e90>"
      ]
     },
     "execution_count": 42,
     "metadata": {},
     "output_type": "execute_result"
    },
    {
     "data": {
      "text/plain": [
       "<matplotlib.patches.FancyArrow at 0x140712450>"
      ]
     },
     "execution_count": 42,
     "metadata": {},
     "output_type": "execute_result"
    },
    {
     "data": {
      "text/plain": [
       "<matplotlib.collections.PathCollection at 0x140718090>"
      ]
     },
     "execution_count": 42,
     "metadata": {},
     "output_type": "execute_result"
    },
    {
     "data": {
      "text/plain": [
       "<matplotlib.collections.PathCollection at 0x140741410>"
      ]
     },
     "execution_count": 42,
     "metadata": {},
     "output_type": "execute_result"
    },
    {
     "data": {
      "text/plain": [
       "<matplotlib.collections.PathCollection at 0x1406fa3d0>"
      ]
     },
     "execution_count": 42,
     "metadata": {},
     "output_type": "execute_result"
    },
    {
     "data": {
      "text/plain": [
       "<matplotlib.collections.PathCollection at 0x14073b390>"
      ]
     },
     "execution_count": 42,
     "metadata": {},
     "output_type": "execute_result"
    },
    {
     "data": {
      "text/plain": [
       "<matplotlib.collections.PathCollection at 0x140dccb10>"
      ]
     },
     "execution_count": 42,
     "metadata": {},
     "output_type": "execute_result"
    },
    {
     "data": {
      "text/plain": [
       "<matplotlib.patches.FancyArrow at 0x1406f9650>"
      ]
     },
     "execution_count": 42,
     "metadata": {},
     "output_type": "execute_result"
    },
    {
     "data": {
      "text/plain": [
       "<matplotlib.patches.FancyArrow at 0x13decb1d0>"
      ]
     },
     "execution_count": 42,
     "metadata": {},
     "output_type": "execute_result"
    },
    {
     "data": {
      "text/plain": [
       "<matplotlib.patches.FancyArrow at 0x140ebe110>"
      ]
     },
     "execution_count": 42,
     "metadata": {},
     "output_type": "execute_result"
    },
    {
     "data": {
      "text/plain": [
       "<matplotlib.patches.FancyArrow at 0x14072e850>"
      ]
     },
     "execution_count": 42,
     "metadata": {},
     "output_type": "execute_result"
    },
    {
     "data": {
      "text/plain": [
       "<matplotlib.patches.FancyArrow at 0x14073bf50>"
      ]
     },
     "execution_count": 42,
     "metadata": {},
     "output_type": "execute_result"
    },
    {
     "data": {
      "text/plain": [
       "<matplotlib.collections.PathCollection at 0x119bad150>"
      ]
     },
     "execution_count": 42,
     "metadata": {},
     "output_type": "execute_result"
    },
    {
     "data": {
      "text/plain": [
       "<matplotlib.collections.PathCollection at 0x140797290>"
      ]
     },
     "execution_count": 42,
     "metadata": {},
     "output_type": "execute_result"
    },
    {
     "data": {
      "text/plain": [
       "<matplotlib.collections.PathCollection at 0x1406e7790>"
      ]
     },
     "execution_count": 42,
     "metadata": {},
     "output_type": "execute_result"
    },
    {
     "data": {
      "text/plain": [
       "<matplotlib.collections.PathCollection at 0x140ed15d0>"
      ]
     },
     "execution_count": 42,
     "metadata": {},
     "output_type": "execute_result"
    },
    {
     "data": {
      "text/plain": [
       "<matplotlib.collections.PathCollection at 0x1406e2a10>"
      ]
     },
     "execution_count": 42,
     "metadata": {},
     "output_type": "execute_result"
    },
    {
     "data": {
      "text/plain": [
       "<matplotlib.collections.PathCollection at 0x1406d4050>"
      ]
     },
     "execution_count": 42,
     "metadata": {},
     "output_type": "execute_result"
    },
    {
     "data": {
      "text/plain": [
       "<matplotlib.patches.FancyArrow at 0x14053c390>"
      ]
     },
     "execution_count": 42,
     "metadata": {},
     "output_type": "execute_result"
    },
    {
     "data": {
      "text/plain": [
       "<matplotlib.patches.FancyArrow at 0x140e26cd0>"
      ]
     },
     "execution_count": 42,
     "metadata": {},
     "output_type": "execute_result"
    },
    {
     "data": {
      "text/plain": [
       "<matplotlib.patches.FancyArrow at 0x140e25050>"
      ]
     },
     "execution_count": 42,
     "metadata": {},
     "output_type": "execute_result"
    },
    {
     "data": {
      "text/plain": [
       "<matplotlib.patches.FancyArrow at 0x140ae68d0>"
      ]
     },
     "execution_count": 42,
     "metadata": {},
     "output_type": "execute_result"
    },
    {
     "data": {
      "text/plain": [
       "<matplotlib.patches.FancyArrow at 0x140b33e90>"
      ]
     },
     "execution_count": 42,
     "metadata": {},
     "output_type": "execute_result"
    },
    {
     "data": {
      "text/plain": [
       "<matplotlib.patches.FancyArrow at 0x1406e5c50>"
      ]
     },
     "execution_count": 42,
     "metadata": {},
     "output_type": "execute_result"
    },
    {
     "data": {
      "text/plain": [
       "<matplotlib.collections.PathCollection at 0x140740cd0>"
      ]
     },
     "execution_count": 42,
     "metadata": {},
     "output_type": "execute_result"
    },
    {
     "data": {
      "text/plain": [
       "<matplotlib.collections.PathCollection at 0x1406fa110>"
      ]
     },
     "execution_count": 42,
     "metadata": {},
     "output_type": "execute_result"
    },
    {
     "data": {
      "text/plain": [
       "<matplotlib.collections.PathCollection at 0x140822ed0>"
      ]
     },
     "execution_count": 42,
     "metadata": {},
     "output_type": "execute_result"
    },
    {
     "data": {
      "text/plain": [
       "<matplotlib.collections.PathCollection at 0x140b44390>"
      ]
     },
     "execution_count": 42,
     "metadata": {},
     "output_type": "execute_result"
    },
    {
     "data": {
      "text/plain": [
       "<matplotlib.collections.PathCollection at 0x140829210>"
      ]
     },
     "execution_count": 42,
     "metadata": {},
     "output_type": "execute_result"
    },
    {
     "data": {
      "text/plain": [
       "<matplotlib.collections.PathCollection at 0x1408217d0>"
      ]
     },
     "execution_count": 42,
     "metadata": {},
     "output_type": "execute_result"
    },
    {
     "data": {
      "text/plain": [
       "<matplotlib.patches.FancyArrow at 0x140796c50>"
      ]
     },
     "execution_count": 42,
     "metadata": {},
     "output_type": "execute_result"
    },
    {
     "data": {
      "text/plain": [
       "<matplotlib.patches.FancyArrow at 0x140823a90>"
      ]
     },
     "execution_count": 42,
     "metadata": {},
     "output_type": "execute_result"
    },
    {
     "data": {
      "text/plain": [
       "<matplotlib.patches.FancyArrow at 0x140badc50>"
      ]
     },
     "execution_count": 42,
     "metadata": {},
     "output_type": "execute_result"
    },
    {
     "data": {
      "text/plain": [
       "<matplotlib.patches.FancyArrow at 0x140bc2090>"
      ]
     },
     "execution_count": 42,
     "metadata": {},
     "output_type": "execute_result"
    },
    {
     "data": {
      "text/plain": [
       "<matplotlib.patches.FancyArrow at 0x140568750>"
      ]
     },
     "execution_count": 42,
     "metadata": {},
     "output_type": "execute_result"
    },
    {
     "data": {
      "text/plain": [
       "<matplotlib.patches.FancyArrow at 0x1407959d0>"
      ]
     },
     "execution_count": 42,
     "metadata": {},
     "output_type": "execute_result"
    },
    {
     "data": {
      "text/plain": [
       "<matplotlib.collections.PathCollection at 0x1406c3b90>"
      ]
     },
     "execution_count": 42,
     "metadata": {},
     "output_type": "execute_result"
    },
    {
     "data": {
      "text/plain": [
       "<matplotlib.collections.PathCollection at 0x14086d190>"
      ]
     },
     "execution_count": 42,
     "metadata": {},
     "output_type": "execute_result"
    },
    {
     "data": {
      "text/plain": [
       "<matplotlib.collections.PathCollection at 0x140d26510>"
      ]
     },
     "execution_count": 42,
     "metadata": {},
     "output_type": "execute_result"
    },
    {
     "data": {
      "text/plain": [
       "<matplotlib.collections.PathCollection at 0x14087f750>"
      ]
     },
     "execution_count": 42,
     "metadata": {},
     "output_type": "execute_result"
    },
    {
     "data": {
      "text/plain": [
       "<matplotlib.patches.FancyArrow at 0x140b471d0>"
      ]
     },
     "execution_count": 42,
     "metadata": {},
     "output_type": "execute_result"
    },
    {
     "data": {
      "text/plain": [
       "<matplotlib.patches.FancyArrow at 0x140bc0310>"
      ]
     },
     "execution_count": 42,
     "metadata": {},
     "output_type": "execute_result"
    },
    {
     "data": {
      "text/plain": [
       "<matplotlib.patches.FancyArrow at 0x14074bc50>"
      ]
     },
     "execution_count": 42,
     "metadata": {},
     "output_type": "execute_result"
    },
    {
     "data": {
      "text/plain": [
       "<matplotlib.patches.FancyArrow at 0x119c5fc10>"
      ]
     },
     "execution_count": 42,
     "metadata": {},
     "output_type": "execute_result"
    },
    {
     "data": {
      "text/plain": [
       "<matplotlib.collections.PathCollection at 0x140e13850>"
      ]
     },
     "execution_count": 42,
     "metadata": {},
     "output_type": "execute_result"
    },
    {
     "data": {
      "text/plain": [
       "<matplotlib.collections.PathCollection at 0x1408b4710>"
      ]
     },
     "execution_count": 42,
     "metadata": {},
     "output_type": "execute_result"
    },
    {
     "data": {
      "text/plain": [
       "<matplotlib.collections.PathCollection at 0x1408c5bd0>"
      ]
     },
     "execution_count": 42,
     "metadata": {},
     "output_type": "execute_result"
    },
    {
     "data": {
      "text/plain": [
       "<matplotlib.collections.PathCollection at 0x140b66c90>"
      ]
     },
     "execution_count": 42,
     "metadata": {},
     "output_type": "execute_result"
    },
    {
     "data": {
      "text/plain": [
       "<matplotlib.collections.PathCollection at 0x1407e0650>"
      ]
     },
     "execution_count": 42,
     "metadata": {},
     "output_type": "execute_result"
    },
    {
     "data": {
      "text/plain": [
       "<matplotlib.patches.FancyArrow at 0x14088ce90>"
      ]
     },
     "execution_count": 42,
     "metadata": {},
     "output_type": "execute_result"
    },
    {
     "data": {
      "text/plain": [
       "<matplotlib.patches.FancyArrow at 0x140b66a50>"
      ]
     },
     "execution_count": 42,
     "metadata": {},
     "output_type": "execute_result"
    },
    {
     "data": {
      "text/plain": [
       "<matplotlib.patches.FancyArrow at 0x140e39b10>"
      ]
     },
     "execution_count": 42,
     "metadata": {},
     "output_type": "execute_result"
    },
    {
     "data": {
      "text/plain": [
       "<matplotlib.patches.FancyArrow at 0x14074b410>"
      ]
     },
     "execution_count": 42,
     "metadata": {},
     "output_type": "execute_result"
    },
    {
     "data": {
      "text/plain": [
       "<matplotlib.patches.FancyArrow at 0x140b79ad0>"
      ]
     },
     "execution_count": 42,
     "metadata": {},
     "output_type": "execute_result"
    },
    {
     "data": {
      "text/plain": [
       "<matplotlib.collections.PathCollection at 0x140820e50>"
      ]
     },
     "execution_count": 42,
     "metadata": {},
     "output_type": "execute_result"
    },
    {
     "data": {
      "text/plain": [
       "<matplotlib.collections.PathCollection at 0x1414822d0>"
      ]
     },
     "execution_count": 42,
     "metadata": {},
     "output_type": "execute_result"
    },
    {
     "data": {
      "text/plain": [
       "<matplotlib.collections.PathCollection at 0x1408ab150>"
      ]
     },
     "execution_count": 42,
     "metadata": {},
     "output_type": "execute_result"
    },
    {
     "data": {
      "text/plain": [
       "<matplotlib.collections.PathCollection at 0x140823f90>"
      ]
     },
     "execution_count": 42,
     "metadata": {},
     "output_type": "execute_result"
    },
    {
     "data": {
      "text/plain": [
       "<matplotlib.collections.PathCollection at 0x13dec9790>"
      ]
     },
     "execution_count": 42,
     "metadata": {},
     "output_type": "execute_result"
    },
    {
     "data": {
      "text/plain": [
       "<matplotlib.patches.FancyArrow at 0x1407e39d0>"
      ]
     },
     "execution_count": 42,
     "metadata": {},
     "output_type": "execute_result"
    },
    {
     "data": {
      "text/plain": [
       "<matplotlib.patches.FancyArrow at 0x14081b7d0>"
      ]
     },
     "execution_count": 42,
     "metadata": {},
     "output_type": "execute_result"
    },
    {
     "data": {
      "text/plain": [
       "<matplotlib.patches.FancyArrow at 0x1407cd650>"
      ]
     },
     "execution_count": 42,
     "metadata": {},
     "output_type": "execute_result"
    },
    {
     "data": {
      "text/plain": [
       "<matplotlib.patches.FancyArrow at 0x13dec98d0>"
      ]
     },
     "execution_count": 42,
     "metadata": {},
     "output_type": "execute_result"
    },
    {
     "data": {
      "text/plain": [
       "<matplotlib.patches.FancyArrow at 0x140c9b850>"
      ]
     },
     "execution_count": 42,
     "metadata": {},
     "output_type": "execute_result"
    },
    {
     "data": {
      "text/plain": [
       "<matplotlib.collections.PathCollection at 0x1406fa310>"
      ]
     },
     "execution_count": 42,
     "metadata": {},
     "output_type": "execute_result"
    },
    {
     "data": {
      "text/plain": [
       "<matplotlib.collections.PathCollection at 0x1413eb410>"
      ]
     },
     "execution_count": 42,
     "metadata": {},
     "output_type": "execute_result"
    },
    {
     "data": {
      "text/plain": [
       "<matplotlib.collections.PathCollection at 0x1413f7c90>"
      ]
     },
     "execution_count": 42,
     "metadata": {},
     "output_type": "execute_result"
    },
    {
     "data": {
      "text/plain": [
       "<matplotlib.collections.PathCollection at 0x140e15290>"
      ]
     },
     "execution_count": 42,
     "metadata": {},
     "output_type": "execute_result"
    },
    {
     "data": {
      "text/plain": [
       "<matplotlib.patches.FancyArrow at 0x1407ad850>"
      ]
     },
     "execution_count": 42,
     "metadata": {},
     "output_type": "execute_result"
    },
    {
     "data": {
      "text/plain": [
       "<matplotlib.patches.FancyArrow at 0x14149f710>"
      ]
     },
     "execution_count": 42,
     "metadata": {},
     "output_type": "execute_result"
    },
    {
     "data": {
      "text/plain": [
       "<matplotlib.patches.FancyArrow at 0x141494f10>"
      ]
     },
     "execution_count": 42,
     "metadata": {},
     "output_type": "execute_result"
    },
    {
     "data": {
      "text/plain": [
       "<matplotlib.patches.FancyArrow at 0x140bc1590>"
      ]
     },
     "execution_count": 42,
     "metadata": {},
     "output_type": "execute_result"
    },
    {
     "data": {
      "text/plain": [
       "<matplotlib.collections.PathCollection at 0x141439c50>"
      ]
     },
     "execution_count": 42,
     "metadata": {},
     "output_type": "execute_result"
    },
    {
     "data": {
      "text/plain": [
       "<matplotlib.collections.PathCollection at 0x14143b250>"
      ]
     },
     "execution_count": 42,
     "metadata": {},
     "output_type": "execute_result"
    },
    {
     "data": {
      "text/plain": [
       "<matplotlib.collections.PathCollection at 0x14143a5d0>"
      ]
     },
     "execution_count": 42,
     "metadata": {},
     "output_type": "execute_result"
    },
    {
     "data": {
      "text/plain": [
       "<matplotlib.collections.PathCollection at 0x140dcca50>"
      ]
     },
     "execution_count": 42,
     "metadata": {},
     "output_type": "execute_result"
    },
    {
     "data": {
      "text/plain": [
       "<matplotlib.collections.PathCollection at 0x141445a50>"
      ]
     },
     "execution_count": 42,
     "metadata": {},
     "output_type": "execute_result"
    },
    {
     "data": {
      "text/plain": [
       "<matplotlib.patches.FancyArrow at 0x14142b4d0>"
      ]
     },
     "execution_count": 42,
     "metadata": {},
     "output_type": "execute_result"
    },
    {
     "data": {
      "text/plain": [
       "<matplotlib.patches.FancyArrow at 0x1408d3010>"
      ]
     },
     "execution_count": 42,
     "metadata": {},
     "output_type": "execute_result"
    },
    {
     "data": {
      "text/plain": [
       "<matplotlib.patches.FancyArrow at 0x1414720d0>"
      ]
     },
     "execution_count": 42,
     "metadata": {},
     "output_type": "execute_result"
    },
    {
     "data": {
      "text/plain": [
       "<matplotlib.patches.FancyArrow at 0x140847790>"
      ]
     },
     "execution_count": 42,
     "metadata": {},
     "output_type": "execute_result"
    },
    {
     "data": {
      "text/plain": [
       "<matplotlib.patches.FancyArrow at 0x14089be50>"
      ]
     },
     "execution_count": 42,
     "metadata": {},
     "output_type": "execute_result"
    },
    {
     "data": {
      "text/plain": [
       "<matplotlib.collections.PathCollection at 0x14143a710>"
      ]
     },
     "execution_count": 42,
     "metadata": {},
     "output_type": "execute_result"
    },
    {
     "data": {
      "text/plain": [
       "<matplotlib.collections.PathCollection at 0x1414d3b10>"
      ]
     },
     "execution_count": 42,
     "metadata": {},
     "output_type": "execute_result"
    },
    {
     "data": {
      "text/plain": [
       "<matplotlib.collections.PathCollection at 0x13df748d0>"
      ]
     },
     "execution_count": 42,
     "metadata": {},
     "output_type": "execute_result"
    },
    {
     "data": {
      "text/plain": [
       "<matplotlib.collections.PathCollection at 0x13df75650>"
      ]
     },
     "execution_count": 42,
     "metadata": {},
     "output_type": "execute_result"
    },
    {
     "data": {
      "text/plain": [
       "<matplotlib.patches.FancyArrow at 0x140743050>"
      ]
     },
     "execution_count": 42,
     "metadata": {},
     "output_type": "execute_result"
    },
    {
     "data": {
      "text/plain": [
       "<matplotlib.patches.FancyArrow at 0x1408365d0>"
      ]
     },
     "execution_count": 42,
     "metadata": {},
     "output_type": "execute_result"
    },
    {
     "data": {
      "text/plain": [
       "<matplotlib.patches.FancyArrow at 0x1414c3c50>"
      ]
     },
     "execution_count": 42,
     "metadata": {},
     "output_type": "execute_result"
    },
    {
     "data": {
      "text/plain": [
       "<matplotlib.patches.FancyArrow at 0x1406d6990>"
      ]
     },
     "execution_count": 42,
     "metadata": {},
     "output_type": "execute_result"
    },
    {
     "data": {
      "text/plain": [
       "<matplotlib.collections.PathCollection at 0x1413fd150>"
      ]
     },
     "execution_count": 42,
     "metadata": {},
     "output_type": "execute_result"
    },
    {
     "data": {
      "text/plain": [
       "<matplotlib.collections.PathCollection at 0x13df9b410>"
      ]
     },
     "execution_count": 42,
     "metadata": {},
     "output_type": "execute_result"
    },
    {
     "data": {
      "text/plain": [
       "<matplotlib.collections.PathCollection at 0x13df08450>"
      ]
     },
     "execution_count": 42,
     "metadata": {},
     "output_type": "execute_result"
    },
    {
     "data": {
      "text/plain": [
       "<matplotlib.collections.PathCollection at 0x13df09310>"
      ]
     },
     "execution_count": 42,
     "metadata": {},
     "output_type": "execute_result"
    },
    {
     "data": {
      "text/plain": [
       "<matplotlib.collections.PathCollection at 0x1406e26d0>"
      ]
     },
     "execution_count": 42,
     "metadata": {},
     "output_type": "execute_result"
    },
    {
     "data": {
      "text/plain": [
       "<matplotlib.patches.FancyArrow at 0x140d6b550>"
      ]
     },
     "execution_count": 42,
     "metadata": {},
     "output_type": "execute_result"
    },
    {
     "data": {
      "text/plain": [
       "<matplotlib.patches.FancyArrow at 0x1414d2550>"
      ]
     },
     "execution_count": 42,
     "metadata": {},
     "output_type": "execute_result"
    },
    {
     "data": {
      "text/plain": [
       "<matplotlib.patches.FancyArrow at 0x1413dac90>"
      ]
     },
     "execution_count": 42,
     "metadata": {},
     "output_type": "execute_result"
    },
    {
     "data": {
      "text/plain": [
       "<matplotlib.patches.FancyArrow at 0x13defa090>"
      ]
     },
     "execution_count": 42,
     "metadata": {},
     "output_type": "execute_result"
    },
    {
     "data": {
      "text/plain": [
       "<matplotlib.patches.FancyArrow at 0x13df0bfd0>"
      ]
     },
     "execution_count": 42,
     "metadata": {},
     "output_type": "execute_result"
    },
    {
     "data": {
      "text/plain": [
       "<matplotlib.collections.PathCollection at 0x1413dab10>"
      ]
     },
     "execution_count": 42,
     "metadata": {},
     "output_type": "execute_result"
    },
    {
     "data": {
      "text/plain": [
       "<matplotlib.collections.PathCollection at 0x1408b52d0>"
      ]
     },
     "execution_count": 42,
     "metadata": {},
     "output_type": "execute_result"
    },
    {
     "data": {
      "text/plain": [
       "<matplotlib.collections.PathCollection at 0x13df69150>"
      ]
     },
     "execution_count": 42,
     "metadata": {},
     "output_type": "execute_result"
    },
    {
     "data": {
      "text/plain": [
       "<matplotlib.collections.PathCollection at 0x13df9a1d0>"
      ]
     },
     "execution_count": 42,
     "metadata": {},
     "output_type": "execute_result"
    },
    {
     "data": {
      "text/plain": [
       "<matplotlib.collections.PathCollection at 0x13df6b310>"
      ]
     },
     "execution_count": 42,
     "metadata": {},
     "output_type": "execute_result"
    },
    {
     "data": {
      "text/plain": [
       "<matplotlib.patches.FancyArrow at 0x1408c6c90>"
      ]
     },
     "execution_count": 42,
     "metadata": {},
     "output_type": "execute_result"
    },
    {
     "data": {
      "text/plain": [
       "<matplotlib.patches.FancyArrow at 0x140b2b450>"
      ]
     },
     "execution_count": 42,
     "metadata": {},
     "output_type": "execute_result"
    },
    {
     "data": {
      "text/plain": [
       "<matplotlib.patches.FancyArrow at 0x1407e3950>"
      ]
     },
     "execution_count": 42,
     "metadata": {},
     "output_type": "execute_result"
    },
    {
     "data": {
      "text/plain": [
       "<matplotlib.patches.FancyArrow at 0x1414c38d0>"
      ]
     },
     "execution_count": 42,
     "metadata": {},
     "output_type": "execute_result"
    },
    {
     "data": {
      "text/plain": [
       "<matplotlib.patches.FancyArrow at 0x13df0a050>"
      ]
     },
     "execution_count": 42,
     "metadata": {},
     "output_type": "execute_result"
    },
    {
     "data": {
      "text/plain": [
       "<matplotlib.collections.PathCollection at 0x1406dc390>"
      ]
     },
     "execution_count": 42,
     "metadata": {},
     "output_type": "execute_result"
    },
    {
     "data": {
      "text/plain": [
       "<matplotlib.collections.PathCollection at 0x140795990>"
      ]
     },
     "execution_count": 42,
     "metadata": {},
     "output_type": "execute_result"
    },
    {
     "data": {
      "text/plain": [
       "<matplotlib.collections.PathCollection at 0x13e03cdd0>"
      ]
     },
     "execution_count": 42,
     "metadata": {},
     "output_type": "execute_result"
    },
    {
     "data": {
      "text/plain": [
       "<matplotlib.patches.FancyArrow at 0x13df7ce90>"
      ]
     },
     "execution_count": 42,
     "metadata": {},
     "output_type": "execute_result"
    },
    {
     "data": {
      "text/plain": [
       "<matplotlib.patches.FancyArrow at 0x13dfb1410>"
      ]
     },
     "execution_count": 42,
     "metadata": {},
     "output_type": "execute_result"
    },
    {
     "data": {
      "text/plain": [
       "<matplotlib.patches.FancyArrow at 0x13deb96d0>"
      ]
     },
     "execution_count": 42,
     "metadata": {},
     "output_type": "execute_result"
    },
    {
     "data": {
      "text/plain": [
       "<matplotlib.collections.PathCollection at 0x13e0ce5d0>"
      ]
     },
     "execution_count": 42,
     "metadata": {},
     "output_type": "execute_result"
    },
    {
     "data": {
      "text/plain": [
       "<matplotlib.collections.PathCollection at 0x14087f390>"
      ]
     },
     "execution_count": 42,
     "metadata": {},
     "output_type": "execute_result"
    },
    {
     "data": {
      "text/plain": [
       "<matplotlib.collections.PathCollection at 0x13e0085d0>"
      ]
     },
     "execution_count": 42,
     "metadata": {},
     "output_type": "execute_result"
    },
    {
     "data": {
      "text/plain": [
       "<matplotlib.collections.PathCollection at 0x141499450>"
      ]
     },
     "execution_count": 42,
     "metadata": {},
     "output_type": "execute_result"
    },
    {
     "data": {
      "text/plain": [
       "<matplotlib.collections.PathCollection at 0x14143a750>"
      ]
     },
     "execution_count": 42,
     "metadata": {},
     "output_type": "execute_result"
    },
    {
     "data": {
      "text/plain": [
       "<matplotlib.patches.FancyArrow at 0x13e015a50>"
      ]
     },
     "execution_count": 42,
     "metadata": {},
     "output_type": "execute_result"
    },
    {
     "data": {
      "text/plain": [
       "<matplotlib.patches.FancyArrow at 0x13df5efd0>"
      ]
     },
     "execution_count": 42,
     "metadata": {},
     "output_type": "execute_result"
    },
    {
     "data": {
      "text/plain": [
       "<matplotlib.patches.FancyArrow at 0x119be0dd0>"
      ]
     },
     "execution_count": 42,
     "metadata": {},
     "output_type": "execute_result"
    },
    {
     "data": {
      "text/plain": [
       "<matplotlib.patches.FancyArrow at 0x14087f210>"
      ]
     },
     "execution_count": 42,
     "metadata": {},
     "output_type": "execute_result"
    },
    {
     "data": {
      "text/plain": [
       "<matplotlib.patches.FancyArrow at 0x13e00bd90>"
      ]
     },
     "execution_count": 42,
     "metadata": {},
     "output_type": "execute_result"
    },
    {
     "data": {
      "text/plain": [
       "<matplotlib.collections.PathCollection at 0x13dfdef50>"
      ]
     },
     "execution_count": 42,
     "metadata": {},
     "output_type": "execute_result"
    },
    {
     "data": {
      "text/plain": [
       "<matplotlib.collections.PathCollection at 0x13df9c190>"
      ]
     },
     "execution_count": 42,
     "metadata": {},
     "output_type": "execute_result"
    },
    {
     "data": {
      "text/plain": [
       "<matplotlib.collections.PathCollection at 0x13e060050>"
      ]
     },
     "execution_count": 42,
     "metadata": {},
     "output_type": "execute_result"
    },
    {
     "data": {
      "text/plain": [
       "<matplotlib.collections.PathCollection at 0x13e061f10>"
      ]
     },
     "execution_count": 42,
     "metadata": {},
     "output_type": "execute_result"
    },
    {
     "data": {
      "text/plain": [
       "<matplotlib.collections.PathCollection at 0x13e0631d0>"
      ]
     },
     "execution_count": 42,
     "metadata": {},
     "output_type": "execute_result"
    },
    {
     "data": {
      "text/plain": [
       "<matplotlib.patches.FancyArrow at 0x1408c7fd0>"
      ]
     },
     "execution_count": 42,
     "metadata": {},
     "output_type": "execute_result"
    },
    {
     "data": {
      "text/plain": [
       "<matplotlib.patches.FancyArrow at 0x13e0548d0>"
      ]
     },
     "execution_count": 42,
     "metadata": {},
     "output_type": "execute_result"
    },
    {
     "data": {
      "text/plain": [
       "<matplotlib.patches.FancyArrow at 0x13e060350>"
      ]
     },
     "execution_count": 42,
     "metadata": {},
     "output_type": "execute_result"
    },
    {
     "data": {
      "text/plain": [
       "<matplotlib.patches.FancyArrow at 0x1406d5250>"
      ]
     },
     "execution_count": 42,
     "metadata": {},
     "output_type": "execute_result"
    },
    {
     "data": {
      "text/plain": [
       "<matplotlib.patches.FancyArrow at 0x13e00c750>"
      ]
     },
     "execution_count": 42,
     "metadata": {},
     "output_type": "execute_result"
    },
    {
     "data": {
      "text/plain": [
       "<matplotlib.collections.PathCollection at 0x140bad790>"
      ]
     },
     "execution_count": 42,
     "metadata": {},
     "output_type": "execute_result"
    },
    {
     "data": {
      "text/plain": [
       "<matplotlib.collections.PathCollection at 0x13e0b1350>"
      ]
     },
     "execution_count": 42,
     "metadata": {},
     "output_type": "execute_result"
    },
    {
     "data": {
      "text/plain": [
       "<matplotlib.collections.PathCollection at 0x13e0be550>"
      ]
     },
     "execution_count": 42,
     "metadata": {},
     "output_type": "execute_result"
    },
    {
     "data": {
      "text/plain": [
       "<matplotlib.collections.PathCollection at 0x1408b4cd0>"
      ]
     },
     "execution_count": 42,
     "metadata": {},
     "output_type": "execute_result"
    },
    {
     "data": {
      "text/plain": [
       "<matplotlib.patches.FancyArrow at 0x13e0745d0>"
      ]
     },
     "execution_count": 42,
     "metadata": {},
     "output_type": "execute_result"
    },
    {
     "data": {
      "text/plain": [
       "<matplotlib.patches.FancyArrow at 0x14142a490>"
      ]
     },
     "execution_count": 42,
     "metadata": {},
     "output_type": "execute_result"
    },
    {
     "data": {
      "text/plain": [
       "<matplotlib.patches.FancyArrow at 0x13e063a10>"
      ]
     },
     "execution_count": 42,
     "metadata": {},
     "output_type": "execute_result"
    },
    {
     "data": {
      "text/plain": [
       "<matplotlib.patches.FancyArrow at 0x13de1c5d0>"
      ]
     },
     "execution_count": 42,
     "metadata": {},
     "output_type": "execute_result"
    },
    {
     "data": {
      "text/plain": [
       "<matplotlib.collections.PathCollection at 0x1408ef990>"
      ]
     },
     "execution_count": 42,
     "metadata": {},
     "output_type": "execute_result"
    },
    {
     "data": {
      "text/plain": [
       "<matplotlib.collections.PathCollection at 0x140900d50>"
      ]
     },
     "execution_count": 42,
     "metadata": {},
     "output_type": "execute_result"
    },
    {
     "data": {
      "text/plain": [
       "<matplotlib.collections.PathCollection at 0x14090df10>"
      ]
     },
     "execution_count": 42,
     "metadata": {},
     "output_type": "execute_result"
    },
    {
     "data": {
      "text/plain": [
       "<matplotlib.collections.PathCollection at 0x14090ef10>"
      ]
     },
     "execution_count": 42,
     "metadata": {},
     "output_type": "execute_result"
    },
    {
     "data": {
      "text/plain": [
       "<matplotlib.collections.PathCollection at 0x13e09bb90>"
      ]
     },
     "execution_count": 42,
     "metadata": {},
     "output_type": "execute_result"
    },
    {
     "data": {
      "text/plain": [
       "<matplotlib.collections.PathCollection at 0x140900650>"
      ]
     },
     "execution_count": 42,
     "metadata": {},
     "output_type": "execute_result"
    },
    {
     "data": {
      "text/plain": [
       "<matplotlib.patches.FancyArrow at 0x13e7aabd0>"
      ]
     },
     "execution_count": 42,
     "metadata": {},
     "output_type": "execute_result"
    },
    {
     "data": {
      "text/plain": [
       "<matplotlib.patches.FancyArrow at 0x1408d6e90>"
      ]
     },
     "execution_count": 42,
     "metadata": {},
     "output_type": "execute_result"
    },
    {
     "data": {
      "text/plain": [
       "<matplotlib.patches.FancyArrow at 0x13e084e50>"
      ]
     },
     "execution_count": 42,
     "metadata": {},
     "output_type": "execute_result"
    },
    {
     "data": {
      "text/plain": [
       "<matplotlib.patches.FancyArrow at 0x1408d4ed0>"
      ]
     },
     "execution_count": 42,
     "metadata": {},
     "output_type": "execute_result"
    },
    {
     "data": {
      "text/plain": [
       "<matplotlib.patches.FancyArrow at 0x13df5ab50>"
      ]
     },
     "execution_count": 42,
     "metadata": {},
     "output_type": "execute_result"
    },
    {
     "data": {
      "text/plain": [
       "<matplotlib.patches.FancyArrow at 0x1408d7d90>"
      ]
     },
     "execution_count": 42,
     "metadata": {},
     "output_type": "execute_result"
    },
    {
     "data": {
      "image/png": "[encoded data removed]",
      "text/plain": [
       "<Figure size 1200x2000 with 20 Axes>"
      ]
     },
     "metadata": {},
     "output_type": "display_data"
    }
   ],
   "source": [
    "import matplotlib.pyplot as plt\n",
    "\n",
    "# 各地点の座標の取得\n",
    "K2XY = {row.k:(row.x,row.y) for row in k_df.itertuples()}\n",
    "\n",
    "fig = plt.figure(figsize=(12,20))\n",
    "for i in range(len(D)):\n",
    "    d = D[i]\n",
    "    X = [(k1,k2) for k1 in K for k2 in K if x[d,k1,k2].value() == 1]\n",
    "    routeK = [k1 for k1,k2 in X]\n",
    "    time = sum(KK2T[k1,k2] for k1,k2 in X)\n",
    "    title_text = 'day:{}({:.1f}[h])'.format(d, time)\n",
    "    ax = fig.add_subplot(\n",
    "            5, 4, i + 1,\n",
    "            xlim=(-3.5, 3.5),\n",
    "            ylim=(-3.5, 3.5),\n",
    "            title=title_text)\n",
    "    ax.set_aspect('equal')\n",
    "    \n",
    "    for row in k_df.itertuples():\n",
    "        if row.k in routeK:\n",
    "            if row.depo_flag:\n",
    "                ax.scatter(row.x, row.y, marker='o')\n",
    "            else:\n",
    "                ax.scatter(row.x, row.y, marker='x')\n",
    "    \n",
    "    for k1,k2 in X:\n",
    "        (x1,y1) = K2XY[k1]\n",
    "        (x2,y2) = K2XY[k2]\n",
    "        ax.arrow(x1, y1, (x2 - x1), (y2 - y1),\n",
    "                head_width=0.2,\n",
    "                length_includes_head=True)"
   ]
  },
  {
   "cell_type": "markdown",
   "id": "f9ad5922-6b8b-4b82-ba5a-388bf27c9306",
   "metadata": {},
   "source": [
    "## 5.5. 配送パターンを利用した数理モデリング"
   ]
  },
  {
   "cell_type": "markdown",
   "id": "e21ffcb2",
   "metadata": {},
   "source": [
    "## 数理モデル\n",
    "- 集合\n",
    "  - 配送の集合：$D=\\{1,2,...,20\\}$\n",
    "  - 荷物の集合：$R=\\{r_1,r_2,...\\}$\n",
    "  - 各配送日の配送パターンの集合：$Q_d(d \\in D)$\n",
    "  - 各荷物を配送する配送パターンの集合：$Q'_r(r \\in R)$\n",
    "  - 集合$Q_d$を結合した集合：$Q$\n",
    "\n",
    "- 定数\n",
    "  - 各配送パターンの移動時間：$t_q \\in R_{\\geq 0} (q \\in Q)$\n",
    "  - 各配送パターンの残業時間：$h_q \\in R_{\\geq 0} (q \\in Q)$\n",
    "\n",
    "- 固定値の定数\n",
    "  - 残業費用：1[時間]あたり3000[円]\n",
    "  - 外注費用：1[kg]あたり46[円]\n",
    "\n",
    "- 変数\n",
    "  - 各配送日の配送パターンの選択：$x_{d,q} \\in \\{0,1\\}(d \\in D,q \\in Q_d)$\n",
    "  - 荷物の外注の有無：$y_r \\in [0,1](r \\in R)$\n",
    "\n",
    "- 制約式\n",
    "  - 各配送日に1つの配送パターンを選択：\n",
    "    - $\\sum_{q \\in Q_d} x_{q,d} = 1 (d \\in D)$\n",
    "  - 各荷物は外注するか自社配送のどちらかを選択：\n",
    "    - $y_r + \\sum_{d \\in D}\\sum_{q \\in Q_d \\cup Q'_r} x_{d,q} = 1 (r \\in R)$\n",
    "\n",
    "- 目的関数\n",
    "  - 費用合計と移動時間合計の最小化：\n",
    "    - $\\sum_{d \\in D}\\sum_{q \\in Q_d} 3000h_q x_{d,q} + \\sum_{r \\in R} 46w_r y_r + \\sum_{d \\in D}\\sum_{q \\in Q_d} x_{d,q} t_q$"
   ]
  },
  {
   "cell_type": "markdown",
   "id": "0d365354-7ee3-4d8f-89c9-4b4b590073f8",
   "metadata": {},
   "source": [
    "### ①効率的な配送パターンの列挙"
   ]
  },
  {
   "cell_type": "markdown",
   "id": "2da51de0-6aac-4af1-ad66-03b002411519",
   "metadata": {},
   "source": [
    "### （1）ステップ１　実行可能な配送ルートの列挙"
   ]
  },
  {
   "cell_type": "code",
   "execution_count": 21,
   "id": "64a9f55f-5a0f-451f-a179-e664a80fb980",
   "metadata": {},
   "outputs": [],
   "source": [
    "import pandas as pd \n",
    "k_df = pd.read_csv('locations.csv')\n",
    "kk_df = pd.read_csv('distances.csv')\n",
    "r_df = pd.read_csv('orders.csv')\n",
    "\n",
    "D = list(range(r_df.b.min(), r_df.e.max() + 1))\n",
    "p = k_df[k_df.depo_flag == 1].k.tolist()[0]\n",
    "S = k_df[k_df.depo_flag == 0].k.tolist()\n",
    "K = [p] + S\n",
    "R = r_df.r.tolist()\n",
    "\n",
    "R2S = {row.r:row.s for row in r_df.itertuples()}\n",
    "R2W = {row.r:row.w for row in r_df.itertuples()}\n",
    "R2B = {row.r:row.b for row in r_df.itertuples()}\n",
    "R2E = {row.r:row.e for row in r_df.itertuples()}\n",
    "KK2T = {(row.k1,row.k2):row.t for row in kk_df.itertuples()}"
   ]
  },
  {
   "cell_type": "code",
   "execution_count": 22,
   "id": "5823a294-67f1-48e9-a7d1-5d1f4e8fc0fe",
   "metadata": {},
   "outputs": [],
   "source": [
    "import pulp\n",
    "\n",
    "def tsp(p_, S_, KK2T_):\n",
    "    K = [p_] + S_\n",
    "    KK = [(k1,k2) for k1 in K for k2 in K]\n",
    "    prob = pulp.LpProblem('tsp', pulp.LpMinimize)\n",
    "    x = pulp.LpVariable.dicts('x', KK, cat='Binary')\n",
    "    u = pulp.LpVariable.dicts('u', K, cat='Integer', lowBound=0)\n",
    "    \n",
    "    # 各地点に必ず1回訪問する\n",
    "    for k1 in K:\n",
    "        prob += pulp.lpSum([x[k1,k2] for k2 in K]) == 1\n",
    "        prob += pulp.lpSum([x[k2,k1] for k2 in K]) == 1\n",
    "    \n",
    "    # (B-1)\n",
    "    prob += u[p_] == 0\n",
    "    \n",
    "    # (B-2)\n",
    "    for s in S_:\n",
    "        prob += 1 <= u[s]\n",
    "        prob += u[s] <= len(K) - 1\n",
    "    \n",
    "    # (B-3)\n",
    "    for s1 in S_:\n",
    "        for s2 in S_:\n",
    "            prob += u[s1] + 1 <= u[s2] + (len(K) - 1) * (1 - x[s1,s2])\n",
    "\n",
    "    # 移動時間は11時間以内\n",
    "    prob += pulp.lpSum([KK2T_[k1,k2] * x[k1,k2] for k1 in K for k2 in K]) <= 11\n",
    "\n",
    "    # 目的関数は移動時間の最小化\n",
    "    prob += pulp.lpSum([KK2T_[k1,k2] * x[k1,k2] for k1 in K for k2 in K])\n",
    "\n",
    "    solver = pulp.PULP_CBC_CMD(msg=0)\n",
    "    status = prob.solve(solver)\n",
    "\n",
    "    if status == 1:\n",
    "        X = [(k1,k2) for k1 in K for k2 in K if x[k1,k2].value() == 1]\n",
    "        time = sum([KK2T_[k1,k2] for k1,k2 in X])\n",
    "    else:\n",
    "        X = []\n",
    "        time = -1\n",
    "    return status, X, time"
   ]
  },
  {
   "cell_type": "code",
   "execution_count": 23,
   "id": "decb497d-ee8a-4450-9cfb-f4122ab0b549",
   "metadata": {},
   "outputs": [
    {
     "name": "stdout",
     "output_type": "stream",
     "text": [
      "ステータス: Optimal\n",
      "x: [('p', 's4'), ('s4', 's5'), ('s5', 's9'), ('s9', 'p')]\n",
      "移動時間: 8.145373915498993\n"
     ]
    }
   ],
   "source": [
    "testS = ['s4', 's5', 's9']\n",
    "status, X, time = tsp(p, testS, KK2T)\n",
    "print('ステータス:', pulp.LpStatus[status])\n",
    "print('x:', X)\n",
    "print('移動時間:', time)"
   ]
  },
  {
   "cell_type": "code",
   "execution_count": 24,
   "id": "32c59cdc-ba4a-4d97-aa8c-dfd028623b95",
   "metadata": {},
   "outputs": [
    {
     "name": "stdout",
     "output_type": "stream",
     "text": [
      "ステータス: Infeasible\n",
      "x: []\n",
      "移動時間: -1\n"
     ]
    }
   ],
   "source": [
    "testS = ['s1', 's2', 's3', 's4', 's5', 's9']\n",
    "status, X, time = tsp(p, testS, KK2T)\n",
    "print('ステータス:', pulp.LpStatus[status])\n",
    "print('x:', X)\n",
    "print('移動時間:', time)"
   ]
  },
  {
   "cell_type": "code",
   "execution_count": 25,
   "id": "a22cfd44-de5f-44c7-beef-c3c2bf4e7185",
   "metadata": {},
   "outputs": [
    {
     "name": "stdout",
     "output_type": "stream",
     "text": [
      "訪問するお店の数:0 配送ルート数:1\n",
      "訪問するお店の数:1 配送ルート数:9\n",
      "訪問するお店の数:2 配送ルート数:36\n",
      "訪問するお店の数:3 配送ルート数:81\n",
      "訪問するお店の数:4 配送ルート数:107\n",
      "訪問するお店の数:5 配送ルート数:83\n",
      "訪問するお店の数:6 配送ルート数:37\n",
      "訪問するお店の数:7 配送ルート数:9\n",
      "訪問するお店の数:8 配送ルート数:1\n",
      "訪問するお店の数:9 配送ルート数:0\n",
      "要件(ⅰ)(ⅱ)を満たす配送ルート数: 364\n"
     ]
    }
   ],
   "source": [
    "from itertools import combinations\n",
    "\n",
    "Stp2Pat = {}\n",
    "for n in range(len(S) + 1):\n",
    "    # お店の集合Sからn個選ぶ組合せを列挙    \n",
    "    count = 0\n",
    "    for Stp in combinations(S, n): # 辞書式で列挙される\n",
    "        # 配送センターpとn個のお店(Stp)の巡回セールスマン問題を解く\n",
    "        status, X, time = tsp(p, list(Stp), KK2T)\n",
    "        \n",
    "        # 解が存在するときのみ配送ルートとして採用\n",
    "        if status == 1:\n",
    "            Stp2Pat[Stp] = (X, time)\n",
    "            count += 1\n",
    "    print('訪問するお店の数:{} 配送ルート数:{}'.format(n, count))\n",
    "print('要件(ⅰ)(ⅱ)を満たす配送ルート数:', len(Stp2Pat))"
   ]
  },
  {
   "cell_type": "code",
   "execution_count": 26,
   "id": "9d49edfc-7cfc-4ed2-81af-d11e294d498b",
   "metadata": {},
   "outputs": [
    {
     "name": "stdout",
     "output_type": "stream",
     "text": [
      "---お店の組合せ: ()\n",
      "配送ルート: ([('p', 'p')], 0.0)\n",
      "---お店の組合せ: ('s1',)\n",
      "配送ルート: ([('p', 's1'), ('s1', 'p')], 1.3236097970929661)\n",
      "---お店の組合せ: ('s2',)\n",
      "配送ルート: ([('p', 's2'), ('s2', 'p')], 5.865139919138787)\n",
      "---お店の組合せ: ('s3',)\n",
      "配送ルート: ([('p', 's3'), ('s3', 'p')], 3.807054271558092)\n"
     ]
    }
   ],
   "source": [
    "for i, (Stp,Pat) in enumerate(Stp2Pat.items()):\n",
    "    if i>3:break\n",
    "    print('---お店の組合せ:', Stp)\n",
    "    print('配送ルート:', Pat)"
   ]
  },
  {
   "cell_type": "markdown",
   "id": "c94a0bb6-cff7-4eed-a0bf-7d991ce78729",
   "metadata": {},
   "source": [
    "### （2）ステップ２　効率的な配送パターンの列挙"
   ]
  },
  {
   "cell_type": "code",
   "execution_count": 27,
   "id": "ee3c2330-4018-4e1f-878d-9ec96b022698",
   "metadata": {},
   "outputs": [
    {
     "name": "stdout",
     "output_type": "stream",
     "text": [
      "配送日: 1 ['r04', 'r46', 'r53', 'r77', 'r99']\n",
      "配送日: 2 ['r02', 'r04', 'r20', 'r25', 'r46', 'r47', 'r53', 'r57', 'r65', 'r77', 'r78', 'r80', 'r99']\n",
      "配送日: 3 ['r02', 'r20', 'r25', 'r46', 'r47', 'r53', 'r57', 'r65', 'r77', 'r78', 'r80', 'r99']\n",
      "配送日: 4 ['r02', 'r07', 'r20', 'r29', 'r47', 'r56', 'r57', 'r93', 'r96']\n",
      "配送日: 5 ['r07', 'r23', 'r29', 'r56', 'r73', 'r74', 'r79', 'r93', 'r96']\n",
      "配送日: 6 ['r07', 'r23', 'r27', 'r31', 'r43', 'r44', 'r54', 'r56', 'r64', 'r67', 'r73', 'r74', 'r79', 'r81']\n",
      "配送日: 7 ['r23', 'r27', 'r31', 'r33', 'r43', 'r44', 'r54', 'r64', 'r66', 'r67', 'r74', 'r79', 'r81', 'r90', 'r91']\n",
      "配送日: 8 ['r11', 'r27', 'r31', 'r32', 'r33', 'r44', 'r51', 'r54', 'r66', 'r67', 'r75', 'r81', 'r82', 'r90', 'r91']\n",
      "配送日: 9 ['r11', 'r14', 'r19', 'r32', 'r48', 'r51', 'r66', 'r75', 'r82', 'r90', 'r91']\n",
      "配送日: 10 ['r05', 'r14', 'r19', 'r22', 'r32', 'r37', 'r48', 'r51', 'r69', 'r84', 'r98']\n",
      "配送日: 11 ['r05', 'r22', 'r36', 'r37', 'r48', 'r69', 'r71', 'r84', 'r98']\n",
      "配送日: 12 ['r05', 'r12', 'r36', 'r37', 'r71', 'r98']\n",
      "配送日: 13 ['r06', 'r12', 'r18', 'r49', 'r61', 'r72', 'r95', 'r97']\n",
      "配送日: 14 ['r06', 'r09', 'r12', 'r18', 'r24', 'r28', 'r49', 'r59', 'r61', 'r72', 'r95', 'r97']\n",
      "配送日: 15 ['r06', 'r09', 'r17', 'r24', 'r28', 'r39', 'r49', 'r59', 'r61', 'r70', 'r72', 'r86', 'r87']\n",
      "配送日: 16 ['r01', 'r08', 'r10', 'r15', 'r16', 'r17', 'r24', 'r26', 'r28', 'r30', 'r38', 'r39', 'r52', 'r59', 'r70', 'r76', 'r86', 'r87', 'r94']\n",
      "配送日: 17 ['r00', 'r01', 'r08', 'r10', 'r15', 'r16', 'r26', 'r30', 'r38', 'r39', 'r45', 'r52', 'r62', 'r68', 'r70', 'r76', 'r86', 'r87', 'r89', 'r94']\n",
      "配送日: 18 ['r00', 'r01', 'r26', 'r30', 'r34', 'r35', 'r38', 'r41', 'r45', 'r50', 'r60', 'r62', 'r68', 'r76', 'r83', 'r85', 'r88', 'r89', 'r92', 'r94']\n",
      "配送日: 19 ['r03', 'r13', 'r21', 'r34', 'r35', 'r40', 'r41', 'r42', 'r45', 'r50', 'r55', 'r58', 'r60', 'r63', 'r68', 'r83', 'r85', 'r88', 'r92']\n",
      "配送日: 20 ['r03', 'r13', 'r21', 'r35', 'r40', 'r42', 'r55', 'r58', 'r60', 'r63', 'r83', 'r88', 'r92']\n"
     ]
    }
   ],
   "source": [
    "# 配送日に対して配送可能な荷物のリストを紐づける辞書\n",
    "D2R = {d:[] for d in D}\n",
    "for r in R:\n",
    "    for d in range(R2B[r], R2E[r] + 1):\n",
    "        D2R[d].append(r)\n",
    "\n",
    "# 各配送日に配送可能な荷物のリスト        \n",
    "for d in D:\n",
    "    print('配送日:', d, D2R[d])"
   ]
  },
  {
   "cell_type": "code",
   "execution_count": 28,
   "id": "0f5a6aaa-0cd2-4795-8956-b0d3a73ff69e",
   "metadata": {},
   "outputs": [
    {
     "name": "stdout",
     "output_type": "stream",
     "text": [
      "配送日:1 配送パターン数:31\n",
      "配送日:2 配送パターン数:614\n",
      "配送日:3 配送パターン数:503\n",
      "配送日:4 配送パターン数:269\n",
      "配送日:5 配送パターン数:260\n",
      "配送日:6 配送パターン数:1371\n",
      "配送日:7 配送パターン数:1143\n",
      "配送日:8 配送パターン数:1461\n",
      "配送日:9 配送パターン数:332\n",
      "配送日:10 配送パターン数:345\n",
      "配送日:11 配送パターン数:175\n",
      "配送日:12 配送パターン数:44\n",
      "配送日:13 配送パターン数:93\n",
      "配送日:14 配送パターン数:333\n",
      "配送日:15 配送パターン数:557\n",
      "配送日:16 配送パターン数:2737\n",
      "配送日:17 配送パターン数:3292\n",
      "配送日:18 配送パターン数:2416\n",
      "配送日:19 配送パターン数:2244\n",
      "配送日:20 配送パターン数:575\n"
     ]
    }
   ],
   "source": [
    "# 各配送日に紐づける効率的な配送パターンのリスト\n",
    "D2Pat = {d:[] for d in D}\n",
    "for d in D:\n",
    "    # 配送日dに配送可能な荷物のリストを作成\n",
    "    dayR = D2R[d]\n",
    "    \n",
    "    # 荷物のリストの部分集合を列挙\n",
    "    for n in range(len(dayR) + 1):\n",
    "        for tarR in combinations(dayR, n):\n",
    "            \n",
    "            # 要件(iii):荷物の重量の確認\n",
    "            w = sum([R2W[r] for r in tarR])\n",
    "            if w > 4000:\n",
    "                continue\n",
    "            \n",
    "            # 荷物の配送先のお店を抽出\n",
    "            tarS = set([R2S[r] for r in tarR])\n",
    "            tarStp = tuple(sorted(tarS))\n",
    "            \n",
    "            # 要件(iv):実行可能な配送ルートとの照合\n",
    "            if tarStp in Stp2Pat:\n",
    "                X, time = Stp2Pat[tarStp]\n",
    "                pat = (X,time,list(tarR))\n",
    "                D2Pat[d].append(pat)\n",
    "            else:\n",
    "                continue\n",
    "    print('配送日:{} 配送パターン数:{}'.format(d, len(D2Pat[d])))"
   ]
  },
  {
   "cell_type": "markdown",
   "id": "5bc02368-cd8d-4453-8c98-4e394ae0f9d8",
   "metadata": {},
   "source": [
    "### ②配送パターンを利用した数理モデルの実装・実験・検証"
   ]
  },
  {
   "cell_type": "code",
   "execution_count": 29,
   "id": "486c206f-e7e4-42f9-bf10-44ce540d5611",
   "metadata": {},
   "outputs": [
    {
     "name": "stdout",
     "output_type": "stream",
     "text": [
      "配送日1日目の配送パターン: ['q_1_0', 'q_1_1', 'q_1_2', 'q_1_3', 'q_1_4', 'q_1_5', 'q_1_6', 'q_1_7', 'q_1_8', 'q_1_9', 'q_1_10', 'q_1_11', 'q_1_12', 'q_1_13', 'q_1_14', 'q_1_15', 'q_1_16', 'q_1_17', 'q_1_18', 'q_1_19', 'q_1_20', 'q_1_21', 'q_1_22', 'q_1_23', 'q_1_24', 'q_1_25', 'q_1_26', 'q_1_27', 'q_1_28', 'q_1_29', 'q_1_30']\n"
     ]
    }
   ],
   "source": [
    "# 配送日に、配送可能な配送パターンのリストを紐づける辞書\n",
    "D2Q = {d:[] for d in D}\n",
    "\n",
    "# 配送パターンに、配送可能な荷物のリストを紐づける辞書\n",
    "Q2R = {}\n",
    "\n",
    "# 配送パターンに、移動時間を紐づける辞書\n",
    "Q2T = {}\n",
    "\n",
    "# 配送パターンに、残業時間を紐づける辞書\n",
    "Q2H = {}\n",
    "\n",
    "# 配送パターンに、配送ルートを紐づける辞書\n",
    "Q2X = {}\n",
    "\n",
    "for d in D:\n",
    "    for q_no, (X,time,tarR) in enumerate(D2Pat[d]):\n",
    "        q = 'q_{}_{}'.format(d, q_no)\n",
    "        D2Q[d].append(q)\n",
    "        Q2R[q] = tarR\n",
    "        Q2T[q] = time\n",
    "        Q2H[q] = max(time - 8, 0)\n",
    "        Q2X[q] = X\n",
    "print('配送日1日目の配送パターン:', D2Q[1])        "
   ]
  },
  {
   "cell_type": "code",
   "execution_count": 30,
   "id": "560b75a4-6827-4956-9568-43b3f824a338",
   "metadata": {},
   "outputs": [
    {
     "name": "stdout",
     "output_type": "stream",
     "text": [
      "対象となる配送パターンの識別子: q_1_20\n",
      "荷物のリスト: ['r04', 'r53', 'r99']\n",
      "移動時間: 8.51538202654576\n",
      "残業時間: 0.51538202654576\n",
      "配送ルート: [('p', 's2'), ('s2', 's9'), ('s9', 'p')]\n"
     ]
    }
   ],
   "source": [
    "q = 'q_1_20'\n",
    "print('対象となる配送パターンの識別子:', q)\n",
    "print('荷物のリスト:', Q2R[q])\n",
    "print('移動時間:', Q2T[q])\n",
    "print('残業時間:', Q2H[q])\n",
    "print('配送ルート:', Q2X[q])"
   ]
  },
  {
   "cell_type": "markdown",
   "id": "283e7504-2827-4f09-9b35-849ab25a929e",
   "metadata": {},
   "source": [
    "### ★「配送パターンを利用した数理モデル」の実装"
   ]
  },
  {
   "cell_type": "code",
   "execution_count": 31,
   "id": "f500e4c6-b9a7-4729-a839-07b0a554332f",
   "metadata": {},
   "outputs": [
    {
     "name": "stdout",
     "output_type": "stream",
     "text": [
      "Welcome to the CBC MILP Solver \n",
      "Version: 2.10.3 \n",
      "Build Date: Dec 15 2019 \n",
      "\n",
      "command line - /Users/iwanaga/.pyenv/env/lib/python3.10/site-packages/pulp/solverdir/cbc/osx/64/cbc /var/folders/5f/6t2pl2pd5l53yt6l2ms05lww0000gn/T/8dae7c7a25a94dea82c6e4fb65de2a5a-pulp.mps timeMode elapsed branch printingOptions all solution /var/folders/5f/6t2pl2pd5l53yt6l2ms05lww0000gn/T/8dae7c7a25a94dea82c6e4fb65de2a5a-pulp.sol (default strategy 1)\n",
      "At line 2 NAME          MODEL\n",
      "At line 3 ROWS\n",
      "At line 125 COLUMNS\n",
      "At line 140026 RHS\n",
      "At line 140147 BOUNDS\n",
      "At line 159043 ENDATA\n",
      "Problem MODEL has 120 rows, 18895 columns and 83435 elements\n",
      "Coin0008I MODEL read with 0 errors\n",
      "Option for timeMode changed from cpu to elapsed\n",
      "Continuous objective value is 1.10697e+06 - 0.10 seconds\n",
      "Cgl0004I processed model has 120 rows, 18895 columns (18895 integer (18895 of which binary)) and 83435 elements\n",
      "Cbc0038I Initial state - 10 integers unsatisfied sum - 5\n",
      "Cbc0038I Pass   1: suminf.    0.00000 (0) obj. 2.01881e+06 iterations 291\n",
      "Cbc0038I Solution found of 2.01881e+06\n",
      "Cbc0038I Before mini branch and bound, 18765 integers at bound fixed and 91 continuous\n",
      "Cbc0038I Full problem 120 rows 18895 columns, reduced to 21 rows 26 columns\n",
      "Cbc0038I Mini branch and bound improved solution from 2.01881e+06 to 1.28375e+06 (0.35 seconds)\n",
      "Cbc0038I Round again with cutoff of 1.26607e+06\n",
      "Cbc0038I Reduced cost fixing fixed 2 variables on major pass 2\n",
      "Cbc0038I Pass   2: suminf.    3.56433 (11) obj. 1.26607e+06 iterations 566\n",
      "Cbc0038I Pass   3: suminf.    0.13982 (1) obj. 1.26607e+06 iterations 409\n",
      "Cbc0038I Pass   4: suminf.    0.13982 (1) obj. 1.26607e+06 iterations 145\n",
      "Cbc0038I Pass   5: suminf.    0.00000 (0) obj. 1.15726e+06 iterations 425\n",
      "Cbc0038I Solution found of 1.15726e+06\n",
      "Cbc0038I Before mini branch and bound, 18754 integers at bound fixed and 94 continuous\n",
      "Cbc0038I Full problem 120 rows 18895 columns, reduced to 27 rows 38 columns\n",
      "Cbc0038I Mini branch and bound improved solution from 1.15726e+06 to 1.15725e+06 (0.65 seconds)\n",
      "Cbc0038I Round again with cutoff of 1.1472e+06\n",
      "Cbc0038I Reduced cost fixing fixed 6114 variables on major pass 3\n",
      "Cbc0038I Pass   6: suminf.    3.45984 (10) obj. 1.1472e+06 iterations 31\n",
      "Cbc0038I Pass   7: suminf.    1.33840 (5) obj. 1.1472e+06 iterations 190\n",
      "Cbc0038I Pass   8: suminf.    0.19426 (1) obj. 1.1472e+06 iterations 68\n",
      "Cbc0038I Pass   9: suminf.    0.00000 (0) obj. 1.11172e+06 iterations 354\n",
      "Cbc0038I Solution found of 1.11172e+06\n",
      "Cbc0038I Before mini branch and bound, 18756 integers at bound fixed and 96 continuous\n",
      "Cbc0038I Full problem 120 rows 18895 columns, reduced to 17 rows 23 columns\n",
      "Cbc0038I Mini branch and bound improved solution from 1.11172e+06 to 1.11033e+06 (0.83 seconds)\n",
      "Cbc0038I Round again with cutoff of 1.10932e+06\n",
      "Cbc0038I Reduced cost fixing fixed 18002 variables on major pass 4\n",
      "Cbc0038I Pass  10: suminf.    4.97079 (13) obj. 1.10932e+06 iterations 31\n",
      "Cbc0038I Pass  11: suminf.    1.99928 (10) obj. 1.10932e+06 iterations 165\n",
      "Cbc0038I Pass  12: suminf.    2.00036 (75) obj. 1.10932e+06 iterations 486\n",
      "Cbc0038I Pass  13: suminf.    1.93453 (4) obj. 1.10932e+06 iterations 420\n",
      "Cbc0038I Pass  14: suminf.    1.93453 (4) obj. 1.10932e+06 iterations 37\n",
      "Cbc0038I Pass  15: suminf.    0.00000 (0) obj. 1.10774e+06 iterations 333\n",
      "Cbc0038I Solution found of 1.10774e+06\n",
      "Cbc0038I Before mini branch and bound, 18637 integers at bound fixed and 81 continuous\n",
      "Cbc0038I Full problem 120 rows 18895 columns, reduced to 22 rows 37 columns\n",
      "Cbc0038I Mini branch and bound improved solution from 1.10774e+06 to 1.10728e+06 (1.05 seconds)\n",
      "Cbc0038I Round again with cutoff of 1.10718e+06\n",
      "Cbc0038I Reduced cost fixing fixed 18598 variables on major pass 5\n",
      "Cbc0038I Pass  16: suminf.    2.99878 (9) obj. 1.10718e+06 iterations 13\n",
      "Cbc0038I Pass  17: suminf.    2.99611 (12) obj. 1.10718e+06 iterations 25\n",
      "Cbc0038I Pass  18: suminf.    2.99833 (11) obj. 1.10718e+06 iterations 13\n",
      "Cbc0038I Pass  19: suminf.    3.97451 (8) obj. 1.10718e+06 iterations 154\n",
      "Cbc0038I Pass  20: suminf.    3.97451 (8) obj. 1.10718e+06 iterations 8\n",
      "Cbc0038I Pass  21: suminf.    3.96902 (10) obj. 1.10718e+06 iterations 4\n",
      "Cbc0038I Pass  22: suminf.    1.26726 (7) obj. 1.10718e+06 iterations 14\n",
      "Cbc0038I Pass  23: suminf.    0.95045 (6) obj. 1.10718e+06 iterations 15\n",
      "Cbc0038I Pass  24: suminf.    2.99642 (8) obj. 1.10718e+06 iterations 52\n",
      "Cbc0038I Pass  25: suminf.    2.99632 (11) obj. 1.10718e+06 iterations 3\n",
      "Cbc0038I Pass  26: suminf.    2.99640 (7) obj. 1.10718e+06 iterations 48\n",
      "Cbc0038I Pass  27: suminf.    2.99833 (11) obj. 1.10718e+06 iterations 51\n",
      "Cbc0038I Pass  28: suminf.    3.97451 (8) obj. 1.10718e+06 iterations 108\n",
      "Cbc0038I Pass  29: suminf.    3.00000 (11) obj. 1.10718e+06 iterations 21\n",
      "Cbc0038I Pass  30: suminf.    3.00026 (9) obj. 1.10718e+06 iterations 53\n",
      "Cbc0038I Pass  31: suminf.    3.97451 (8) obj. 1.10718e+06 iterations 55\n",
      "Cbc0038I Pass  32: suminf.    3.97451 (8) obj. 1.10718e+06 iterations 6\n",
      "Cbc0038I Pass  33: suminf.    3.97451 (8) obj. 1.10718e+06 iterations 3\n",
      "Cbc0038I Pass  34: suminf.    3.97451 (8) obj. 1.10718e+06 iterations 1\n",
      "Cbc0038I Pass  35: suminf.    3.97451 (8) obj. 1.10718e+06 iterations 12\n",
      "Cbc0038I Pass  36: suminf.    3.96902 (10) obj. 1.10718e+06 iterations 28\n",
      "Cbc0038I Pass  37: suminf.    1.26726 (7) obj. 1.10718e+06 iterations 22\n",
      "Cbc0038I Pass  38: suminf.    0.95045 (6) obj. 1.10718e+06 iterations 16\n",
      "Cbc0038I Pass  39: suminf.    2.99642 (8) obj. 1.10718e+06 iterations 67\n",
      "Cbc0038I Pass  40: suminf.    2.99642 (8) obj. 1.10718e+06 iterations 2\n",
      "Cbc0038I Pass  41: suminf.    2.99632 (11) obj. 1.10718e+06 iterations 1\n",
      "Cbc0038I Pass  42: suminf.    2.99640 (7) obj. 1.10718e+06 iterations 45\n",
      "Cbc0038I Pass  43: suminf.    2.99833 (11) obj. 1.10718e+06 iterations 62\n",
      "Cbc0038I Pass  44: suminf.    3.97451 (8) obj. 1.10718e+06 iterations 46\n",
      "Cbc0038I Pass  45: suminf.    3.97451 (8) obj. 1.10718e+06 iterations 10\n",
      "Cbc0038I No solution found this major pass\n",
      "Cbc0038I Before mini branch and bound, 18748 integers at bound fixed and 93 continuous\n",
      "Cbc0038I Full problem 120 rows 18895 columns, reduced to 25 rows 43 columns\n",
      "Cbc0038I Mini branch and bound did not improve solution (1.38 seconds)\n",
      "Cbc0038I After 1.39 seconds - Feasibility pump exiting with objective of 1.10728e+06 - took 0.97 seconds\n",
      "Cbc0012I Integer solution of 1107277.1 found by feasibility pump after 0 iterations and 0 nodes (1.39 seconds)\n",
      "Cbc0038I Full problem 120 rows 18895 columns, reduced to 11 rows 17 columns\n",
      "Cbc0012I Integer solution of 1107276.8 found by DiveCoefficient after 8 iterations and 0 nodes (1.50 seconds)\n",
      "Cbc0031I 3 added rows had average density of 11.666667\n",
      "Cbc0013I At root node, 3 cuts changed objective from 1106965.9 to 1107276.8 in 2 passes\n",
      "Cbc0014I Cut generator 0 (Probing) - 0 row cuts average 0.0 elements, 15 column cuts (15 active)  in 0.003 seconds - new frequency is 1\n",
      "Cbc0014I Cut generator 1 (Gomory) - 2 row cuts average 16.0 elements, 0 column cuts (0 active)  in 0.001 seconds - new frequency is 1\n",
      "Cbc0014I Cut generator 2 (Knapsack) - 0 row cuts average 0.0 elements, 0 column cuts (0 active)  in 0.028 seconds - new frequency is -100\n",
      "Cbc0014I Cut generator 3 (Clique) - 3 row cuts average 3.0 elements, 0 column cuts (0 active)  in 0.000 seconds - new frequency is 1\n",
      "Cbc0014I Cut generator 4 (MixedIntegerRounding2) - 0 row cuts average 0.0 elements, 0 column cuts (0 active)  in 0.002 seconds - new frequency is -100\n",
      "Cbc0014I Cut generator 5 (FlowCover) - 0 row cuts average 0.0 elements, 0 column cuts (0 active)  in 0.001 seconds - new frequency is -100\n",
      "Cbc0001I Search completed - best objective 1107276.828907898, took 8 iterations and 0 nodes (1.50 seconds)\n",
      "Cbc0035I Maximum depth 0, 18734 variables fixed on reduced cost\n",
      "Cuts at root node changed objective from 1.10697e+06 to 1.10728e+06\n",
      "Probing was tried 2 times and created 15 cuts of which 0 were active after adding rounds of cuts (0.003 seconds)\n",
      "Gomory was tried 2 times and created 2 cuts of which 0 were active after adding rounds of cuts (0.001 seconds)\n",
      "Knapsack was tried 2 times and created 0 cuts of which 0 were active after adding rounds of cuts (0.028 seconds)\n",
      "Clique was tried 2 times and created 3 cuts of which 0 were active after adding rounds of cuts (0.000 seconds)\n",
      "MixedIntegerRounding2 was tried 2 times and created 0 cuts of which 0 were active after adding rounds of cuts (0.002 seconds)\n",
      "FlowCover was tried 2 times and created 0 cuts of which 0 were active after adding rounds of cuts (0.001 seconds)\n",
      "TwoMirCuts was tried 1 times and created 0 cuts of which 0 were active after adding rounds of cuts (0.003 seconds)\n",
      "ZeroHalf was tried 1 times and created 0 cuts of which 0 were active after adding rounds of cuts (0.001 seconds)\n",
      "\n",
      "Result - Optimal solution found\n",
      "\n",
      "Objective value:                1107276.82890790\n",
      "Enumerated nodes:               0\n",
      "Total iterations:               8\n",
      "Time (CPU seconds):             1.30\n",
      "Time (Wallclock seconds):       1.53\n",
      "\n",
      "Option for printingOptions changed from normal to all\n",
      "Total time (CPU seconds):       1.35   (Wallclock seconds):       1.59\n",
      "\n",
      "ステータス: Optimal\n",
      "残業費用:8213[円]\n",
      "外注費用:1098940[円]\n",
      "費用剛健:1107153[円]\n",
      "移動時間:123[時間]\n"
     ]
    }
   ],
   "source": [
    "import pulp \n",
    "\n",
    "prob = pulp.LpProblem('vrp_enum', pulp.LpMinimize)\n",
    "\n",
    "x = {}\n",
    "for d in D:\n",
    "    for q in D2Q[d]:\n",
    "        x[d,q] = pulp.LpVariable('x_{}_{}'.format(d, q), cat='Binary')\n",
    "y = pulp.LpVariable.dicts('y', R, cat='Continuous', lowBound=0, upBound=1)        \n",
    "\n",
    "# (A') 各配送日に1つの配送パターンを選択\n",
    "for d in D:\n",
    "    prob += pulp.lpSum([x[d,q] for q in D2Q[d]]) == 1\n",
    "\n",
    "# (B') 各荷物は外注するか自社配送のどちらかを選択\n",
    "for r in R:\n",
    "    prob += y[r] + pulp.lpSum(x[d,q] for d in D for q in D2Q[d] if r in Q2R[q]) == 1\n",
    "\n",
    "# (C') 費用合計と移動時間合計の最小化\n",
    "zangyo = pulp.lpSum([3000 * Q2H[q] * x[d,q] for d in D for q in D2Q[d]])    \n",
    "gaityu = pulp.lpSum([46 * R2W[r] * y[r] for r in R])\n",
    "time = pulp.lpSum([x[d,q] * Q2T[q] for d in D for q in D2Q[d]])\n",
    "prob += zangyo + gaityu + time\n",
    "\n",
    "# 求解\n",
    "solver = pulp.PULP_CBC_CMD(msg=1)\n",
    "status = prob.solve(solver)\n",
    "print('ステータス:', pulp.LpStatus[status])\n",
    "\n",
    "# 結果の表示\n",
    "print('残業費用:{:.0f}[円]'.format(zangyo.value()))    \n",
    "print('外注費用:{:.0f}[円]'.format(gaityu.value()))    \n",
    "print('費用剛健:{:.0f}[円]'.format(zangyo.value() + gaityu.value()))    \n",
    "print('移動時間:{:.0f}[時間]'.format(time.value()))    "
   ]
  },
  {
   "cell_type": "code",
   "execution_count": 21,
   "id": "3ac1e187-22f8-46b7-a728-7924ee9f32ab",
   "metadata": {},
   "outputs": [
    {
     "ename": "NameError",
     "evalue": "name 'D2Q' is not defined",
     "output_type": "error",
     "traceback": [
      "\u001b[0;31m---------------------------------------------------------------------------\u001b[0m",
      "\u001b[0;31mNameError\u001b[0m                                 Traceback (most recent call last)",
      "Cell \u001b[0;32mIn[21], line 1\u001b[0m\n\u001b[0;32m----> 1\u001b[0m resD2Q \u001b[38;5;241m=\u001b[39m {d:q \u001b[38;5;28;01mfor\u001b[39;00m d \u001b[38;5;129;01min\u001b[39;00m D \u001b[38;5;28;01mfor\u001b[39;00m q \u001b[38;5;129;01min\u001b[39;00m D2Q[d] \u001b[38;5;28;01mif\u001b[39;00m x[d,q]\u001b[38;5;241m.\u001b[39mvalue() \u001b[38;5;241m==\u001b[39m \u001b[38;5;241m1\u001b[39m}\n\u001b[1;32m      2\u001b[0m \u001b[38;5;28;01mfor\u001b[39;00m d \u001b[38;5;129;01min\u001b[39;00m D:\n\u001b[1;32m      3\u001b[0m     tar_q \u001b[38;5;241m=\u001b[39m resD2Q[d]\n",
      "Cell \u001b[0;32mIn[21], line 1\u001b[0m, in \u001b[0;36m<dictcomp>\u001b[0;34m(.0)\u001b[0m\n\u001b[0;32m----> 1\u001b[0m resD2Q \u001b[38;5;241m=\u001b[39m {d:q \u001b[38;5;28;01mfor\u001b[39;00m d \u001b[38;5;129;01min\u001b[39;00m D \u001b[38;5;28;01mfor\u001b[39;00m q \u001b[38;5;129;01min\u001b[39;00m D2Q[d] \u001b[38;5;28;01mif\u001b[39;00m x[d,q]\u001b[38;5;241m.\u001b[39mvalue() \u001b[38;5;241m==\u001b[39m \u001b[38;5;241m1\u001b[39m}\n\u001b[1;32m      2\u001b[0m \u001b[38;5;28;01mfor\u001b[39;00m d \u001b[38;5;129;01min\u001b[39;00m D:\n\u001b[1;32m      3\u001b[0m     tar_q \u001b[38;5;241m=\u001b[39m resD2Q[d]\n",
      "\u001b[0;31mNameError\u001b[0m: name 'D2Q' is not defined"
     ]
    }
   ],
   "source": [
    "resD2Q = {d:q for d in D for q in D2Q[d] if x[d,q].value() == 1}\n",
    "for d in D:\n",
    "    tar_q = resD2Q[d]\n",
    "    \n",
    "    # 移動する地点の順番のリストを作成\n",
    "    X = Q2X[tar_q].copy()\n",
    "    tar = p\n",
    "    Route = [p]\n",
    "    while len(X) >= 1:\n",
    "        for k1,k2 in X:\n",
    "            if k1 == tar:\n",
    "                tar = k2\n",
    "                Route.append(k2)\n",
    "                X.remove((k1,k2))\n",
    "    print('---配送日:{} 配送パターン:{}---'.format(d, tar_q))\n",
    "    print('移動時間:{:.2f}[時間]'.format(Q2T[tar_q]))\n",
    "    print('残業時間:{:.2f}[時間]'.format(Q2H[tar_q]))\n",
    "    print('配送ルート:', '->'.join(Route))\n",
    "    for r in Q2R[tar_q]:\n",
    "        print('荷物{}-お店{}'.format(r, R2S[r]))    "
   ]
  },
  {
   "cell_type": "code",
   "execution_count": 33,
   "id": "097eebad-11fb-4458-a17c-60ac9d68e773",
   "metadata": {},
   "outputs": [
    {
     "data": {
      "image/png": "[encoded data removed]",
      "text/plain": [
       "<Figure size 1200x2000 with 20 Axes>"
      ]
     },
     "metadata": {},
     "output_type": "display_data"
    }
   ],
   "source": [
    "import matplotlib.pyplot as plt\n",
    "\n",
    "# 各地点の座標の取得\n",
    "K2XY = {row.k:(row.x,row.y) for row in k_df.itertuples()}\n",
    "\n",
    "fig = plt.figure(figsize=(12,20))\n",
    "for i in range(len(D)):\n",
    "    d = D[i]\n",
    "    tar_q = resD2Q[d]\n",
    "    X = Q2X[tar_q]\n",
    "    routeK = [k1 for k1,k2 in X]\n",
    "    time = Q2T[tar_q]    \n",
    "    title_text = 'day:{}({:.1f}[h])'.format(d, time)\n",
    "    \n",
    "    ax = fig.add_subplot(5, 4, i + 1,\n",
    "                         xlim=(-3.5, 3.5),\n",
    "                         ylim=(-3.5, 3.5),\n",
    "                         title=title_text)\n",
    "    ax.set_aspect('equal')    \n",
    "    \n",
    "    for row in k_df.itertuples():\n",
    "        if row.k in routeK:\n",
    "            if row.depo_flag:\n",
    "                ax.scatter(row.x, row.y, marker='o')\n",
    "            else:\n",
    "                ax.scatter(row.x, row.y, marker='x')\n",
    "    \n",
    "    for k1,k2 in X:\n",
    "        (x1,y1) = K2XY[k1]\n",
    "        (x2,y2) = K2XY[k2]\n",
    "        ax.arrow(x1, y1, (x2 - x1), (y2 - y1),\n",
    "                head_width=0.2,\n",
    "                length_includes_head=True)"
   ]
  }
 ],
 "metadata": {
  "kernelspec": {
   "display_name": "Python 3 (ipykernel)",
   "language": "python",
   "name": "python3"
  },
  "language_info": {
   "codemirror_mode": {
    "name": "ipython",
    "version": 3
   },
   "file_extension": ".py",
   "mimetype": "text/x-python",
   "name": "python",
   "nbconvert_exporter": "python",
   "pygments_lexer": "ipython3",
   "version": "3.11.3"
  }
 },
 "nbformat": 4,
 "nbformat_minor": 5
}
