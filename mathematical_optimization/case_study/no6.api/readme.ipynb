{
 "cells": [
  {
   "cell_type": "markdown",
   "metadata": {},
   "source": [
    "## 課題整理\n",
    "- 学生の乗車グループ分け問題\n",
    "  - 要件(1) 学生をどの車に割り当てるかを決定する\n",
    "\n",
    "- 旅行に行くための法規制に関する制約\n",
    "  - 要件(2) 乗車人数は定員を超えてはいけない\n",
    "  - 要件(3) 運転免許を持つ学生を1人以上割り当てる\n",
    "\n",
    "- 懇親を目的とした制約\n",
    "  - 要件(4) 各学年の学生を１人以上車に割り当てる\n",
    "\n",
    "- ジェンダーバランスを考慮した制約\n",
    "  - 要件(5) 男女それぞれ１人以上を車に割り当てる"
   ]
  },
  {
   "cell_type": "markdown",
   "metadata": {},
   "source": []
  }
 ],
 "metadata": {
  "kernelspec": {
   "display_name": "base",
   "language": "python",
   "name": "python3"
  },
  "language_info": {
   "name": "python",
   "version": "3.11.3"
  }
 },
 "nbformat": 4,
 "nbformat_minor": 2
}
