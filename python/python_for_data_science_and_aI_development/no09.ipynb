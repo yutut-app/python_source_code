{
 "cells": [
  {
   "cell_type": "markdown",
   "metadata": {},
   "source": [
    "# Pythonのループ（for文とwhile文）を理解しよう\n",
    "\n",
    "## はじめに\n",
    "\n",
    "こんにちは！これからPythonプログラミングを学ぶ皆さんに、Pythonのループ、特にfor文とwhile文について説明します。ループは、同じタスクを繰り返し実行するために使用される強力な機能です。ループを理解することは、Pythonでプログラムを書く上で非常に重要です。\n",
    "\n",
    "## range関数\n",
    "\n",
    "ループについて説明する前に、range関数について理解しましょう。range関数は、順序付けられたシーケンスをリストとして出力します。\n"
   ]
  },
  {
   "cell_type": "code",
   "execution_count": 1,
   "metadata": {},
   "outputs": [
    {
     "name": "stdout",
     "output_type": "stream",
     "text": [
      "[0, 1, 2]\n",
      "[10, 11, 12, 13, 14]\n"
     ]
    }
   ],
   "source": [
    "# range関数の例\n",
    "print(list(range(3)))  # 出力結果：[0, 1, 2]\n",
    "print(list(range(10, 15)))  # 出力結果：[10, 11, 12, 13, 14]\n"
   ]
  },
  {
   "cell_type": "markdown",
   "metadata": {},
   "source": [
    "上記の例では、`range(3)`は0から2までの整数のシーケンスを生成し、`range(10, 15)`は10から14までの整数のシーケンスを生成します。\n",
    "\n",
    "## for文\n",
    "\n",
    "for文は、リストやタプルなどのイテラブルなオブジェクトの要素を1つずつ取り出し、処理を繰り返すために使用します。\n"
   ]
  },
  {
   "cell_type": "code",
   "execution_count": 2,
   "metadata": {},
   "outputs": [
    {
     "name": "stdout",
     "output_type": "stream",
     "text": [
      "赤\n",
      "青\n",
      "黄\n",
      "緑\n",
      "紫\n"
     ]
    }
   ],
   "source": [
    "# for文の例\n",
    "colors = [\"赤\", \"青\", \"黄\", \"緑\", \"紫\"]\n",
    "for color in colors:\n",
    "    print(color)\n"
   ]
  },
  {
   "cell_type": "markdown",
   "metadata": {},
   "source": [
    "上記の例では、`colors`というリストの要素を1つずつ`color`変数に代入し、その値を出力しています。出力結果は以下のようになります。\n",
    "\n",
    "### range関数とfor文の組み合わせ\n",
    "\n",
    "range関数とfor文を組み合わせることで、指定した回数だけ処理を繰り返すことができます。\n"
   ]
  },
  {
   "cell_type": "code",
   "execution_count": 10,
   "metadata": {},
   "outputs": [
    {
     "name": "stdout",
     "output_type": "stream",
     "text": [
      "1番目のループです。\n",
      "2番目のループです。\n",
      "3番目のループです。\n",
      "4番目のループです。\n",
      "5番目のループです。\n"
     ]
    }
   ],
   "source": [
    "# range関数とfor文の組み合わせの例\n",
    "for i in range(5):\n",
    "    print(f\"{i+1}番目のループです。\")\n"
   ]
  },
  {
   "cell_type": "markdown",
   "metadata": {},
   "source": [
    "上記の例では、`range(5)`で0から4までの整数のシーケンスを生成し、それぞれの値を`i`変数に代入しながらループを5回繰り返しています。\n",
    "\n",
    "### enumerate関数とfor文の組み合わせ\n",
    "\n",
    "enumerate関数とfor文を組み合わせることで、リストやタプルの要素とそのインデックスを同時に取得できます。\n"
   ]
  },
  {
   "cell_type": "code",
   "execution_count": 11,
   "metadata": {},
   "outputs": [
    {
     "name": "stdout",
     "output_type": "stream",
     "text": [
      "1番目の果物はりんごです。\n",
      "2番目の果物はバナナです。\n",
      "3番目の果物はオレンジです。\n"
     ]
    }
   ],
   "source": [
    "# enumerate関数とfor文の組み合わせの例\n",
    "fruits = [\"りんご\", \"バナナ\", \"オレンジ\"]\n",
    "for index, fruit in enumerate(fruits):\n",
    "    print(f\"{index+1}番目の果物は{fruit}です。\")\n"
   ]
  },
  {
   "cell_type": "markdown",
   "metadata": {},
   "source": [
    "上記の例では、`enumerate(fruits)`でリストの要素とそのインデックスを同時に取得し、それぞれの値を`index`変数と`fruit`変数に代入しながらループを繰り返しています。出力結果は以下のようになります。\n",
    "\n",
    "### break文とcontinue文\n",
    "\n",
    "for文の中で、break文とcontinue文を使用することで、ループの制御を行うことができます。\n",
    "\n",
    "- break文：ループを途中で終了し、ループの外に出ます。\n",
    "- continue文：現在の反復をスキップし、ループの次の反復に進みます。\n"
   ]
  },
  {
   "cell_type": "code",
   "execution_count": 5,
   "metadata": {},
   "outputs": [
    {
     "name": "stdout",
     "output_type": "stream",
     "text": [
      "1\n",
      "3は3の倍数です。\n"
     ]
    }
   ],
   "source": [
    "# break文とcontinue文の例\n",
    "numbers = [1, 2, 3, 4, 5, 6, 7, 8, 9, 10]\n",
    "for number in numbers:\n",
    "    if number % 3 == 0:\n",
    "        print(f\"{number}は3の倍数です。\")\n",
    "        break\n",
    "    if number % 2 == 0:\n",
    "        continue\n",
    "    print(number)\n"
   ]
  },
  {
   "cell_type": "markdown",
   "metadata": {},
   "source": [
    "上記の例では、`numbers`リストの要素を1つずつ`number`変数に代入しながらループを繰り返しています。\n",
    "\n",
    "- `number`が3の倍数の場合、メッセージを出力し、break文でループを終了します。\n",
    "- `number`が偶数の場合、continue文で次の反復に進みます。\n",
    "- それ以外の場合、`number`を出力します。\n",
    "\n",
    "出力結果は以下のようになります。\n"
   ]
  },
  {
   "cell_type": "markdown",
   "metadata": {},
   "source": [
    "## while文\n",
    "\n",
    "while文は、指定した条件が真である限り、処理を繰り返すために使用します。\n"
   ]
  },
  {
   "cell_type": "code",
   "execution_count": 12,
   "metadata": {},
   "outputs": [
    {
     "name": "stdout",
     "output_type": "stream",
     "text": [
      "カウント：1\n",
      "カウント：2\n",
      "カウント：3\n",
      "カウント：4\n",
      "カウント：5\n"
     ]
    }
   ],
   "source": [
    "# while文の例\n",
    "count = 0\n",
    "while count < 5:\n",
    "    count += 1\n",
    "    print(f\"カウント：{count}\")\n"
   ]
  },
  {
   "cell_type": "markdown",
   "metadata": {},
   "source": [
    "上記の例では、`count`変数が5未満である限り、ループ内の処理を繰り返します。`count`変数は、ループが実行されるたびに1ずつ増加します。出力結果は以下のようになります。\n",
    "\n",
    "### 条件付きのwhile文\n",
    "\n",
    "while文の条件に、特定の値を判定することで、条件付きのループを実現できます。\n"
   ]
  },
  {
   "cell_type": "code",
   "execution_count": 7,
   "metadata": {},
   "outputs": [
    {
     "name": "stdout",
     "output_type": "stream",
     "text": [
      "快適な気温： [20, 22, 24, 26, 28]\n"
     ]
    }
   ],
   "source": [
    "# 条件付きのwhile文の例\n",
    "temperatures = [20, 22, 24, 26, 28, 30, 32]\n",
    "comfortable_temperatures = []\n",
    "index = 0\n",
    "\n",
    "while index < len(temperatures) and temperatures[index] <= 28:\n",
    "    comfortable_temperatures.append(temperatures[index])\n",
    "    index += 1\n",
    "\n",
    "print(\"快適な気温：\", comfortable_temperatures)\n"
   ]
  },
  {
   "cell_type": "markdown",
   "metadata": {},
   "source": [
    "上記の例では、`temperatures`リストの要素が28以下である限り、`comfortable_temperatures`リストに要素を追加し続けます。`index`変数は、ループが実行されるたびに1ずつ増加します。出力結果は以下のようになります。\n",
    "\n",
    "### while文とelse文の組み合わせ\n",
    "\n",
    "while文の後にelse文を追加することで、ループが正常に終了した場合の処理を記述できます。\n"
   ]
  },
  {
   "cell_type": "code",
   "execution_count": 13,
   "metadata": {},
   "outputs": [
    {
     "name": "stdout",
     "output_type": "stream",
     "text": [
      "カウント：1\n",
      "カウント：2\n",
      "カウント：3\n",
      "カウント：4\n",
      "カウント：5\n",
      "ループが正常に終了しました。\n"
     ]
    }
   ],
   "source": [
    "# while文とelse文の組み合わせの例\n",
    "count = 0\n",
    "while count < 5:\n",
    "    count += 1\n",
    "    print(f\"カウント：{count}\")\n",
    "else:\n",
    "    print(\"ループが正常に終了しました。\")\n"
   ]
  },
  {
   "cell_type": "markdown",
   "metadata": {},
   "source": [
    "上記の例では、`count`変数が5未満である限り、ループ内の処理を繰り返します。ループが正常に終了した後、else文の処理が実行されます。出力結果は以下のようになります。\n",
    "\n",
    "## ループの入れ子（ネスト）\n",
    "\n",
    "ループの中に別のループを記述することを、ループの入れ子（ネスト）と呼びます。これにより、より複雑な繰り返し処理を実現できます。\n"
   ]
  },
  {
   "cell_type": "code",
   "execution_count": 9,
   "metadata": {},
   "outputs": [
    {
     "name": "stdout",
     "output_type": "stream",
     "text": [
      "1 × 1 = 1\n",
      "1 × 2 = 2\n",
      "1 × 3 = 3\n",
      "--------\n",
      "2 × 1 = 2\n",
      "2 × 2 = 4\n",
      "2 × 3 = 6\n",
      "--------\n",
      "3 × 1 = 3\n",
      "3 × 2 = 6\n",
      "3 × 3 = 9\n",
      "--------\n"
     ]
    }
   ],
   "source": [
    "# ループの入れ子の例\n",
    "for i in range(1, 4):\n",
    "    for j in range(1, 4):\n",
    "        print(f\"{i} × {j} = {i*j}\")\n",
    "    print(\"--------\")\n"
   ]
  },
  {
   "cell_type": "markdown",
   "metadata": {},
   "source": [
    "上記の例では、外側のループで`i`変数を1から3まで変化させ、内側のループで`j`変数を1から3まで変化させながら、掛け算の結果を出力しています。出力結果は以下のようになります。\n",
    "\n",
    "## まとめ\n",
    "\n",
    "本ホームページでは、Pythonのループ、特にfor文とwhile文について詳しく説明しました。\n",
    "\n",
    "for文は、リストやタプルなどのイテラブルなオブジェクトの要素を1つずつ取り出し、処理を繰り返すために使用します。range関数やenumerate関数と組み合わせることで、より便利に使用できます。また、break文とcontinue文を使用することで、ループの制御を行うことができます。\n",
    "\n",
    "while文は、指定した条件が真である限り、処理を繰り返すために使用します。条件に特定の値を判定することで、条件付きのループを実現できます。また、else文と組み合わせることで、ループが正常に終了した場合の処理を記述できます。\n",
    "\n",
    "ループの入れ子（ネスト）を使用することで、より複雑な繰り返し処理を実現できます。\n",
    "\n",
    "ループは、同じタスクを繰り返し実行するために非常に重要な機能です。これからPythonを学ぶ皆さんは、for文とwhile文の使い方を身につけ、プログラムの中で効果的に活用していきましょう。"
   ]
  },
  {
   "cell_type": "markdown",
   "metadata": {},
   "source": [
    "問題1\n",
    "あなたは、友達と一緒に映画を見に行くことにしました。映画館には、以下の映画が上映されています。\n",
    "\n",
    "movies = [\"シン・ゴジラ\", \"カメラを止めるな！\", \"リング\", \"君の名は。\", \"シン・エヴァンゲリオン劇場版\"]\n",
    "\n",
    "for文を使って、上映されている映画のリストを1つずつ出力するPythonコードを書いてください。\n",
    "\n",
    "解答例(Pythonコード):\n"
   ]
  },
  {
   "cell_type": "code",
   "execution_count": 14,
   "metadata": {},
   "outputs": [
    {
     "name": "stdout",
     "output_type": "stream",
     "text": [
      "シン・ゴジラ\n",
      "カメラを止めるな！\n",
      "リング\n",
      "君の名は。\n",
      "シン・エヴァンゲリオン劇場版\n"
     ]
    }
   ],
   "source": [
    "movies = [\"シン・ゴジラ\", \"カメラを止めるな！\", \"リング\", \"君の名は。\", \"シン・エヴァンゲリオン劇場版\"]\n",
    "\n",
    "for movie in movies:\n",
    "    print(movie)\n"
   ]
  },
  {
   "cell_type": "markdown",
   "metadata": {},
   "source": [
    "解説:\n",
    "この問題では、for文を使って、リストの要素を1つずつ取り出し、出力しています。\n",
    "\n",
    "`movies`というリストには、上映されている映画のタイトルが格納されています。\n",
    "\n",
    "`for movie in movies:`という構文で、`movies`リストの要素を1つずつ`movie`変数に代入しながら、ループを繰り返しています。\n",
    "\n",
    "ループ内では、`print(movie)`を使って、その回のループで代入された映画のタイトルを出力しています。\n",
    "\n",
    "このように、for文を使うことで、リストの要素を1つずつ処理することができます。\n"
   ]
  },
  {
   "cell_type": "markdown",
   "metadata": {},
   "source": [
    "\n",
    "問題2\n",
    "あなたは、友達と一緒に図書館に行きました。友達が借りたい本のリストは以下の通りです。\n",
    "books = [\"Pythonによるデータ分析入門\", \"Pythonで学ぶ統計学\", \"Pythonによる機械学習入門\", \"Pythonで学ぶディープラーニング\"]\n",
    "友達が興味を持った本は、タイトルに \"入門\" が含まれる本です。while文を使って、\"入門\"が含まれる本のタイトルを出力し、出力した本の数を数えるPythonコードを書いてください。\n",
    "\n",
    "解答例(Pythonコード):\n"
   ]
  },
  {
   "cell_type": "code",
   "execution_count": 16,
   "metadata": {},
   "outputs": [
    {
     "name": "stdout",
     "output_type": "stream",
     "text": [
      "Pythonによるデータ分析入門\n",
      "Pythonによる機械学習入門\n",
      "「入門」が含まれる本の数は、2冊です。\n"
     ]
    }
   ],
   "source": [
    "books = [\"Pythonによるデータ分析入門\", \"Pythonで学ぶ統計学\", \"Pythonによる機械学習入門\", \"Pythonで学ぶディープラーニング\"]\n",
    "\n",
    "index = 0\n",
    "count = 0\n",
    "\n",
    "while index < len(books):\n",
    "    if \"入門\" in books[index]:\n",
    "        print(books[index])\n",
    "        count += 1\n",
    "    index += 1\n",
    "\n",
    "print(f\"「入門」が含まれる本の数は、{count}冊です。\")"
   ]
  },
  {
   "cell_type": "markdown",
   "metadata": {},
   "source": [
    "解説:\n",
    "この問題では、while文を使って、リストの要素を1つずつチェックし、特定の条件に合致する要素を出力しています。\n",
    "booksというリストには、友達が借りたい本のタイトルが格納されています。タイトルには \"入門\" が含まれるものと含まれないものがあります。\n",
    "index変数を使って、booksリストの要素を1つずつアクセスしながら、ループを繰り返しています。index変数は、ループが実行されるたびに1ずつ増加します。\n",
    "ループ内では、if \"入門\" in books[index]:という条件式で、現在の要素に\"入門\"という文字列が含まれているかどうかを判定しています。\n",
    "条件に合致した場合、print(books[index])を使って、その本のタイトルを出力し、count変数を1増加させています。\n",
    "最後に、print(f\"「入門」が含まれる本の数は、{count}冊です。\")を使って、\"入門\"が含まれる本の数を出力しています。\n",
    "このように、while文と条件式を組み合わせることで、リストの要素を特定の条件に基づいて処理することができます。条件に合致する要素のみを取り出し、それらの数を数えることができます。"
   ]
  },
  {
   "cell_type": "markdown",
   "metadata": {},
   "source": []
  }
 ],
 "metadata": {
  "kernelspec": {
   "display_name": "base",
   "language": "python",
   "name": "python3"
  },
  "language_info": {
   "codemirror_mode": {
    "name": "ipython",
    "version": 3
   },
   "file_extension": ".py",
   "mimetype": "text/x-python",
   "name": "python",
   "nbconvert_exporter": "python",
   "pygments_lexer": "ipython3",
   "version": "3.11.3"
  }
 },
 "nbformat": 4,
 "nbformat_minor": 2
}
