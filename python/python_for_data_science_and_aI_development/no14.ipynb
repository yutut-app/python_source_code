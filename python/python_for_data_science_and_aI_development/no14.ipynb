{
 "cells": [
  {
   "cell_type": "markdown",
   "metadata": {},
   "source": [
    "# Pandasで日本の祭りデータを分析しよう！\n",
    "\n",
    "## はじめに\n",
    "\n",
    "こんにちは！これからPythonプログラミングを学ぶ皆さんに、Pandasというライブラリを使ったデータ分析の基礎について説明します。Pandasは、データ分析や処理に特化した強力なライブラリで、大量のデータを効率的に扱うことができます。\n",
    "\n",
    "このホームページでは、日本の祭りデータを例に、Pandasの基本的な使い方を学んでいきます。初心者の方でも理解できるように、分かりやすく解説していきますので、ぜひ最後までお付き合いください。\n",
    "\n",
    "## Pandasのインポート\n",
    "\n",
    "まず、Pandasライブラリをインポートする方法から説明します。\n"
   ]
  },
  {
   "cell_type": "code",
   "execution_count": 3,
   "metadata": {},
   "outputs": [],
   "source": [
    "import pandas as pd\n"
   ]
  },
  {
   "cell_type": "markdown",
   "metadata": {},
   "source": [
    "`import pandas as pd`は、Pandasライブラリをインポートし、`pd`という短い名前で使えるようにしています。これにより、コードを書くときに毎回`pandas`と長い名前を書く必要がなくなります。\n",
    "\n",
    "## CSVファイルの読み込み\n",
    "\n",
    "次に、CSVファイルを読み込む方法を説明します。CSVは「Comma-Separated Values」の略で、データをカンマで区切って保存するファイル形式です。\n"
   ]
  },
  {
   "cell_type": "code",
   "execution_count": 4,
   "metadata": {},
   "outputs": [
    {
     "name": "stdout",
     "output_type": "stream",
     "text": [
      "CSVファイルを読み込みました。\n",
      "       name        date prefecture\n",
      "0       祇園祭  2023-07-17        京都府\n",
      "1    青森ねぶた祭  2023-08-02        青森県\n",
      "2     阿波おどり  2023-08-12        徳島県\n",
      "3  さっぽろ雪まつり  2023-02-04        北海道\n",
      "4       高山祭  2023-04-14        岐阜県\n"
     ]
    }
   ],
   "source": [
    "# 祭りデータのCSVファイルを読み込む\n",
    "df = pd.read_csv(\"japanese_festivals.csv\")\n",
    "print(\"CSVファイルを読み込みました。\")\n",
    "print(df.head())\n"
   ]
  },
  {
   "cell_type": "markdown",
   "metadata": {},
   "source": [
    "`pd.read_csv()`関数を使って、\"japanese_festivals.csv\"というファイルを読み込んでいます。読み込んだデータは`df`という変数（データフレーム）に格納されます。\n",
    "\n",
    "`df.head()`は、データフレームの最初の5行を表示する関数です。これを使って、データの概要を確認できます。\n",
    "\n",
    "## データフレームの基本操作\n",
    "\n",
    "Pandasのデータフレームには、様々な便利な操作方法があります。\n"
   ]
  },
  {
   "cell_type": "code",
   "execution_count": 5,
   "metadata": {},
   "outputs": [
    {
     "name": "stdout",
     "output_type": "stream",
     "text": [
      "都道府県の列：\n",
      "0    京都府\n",
      "1    青森県\n",
      "2    徳島県\n",
      "3    北海道\n",
      "4    岐阜県\n",
      "Name: prefecture, dtype: object\n",
      "\n",
      "選択された列：\n",
      "       name        date prefecture\n",
      "0       祇園祭  2023-07-17        京都府\n",
      "1    青森ねぶた祭  2023-08-02        青森県\n",
      "2     阿波おどり  2023-08-12        徳島県\n",
      "3  さっぽろ雪まつり  2023-02-04        北海道\n",
      "4       高山祭  2023-04-14        岐阜県\n",
      "\n",
      "ユニークな都道府県：\n",
      "['京都府' '青森県' '徳島県' '北海道' '岐阜県' '東京都' '福岡県' '長崎県' '秋田県' '高知県' '熊本県' '山形県']\n"
     ]
    }
   ],
   "source": [
    "# 特定の列を選択\n",
    "prefecture_column = df[\"prefecture\"]\n",
    "print(\"都道府県の列：\")\n",
    "print(prefecture_column.head())\n",
    "\n",
    "# 複数の列を選択\n",
    "selected_columns = df[[\"name\", \"date\", \"prefecture\"]]\n",
    "print(\"\\n選択された列：\")\n",
    "print(selected_columns.head())\n",
    "\n",
    "# ユニークな値を取得\n",
    "unique_prefectures = df[\"prefecture\"].unique()\n",
    "print(\"\\nユニークな都道府県：\")\n",
    "print(unique_prefectures)\n"
   ]
  },
  {
   "cell_type": "markdown",
   "metadata": {},
   "source": [
    "- `df[\"prefecture\"]`で、\"prefecture\"（都道府県）列だけを選択しています。\n",
    "- `df[[\"name\", \"date\", \"prefecture\"]]`で、複数の列を選択しています。\n",
    "- `df[\"prefecture\"].unique()`で、\"prefecture\"列のユニーク（重複のない）な値を取得しています。\n",
    "\n",
    "## データのフィルタリング\n",
    "\n",
    "条件に合うデータだけを抽出する方法を説明します。\n"
   ]
  },
  {
   "cell_type": "code",
   "execution_count": 6,
   "metadata": {},
   "outputs": [
    {
     "name": "stdout",
     "output_type": "stream",
     "text": [
      "東京都の祭り：\n",
      "   name        date prefecture\n",
      "5   神田祭  2023-05-11        東京都\n",
      "13  三社祭  2023-05-19        東京都\n",
      "\n",
      "7月の祭り：\n",
      "Empty DataFrame\n",
      "Columns: [name, date, prefecture]\n",
      "Index: []\n"
     ]
    }
   ],
   "source": [
    "# 東京都の祭りだけを抽出\n",
    "tokyo_festivals = df[df[\"prefecture\"] == \"東京都\"]\n",
    "print(\"東京都の祭り：\")\n",
    "print(tokyo_festivals)\n",
    "\n",
    "# 7月の祭りだけを抽出\n",
    "july_festivals = df[df[\"date\"].str.contains(\"7月\")]\n",
    "print(\"\\n7月の祭り：\")\n",
    "print(july_festivals)\n"
   ]
  },
  {
   "cell_type": "markdown",
   "metadata": {},
   "source": [
    "- `df[df[\"prefecture\"] == \"東京都\"]`で、都道府県が東京都の祭りだけを抽出しています。\n",
    "- `df[df[\"date\"].str.contains(\"7月\")]`で、開催日に\"7月\"を含む祭りだけを抽出しています。\n",
    "\n",
    "## データの保存\n",
    "\n",
    "分析結果を新しいCSVファイルとして保存する方法を説明します。\n"
   ]
  },
  {
   "cell_type": "code",
   "execution_count": 7,
   "metadata": {},
   "outputs": [
    {
     "name": "stdout",
     "output_type": "stream",
     "text": [
      "東京都の祭りデータを保存しました。\n"
     ]
    }
   ],
   "source": [
    "# 東京都の祭りデータを新しいCSVファイルとして保存\n",
    "tokyo_festivals.to_csv(\"tokyo_festivals.csv\", index=False)\n",
    "print(\"東京都の祭りデータを保存しました。\")\n"
   ]
  },
  {
   "cell_type": "markdown",
   "metadata": {},
   "source": [
    "`to_csv()`メソッドを使って、データフレームをCSVファイルとして保存しています。`index=False`は、行番号を保存しないようにするオプションです。\n",
    "\n",
    "## まとめ\n",
    "\n",
    "このホームページでは、Pandasを使った基本的なデータ分析の方法を、日本の祭りデータを例に説明しました。\n",
    "\n",
    "1. Pandasのインポート\n",
    "2. CSVファイルの読み込み\n",
    "3. データフレームの基本操作（列の選択、ユニークな値の取得）\n",
    "4. データのフィルタリング\n",
    "5. データの保存\n",
    "\n",
    "これらの操作を使いこなすことで、大量のデータから必要な情報を素早く抽出し、分析することができます。例えば、特定の地域や時期の祭りを簡単に見つけたり、祭りの傾向を分析したりすることが可能になります。\n",
    "\n",
    "Pandasは非常に強力なライブラリで、ここで紹介した以外にも多くの機能があります。データの集計、グラフ化、時系列分析など、様々な分析ツールが用意されています。\n",
    "\n",
    "これからプログラミングを学ぶ皆さんは、ぜひPandasの基本を身につけ、自分の興味のあるデータ分析に活用してみてください。旅行計画を立てるときの観光スポット分析や、趣味の映画データベースの整理など、日常生活の様々な場面でPandasの力を活かすことができるでしょう。\n",
    "\n",
    "Pandasを使いこなせるようになれば、大量のデータを効率的に処理し、そこから価値ある情報を引き出すことができます。これは、ビジネスや研究の場面でも非常に重要なスキルとなります。\n",
    "\n",
    "データ分析の世界は奥が深く、常に新しい手法や技術が生まれています。Pandasの基礎を学んだ後は、さらに高度な分析手法やデータ可視化ツールなどにも挑戦してみてください。データが語る物語を読み解く力は、きっと皆さんの人生を豊かにするはずです。"
   ]
  },
  {
   "cell_type": "markdown",
   "metadata": {},
   "source": []
  }
 ],
 "metadata": {
  "kernelspec": {
   "display_name": "base",
   "language": "python",
   "name": "python3"
  },
  "language_info": {
   "codemirror_mode": {
    "name": "ipython",
    "version": 3
   },
   "file_extension": ".py",
   "mimetype": "text/x-python",
   "name": "python",
   "nbconvert_exporter": "python",
   "pygments_lexer": "ipython3",
   "version": "3.11.3"
  }
 },
 "nbformat": 4,
 "nbformat_minor": 2
}
