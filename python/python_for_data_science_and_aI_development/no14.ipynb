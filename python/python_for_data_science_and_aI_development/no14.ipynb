{
 "cells": [
  {
   "cell_type": "markdown",
   "metadata": {},
   "source": [
    "# Pandasで日本の祭りデータを分析しよう！\n",
    "\n",
    "## はじめに\n",
    "\n",
    "こんにちは！これからPythonプログラミングを学ぶ皆さんに、Pandasというライブラリを使ったデータ分析の基礎について説明します。Pandasは、データ分析や処理に特化した強力なライブラリで、大量のデータを効率的に扱うことができます。\n",
    "\n",
    "このホームページでは、日本の祭りデータを例に、Pandasの基本的な使い方を学んでいきます。初心者の方でも理解できるように、分かりやすく解説していきますので、ぜひ最後までお付き合いください。\n",
    "\n",
    "## Pandasのインポート\n",
    "\n",
    "まず、Pandasライブラリをインポートする方法から説明します。\n"
   ]
  },
  {
   "cell_type": "code",
   "execution_count": 8,
   "metadata": {},
   "outputs": [],
   "source": [
    "import pandas as pd"
   ]
  },
  {
   "cell_type": "markdown",
   "metadata": {},
   "source": [
    "import pandas as pdは、Pandasライブラリをインポートし、pdという短い名前で使えるようにしています。これにより、コードを書くときに毎回pandasと長い名前を書く必要がなくなります。"
   ]
  },
  {
   "cell_type": "markdown",
   "metadata": {},
   "source": [
    "## CSVファイルの読み込み\n",
    "次に、CSVファイルを読み込む方法を説明します。CSVは「Comma-Separated Values」の略で、データをカンマで区切って保存するファイル形式です"
   ]
  },
  {
   "cell_type": "code",
   "execution_count": 9,
   "metadata": {},
   "outputs": [
    {
     "name": "stdout",
     "output_type": "stream",
     "text": [
      "CSVファイルを読み込みました。\n",
      "       name month prefecture\n",
      "0       祇園祭    7月        京都府\n",
      "1    青森ねぶた祭    8月        青森県\n",
      "2     阿波おどり    8月        徳島県\n",
      "3  さっぽろ雪まつり    2月        北海道\n",
      "4       高山祭    4月        岐阜県\n"
     ]
    }
   ],
   "source": [
    "# 祭りデータのCSVファイルを読み込む\n",
    "df = pd.read_csv(\"japanese_festivals.csv\")\n",
    "print(\"CSVファイルを読み込みました。\")\n",
    "print(df.head())"
   ]
  },
  {
   "cell_type": "markdown",
   "metadata": {},
   "source": [
    "pd.read_csv()関数を使って、\"japanese_festivals.csv\"というファイルを読み込んでいます。読み込んだデータはdfという変数（データフレーム）に格納されます。\n",
    "df.head()は、データフレームの最初の5行を表示する関数です。これを使って、データの概要を確認できます。"
   ]
  },
  {
   "cell_type": "markdown",
   "metadata": {},
   "source": [
    "\n",
    "## データフレームの基本操作\n",
    "\n",
    "Pandasのデータフレームには、様々な便利な操作方法があります。\n"
   ]
  },
  {
   "cell_type": "code",
   "execution_count": 10,
   "metadata": {},
   "outputs": [
    {
     "name": "stdout",
     "output_type": "stream",
     "text": [
      "都道府県の列：\n",
      "0    京都府\n",
      "1    青森県\n",
      "2    徳島県\n",
      "3    北海道\n",
      "4    岐阜県\n",
      "Name: prefecture, dtype: object\n",
      "\n",
      "選択された列：\n",
      "       name month prefecture\n",
      "0       祇園祭    7月        京都府\n",
      "1    青森ねぶた祭    8月        青森県\n",
      "2     阿波おどり    8月        徳島県\n",
      "3  さっぽろ雪まつり    2月        北海道\n",
      "4       高山祭    4月        岐阜県\n",
      "\n",
      "ユニークな都道府県：\n",
      "['京都府' '青森県' '徳島県' '北海道' '岐阜県' '東京都' '福岡県' '長崎県' '秋田県' '高知県' '熊本県' '山形県']\n"
     ]
    }
   ],
   "source": [
    "# 特定の列を選択\n",
    "prefecture_column = df[\"prefecture\"]\n",
    "print(\"都道府県の列：\")\n",
    "print(prefecture_column.head())\n",
    "\n",
    "# 複数の列を選択\n",
    "selected_columns = df[[\"name\", \"month\", \"prefecture\"]]\n",
    "print(\"\\n選択された列：\")\n",
    "print(selected_columns.head())\n",
    "\n",
    "# ユニークな値を取得\n",
    "unique_prefectures = df[\"prefecture\"].unique()\n",
    "print(\"\\nユニークな都道府県：\")\n",
    "print(unique_prefectures)\n"
   ]
  },
  {
   "cell_type": "markdown",
   "metadata": {},
   "source": [
    "- `df[\"prefecture\"]`で、\"prefecture\"（都道府県）列だけを選択しています。\n",
    "- `df[[\"name\", \"month\", \"prefecture\"]]`で、複数の列を選択しています。\n",
    "- `df[\"prefecture\"].unique()`で、\"prefecture\"列のユニーク（重複のない）な値を取得しています。\n",
    "\n",
    "## データのフィルタリング\n",
    "\n",
    "条件に合うデータだけを抽出する方法を説明します。\n"
   ]
  },
  {
   "cell_type": "code",
   "execution_count": 11,
   "metadata": {},
   "outputs": [
    {
     "name": "stdout",
     "output_type": "stream",
     "text": [
      "東京都の祭り：\n",
      "   name month prefecture\n",
      "5   神田祭    5月        東京都\n",
      "13  三社祭    5月        東京都\n",
      "\n",
      "8月の祭り：\n",
      "       name month prefecture\n",
      "1    青森ねぶた祭    8月        青森県\n",
      "2     阿波おどり    8月        徳島県\n",
      "8   秋田竿燈まつり    8月        秋田県\n",
      "9    よさこい祭り    8月        高知県\n",
      "10     ねぶた祭    8月        青森県\n",
      "11  山鹿灯籠まつり    8月        熊本県\n",
      "12    花笠まつり    8月        山形県\n",
      "14  京都五山送り火    8月        京都府\n"
     ]
    }
   ],
   "source": [
    "# 東京都の祭りだけを抽出\n",
    "tokyo_festivals = df[df[\"prefecture\"] == \"東京都\"]\n",
    "print(\"東京都の祭り：\")\n",
    "print(tokyo_festivals)\n",
    "\n",
    "# 8月の祭りだけを抽出\n",
    "august_festivals = df[df[\"month\"] == \"8月\"]\n",
    "print(\"\\n8月の祭り：\")\n",
    "print(august_festivals)\n"
   ]
  },
  {
   "cell_type": "markdown",
   "metadata": {},
   "source": [
    "- `df[df[\"prefecture\"] == \"東京都\"]`で、都道府県が東京都の祭りだけを抽出しています。\n",
    "- `df[df[\"month\"] == \"8月\"]`で、8月に開催される祭りだけを抽出しています。\n",
    "\n",
    "## データの保存\n",
    "\n",
    "分析結果を新しいCSVファイルとして保存する方法を説明します。\n"
   ]
  },
  {
   "cell_type": "code",
   "execution_count": 12,
   "metadata": {},
   "outputs": [
    {
     "name": "stdout",
     "output_type": "stream",
     "text": [
      "8月の祭りデータを保存しました。\n"
     ]
    }
   ],
   "source": [
    "# 8月の祭りデータを新しいCSVファイルとして保存\n",
    "august_festivals.to_csv(\"august_festivals.csv\", index=False)\n",
    "print(\"8月の祭りデータを保存しました。\")\n"
   ]
  },
  {
   "cell_type": "markdown",
   "metadata": {},
   "source": [
    "`to_csv()`メソッドを使って、データフレームをCSVファイルとして保存しています。`index=False`は、行番号を保存しないようにするオプションです。\n",
    "\n",
    "## まとめ\n",
    "\n",
    "このホームページでは、Pandasを使った基本的なデータ分析の方法を、日本の祭りデータを例に説明しました。\n",
    "\n",
    "1. Pandasのインポート\n",
    "2. CSVファイルの読み込み\n",
    "3. データフレームの基本操作（列の選択、ユニークな値の取得）\n",
    "4. データのフィルタリング\n",
    "5. データの保存\n",
    "\n",
    "これらの操作を使いこなすことで、大量のデータから必要な情報を素早く抽出し、分析することができます。例えば、特定の地域や時期の祭りを簡単に見つけたり、祭りの傾向を分析したりすることが可能になります。\n",
    "Pandasは非常に強力なライブラリで、ここで紹介した以外にも多くの機能があります。データの集計、グラフ化、時系列分析など、様々な分析ツールが用意されています。\n",
    "これからプログラミングを学ぶ皆さんは、ぜひPandasの基本を身につけ、自分の興味のあるデータ分析に活用してみてください。旅行計画を立てるときの観光スポット分析や、趣味の映画データベースの整理など、日常生活の様々な場面でPandasの力を活かすことができるでしょう。\n",
    "Pandasを使いこなせるようになれば、大量のデータを効率的に処理し、そこから価値ある情報を引き出すことができます。これは、ビジネスや研究の場面でも非常に重要なスキルとなります。\n",
    "データ分析の世界は奥が深く、常に新しい手法や技術が生まれています。Pandasの基礎を学んだ後は、さらに高度な分析手法やデータ可視化ツールなどにも挑戦してみてください。データが語る物語を読み解く力は、きっと皆さんの人生を豊かにするはずです。"
   ]
  },
  {
   "cell_type": "markdown",
   "metadata": {},
   "source": [
    "問題1\n",
    "あなたは日本の有名な観光地に関するデータを分析することになりました。以下のデータを使って、Pandasを用いて特定の条件に合う観光地を抽出してください。\n"
   ]
  },
  {
   "cell_type": "code",
   "execution_count": 13,
   "metadata": {},
   "outputs": [],
   "source": [
    "import pandas as pd\n",
    "\n",
    "tourist_spots = [\n",
    "    {\"name\": \"東京スカイツリー\", \"prefecture\": \"東京都\", \"visitors\": 1800000},\n",
    "    {\"name\": \"富士山\", \"prefecture\": \"静岡県\", \"visitors\": 3000000},\n",
    "    {\"name\": \"京都金閣寺\", \"prefecture\": \"京都府\", \"visitors\": 2000000},\n",
    "    {\"name\": \"大阪城\", \"prefecture\": \"大阪府\", \"visitors\": 2500000},\n",
    "    {\"name\": \"北海道スキーリゾート\", \"prefecture\": \"北海道\", \"visitors\": 1500000}\n",
    "]\n",
    "\n",
    "df = pd.DataFrame(tourist_spots)\n",
    "\n",
    "# 1. データフレームの最初の3行を表示してください。\n",
    "# 2. 来場者数が200万人以上の観光地を抽出し、表示してください。\n",
    "\n"
   ]
  },
  {
   "cell_type": "markdown",
   "metadata": {},
   "source": [
    "解答例(Pythonコード):\n"
   ]
  },
  {
   "cell_type": "code",
   "execution_count": 18,
   "metadata": {},
   "outputs": [
    {
     "name": "stdout",
     "output_type": "stream",
     "text": [
      "\n",
      "来場者数が200万人以上の観光地:\n",
      "    name prefecture  visitors\n",
      "1    富士山        静岡県   3000000\n",
      "2  京都金閣寺        京都府   2000000\n",
      "3    大阪城        大阪府   2500000\n"
     ]
    }
   ],
   "source": [
    "import pandas as pd\n",
    "\n",
    "tourist_spots = [\n",
    "    {\"name\": \"東京スカイツリー\", \"prefecture\": \"東京都\", \"visitors\": 1800000},\n",
    "    {\"name\": \"富士山\", \"prefecture\": \"静岡県\", \"visitors\": 3000000},\n",
    "    {\"name\": \"京都金閣寺\", \"prefecture\": \"京都府\", \"visitors\": 2000000},\n",
    "    {\"name\": \"大阪城\", \"prefecture\": \"大阪府\", \"visitors\": 2500000},\n",
    "    {\"name\": \"北海道スキーリゾート\", \"prefecture\": \"北海道\", \"visitors\": 1500000}\n",
    "]\n",
    "\n",
    "df = pd.DataFrame(tourist_spots)\n",
    "\n",
    "# 来場者数が200万人以上の観光地を抽出\n",
    "popular_spots = df[df[\"visitors\"] >= 2000000]\n",
    "print(\"\\n来場者数が200万人以上の観光地:\")\n",
    "print(popular_spots)\n"
   ]
  },
  {
   "cell_type": "markdown",
   "metadata": {},
   "source": [
    "解説:\n",
    "この問題では、Pandasを使って観光地のデータを分析しています。\n",
    "\n",
    "1. `df.head(3)`を使用して、データフレームの最初の3行を表示しています。これにより、データの概要を簡単に確認できます。\n",
    "\n",
    "2. `df[df[\"visitors\"] >= 2000000]`という条件式を使って、来場者数が200万人以上の観光地を抽出しています。この方法で、特定の条件に合うデータだけを取り出すことができます。\n",
    "\n",
    "Pandasを使うことで、大量のデータを簡単に扱い、必要な情報を素早く抽出することができます。\n"
   ]
  },
  {
   "cell_type": "markdown",
   "metadata": {},
   "source": [
    "問題2\n",
    "あなたは友達とカラオケに行った際の曲のリストを分析することにしました。以下のデータを使って、Pandasを用いて特定の条件に合う曲を抽出してください。\n"
   ]
  },
  {
   "cell_type": "code",
   "execution_count": 15,
   "metadata": {},
   "outputs": [],
   "source": [
    "import pandas as pd\n",
    "\n",
    "karaoke_songs = [\n",
    "    {\"title\": \"レットイットゴー\", \"artist\": \"松たか子\", \"year\": 2014, \"duration\": 5.44},\n",
    "    {\"title\": \"天体観測\", \"artist\": \"BUMP OF CHICKEN\", \"year\": 2001, \"duration\": 5.04},\n",
    "    {\"title\": \"マリーゴールド\", \"artist\": \"あいみょん\", \"year\": 2018, \"duration\": 4.50},\n",
    "    {\"title\": \"残酷な天使のテーゼ\", \"artist\": \"高橋洋子\", \"year\": 1995, \"duration\": 4.09},\n",
    "    {\"title\": \"紅\", \"artist\": \"X JAPAN\", \"year\": 1989, \"duration\": 7.14}\n",
    "]\n",
    "\n",
    "df = pd.DataFrame(karaoke_songs)\n",
    "\n",
    "# 1. データフレームの全ての行を表示してください。\n",
    "# 2. 2000年以降にリリースされた曲を抽出し、タイトルと年を表示してください。\n"
   ]
  },
  {
   "cell_type": "markdown",
   "metadata": {},
   "source": [
    "解答例(Pythonコード):\n"
   ]
  },
  {
   "cell_type": "code",
   "execution_count": 17,
   "metadata": {},
   "outputs": [
    {
     "name": "stdout",
     "output_type": "stream",
     "text": [
      "\n",
      "2000年以降にリリースされた曲:\n",
      "      title  year\n",
      "0  レットイットゴー  2014\n",
      "1      天体観測  2001\n",
      "2   マリーゴールド  2018\n"
     ]
    }
   ],
   "source": [
    "import pandas as pd\n",
    "\n",
    "karaoke_songs = [\n",
    "    {\"title\": \"レットイットゴー\", \"artist\": \"松たか子\", \"year\": 2014, \"duration\": 5.44},\n",
    "    {\"title\": \"天体観測\", \"artist\": \"BUMP OF CHICKEN\", \"year\": 2001, \"duration\": 5.04},\n",
    "    {\"title\": \"マリーゴールド\", \"artist\": \"あいみょん\", \"year\": 2018, \"duration\": 4.50},\n",
    "    {\"title\": \"残酷な天使のテーゼ\", \"artist\": \"高橋洋子\", \"year\": 1995, \"duration\": 4.09},\n",
    "    {\"title\": \"紅\", \"artist\": \"X JAPAN\", \"year\": 1989, \"duration\": 7.14}\n",
    "]\n",
    "\n",
    "df = pd.DataFrame(karaoke_songs)\n",
    "\n",
    "# 2000年以降にリリースされた曲を抽出\n",
    "recent_songs = df[df[\"year\"] >= 2000][[\"title\", \"year\"]]\n",
    "print(\"\\n2000年以降にリリースされた曲:\")\n",
    "print(recent_songs)\n"
   ]
  },
  {
   "cell_type": "markdown",
   "metadata": {},
   "source": [
    "解説:\n",
    "この問題では、Pandasを使ってカラオケで歌った曲のデータを分析しています。\n",
    "\n",
    "1. `print(df)`を使用して、データフレームの全ての行を表示しています。これにより、データセット全体を一目で確認できます。\n",
    "\n",
    "2. `df[df[\"year\"] >= 2000][[\"title\", \"year\"]]`という条件式を使って、2000年以降にリリースされた曲を抽出し、さらにタイトルと年の列だけを選択しています。この方法で、特定の条件に合うデータだけを取り出し、必要な情報のみを表示することができます。\n",
    "\n",
    "Pandasを使うことで、データの抽出や加工を簡単に行うことができ、効率的にデータ分析を進めることができます。"
   ]
  }
 ],
 "metadata": {
  "kernelspec": {
   "display_name": "base",
   "language": "python",
   "name": "python3"
  },
  "language_info": {
   "codemirror_mode": {
    "name": "ipython",
    "version": 3
   },
   "file_extension": ".py",
   "mimetype": "text/x-python",
   "name": "python",
   "nbconvert_exporter": "python",
   "pygments_lexer": "ipython3",
   "version": "3.11.3"
  }
 },
 "nbformat": 4,
 "nbformat_minor": 2
}
