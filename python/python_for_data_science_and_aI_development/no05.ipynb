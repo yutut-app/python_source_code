{
 "cells": [
  {
   "cell_type": "markdown",
   "metadata": {},
   "source": [
    "# Pythonの辞書（dict）を理解しよう\n",
    "\n",
    "## はじめに\n",
    "\n",
    "こんにちは！これからPythonプログラミングを学ぶ皆さんに、Pythonの辞書（dict）について説明します。辞書は、Pythonにおける重要なデータ構造の一つであり、キーと値のペアを格納することができます。辞書を理解することは、Pythonでプログラムを書く上で非常に重要です。\n",
    "\n",
    "## 辞書の基本\n",
    "\n",
    "辞書は、キー（key）と値（value）のペアを格納するデータ構造です。キーは一意（ユニーク）でなければならず、値は重複しても構いません。辞書は、中括弧`{}`を使って定義します。"
   ]
  },
  {
   "cell_type": "code",
   "execution_count": 6,
   "metadata": {},
   "outputs": [
    {
     "name": "stdout",
     "output_type": "stream",
     "text": [
      "{'佐藤': '寿司', '鈴木': 'ラーメン', '田中': 'カレー', '山田': '寿司'}\n"
     ]
    }
   ],
   "source": [
    "# 辞書の例\n",
    "favorite_foods = {\n",
    "    \"佐藤\": \"寿司\",\n",
    "    \"鈴木\": \"ラーメン\",\n",
    "    \"田中\": \"カレー\",\n",
    "    \"山田\": \"寿司\"\n",
    "}\n",
    "print(favorite_foods)\n",
    "# 出力結果：{'佐藤': '寿司', '鈴木': 'ラーメン', '田中': 'カレー', '山田': '寿司'}"
   ]
  },
  {
   "cell_type": "markdown",
   "metadata": {},
   "source": [
    "上記の例では、`favorite_foods`という辞書を定義しています。この辞書では、人名をキーとして、その人の好きな食べ物を値として格納しています。\n",
    "\n",
    "辞書のキーには、文字列、数値、タプルなどの不変（イミュータブル）なオブジェクトを使用できます。一方、値には、文字列、数値、リスト、辞書など、あらゆる型のオブジェクトを使用できます。\n",
    "\n",
    "## 辞書の要素へのアクセス\n",
    "\n",
    "辞書の要素には、キーを使ってアクセスします。キーを角括弧`[]`で囲んで辞書名の後ろに付けます。"
   ]
  },
  {
   "cell_type": "code",
   "execution_count": 7,
   "metadata": {},
   "outputs": [
    {
     "name": "stdout",
     "output_type": "stream",
     "text": [
      "寿司\n",
      "カレー\n"
     ]
    }
   ],
   "source": [
    "# 辞書の要素へのアクセス\n",
    "print(favorite_foods[\"佐藤\"])  # 出力結果：寿司\n",
    "print(favorite_foods[\"田中\"])  # 出力結果：カレー"
   ]
  },
  {
   "cell_type": "markdown",
   "metadata": {},
   "source": [
    "\n",
    "上記の例では、`favorite_foods`辞書の`\"佐藤\"`と`\"田中\"`というキーに対応する値を取得しています。\n",
    "\n",
    "## 辞書の要素の追加と削除\n",
    "\n",
    "辞書は可変（ミュータブル）なオブジェクトなので、要素の追加や削除を行うことができます。"
   ]
  },
  {
   "cell_type": "code",
   "execution_count": 8,
   "metadata": {},
   "outputs": [
    {
     "name": "stdout",
     "output_type": "stream",
     "text": [
      "{'佐藤': '寿司', '鈴木': 'ラーメン', '田中': 'カレー', '山田': '寿司', '伊藤': '焼肉'}\n",
      "{'佐藤': '寿司', '田中': 'カレー', '山田': '寿司', '伊藤': '焼肉'}\n"
     ]
    }
   ],
   "source": [
    "# 辞書の要素の追加\n",
    "favorite_foods[\"伊藤\"] = \"焼肉\"\n",
    "print(favorite_foods)\n",
    "# 出力結果：{'佐藤': '寿司', '鈴木': 'ラーメン', '田中': 'カレー', '山田': '寿司', '伊藤': '焼肉'}\n",
    "\n",
    "# 辞書の要素の削除\n",
    "del favorite_foods[\"鈴木\"]\n",
    "print(favorite_foods)\n",
    "# 出力結果：{'佐藤': '寿司', '田中': 'カレー', '山田': '寿司', '伊藤': '焼肉'}"
   ]
  },
  {
   "cell_type": "markdown",
   "metadata": {},
   "source": [
    "要素を追加するには、辞書名の後ろに角括弧`[]`で新しいキーを指定し、値を代入します。要素を削除するには、`del`文を使って削除したいキーを指定します。\n",
    "\n",
    "## 辞書のメソッド\n",
    "\n",
    "辞書には、便利なメソッドが用意されています。以下は、よく使われる辞書のメソッドの一部です。\n",
    "\n",
    "### keys()\n",
    "\n",
    "`keys()`メソッドは、辞書のキーをすべて取得します。"
   ]
  },
  {
   "cell_type": "code",
   "execution_count": 9,
   "metadata": {},
   "outputs": [
    {
     "name": "stdout",
     "output_type": "stream",
     "text": [
      "dict_keys(['佐藤', '田中', '山田', '伊藤'])\n"
     ]
    }
   ],
   "source": [
    "# keys()メソッドの例\n",
    "print(favorite_foods.keys())\n",
    "# 出力結果：dict_keys(['佐藤', '田中', '山田', '伊藤']"
   ]
  },
  {
   "cell_type": "markdown",
   "metadata": {},
   "source": [
    "### values()\n",
    "\n",
    "`values()`メソッドは、辞書の値をすべて取得します。"
   ]
  },
  {
   "cell_type": "code",
   "execution_count": 10,
   "metadata": {},
   "outputs": [
    {
     "name": "stdout",
     "output_type": "stream",
     "text": [
      "dict_values(['寿司', 'カレー', '寿司', '焼肉'])\n"
     ]
    }
   ],
   "source": [
    "# values()メソッドの例\n",
    "print(favorite_foods.values())\n",
    "# 出力結果：dict_values(['寿司', 'カレー', '寿司', '焼肉'])"
   ]
  },
  {
   "cell_type": "markdown",
   "metadata": {},
   "source": [
    "### items()\n",
    "\n",
    "`items()`メソッドは、辞書のキーと値のペアをタプルとして取得します。"
   ]
  },
  {
   "cell_type": "code",
   "execution_count": 11,
   "metadata": {},
   "outputs": [
    {
     "name": "stdout",
     "output_type": "stream",
     "text": [
      "dict_items([('佐藤', '寿司'), ('田中', 'カレー'), ('山田', '寿司'), ('伊藤', '焼肉')])\n"
     ]
    }
   ],
   "source": [
    "# items()メソッドの例\n",
    "print(favorite_foods.items())\n",
    "# 出力結果：dict_items([('佐藤', '寿司'), ('田中', 'カレー'), ('山田', '寿司'), ('伊藤', '焼肉')])"
   ]
  },
  {
   "cell_type": "markdown",
   "metadata": {},
   "source": [
    "### get(key[, default])\n",
    "\n",
    "`get()`メソッドは、指定したキーに対応する値を取得します。キーが存在しない場合、`None`を返します。また、第2引数にデフォルト値を指定することもできます。"
   ]
  },
  {
   "cell_type": "code",
   "execution_count": 12,
   "metadata": {},
   "outputs": [
    {
     "name": "stdout",
     "output_type": "stream",
     "text": [
      "寿司\n",
      "None\n",
      "ハンバーグ\n"
     ]
    }
   ],
   "source": [
    "# get()メソッドの例\n",
    "print(favorite_foods.get(\"佐藤\"))  # 出力結果：寿司\n",
    "print(favorite_foods.get(\"高橋\"))  # 出力結果：None\n",
    "print(favorite_foods.get(\"高橋\", \"ハンバーグ\"))  # 出力結果：ハンバーグ"
   ]
  },
  {
   "cell_type": "markdown",
   "metadata": {},
   "source": [
    "### in演算子\n",
    "\n",
    "`in`演算子を使うと、指定したキーが辞書に存在するかどうかを確認できます。"
   ]
  },
  {
   "cell_type": "code",
   "execution_count": 13,
   "metadata": {},
   "outputs": [
    {
     "name": "stdout",
     "output_type": "stream",
     "text": [
      "True\n",
      "False\n"
     ]
    }
   ],
   "source": [
    "# in演算子の例\n",
    "print(\"佐藤\" in favorite_foods)  # 出力結果：True\n",
    "print(\"高橋\" in favorite_foods)  # 出力結果：False"
   ]
  },
  {
   "cell_type": "markdown",
   "metadata": {},
   "source": [
    "## 辞書のネスト\n",
    "\n",
    "辞書の値には、他の辞書を含めることができます。これを辞書のネストと呼びます。"
   ]
  },
  {
   "cell_type": "code",
   "execution_count": 14,
   "metadata": {},
   "outputs": [
    {
     "name": "stdout",
     "output_type": "stream",
     "text": [
      "18\n",
      "吹奏楽部\n"
     ]
    }
   ],
   "source": [
    "# 辞書のネストの例\n",
    "students = {\n",
    "    \"佐藤\": {\n",
    "        \"年齢\": 18,\n",
    "        \"学年\": \"高校3年生\",\n",
    "        \"部活\": \"サッカー部\"\n",
    "    },\n",
    "    \"鈴木\": {\n",
    "        \"年齢\": 17,\n",
    "        \"学年\": \"高校2年生\",\n",
    "        \"部活\": \"吹奏楽部\"\n",
    "    }\n",
    "}\n",
    "\n",
    "print(students[\"佐藤\"][\"年齢\"])  # 出力結果：18\n",
    "print(students[\"鈴木\"][\"部活\"])  # 出力結果：吹奏楽部"
   ]
  },
  {
   "cell_type": "markdown",
   "metadata": {},
   "source": [
    "上記の例では、`students`という辞書の中に、生徒の名前をキーとして、その生徒の情報（年齢、学年、部活）を別の辞書で管理しています。\n",
    "\n",
    "## 辞書の応用例\n",
    "\n",
    "辞書は、様々な場面で活用することができます。以下は、辞書を使った応用例です。"
   ]
  },
  {
   "cell_type": "markdown",
   "metadata": {},
   "source": [
    "### 商品の在庫管理\n",
    "\n",
    "商品の在庫数を管理するために、辞書を使うことができます。"
   ]
  },
  {
   "cell_type": "code",
   "execution_count": 16,
   "metadata": {},
   "outputs": [
    {
     "name": "stdout",
     "output_type": "stream",
     "text": [
      "5\n",
      "8\n",
      "6\n"
     ]
    }
   ],
   "source": [
    "# 商品の在庫管理の例\n",
    "inventory = {\n",
    "    \"りんご\": 10,\n",
    "    \"バナナ\": 5,\n",
    "    \"オレンジ\": 8\n",
    "}\n",
    "\n",
    "print(inventory[\"バナナ\"])  # 出力結果：5\n",
    "\n",
    "# 在庫の追加\n",
    "inventory[\"バナナ\"] += 3\n",
    "print(inventory[\"バナナ\"])  # 出力結果：8\n",
    "\n",
    "# 在庫の減少\n",
    "inventory[\"オレンジ\"] -= 2\n",
    "print(inventory[\"オレンジ\"])  # 出力結果：6"
   ]
  },
  {
   "cell_type": "markdown",
   "metadata": {},
   "source": [
    "上記の例では、商品名をキーとして、その在庫数を値として格納しています。在庫の追加や減少は、辞書の値を直接更新することで行っています。\n",
    "\n",
    "## まとめ\n",
    "\n",
    "本ホームページでは、Pythonの辞書（dict）について説明しました。辞書は、キーと値のペアを格納するデータ構造であり、キーを使って値にアクセスすることができます。\n",
    "\n",
    "辞書は可変（ミュータブル）なオブジェクトなので、要素の追加や削除を行うことができます。また、`keys()`、`values()`、`items()`、`get()`などの便利なメソッドが用意されています。\n",
    "\n",
    "辞書のネストを使うことで、より複雑なデータ構造を表現することができます。また、英和辞書や商品の在庫管理など、様々な場面で辞書を活用することができます。\n",
    "\n",
    "これからPythonを学ぶ皆さんは、辞書の基本的な操作を身につけ、プログラムの中で効果的に活用していきましょう。辞書は、データを構造化して管理するための強力なツールであり、Pythonプログラミングにおいて欠かせない存在です。"
   ]
  },
  {
   "cell_type": "markdown",
   "metadata": {},
   "source": []
  },
  {
   "cell_type": "markdown",
   "metadata": {},
   "source": []
  },
  {
   "cell_type": "markdown",
   "metadata": {},
   "source": []
  }
 ],
 "metadata": {
  "kernelspec": {
   "display_name": "base",
   "language": "python",
   "name": "python3"
  },
  "language_info": {
   "codemirror_mode": {
    "name": "ipython",
    "version": 3
   },
   "file_extension": ".py",
   "mimetype": "text/x-python",
   "name": "python",
   "nbconvert_exporter": "python",
   "pygments_lexer": "ipython3",
   "version": "3.11.3"
  }
 },
 "nbformat": 4,
 "nbformat_minor": 2
}
