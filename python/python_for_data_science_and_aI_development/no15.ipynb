{
 "cells": [
  {
   "cell_type": "markdown",
   "metadata": {},
   "source": [
    "# NumPyで日本の花火大会データを分析しよう！（一次元配列編）\n",
    "\n",
    "## はじめに\n",
    "\n",
    "こんにちは！このページでは、NumPyの一次元配列について、日本の花火大会データを例に詳しく説明します。NumPyは、数値計算に特化した強力なライブラリで、大量のデータを効率的に処理することができます。花火大会の来場者数データを使って、NumPyの一次元配列の使い方を学んでいきましょう。\n",
    "\n",
    "## NumPyのインポートと配列の作成\n",
    "\n",
    "まず、NumPyライブラリをインポートし、配列を作成します。\n"
   ]
  },
  {
   "cell_type": "code",
   "execution_count": 21,
   "metadata": {},
   "outputs": [
    {
     "name": "stdout",
     "output_type": "stream",
     "text": [
      "花火大会の来場者数：\n",
      "[ 80  95  70 110 130  85 100  75 120  90]\n"
     ]
    }
   ],
   "source": [
    "import numpy as np\n",
    "\n",
    "# 2022年の主要花火大会の来場者数（単位：万人）\n",
    "fireworks_visitors = np.array([80, 95, 70, 110, 130, 85, 100, 75, 120, 90])\n",
    "print(\"花火大会の来場者数：\")\n",
    "print(fireworks_visitors)\n"
   ]
  },
  {
   "cell_type": "markdown",
   "metadata": {},
   "source": [
    "ここでは、`np.array()`関数を使って、リストからNumPy配列を作成しています。この配列は、10個の花火大会の来場者数（単位：万人）を表しています。`np.array()`は、与えられたリストの要素を保持したまま、NumPyの配列に変換します。\n",
    "\n",
    "## 配列の作成方法いろいろ\n",
    "\n",
    "NumPyでは、様々な方法で配列を作成できます。\n"
   ]
  },
  {
   "cell_type": "code",
   "execution_count": 22,
   "metadata": {},
   "outputs": [
    {
     "name": "stdout",
     "output_type": "stream",
     "text": [
      "新規イベントの初期予測： [0. 0. 0. 0. 0.]\n",
      "チケット販売状況： [1. 1. 1. 1. 1. 1. 1. 1. 1. 1.]\n",
      "各大会の花火打ち上げ数： [20 20 20 20 20]\n",
      "花火大会の開始時刻： [18.  18.5 19.  19.5 20.  20.5]\n",
      "満足度スコア： [0. 1. 2. 3. 4. 5.]\n"
     ]
    }
   ],
   "source": [
    "# ゼロで初期化された配列（新規イベントの来場者数予測用）\n",
    "new_events = np.zeros(5)\n",
    "print(\"新規イベントの初期予測：\", new_events)\n",
    "\n",
    "# 1で初期化された配列（チケット販売状況、1は完売）\n",
    "ticket_status = np.ones(10)\n",
    "print(\"チケット販売状況：\", ticket_status)\n",
    "\n",
    "# 特定の値で初期化された配列（花火の打ち上げ数、単位：千発）\n",
    "fireworks_count = np.full(5, 20)\n",
    "print(\"各大会の花火打ち上げ数：\", fireworks_count)\n",
    "\n",
    "# 等間隔の数列（花火大会の開始時刻、18時から30分おき）\n",
    "start_times = np.arange(18, 21, 0.5)\n",
    "print(\"花火大会の開始時刻：\", start_times)\n",
    "\n",
    "# 指定した範囲を等分割した配列（花火大会の満足度調査、0-5点）\n",
    "satisfaction_scores = np.linspace(0, 5, 6)\n",
    "print(\"満足度スコア：\", satisfaction_scores)\n"
   ]
  },
  {
   "cell_type": "markdown",
   "metadata": {},
   "source": [
    "- `np.zeros(5)`: 5個の要素を持つ、すべての要素が0の配列を作成します。\n",
    "- `np.ones(10)`: 10個の要素を持つ、すべての要素が1の配列を作成します。\n",
    "- `np.full(5, 20)`: 5個の要素を持つ、すべての要素が20の配列を作成します。\n",
    "- `np.arange(18, 21, 0.5)`: 18から21未満まで、0.5刻みの等間隔の数列を作成します。\n",
    "- `np.linspace(0, 5, 6)`: 0から5までを6等分した配列を作成します。\n",
    "\n",
    "これらの関数を使うことで、様々な初期値や特定のパターンを持つ配列を簡単に作成できます。\n",
    "\n",
    "## 配列の基本操作と属性\n",
    "\n",
    "NumPy配列の基本的な操作と属性を見ていきます。\n"
   ]
  },
  {
   "cell_type": "code",
   "execution_count": 23,
   "metadata": {},
   "outputs": [
    {
     "name": "stdout",
     "output_type": "stream",
     "text": [
      "花火大会の数： 10\n",
      "配列の次元： 1\n",
      "配列の形状： (10,)\n",
      "データの型： int64\n",
      "最大の来場者数： 130 万人\n",
      "最大来場者数の大会インデックス： 4\n",
      "最小の来場者数： 70 万人\n",
      "最小来場者数の大会インデックス： 2\n",
      "平均来場者数： 95.5 万人\n",
      "中央値： 92.5 万人\n",
      "標準偏差： 18.634645153584223 万人\n"
     ]
    }
   ],
   "source": [
    "# 配列の要素数（花火大会の数）\n",
    "print(\"花火大会の数：\", fireworks_visitors.size)\n",
    "\n",
    "# 配列の次元\n",
    "print(\"配列の次元：\", fireworks_visitors.ndim)\n",
    "\n",
    "# 配列の形状\n",
    "print(\"配列の形状：\", fireworks_visitors.shape)\n",
    "\n",
    "# データの型\n",
    "print(\"データの型：\", fireworks_visitors.dtype)\n",
    "\n",
    "# 最大来場者数とそのインデックス\n",
    "print(\"最大の来場者数：\", np.max(fireworks_visitors), \"万人\")\n",
    "print(\"最大来場者数の大会インデックス：\", np.argmax(fireworks_visitors))\n",
    "\n",
    "# 最小来場者数とそのインデックス\n",
    "print(\"最小の来場者数：\", np.min(fireworks_visitors), \"万人\")\n",
    "print(\"最小来場者数の大会インデックス：\", np.argmin(fireworks_visitors))\n",
    "\n",
    "# 平均来場者数\n",
    "print(\"平均来場者数：\", np.mean(fireworks_visitors), \"万人\")\n",
    "\n",
    "# 中央値\n",
    "print(\"中央値：\", np.median(fireworks_visitors), \"万人\")\n",
    "\n",
    "# 標準偏差\n",
    "print(\"標準偏差：\", np.std(fireworks_visitors), \"万人\")\n"
   ]
  },
  {
   "cell_type": "markdown",
   "metadata": {},
   "source": [
    "- `size`: 配列の要素数を返します。\n",
    "- `ndim`: 配列の次元数を返します。\n",
    "- `shape`: 配列の形状（各次元のサイズ）をタプルで返します。\n",
    "- `dtype`: 配列の要素のデータ型を返します。\n",
    "- `np.max()`: 配列の最大値を返します。\n",
    "- `np.argmax()`: 最大値のインデックスを返します。\n",
    "- `np.min()`: 配列の最小値を返します。\n",
    "- `np.argmin()`: 最小値のインデックスを返します。\n",
    "- `np.mean()`: 配列の平均値を計算します。\n",
    "- `np.median()`: 配列の中央値を計算します。\n",
    "- `np.std()`: 配列の標準偏差を計算します。\n",
    "\n",
    "これらの操作により、データの基本的な特徴を簡単に把握することができます。\n",
    "\n",
    "## ブールインデックス\n",
    "\n",
    "条件に基づいて配列の要素を選択する方法を説明します。\n"
   ]
  },
  {
   "cell_type": "code",
   "execution_count": 24,
   "metadata": {},
   "outputs": [
    {
     "name": "stdout",
     "output_type": "stream",
     "text": [
      "100万人以上の大規模花火大会の来場者数： [110 130 100 120]\n",
      "80万人未満の小規模花火大会の来場者数： [70 75]\n",
      "中規模（80-100万人）の花火大会のインデックス： (array([0, 1, 5, 9]),)\n"
     ]
    }
   ],
   "source": [
    "# 100万人以上の大規模花火大会を選択\n",
    "large_events = fireworks_visitors[fireworks_visitors >= 100]\n",
    "print(\"100万人以上の大規模花火大会の来場者数：\", large_events)\n",
    "\n",
    "# 80万人未満の小規模花火大会を選択\n",
    "small_events = fireworks_visitors[fireworks_visitors < 80]\n",
    "print(\"80万人未満の小規模花火大会の来場者数：\", small_events)\n",
    "\n",
    "# 条件に合う要素のインデックスを取得（中規模：80-100万人）\n",
    "medium_indices = np.where((fireworks_visitors >= 80) & (fireworks_visitors < 100))\n",
    "print(\"中規模（80-100万人）の花火大会のインデックス：\", medium_indices)\n"
   ]
  },
  {
   "cell_type": "markdown",
   "metadata": {},
   "source": [
    "ブールインデックスは、条件式を使って配列の要素を選択する方法です。条件を満たす要素のみを新しい配列として取り出すことができます。`np.where()`関数は、条件を満たす要素のインデックスを返します。\n",
    "\n",
    "## ユニバーサル関数と配列の変形\n",
    "\n",
    "NumPyのユニバーサル関数と配列の変形方法を紹介します。\n"
   ]
  },
  {
   "cell_type": "code",
   "execution_count": 25,
   "metadata": {},
   "outputs": [
    {
     "name": "stdout",
     "output_type": "stream",
     "text": [
      "来場者数の対数： [4.38202663 4.55387689 4.24849524 4.70048037 4.86753445 4.44265126\n",
      " 4.60517019 4.31748811 4.78749174 4.49980967]\n",
      "正規化された来場者数： [0.16666667 0.41666667 0.         0.66666667 1.         0.25\n",
      " 0.5        0.08333333 0.83333333 0.33333333]\n",
      "降順にソートされた来場者数： [130 120 110 100  95  90  85  80  75  70]\n",
      "シャッフルされた来場者数： [110  95  85 120  90  70 130  80  75 100]\n"
     ]
    }
   ],
   "source": [
    "# 来場者数の対数を取る（スケールの調整）\n",
    "log_visitors = np.log(fireworks_visitors)\n",
    "print(\"来場者数の対数：\", log_visitors)\n",
    "\n",
    "# 来場者数を正規化する（0-1の範囲に収める）\n",
    "normalized_visitors = (fireworks_visitors - np.min(fireworks_visitors)) / (np.max(fireworks_visitors) - np.min(fireworks_visitors))\n",
    "print(\"正規化された来場者数：\", normalized_visitors)\n",
    "\n",
    "# 来場者数を降順にソート\n",
    "sorted_visitors = np.sort(fireworks_visitors)[::-1]\n",
    "print(\"降順にソートされた来場者数：\", sorted_visitors)\n",
    "\n",
    "# 来場者数をシャッフル（ランダムサンプリング用）\n",
    "shuffled_visitors = np.random.permutation(fireworks_visitors)\n",
    "print(\"シャッフルされた来場者数：\", shuffled_visitors)\n"
   ]
  },
  {
   "cell_type": "markdown",
   "metadata": {},
   "source": [
    "- `np.log()`: 要素ごとに自然対数を計算します。\n",
    "- 正規化：最小値を0、最大値を1にスケーリングします。\n",
    "- `np.sort()`: 配列を昇順にソートします。`[::-1]`で降順にしています。\n",
    "- `np.random.permutation()`: 配列の要素をランダムに並べ替えます。\n",
    "\n",
    "これらの関数を使うことで、データの変換や並べ替えを簡単に行うことができます。\n",
    "\n",
    "## 実用的な計算例\n",
    "\n",
    "花火大会のデータを使って、実用的な計算例を示します。\n"
   ]
  },
  {
   "cell_type": "code",
   "execution_count": 26,
   "metadata": {},
   "outputs": [
    {
     "name": "stdout",
     "output_type": "stream",
     "text": [
      "総来場者数： 955 万人\n",
      "各大会の来場者数増加率（%）： [ 18.75       -26.31578947  57.14285714  18.18181818 -34.61538462\n",
      "  17.64705882 -25.          60.         -25.        ]\n",
      "来場者数の移動平均（3大会ごと）： [ 81.66666667  91.66666667 103.33333333 108.33333333 105.\n",
      "  86.66666667  98.33333333  95.        ]\n",
      "上位3つの花火大会の来場者数： [110 120 130]\n"
     ]
    }
   ],
   "source": [
    "# 全花火大会の総来場者数\n",
    "total_visitors = np.sum(fireworks_visitors)\n",
    "print(\"総来場者数：\", total_visitors, \"万人\")\n",
    "\n",
    "# 来場者数の増加率（前の大会との比較）\n",
    "growth_rate = np.diff(fireworks_visitors) / fireworks_visitors[:-1] * 100\n",
    "print(\"各大会の来場者数増加率（%）：\", growth_rate)\n",
    "\n",
    "# 来場者数の移動平均（3大会ごと）\n",
    "moving_average = np.convolve(fireworks_visitors, np.ones(3), 'valid') / 3\n",
    "print(\"来場者数の移動平均（3大会ごと）：\", moving_average)\n",
    "\n",
    "# 上位3つの花火大会を選択\n",
    "top_3 = np.partition(fireworks_visitors, -3)[-3:]\n",
    "print(\"上位3つの花火大会の来場者数：\", top_3)\n"
   ]
  },
  {
   "cell_type": "markdown",
   "metadata": {},
   "source": [
    "- `np.sum()`: 配列の要素の合計を計算します。\n",
    "- `np.diff()`: 隣接する要素の差を計算します。\n",
    "- `np.convolve()`: 移動平均を計算します。\n",
    "- `np.partition()`: 配列の一部を部分的にソートします。\n",
    "\n",
    "これらの関数を組み合わせることで、より複雑な分析や計算を行うことができます。\n",
    "\n",
    "## まとめ\n",
    "\n",
    "このページでは、NumPyの一次元配列について、日本の花火大会データを例に詳しく説明しました。配列の作成方法、基本的な操作と属性、ブールインデックス、ユニバーサル関数、配列の変形など、様々な機能を紹介しました。\n",
    "\n",
    "これらの操作を使いこなすことで、花火大会の来場者数データを効率的に処理し、分析することができます。例えば、大規模イベントの特定、来場者数の傾向分析、データの正規化による比較など、様々な分析が可能になります。\n",
    "\n",
    "NumPyの一次元配列は、データ分析の基礎となる重要な概念です。これらの基本を身につけることで、より複雑なデータ分析や、多次元配列を使った高度な分析にも取り組めるようになります。\n",
    "\n",
    "日常生活でも、イベントの参加者数分析、季節ごとの温度変化の調査、趣味の活動記録の管理など、様々な場面でNumPyの力を活かすことができます。ぜひ、自分の興味のあるデータを使って、NumPyの機能を試してみてください。データを通じて新しい発見をする楽しさを味わえるはずです。"
   ]
  },
  {
   "cell_type": "markdown",
   "metadata": {},
   "source": [
    "問題1\n",
    "あなたは、1週間の歩数を記録しています。以下のデータを使って、NumPyを用いて歩数の分析を行ってください。\n",
    "\n",
    "1. 1週間の歩数データをNumPy配列として作成してください。\n",
    "2. 1週間の平均歩数を計算してください。\n",
    "3. 最も歩数が多かった日と最も少なかった日の歩数を表示してください。\n",
    "4. 10000歩以上歩いた日数を計算してください。\n",
    "5. 歩数データを昇順にソートして表示してください。\n"
   ]
  },
  {
   "cell_type": "markdown",
   "metadata": {},
   "source": [
    "解答例(Pythonコード):\n"
   ]
  },
  {
   "cell_type": "code",
   "execution_count": 27,
   "metadata": {},
   "outputs": [
    {
     "name": "stdout",
     "output_type": "stream",
     "text": [
      "1週間の歩数データ:\n",
      "[ 8500 10200  9800  7600 11500  9300 12000]\n",
      "\n",
      "1週間の平均歩数: 9843歩\n",
      "最も歩数が多かった日: 12000歩\n",
      "最も歩数が少なかった日: 7600歩\n",
      "\n",
      "10000歩以上歩いた日数: 3日\n",
      "\n",
      "昇順にソートした歩数データ:\n",
      "[ 7600  8500  9300  9800 10200 11500 12000]\n"
     ]
    }
   ],
   "source": [
    "import numpy as np\n",
    "\n",
    "# 1週間の歩数データ\n",
    "steps = np.array([8500, 10200, 9800, 7600, 11500, 9300, 12000])\n",
    "\n",
    "# 1. データの表示\n",
    "print(\"1週間の歩数データ:\")\n",
    "print(steps)\n",
    "\n",
    "# 2. 平均歩数の計算\n",
    "average_steps = np.mean(steps)\n",
    "print(f\"\\n1週間の平均歩数: {average_steps:.0f}歩\")\n",
    "\n",
    "# 3. 最大と最小の歩数\n",
    "max_steps = np.max(steps)\n",
    "min_steps = np.min(steps)\n",
    "print(f\"最も歩数が多かった日: {max_steps}歩\")\n",
    "print(f\"最も歩数が少なかった日: {min_steps}歩\")\n",
    "\n",
    "# 4. 10000歩以上歩いた日数\n",
    "days_over_10000 = np.sum(steps >= 10000)\n",
    "print(f\"\\n10000歩以上歩いた日数: {days_over_10000}日\")\n",
    "\n",
    "# 5. 歩数データを昇順にソート\n",
    "sorted_steps = np.sort(steps)\n",
    "print(\"\\n昇順にソートした歩数データ:\")\n",
    "print(sorted_steps)\n"
   ]
  },
  {
   "cell_type": "markdown",
   "metadata": {},
   "source": [
    "解説:\n",
    "この問題では、NumPyを使って1週間の歩数データを分析しています。\n",
    "\n",
    "1. `np.array()`を使って、歩数データをNumPy配列として作成しています。\n",
    "\n",
    "2. `np.mean()`関数を使って、配列の平均値を計算しています。これにより、1週間の平均歩数を簡単に求めることができます。\n",
    "\n",
    "3. `np.max()`と`np.min()`関数を使って、それぞれ最大値と最小値を求めています。これにより、最も歩数が多かった日と少なかった日の歩数を簡単に取得できます。\n",
    "\n",
    "4. `np.sum()`関数と条件式を組み合わせて、10000歩以上歩いた日数を計算しています。`steps >= 10000`は、各要素が10000以上かどうかを判定し、True/Falseの配列を返します。`np.sum()`はTrue値の数をカウントします。\n",
    "\n",
    "5. `np.sort()`関数を使って、歩数データを昇順にソートしています。これにより、歩数の分布を視覚的に確認することができます。\n",
    "\n",
    "このように、NumPyを使うことで、データの基本的な統計処理や操作を簡単に行うことができます。\n"
   ]
  },
  {
   "cell_type": "markdown",
   "metadata": {},
   "source": [
    "問題2\n",
    "あなたは、友達と5回カラオケに行き、それぞれの回で歌った曲数を記録しました。以下のデータを使って、NumPyを用いて曲数の分析を行ってください。\n",
    "\n",
    "1. 5回分の歌った曲数データをNumPy配列として作成してください。\n",
    "2. 全てのカラオケで歌った合計曲数を計算してください。\n",
    "3. 1回あたりの平均曲数を計算してください。\n",
    "4. 最も多く歌った回と最も少なく歌った回の曲数を表示してください。\n",
    "5. 10曲以上歌った回数を計算してください。\n",
    "6. 各回の曲数の差分（前回との差）を計算して表示してください。\n"
   ]
  },
  {
   "cell_type": "markdown",
   "metadata": {},
   "source": [
    "解答例(Pythonコード):\n"
   ]
  },
  {
   "cell_type": "code",
   "execution_count": 28,
   "metadata": {},
   "outputs": [
    {
     "name": "stdout",
     "output_type": "stream",
     "text": [
      "5回分の歌った曲数データ:\n",
      "[ 8 12  9 15  7]\n",
      "\n",
      "全てのカラオケで歌った合計曲数: 51曲\n",
      "1回あたりの平均曲数: 10.2曲\n",
      "最も多く歌った回の曲数: 15曲\n",
      "最も少なく歌った回の曲数: 7曲\n",
      "\n",
      "10曲以上歌った回数: 2回\n",
      "\n",
      "各回の曲数の差分:\n",
      "[ 4 -3  6 -8]\n"
     ]
    }
   ],
   "source": [
    "import numpy as np\n",
    "\n",
    "# 5回分の歌った曲数データ\n",
    "songs = np.array([8, 12, 9, 15, 7])\n",
    "\n",
    "# 1. データの表示\n",
    "print(\"5回分の歌った曲数データ:\")\n",
    "print(songs)\n",
    "\n",
    "# 2. 合計曲数の計算\n",
    "total_songs = np.sum(songs)\n",
    "print(f\"\\n全てのカラオケで歌った合計曲数: {total_songs}曲\")\n",
    "\n",
    "# 3. 平均曲数の計算\n",
    "average_songs = np.mean(songs)\n",
    "print(f\"1回あたりの平均曲数: {average_songs:.1f}曲\")\n",
    "\n",
    "# 4. 最大と最小の曲数\n",
    "max_songs = np.max(songs)\n",
    "min_songs = np.min(songs)\n",
    "print(f\"最も多く歌った回の曲数: {max_songs}曲\")\n",
    "print(f\"最も少なく歌った回の曲数: {min_songs}曲\")\n",
    "\n",
    "# 5. 10曲以上歌った回数\n",
    "times_over_10 = np.sum(songs >= 10)\n",
    "print(f\"\\n10曲以上歌った回数: {times_over_10}回\")\n",
    "\n",
    "# 6. 各回の曲数の差分\n",
    "diff_songs = np.diff(songs)\n",
    "print(\"\\n各回の曲数の差分:\")\n",
    "print(diff_songs)\n"
   ]
  },
  {
   "cell_type": "markdown",
   "metadata": {},
   "source": [
    "解説:\n",
    "この問題では、NumPyを使ってカラオケで歌った曲数のデータを分析しています。\n",
    "\n",
    "1. `np.array()`を使って、曲数データをNumPy配列として作成しています。\n",
    "\n",
    "2. `np.sum()`関数を使って、配列の要素の合計を計算しています。これにより、全てのカラオケで歌った合計曲数を簡単に求めることができます。\n",
    "\n",
    "3. `np.mean()`関数を使って、配列の平均値を計算しています。これにより、1回あたりの平均曲数を求めることができます。\n",
    "\n",
    "4. `np.max()`と`np.min()`関数を使って、それぞれ最大値と最小値を求めています。これにより、最も多く歌った回と最も少なく歌った回の曲数を簡単に取得できます。\n",
    "\n",
    "5. `np.sum()`関数と条件式を組み合わせて、10曲以上歌った回数を計算しています。`songs >= 10`は、各要素が10以上かどうかを判定し、True/Falseの配列を返します。`np.sum()`はTrue値の数をカウントします。\n",
    "\n",
    "6. `np.diff()`関数を使って、配列の隣接する要素間の差分を計算しています。これにより、各回の曲数の変化を簡単に把握することができます。\n",
    "\n",
    "このように、NumPyを使うことで、カラオケの曲数データの基本的な統計処理や変化の分析を簡単に行うことができます。これらの分析結果を使って、カラオケの傾向や自分の歌唱パターンなどを理解することができます。"
   ]
  }
 ],
 "metadata": {
  "kernelspec": {
   "display_name": "base",
   "language": "python",
   "name": "python3"
  },
  "language_info": {
   "codemirror_mode": {
    "name": "ipython",
    "version": 3
   },
   "file_extension": ".py",
   "mimetype": "text/x-python",
   "name": "python",
   "nbconvert_exporter": "python",
   "pygments_lexer": "ipython3",
   "version": "3.11.3"
  }
 },
 "nbformat": 4,
 "nbformat_minor": 2
}
