{
 "cells": [
  {
   "cell_type": "markdown",
   "metadata": {},
   "source": [
    "ご指摘ありがとうございます。各項目の説明をより詳細にし、不足がないようにいたします。以下に、より詳細な説明を加えた形式で提示します。今後のホームページ作成でもこの形式を適用します。\n",
    "\n",
    "# NumPyで日本の観光データを分析しよう！（2次元配列編）\n",
    "\n",
    "## はじめに\n",
    "\n",
    "こんにちは！このページでは、NumPyの2次元配列について、日本の観光データを例に詳しく説明します。2次元配列は、表形式のデータを扱う際に非常に便利です。例えば、複数の観光地の年間データなど、行と列で構成されるデータを効率的に処理できます。\n",
    "\n",
    "## 2次元配列の作成\n",
    "\n",
    "NumPyでは、様々な方法で2次元配列を作成できます。以下にいくつかの方法を紹介します。\n",
    "\n",
    "### リストから2次元配列を作成\n"
   ]
  },
  {
   "cell_type": "code",
   "execution_count": 1,
   "metadata": {},
   "outputs": [
    {
     "name": "stdout",
     "output_type": "stream",
     "text": [
      "観光データ:\n",
      "[[3000 1000 1500 2500]\n",
      " [2000  800 1200 1800]\n",
      " [1000  300  600  900]]\n"
     ]
    }
   ],
   "source": [
    "import numpy as np\n",
    "\n",
    "tourism_data = np.array([\n",
    "    [3000, 1000, 1500, 2500],  # 東京\n",
    "    [2000, 800, 1200, 1800],   # 京都\n",
    "    [1000, 300, 600, 900]      # 沖縄\n",
    "])\n",
    "\n",
    "print(\"観光データ:\")\n",
    "print(tourism_data)\n"
   ]
  },
  {
   "cell_type": "markdown",
   "metadata": {},
   "source": [
    "この方法では、リストのリスト（ネストされたリスト）をnp.array()関数に渡して2次元配列を作成します。各内部リストが1つの行を表し、その要素が列の値となります。この例では、3つの観光地（東京、京都、沖縄）の4年分のデータを表現しています。\n",
    "\n",
    "### ゼロで初期化された2次元配列を作成\n"
   ]
  },
  {
   "cell_type": "code",
   "execution_count": 2,
   "metadata": {},
   "outputs": [
    {
     "name": "stdout",
     "output_type": "stream",
     "text": [
      "\n",
      "ゼロで初期化:\n",
      "[[0. 0. 0. 0.]\n",
      " [0. 0. 0. 0.]\n",
      " [0. 0. 0. 0.]]\n"
     ]
    }
   ],
   "source": [
    "zero_data = np.zeros((3, 4))\n",
    "print(\"\\nゼロで初期化:\")\n",
    "print(zero_data)\n"
   ]
  },
  {
   "cell_type": "markdown",
   "metadata": {},
   "source": [
    "np.zeros()関数は、指定したサイズのすべての要素が0の配列を作成します。引数のタプル(3, 4)は、3行4列の配列を指定しています。これは、データの枠組みを作る際や、後でデータを埋める予定の配列を初期化する際に便利です。\n",
    "\n",
    "### 1で初期化された2次元配列を作成\n"
   ]
  },
  {
   "cell_type": "code",
   "execution_count": 3,
   "metadata": {},
   "outputs": [
    {
     "name": "stdout",
     "output_type": "stream",
     "text": [
      "\n",
      "1で初期化:\n",
      "[[1. 1. 1. 1.]\n",
      " [1. 1. 1. 1.]\n",
      " [1. 1. 1. 1.]]\n"
     ]
    }
   ],
   "source": [
    "one_data = np.ones((3, 4))\n",
    "print(\"\\n1で初期化:\")\n",
    "print(one_data)\n"
   ]
  },
  {
   "cell_type": "markdown",
   "metadata": {},
   "source": [
    "np.ones()関数は、np.zeros()と似ていますが、すべての要素が1の配列を作成します。これは、例えば基準値からの変化を計算する際のベースとして使用できます。\n",
    "\n",
    "### 指定した値で初期化された2次元配列を作成\n"
   ]
  },
  {
   "cell_type": "code",
   "execution_count": 4,
   "metadata": {},
   "outputs": [
    {
     "name": "stdout",
     "output_type": "stream",
     "text": [
      "\n",
      "100で初期化:\n",
      "[[100 100 100 100]\n",
      " [100 100 100 100]\n",
      " [100 100 100 100]]\n"
     ]
    }
   ],
   "source": [
    "filled_data = np.full((3, 4), 100)\n",
    "print(\"\\n100で初期化:\")\n",
    "print(filled_data)\n"
   ]
  },
  {
   "cell_type": "markdown",
   "metadata": {},
   "source": [
    "np.full()関数を使うと、指定した値で埋められた配列を作成できます。この例では、すべての要素が100の3行4列の配列を作成しています。これは、固定値での初期化や、特定の値でデータを埋める必要がある場合に役立ちます。\n",
    "\n",
    "## 2次元配列の基本属性\n",
    "\n",
    "2次元配列には、そのデータの特性を表す様々な属性があります。これらの属性を理解することで、配列の構造や内容をより深く把握できます。\n"
   ]
  },
  {
   "cell_type": "code",
   "execution_count": 5,
   "metadata": {},
   "outputs": [
    {
     "name": "stdout",
     "output_type": "stream",
     "text": [
      "\n",
      "データの形状： (3, 4)\n",
      "データの次元数： 2\n",
      "データの要素数： 12\n",
      "データの型： int64\n"
     ]
    }
   ],
   "source": [
    "# 配列の形状（shape）\n",
    "print(\"\\nデータの形状：\", tourism_data.shape)\n",
    "\n",
    "# 配列の次元数\n",
    "print(\"データの次元数：\", tourism_data.ndim)\n",
    "\n",
    "# 配列の要素数\n",
    "print(\"データの要素数：\", tourism_data.size)\n",
    "\n",
    "# データ型\n",
    "print(\"データの型：\", tourism_data.dtype)\n"
   ]
  },
  {
   "cell_type": "markdown",
   "metadata": {},
   "source": [
    "- `shape`: 配列の各次元のサイズを表すタプルを返します。この例では(3, 4)となり、3行4列の配列であることを示します。\n",
    "- `ndim`: 配列の次元数を返します。2次元配列なので2となります。\n",
    "- `size`: 配列の総要素数を返します。この例では3 * 4 = 12となります。\n",
    "- `dtype`: 配列の要素のデータ型を返します。整数や浮動小数点数などの型情報がわかります。\n",
    "\n",
    "これらの属性を使うことで、配列の基本的な構造や特性を簡単に確認できます。データ分析や処理を行う前に、これらの情報を確認することで、適切な方法でデータを扱えるようになります。\n",
    "\n",
    "## 配列の変形とリシェイプ\n",
    "\n",
    "データ分析では、しばしば配列の形状を変更する必要があります。NumPyは、この操作を簡単に行うための機能を提供しています。\n",
    "\n",
    "### 1次元配列を2次元に変形\n"
   ]
  },
  {
   "cell_type": "code",
   "execution_count": 6,
   "metadata": {},
   "outputs": [
    {
     "name": "stdout",
     "output_type": "stream",
     "text": [
      "リシェイプ後のデータ:\n",
      "[[1 2 3]\n",
      " [4 5 6]]\n"
     ]
    }
   ],
   "source": [
    "flat_data = np.array([1, 2, 3, 4, 5, 6])\n",
    "reshaped_data = flat_data.reshape((2, 3))\n",
    "print(\"リシェイプ後のデータ:\")\n",
    "print(reshaped_data)\n"
   ]
  },
  {
   "cell_type": "markdown",
   "metadata": {},
   "source": [
    "reshape()メソッドを使うと、配列の形状を変更できます。この例では、6要素の1次元配列を2行3列の2次元配列に変形しています。元の要素数と新しい形状の要素数が一致している必要があります。\n",
    "\n",
    "### 2次元配列を1次元に平坦化\n"
   ]
  },
  {
   "cell_type": "code",
   "execution_count": 7,
   "metadata": {},
   "outputs": [
    {
     "name": "stdout",
     "output_type": "stream",
     "text": [
      "\n",
      "平坦化したデータ:\n",
      "[3000 1000 1500 2500 2000  800 1200 1800 1000  300  600  900]\n"
     ]
    }
   ],
   "source": [
    "flattened_data = tourism_data.flatten()\n",
    "print(\"\\n平坦化したデータ:\")\n",
    "print(flattened_data)\n"
   ]
  },
  {
   "cell_type": "markdown",
   "metadata": {},
   "source": [
    "flatten()メソッドは、多次元配列を1次元配列に変換します。これは、データを一列に並べる必要がある場合や、特定の関数が1次元データのみを受け付ける場合に便利です。\n",
    "\n",
    "### 転置（行と列を入れ替え）\n"
   ]
  },
  {
   "cell_type": "code",
   "execution_count": 8,
   "metadata": {},
   "outputs": [
    {
     "name": "stdout",
     "output_type": "stream",
     "text": [
      "\n",
      "転置したデータ:\n",
      "[[3000 2000 1000]\n",
      " [1000  800  300]\n",
      " [1500 1200  600]\n",
      " [2500 1800  900]]\n"
     ]
    }
   ],
   "source": [
    "transposed_data = tourism_data.T\n",
    "print(\"\\n転置したデータ:\")\n",
    "print(transposed_data)\n"
   ]
  },
  {
   "cell_type": "markdown",
   "metadata": {},
   "source": [
    "\n",
    "\n",
    ".T属性を使うと、配列の行と列を入れ替えることができます。これは、データの視点を変えたり、特定の計算を行う際に役立ちます。例えば、年ごとのデータを観光地ごとのデータに変換する場合などに使用します。\n",
    "\n",
    "これらの操作を理解し活用することで、データの構造を柔軟に変更し、様々な分析ニーズに対応することができます。\n",
    "\n",
    "## まとめ\n",
    "\n",
    "このページでは、NumPyの2次元配列の基本的な操作と属性について学びました。2次元配列の作成方法、基本属性の確認、形状の変更方法を詳しく説明しました。これらの技術を使うことで、以下のようなことが可能になります：\n",
    "\n",
    "1. 複雑な構造を持つデータの効率的な表現と操作\n",
    "2. データの形状や特性の迅速な把握\n",
    "3. 分析目的に応じたデータ構造の柔軟な変更\n",
    "\n",
    "これらの基本を押さえることで、より高度なデータ分析や処理への足がかりとなります。次のステップでは、これらの基本操作を組み合わせて、実際の観光データの分析に応用する方法を学んでいきましょう。\n",
    "\n",
    "データ分析の世界は奥深く、常に新しい手法や視点が生まれています。ここで学んだ基礎を活かし、日本の観光データを多角的に分析することで、新たな発見や洞察を得られるかもしれません。ぜひ、自分の興味のある地域や時期のデータを使って、分析を試みてみてください。"
   ]
  },
  {
   "cell_type": "markdown",
   "metadata": {},
   "source": [
    "問題1\n",
    "あなたは、3つの異なる映画館で4日間の入場者数を記録しました。このデータを2次元NumPy配列として表現し、以下の操作を行ってください。\n",
    "\n",
    "1. 2次元配列を作成し、表示してください。\n",
    "2. 配列の形状、次元数、要素数を表示してください。\n",
    "3. 各映画館の4日間の合計入場者数を計算し、表示してください。\n",
    "4. 日ごとの全映画館の合計入場者数を計算し、表示してください。\n",
    "5. データを転置して表示してください。\n"
   ]
  },
  {
   "cell_type": "markdown",
   "metadata": {},
   "source": [
    "\n",
    "解答例(Pythonコード):\n"
   ]
  },
  {
   "cell_type": "code",
   "execution_count": 1,
   "metadata": {},
   "outputs": [
    {
     "name": "stdout",
     "output_type": "stream",
     "text": [
      "映画館の入場者数データ:\n",
      "[[120 150 180 200]\n",
      " [100 120 140 160]\n",
      " [ 80  90 110 130]]\n",
      "\n",
      "配列の形状: (3, 4)\n",
      "配列の次元数: 2\n",
      "配列の要素数: 12\n",
      "\n",
      "各映画館の合計入場者数:\n",
      "映画館A: 650人\n",
      "映画館B: 520人\n",
      "映画館C: 410人\n",
      "\n",
      "日ごとの全映画館の合計入場者数:\n",
      "1日目: 300人\n",
      "2日目: 360人\n",
      "3日目: 430人\n",
      "4日目: 490人\n",
      "\n",
      "転置したデータ:\n",
      "[[120 100  80]\n",
      " [150 120  90]\n",
      " [180 140 110]\n",
      " [200 160 130]]\n"
     ]
    }
   ],
   "source": [
    "import numpy as np\n",
    "\n",
    "# 1. 2次元配列の作成と表示\n",
    "movie_theater_data = np.array([\n",
    "    [120, 150, 180, 200],  # 映画館A\n",
    "    [100, 120, 140, 160],  # 映画館B\n",
    "    [80, 90, 110, 130]     # 映画館C\n",
    "])\n",
    "\n",
    "print(\"映画館の入場者数データ:\")\n",
    "print(movie_theater_data)\n",
    "\n",
    "# 2. 配列の形状、次元数、要素数の表示\n",
    "print(\"\\n配列の形状:\", movie_theater_data.shape)\n",
    "print(\"配列の次元数:\", movie_theater_data.ndim)\n",
    "print(\"配列の要素数:\", movie_theater_data.size)\n",
    "\n",
    "# 3. 各映画館の合計入場者数の計算と表示\n",
    "theater_totals = np.sum(movie_theater_data, axis=1)\n",
    "print(\"\\n各映画館の合計入場者数:\")\n",
    "for i, total in enumerate(['A', 'B', 'C']):\n",
    "    print(f\"映画館{total}: {theater_totals[i]}人\")\n",
    "\n",
    "# 4. 日ごとの全映画館の合計入場者数の計算と表示\n",
    "daily_totals = np.sum(movie_theater_data, axis=0)\n",
    "print(\"\\n日ごとの全映画館の合計入場者数:\")\n",
    "for i, total in enumerate(daily_totals):\n",
    "    print(f\"{i+1}日目: {total}人\")\n",
    "\n",
    "# 5. データの転置と表示\n",
    "transposed_data = movie_theater_data.T\n",
    "print(\"\\n転置したデータ:\")\n",
    "print(transposed_data)\n"
   ]
  },
  {
   "cell_type": "markdown",
   "metadata": {},
   "source": [
    "解説:\n",
    "この問題では、NumPyの2次元配列を使って映画館の入場者数データを処理しています。\n",
    "\n",
    "1. `np.array()`を使って2次元配列を作成しています。各行が1つの映画館のデータを、各列が日ごとのデータを表しています。\n",
    "\n",
    "2. `shape`, `ndim`, `size`属性を使って、配列の基本情報を取得しています。\n",
    "\n",
    "3. `np.sum()`関数と`axis=1`パラメータを使用して、各映画館（行方向）の合計を計算しています。\n",
    "\n",
    "4. `np.sum()`関数と`axis=0`パラメータを使用して、日ごと（列方向）の合計を計算しています。\n",
    "\n",
    "5. `.T`属性を使って配列を転置し、日ごとのデータを行に、映画館ごとのデータを列に変換しています。\n",
    "\n",
    "これらの操作により、2次元配列を使ってデータを効率的に処理し、様々な視点から分析することができます。\n"
   ]
  },
  {
   "cell_type": "markdown",
   "metadata": {},
   "source": [
    "問題2\n",
    "あなたは、3種類の料理の4週間分の注文数を記録しました。このデータを2次元NumPy配列として表現し、以下の操作を行ってください。\n",
    "\n",
    "1. 2次元配列を作成し、表示してください。\n",
    "2. 配列のデータ型を表示してください。\n",
    "3. 各料理の4週間の平均注文数を計算し、表示してください。\n",
    "4. 週ごとの全料理の注文数を計算し、表示してください。\n",
    "5. データを1次元配列に平坦化して表示してください。\n"
   ]
  },
  {
   "cell_type": "markdown",
   "metadata": {},
   "source": [
    "解答例(Pythonコード):\n"
   ]
  },
  {
   "cell_type": "code",
   "execution_count": 2,
   "metadata": {},
   "outputs": [
    {
     "name": "stdout",
     "output_type": "stream",
     "text": [
      "料理の注文数データ:\n",
      "[[50 60 45 55]\n",
      " [30 35 40 38]\n",
      " [25 28 30 32]]\n",
      "\n",
      "配列のデータ型: int64\n",
      "\n",
      "各料理の平均注文数:\n",
      "ラーメン: 52.50件\n",
      "カレー: 35.75件\n",
      "パスタ: 28.75件\n",
      "\n",
      "週ごとの全料理の注文数:\n",
      "第1週: 105件\n",
      "第2週: 123件\n",
      "第3週: 115件\n",
      "第4週: 125件\n",
      "\n",
      "平坦化したデータ:\n",
      "[50 60 45 55 30 35 40 38 25 28 30 32]\n"
     ]
    }
   ],
   "source": [
    "import numpy as np\n",
    "\n",
    "# 1. 2次元配列の作成と表示\n",
    "order_data = np.array([\n",
    "    [50, 60, 45, 55],  # ラーメン\n",
    "    [30, 35, 40, 38],  # カレー\n",
    "    [25, 28, 30, 32]   # パスタ\n",
    "])\n",
    "\n",
    "print(\"料理の注文数データ:\")\n",
    "print(order_data)\n",
    "\n",
    "# 2. 配列のデータ型の表示\n",
    "print(\"\\n配列のデータ型:\", order_data.dtype)\n",
    "\n",
    "# 3. 各料理の平均注文数の計算と表示\n",
    "average_orders = np.mean(order_data, axis=1)\n",
    "print(\"\\n各料理の平均注文数:\")\n",
    "for i, dish in enumerate(['ラーメン', 'カレー', 'パスタ']):\n",
    "    print(f\"{dish}: {average_orders[i]:.2f}件\")\n",
    "\n",
    "# 4. 週ごとの全料理の注文数の計算と表示\n",
    "weekly_totals = np.sum(order_data, axis=0)\n",
    "print(\"\\n週ごとの全料理の注文数:\")\n",
    "for i, total in enumerate(weekly_totals):\n",
    "    print(f\"第{i+1}週: {total}件\")\n",
    "\n",
    "# 5. データの平坦化と表示\n",
    "flattened_data = order_data.flatten()\n",
    "print(\"\\n平坦化したデータ:\")\n",
    "print(flattened_data)\n"
   ]
  },
  {
   "cell_type": "markdown",
   "metadata": {},
   "source": [
    "\n",
    "解説:\n",
    "この問題では、NumPyの2次元配列を使って料理の注文数データを処理しています。\n",
    "\n",
    "1. `np.array()`を使って2次元配列を作成しています。各行が1つの料理のデータを、各列が週ごとのデータを表しています。\n",
    "\n",
    "2. `dtype`属性を使って、配列のデータ型を取得しています。この場合、整数型（int64）であることがわかります。\n",
    "\n",
    "3. `np.mean()`関数と`axis=1`パラメータを使用して、各料理（行方向）の平均注文数を計算しています。\n",
    "\n",
    "4. `np.sum()`関数と`axis=0`パラメータを使用して、週ごと（列方向）の合計注文数を計算しています。\n",
    "\n",
    "5. `flatten()`メソッドを使って配列を1次元に平坦化しています。これにより、全てのデータを一列に並べて表示しています。\n",
    "\n",
    "これらの操作により、2次元配列を使ってデータを効率的に処理し、様々な角度から分析することができます。平均や合計の計算、データの形状の変更など、NumPyの機能を活用することで、複雑なデータ処理を簡単に行うことができます。"
   ]
  }
 ],
 "metadata": {
  "kernelspec": {
   "display_name": "base",
   "language": "python",
   "name": "python3"
  },
  "language_info": {
   "codemirror_mode": {
    "name": "ipython",
    "version": 3
   },
   "file_extension": ".py",
   "mimetype": "text/x-python",
   "name": "python",
   "nbconvert_exporter": "python",
   "pygments_lexer": "ipython3",
   "version": "3.11.3"
  }
 },
 "nbformat": 4,
 "nbformat_minor": 2
}
