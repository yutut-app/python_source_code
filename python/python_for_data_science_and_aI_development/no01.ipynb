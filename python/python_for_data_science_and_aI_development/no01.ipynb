{
 "cells": [
  {
   "cell_type": "markdown",
   "metadata": {},
   "source": [
    "# Pythonのデータ型を理解しよう\n",
    "\n",
    "## はじめに\n",
    "\n",
    "こんにちは！これからPythonプログラミングを学ぶ皆さんに、Pythonのデータ型について説明します。データ型とは、プログラムの中でデータを表現するための種類のことです。Pythonには、整数型（int）、浮動小数点数型（float）、文字列型（str）、ブール型（bool）などがあります。これらのデータ型を理解することは、Pythonでプログラムを書く上で非常に重要です。\n",
    "\n",
    "## 整数型（int）\n",
    "\n",
    "整数型は、正の整数、0、負の整数を表現するためのデータ型です。"
   ]
  },
  {
   "cell_type": "code",
   "execution_count": 5,
   "metadata": {},
   "outputs": [
    {
     "name": "stdout",
     "output_type": "stream",
     "text": [
      "<class 'int'>\n"
     ]
    }
   ],
   "source": [
    "# 変数に整数を代入\n",
    "age = 25\n",
    "print(type(age))  # 出力:<class 'int'>\n",
    "\n",
    "# 整数の例\n",
    "year = 2024\n",
    "count = 10"
   ]
  },
  {
   "cell_type": "markdown",
   "metadata": {},
   "source": [
    "上記の例では、`age`という変数に25という整数値を代入し、`type()`関数を使ってデータ型を確認しています。また、`year`と`count`という変数にそれぞれ正の整数と負の整数を代入しています。\n",
    "\n",
    "## 浮動小数点数型（float）\n",
    "\n",
    "浮動小数点数型は、小数点を含む実数を表現するためのデータ型です。"
   ]
  },
  {
   "cell_type": "code",
   "execution_count": 6,
   "metadata": {},
   "outputs": [
    {
     "name": "stdout",
     "output_type": "stream",
     "text": [
      "<class 'float'>\n"
     ]
    }
   ],
   "source": [
    "# 変数に浮動小数点数を代入\n",
    "height = 175.5\n",
    "print(type(height))  # 出力:<class 'float'>\n",
    "\n",
    "# 浮動小数点数の例\n",
    "pi = 3.14159\n",
    "temperature = 22.5"
   ]
  },
  {
   "cell_type": "markdown",
   "metadata": {},
   "source": [
    "上記の例では、`height`という変数に175.5という浮動小数点数を代入し、`type()`関数を使ってデータ型を確認しています。また、`pi`と`temperature`という変数にそれぞれ正の浮動小数点数と負の浮動小数点数を代入しています。\n",
    "\n",
    "## 文字列型（str）\n",
    "\n",
    "文字列型は、文字の並びを表現するためのデータ型です。文字列は、シングルクォート（'）またはダブルクォート（\"）で囲みます。\n"
   ]
  },
  {
   "cell_type": "code",
   "execution_count": 7,
   "metadata": {},
   "outputs": [
    {
     "name": "stdout",
     "output_type": "stream",
     "text": [
      "<class 'str'>\n"
     ]
    }
   ],
   "source": [
    "# 変数に文字列を代入\n",
    "name = \"太郎\"\n",
    "print(type(name))  # 出力:<class 'str'>\n",
    "\n",
    "# 文字列の例\n",
    "message = 'こんにちは'\n",
    "email = \"example@example.com\""
   ]
  },
  {
   "cell_type": "markdown",
   "metadata": {},
   "source": [
    "上記の例では、`name`という変数に\"太郎\"という文字列を代入し、`type()`関数を使ってデータ型を確認しています。また、`message`と`email`という変数にそれぞれシングルクォートとダブルクォートで囲んだ文字列を代入しています。\n",
    "\n",
    "## ブール型（bool）\n",
    "\n",
    "ブール型は、真（True）または偽（False）のいずれかの値を表現するためのデータ型です。\n"
   ]
  },
  {
   "cell_type": "code",
   "execution_count": 8,
   "metadata": {},
   "outputs": [
    {
     "name": "stdout",
     "output_type": "stream",
     "text": [
      "<class 'bool'>\n"
     ]
    }
   ],
   "source": [
    "# 変数にブール値を代入\n",
    "is_student = True\n",
    "print(type(is_student))  # 出力:<class 'bool'>\n",
    "\n",
    "# ブール値の例\n",
    "is_weekend = False\n",
    "has_license = True"
   ]
  },
  {
   "cell_type": "markdown",
   "metadata": {},
   "source": [
    "上記の例では、`is_student`という変数にTrueを代入し、`type()`関数を使ってデータ型を確認しています。また、`is_weekend`と`has_license`という変数にそれぞれFalseとTrueを代入しています。\n",
    "\n",
    "## 型変換（キャスト）\n",
    "\n",
    "型変換とは、あるデータ型から別のデータ型に変換することです。Pythonでは、`int()`、`float()`、`str()`などの関数を使って型変換を行います。"
   ]
  },
  {
   "cell_type": "code",
   "execution_count": null,
   "metadata": {},
   "outputs": [],
   "source": [
    "# 文字列から整数への変換\n",
    "price_str = \"1000\"\n",
    "price_int = int(price_str)\n",
    "print(price_int)  # 出力:1000\n",
    "\n",
    "# 整数から浮動小数点数への変換\n",
    "number_int = 10\n",
    "number_float = float(number_int)\n",
    "print(number_float)  # 出力:10.0\n",
    "\n",
    "# ブール値から整数への変換(False->0, True->1)\n",
    "is_available = True\n",
    "print(int(is_available))  # 出力:1"
   ]
  },
  {
   "cell_type": "markdown",
   "metadata": {},
   "source": [
    "\n",
    "上記の例では、文字列型の`price_str`を`int()`関数を使って整数型に変換しています。また、整数型の`number_int`を`float()`関数を使って浮動小数点数型に変換しています。さらに、ブール型の`is_available`を`int()`関数を使って整数型に変換しています。\n",
    "\n",
    "## その他のデータ型\n",
    "\n",
    "Pythonには、上記の基本的なデータ型以外にも、リスト（list）、タプル（tuple）、辞書（dict）、集合（set）などのデータ型があります。これらのデータ型については、今後学習していく中で詳しく説明します。\n",
    "\n",
    "## まとめ\n",
    "\n",
    "本ホームページでは、Pythonのデータ型である整数型（int）、浮動小数点数型（float）、文字列型（str）、ブール型（bool）について説明しました。また、型変換（キャスト）についても触れました。これらのデータ型を理解することは、Pythonでプログラムを書く上で非常に重要です。\n",
    "\n",
    "演算や条件分岐については、今は理解できなくても大丈夫です。これからPythonを学習していく中で、徐々に理解を深めていきましょう。\n",
    "\n",
    "今後、プログラムを書く際には、適切なデータ型を選択し、必要に応じて型変換を行うようにしましょう。"
   ]
  },
  {
   "cell_type": "code",
   "execution_count": null,
   "metadata": {},
   "outputs": [],
   "source": []
  }
 ],
 "metadata": {
  "kernelspec": {
   "display_name": "base",
   "language": "python",
   "name": "python3"
  },
  "language_info": {
   "codemirror_mode": {
    "name": "ipython",
    "version": 3
   },
   "file_extension": ".py",
   "mimetype": "text/x-python",
   "name": "python",
   "nbconvert_exporter": "python",
   "pygments_lexer": "ipython3",
   "version": "3.11.3"
  }
 },
 "nbformat": 4,
 "nbformat_minor": 2
}
