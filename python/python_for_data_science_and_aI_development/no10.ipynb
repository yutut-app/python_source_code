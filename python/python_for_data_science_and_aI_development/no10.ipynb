{
 "cells": [
  {
   "cell_type": "markdown",
   "metadata": {},
   "source": [
    "# Pythonの関数（function）を理解しよう\n",
    "\n",
    "## はじめに\n",
    "\n",
    "こんにちは！これからPythonプログラミングを学ぶ皆さんに、Pythonの関数について説明します。関数は、特定のタスクを実行するコードのまとまりで、再利用可能な部品として扱うことができます。Pythonには組み込み関数が多数用意されていますが、自分で関数を定義することもできます。関数を理解することは、Pythonでプログラムを書く上で非常に重要です。\n",
    "\n",
    "## 組み込み関数\n",
    "\n",
    "Pythonには、様々な組み込み関数が用意されています。これらの関数は、Pythonに最初から用意されているため、特別なインポートなしで使用できます。\n",
    "\n",
    "### len関数\n",
    "\n",
    "len関数は、シーケンス（文字列やリストなど）やコレクション（辞書やセットなど）の長さを返します。\n"
   ]
  },
  {
   "cell_type": "code",
   "execution_count": 1,
   "metadata": {},
   "outputs": [
    {
     "name": "stdout",
     "output_type": "stream",
     "text": [
      "買い物リストの項目数：8\n"
     ]
    }
   ],
   "source": [
    "# len関数の例\n",
    "shopping_list = [\"りんご\", \"バナナ\", \"オレンジ\", \"ミルク\", \"パン\", \"卵\", \"チーズ\", \"ヨーグルト\"]\n",
    "list_length = len(shopping_list)\n",
    "print(f\"買い物リストの項目数：{list_length}\")  # 出力結果：買い物リストの項目数：8\n"
   ]
  },
  {
   "cell_type": "markdown",
   "metadata": {},
   "source": [
    "上記の例では、`shopping_list`というリストの長さを`len`関数で取得し、`list_length`変数に代入しています。\n",
    "\n",
    "### sum関数\n",
    "\n",
    "sum関数は、イテラブル（タプルやリストなど）の要素の合計を返します。\n"
   ]
  },
  {
   "cell_type": "code",
   "execution_count": 2,
   "metadata": {},
   "outputs": [
    {
     "name": "stdout",
     "output_type": "stream",
     "text": [
      "今週の支出の合計：17500円\n"
     ]
    }
   ],
   "source": [
    "# sum関数の例\n",
    "expenses = [1000, 2000, 1500, 3000, 2500, 4000, 3500]\n",
    "total_expenses = sum(expenses)\n",
    "print(f\"今週の支出の合計：{total_expenses}円\")  # 出力結果：今週の支出の合計：17500円\n"
   ]
  },
  {
   "cell_type": "markdown",
   "metadata": {},
   "source": [
    "上記の例では、`expenses`というリストの要素の合計を`sum`関数で計算し、`total_expenses`変数に代入しています。\n",
    "\n",
    "### sorted関数とsortメソッド\n",
    "\n",
    "sorted関数とsortメソッドは、リストを昇順に並べ替えるために使用します。sorted関数は新しい並べ替え済みのリストを返しますが、sortメソッドは元のリストを直接変更します。\n"
   ]
  },
  {
   "cell_type": "code",
   "execution_count": 3,
   "metadata": {},
   "outputs": [
    {
     "name": "stdout",
     "output_type": "stream",
     "text": [
      "元のリスト：[85, 92, 78, 90, 88]\n",
      "新しい並べ替え済みのリスト：[78, 85, 88, 90, 92]\n",
      "元のリストを直接変更：[78, 85, 88, 90, 92]\n"
     ]
    }
   ],
   "source": [
    "# sorted関数とsortメソッドの例\n",
    "scores = [85, 92, 78, 90, 88]\n",
    "sorted_scores = sorted(scores)\n",
    "print(f\"元のリスト：{scores}\")  # 出力結果：元のリスト：[85, 92, 78, 90, 88]\n",
    "print(f\"新しい並べ替え済みのリスト：{sorted_scores}\")  # 出力結果：新しい並べ替え済みのリスト：[78, 85, 88, 90, 92]\n",
    "\n",
    "scores.sort()\n",
    "print(f\"元のリストを直接変更：{scores}\")  # 出力結果：元のリストを直接変更：[78, 85, 88, 90, 92]\n"
   ]
  },
  {
   "cell_type": "markdown",
   "metadata": {},
   "source": [
    "上記の例では、`scores`というリストを`sorted`関数で並べ替えた結果を`sorted_scores`変数に代入しています。また、`sort`メソッドを使って`scores`リストを直接変更しています。\n",
    "\n",
    "## 関数の定義\n",
    "\n",
    "自分で関数を定義することで、特定のタスクを実行するコードを再利用可能な部品として扱うことができます。\n",
    "\n",
    "### 関数の基本構文\n",
    "\n",
    "関数を定義するには、`def`キーワードを使用します。\n"
   ]
  },
  {
   "cell_type": "code",
   "execution_count": 18,
   "metadata": {},
   "outputs": [
    {
     "name": "stdout",
     "output_type": "stream",
     "text": [
      "こんにちは、太郎さん！\n",
      "こんにちは、花子さん！\n"
     ]
    }
   ],
   "source": [
    "# 関数の定義の例\n",
    "def greet(name):\n",
    "    \"\"\"\n",
    "    指定された名前に対して挨拶を返す関数。\n",
    "    \"\"\"\n",
    "    return f\"こんにちは、{name}さん！\"\n",
    "\n",
    "print(greet(\"太郎\"))  # 出力結果：こんにちは、太郎さん！\n",
    "print(greet(\"花子\"))  # 出力結果：こんにちは、花子さん！\n"
   ]
  },
  {
   "cell_type": "markdown",
   "metadata": {},
   "source": [
    "上記の例では、`greet`という関数を定義しています。この関数は、`name`という引数を受け取り、挨拶メッセージを返します。関数を呼び出すときは、関数名の後ろに括弧を付けて引数を渡します。\n",
    "\n",
    "関数の定義は以下のような構文になります：\n"
   ]
  },
  {
   "cell_type": "code",
   "execution_count": 19,
   "metadata": {},
   "outputs": [
    {
     "ename": "SyntaxError",
     "evalue": "invalid syntax (4002802225.py, line 1)",
     "output_type": "error",
     "traceback": [
      "\u001b[0;36m  Cell \u001b[0;32mIn[19], line 1\u001b[0;36m\u001b[0m\n\u001b[0;31m    def 関数名(引数1, 引数2, ...):\u001b[0m\n\u001b[0m                      ^\u001b[0m\n\u001b[0;31mSyntaxError\u001b[0m\u001b[0;31m:\u001b[0m invalid syntax\n"
     ]
    }
   ],
   "source": [
    "\n",
    "def 関数名(引数1, 引数2, ...):\n",
    "    \"\"\"\n",
    "    関数のドキュメンテーション（説明）\n",
    "    \"\"\"\n",
    "    # 関数の処理\n",
    "    return 返り値\n"
   ]
  },
  {
   "cell_type": "markdown",
   "metadata": {},
   "source": [
    "- `def`キーワードを使って関数を定義します。\n",
    "- 関数名は、関数の目的を表す名前を付けます。\n",
    "- 引数は、関数に渡すデータを指定します。引数は0個以上指定できます。\n",
    "- 関数のドキュメンテーション（説明）は、三重引用符（`\"\"\"`）で囲んで記述します。\n",
    "- 関数の処理は、インデントを使ってブロック内に記述します。\n",
    "- `return`文を使って、関数の返り値を指定します。返り値は省略可能です。\n",
    "\n",
    "### 関数のドキュメンテーション\n",
    "\n",
    "関数の先頭に三重引用符で囲まれたコメントを記述することで、関数のドキュメンテーション（説明）を提供できます。これは、関数の目的や引数、返り値などを説明するために使用されます。\n"
   ]
  },
  {
   "cell_type": "code",
   "execution_count": 22,
   "metadata": {},
   "outputs": [
    {
     "name": "stdout",
     "output_type": "stream",
     "text": [
      "Help on function calculate_average in module __main__:\n",
      "\n",
      "calculate_average(numbers)\n",
      "    数値のリストの平均を計算する関数。\n",
      "    \n",
      "    引数:\n",
      "    numbers -- 数値のリスト\n",
      "    \n",
      "    返り値:\n",
      "    numbersの平均値\n",
      "\n",
      "None\n"
     ]
    }
   ],
   "source": [
    "# 関数のドキュメンテーションの例\n",
    "def calculate_average(numbers):\n",
    "    \"\"\"\n",
    "    数値のリストの平均を計算する関数。\n",
    "\n",
    "    引数:\n",
    "    numbers -- 数値のリスト\n",
    "\n",
    "    返り値:\n",
    "    numbersの平均値\n",
    "    \"\"\"\n",
    "    return sum(numbers) / len(numbers)\n",
    "\n",
    "print(help(calculate_average))\n"
   ]
  },
  {
   "cell_type": "markdown",
   "metadata": {},
   "source": [
    "上記の例では、`calculate_average`関数のドキュメンテーションを記述しています。`help`関数を使って、関数のドキュメンテーションを表示できます。\n",
    "\n",
    "関数のドキュメンテーションは、以下のような情報を含めるとよいでしょう：\n",
    "\n",
    "- 関数の目的や概要\n",
    "- 引数の説明\n",
    "- 返り値の説明\n",
    "- 使用例\n",
    "\n",
    "ドキュメンテーションを書くことで、関数の使い方を明確にし、他の人が関数を理解しやすくなります。また、自分自身が後から関数を見直したときにも、関数の目的を思い出しやすくなります。\n",
    "\n",
    "三重引用符で囲まれた部分は、関数の実行には影響しません。それは単なるコメントであり、関数の説明を提供するためだけに使用されます。\n",
    "\n",
    "これからPythonを学ぶ皆さんは、関数を定義するときに、わかりやすい関数名を付け、引数とドキュメンテーションを適切に記述することを心がけましょう。関数を適切に定義することで、コードの可読性と再利用性が向上します。\n",
    "\n",
    "### 複数の引数を持つ関数\n",
    "\n",
    "関数は、複数の引数を受け取ることができます。\n"
   ]
  },
  {
   "cell_type": "code",
   "execution_count": 30,
   "metadata": {},
   "outputs": [
    {
     "name": "stdout",
     "output_type": "stream",
     "text": [
      "合計金額：900円\n",
      "合計金額：5000円\n"
     ]
    }
   ],
   "source": [
    "# 複数の引数を持つ関数の例\n",
    "def calculate_total_price(price, tax_rate, discount):\n",
    "    \"\"\"\n",
    "    税率と割引額を考慮した商品の合計金額を計算する関数。\n",
    "    \"\"\"\n",
    "    return int((price * (1 + tax_rate)) - discount)\n",
    "\n",
    "total_price = calculate_total_price(1000, 0.1, 200)\n",
    "print(f\"合計金額：{total_price}円\")\n",
    "\n",
    "total_price = calculate_total_price(5000, 0.1, 500)\n",
    "print(f\"合計金額：{total_price}円\")\n"
   ]
  },
  {
   "cell_type": "markdown",
   "metadata": {},
   "source": [
    "上記の例では、`calculate_total_price`関数が`price`、`tax_rate`、`discount`の3つの引数を受け取り、税率と割引額を考慮した商品の合計金額を計算しています。\n",
    "\n",
    "### デフォルト引数\n",
    "\n",
    "関数の引数にデフォルト値を設定することで、引数が省略された場合にデフォルト値が使用されます。\n"
   ]
  },
  {
   "cell_type": "code",
   "execution_count": 32,
   "metadata": {},
   "outputs": [
    {
     "name": "stdout",
     "output_type": "stream",
     "text": [
      "こんにちは、太郎さん。お疲れ様です。\n",
      "こんにちは、花子さん。頑張ってください。\n"
     ]
    }
   ],
   "source": [
    "# デフォルト引数の例\n",
    "def greet(name, message=\"お疲れ様です。\"):\n",
    "    \"\"\"\n",
    "    指定された名前に対して挨拶を返す関数。\n",
    "    \"\"\"\n",
    "    return f\"こんにちは、{name}さん。{message}\"\n",
    "\n",
    "print(greet(\"太郎\"))  # 出力結果：こんにちは、太郎さん。お疲れ様です\n",
    "print(greet(\"花子\", \"頑張ってください。\"))  # 出力結果：こんにちは、花子さん。頑張ってください\n"
   ]
  },
  {
   "cell_type": "markdown",
   "metadata": {},
   "source": [
    "上記の例では、`greet`関数の`message`引数にデフォルト値として\"お疲れ様です\"を設定しています。引数が省略された場合は、デフォルト値が使用されます。\n"
   ]
  },
  {
   "cell_type": "markdown",
   "metadata": {},
   "source": [
    "\n",
    "### 返り値のない関数\n",
    "\n",
    "関数は、必ずしも返り値を持つ必要はありません。返り値を持たない関数は、何らかの処理を行うだけで、値を返しません。\n"
   ]
  },
  {
   "cell_type": "code",
   "execution_count": 24,
   "metadata": {},
   "outputs": [
    {
     "name": "stdout",
     "output_type": "stream",
     "text": [
      "こんにちは！\n",
      "今日も一日頑張りましょう！\n"
     ]
    }
   ],
   "source": [
    "# 返り値のない関数の例\n",
    "def print_message(message):\n",
    "    \"\"\"\n",
    "    メッセージを印刷する関数。\n",
    "    \"\"\"\n",
    "    print(message)\n",
    "\n",
    "print_message(\"こんにちは！\")  # 出力結果：こんにちは！\n",
    "print_message(\"今日も一日頑張りましょう！\")  # 出力結果：今日も一日頑張りましょう！\n"
   ]
  },
  {
   "cell_type": "markdown",
   "metadata": {},
   "source": [
    "\n",
    "上記の例では、`print_message`関数がメッセージを受け取り、そのメッセージを印刷するだけで、返り値はありません。\n"
   ]
  },
  {
   "cell_type": "markdown",
   "metadata": {},
   "source": [
    "\n",
    "### 可変長引数\n",
    "\n",
    "関数は、可変長引数を受け取ることができます。可変長引数を定義するには、引数の前にアスタリスク（`*`）を付けます。\n"
   ]
  },
  {
   "cell_type": "code",
   "execution_count": 9,
   "metadata": {},
   "outputs": [
    {
     "name": "stdout",
     "output_type": "stream",
     "text": [
      "買い物リスト：\n",
      "- りんご\n",
      "- バナナ\n",
      "- ミルク\n",
      "買い物リスト：\n",
      "- パン\n",
      "- 卵\n",
      "- チーズ\n",
      "- ヨーグルト\n"
     ]
    }
   ],
   "source": [
    "# 可変長引数の例\n",
    "def print_shopping_list(*items):\n",
    "    \"\"\"\n",
    "    買い物リストの項目を表示する関数。\n",
    "    \"\"\"\n",
    "    print(\"買い物リスト：\")\n",
    "    for item in items:\n",
    "        print(f\"- {item}\")\n",
    "\n",
    "print_shopping_list(\"りんご\", \"バナナ\", \"ミルク\")\n",
    "print_shopping_list(\"パン\", \"卵\", \"チーズ\", \"ヨーグルト\")\n"
   ]
  },
  {
   "cell_type": "markdown",
   "metadata": {},
   "source": [
    "上記の例では、`print_shopping_list`関数が可変長引数`items`を受け取ります。関数内では、`items`をイテラブルとして扱い、買い物リストの項目を表示しています。\n"
   ]
  },
  {
   "cell_type": "markdown",
   "metadata": {},
   "source": [
    "\n",
    "### 関数内で関数を呼び出す\n",
    "\n",
    "関数内で他の関数を呼び出すことができます。これにより、複雑な処理を小さな関数に分割し、コードの可読性と再利用性を高めることができます。\n"
   ]
  },
  {
   "cell_type": "code",
   "execution_count": 17,
   "metadata": {},
   "outputs": [
    {
     "name": "stdout",
     "output_type": "stream",
     "text": [
      "4人でカラオケに行くと、合計料金は6000円です。\n",
      "10人でカラオケに行くと、合計料金は15000円です。\n"
     ]
    }
   ],
   "source": [
    "# 関数内で関数を呼び出す例\n",
    "def calculate_total_cost(num_people):\n",
    "    \"\"\"\n",
    "    カラオケの合計料金を計算する関数。\n",
    "    \"\"\"\n",
    "    return calculate_room_cost(num_people) + calculate_drink_cost(num_people)\n",
    "\n",
    "def calculate_room_cost(num_people):\n",
    "    \"\"\"\n",
    "    カラオケルームの料金を計算する関数。\n",
    "    \"\"\"\n",
    "    return 1000 * num_people\n",
    "\n",
    "def calculate_drink_cost(num_people):\n",
    "    \"\"\"\n",
    "    ドリンク代を計算する関数。\n",
    "    \"\"\"\n",
    "    return 500 * num_people\n",
    "\n",
    "total_cost = calculate_total_cost(4)\n",
    "print(f\"4人でカラオケに行くと、合計料金は{total_cost}円です。\") \n",
    "\n",
    "total_cost = calculate_total_cost(10)\n",
    "print(f\"10人でカラオケに行くと、合計料金は{total_cost}円です。\")  # 出力結果：4人でカラオケに行くと、合計料金は6000円です。"
   ]
  },
  {
   "cell_type": "markdown",
   "metadata": {},
   "source": [
    "上記の例では、calculate_total_cost関数内でcalculate_room_cost関数とcalculate_drink_cost関数を呼び出しています。これにより、カラオケの合計料金を計算する処理を、ルームの料金とドリンク代を計算する関数を利用して実現しています。\n",
    "\n",
    "## スコープ\n",
    "\n",
    "変数のスコープは、その変数がアクセス可能な範囲を示します。Pythonには、グローバルスコープとローカルスコープがあります。\n",
    "\n",
    "### グローバルスコープ\n",
    "\n",
    "グローバルスコープは、関数の外部で定義された変数が属するスコープです。グローバルスコープの変数は、プログラムのどこからでもアクセスできます。\n"
   ]
  },
  {
   "cell_type": "code",
   "execution_count": 26,
   "metadata": {},
   "outputs": [
    {
     "name": "stdout",
     "output_type": "stream",
     "text": [
      "こんにちは、世界！\n"
     ]
    }
   ],
   "source": [
    "# グローバルスコープの例\n",
    "def print_message():\n",
    "    print(global_message)\n",
    "\n",
    "global_message = \"こんにちは、世界！\"\n",
    "print_message()  # 出力結果：こんにちは、世界！\n"
   ]
  },
  {
   "cell_type": "markdown",
   "metadata": {},
   "source": [
    "上記の例では、`global_message`変数がグローバルスコープで定義されています。`print_message`関数内でも`global_message`変数にアクセスできます。\n",
    "\n",
    "### ローカルスコープ\n",
    "\n",
    "ローカルスコープは、関数内で定義された変数が属するスコープです。ローカルスコープの変数は、その関数内でのみアクセスできます。\n"
   ]
  },
  {
   "cell_type": "code",
   "execution_count": 34,
   "metadata": {},
   "outputs": [
    {
     "name": "stdout",
     "output_type": "stream",
     "text": [
      "こんにちは、太郎さん！\n"
     ]
    },
    {
     "ename": "NameError",
     "evalue": "name 'local_message' is not defined",
     "output_type": "error",
     "traceback": [
      "\u001b[0;31m---------------------------------------------------------------------------\u001b[0m",
      "\u001b[0;31mNameError\u001b[0m                                 Traceback (most recent call last)",
      "Cell \u001b[0;32mIn[34], line 7\u001b[0m\n\u001b[1;32m      4\u001b[0m     \u001b[38;5;28;01mreturn\u001b[39;00m \u001b[38;5;124mf\u001b[39m\u001b[38;5;124m\"\u001b[39m\u001b[38;5;132;01m{\u001b[39;00mlocal_message\u001b[38;5;132;01m}\u001b[39;00m\u001b[38;5;124m、\u001b[39m\u001b[38;5;132;01m{\u001b[39;00mname\u001b[38;5;132;01m}\u001b[39;00m\u001b[38;5;124mさん！\u001b[39m\u001b[38;5;124m\"\u001b[39m\n\u001b[1;32m      6\u001b[0m \u001b[38;5;28mprint\u001b[39m(greet(\u001b[38;5;124m\"\u001b[39m\u001b[38;5;124m太郎\u001b[39m\u001b[38;5;124m\"\u001b[39m))  \u001b[38;5;66;03m# 出力結果：こんにちは、太郎さん！\u001b[39;00m\n\u001b[0;32m----> 7\u001b[0m \u001b[38;5;28mprint\u001b[39m(local_message)\n",
      "\u001b[0;31mNameError\u001b[0m: name 'local_message' is not defined"
     ]
    }
   ],
   "source": [
    "# ローカルスコープの例\n",
    "def greet(name):\n",
    "    local_message = \"こんにちは\"\n",
    "    return f\"{local_message}、{name}さん！\"\n",
    "\n",
    "print(greet(\"太郎\"))  # 出力結果：こんにちは、太郎さん！\n",
    "print(local_message)  # エラー：NameError: name 'message' is not defined\n"
   ]
  },
  {
   "cell_type": "markdown",
   "metadata": {},
   "source": [
    "上記の例では、`message`変数が`greet`関数のローカルスコープで定義されています。関数の外部から`message`変数にアクセスしようとすると、エラーが発生します。\n",
    "\n",
    "### グローバル変数の変更\n",
    "\n",
    "関数内でグローバル変数を変更するには、`global`キーワードを使用します。\n"
   ]
  },
  {
   "cell_type": "code",
   "execution_count": 28,
   "metadata": {},
   "outputs": [
    {
     "name": "stdout",
     "output_type": "stream",
     "text": [
      "1\n",
      "2\n"
     ]
    }
   ],
   "source": [
    "# グローバル変数の変更の例\n",
    "def increment_count():\n",
    "    global count\n",
    "    count += 1\n",
    "\n",
    "count = 0\n",
    "increment_count()\n",
    "print(count)  # 出力結果：1\n",
    "increment_count()\n",
    "print(count)  # 出力結果：2\n"
   ]
  },
  {
   "cell_type": "markdown",
   "metadata": {},
   "source": [
    "上記の例では、`increment_count`関数内で`global`キーワードを使用して、`count`変数がグローバルスコープの変数であることを示しています。これにより、関数内で`count`変数を変更できます。\n",
    "\n",
    "## まとめ\n",
    "\n",
    "本ホームページでは、Pythonの関数について説明しました。関数は、特定のタスクを実行するコードのまとまりで、再利用可能な部品として扱うことができます。\n",
    "Pythonには、len関数やsum関数などの組み込み関数が用意されています。また、自分で関数を定義することもできます。関数を定義するには、defキーワードを使用し、関数名、引数、および関数の処理を記述します。関数のドキュメンテーションを記述することで、関数の目的や使い方を明確にすることができます。\n",
    "関数は、複数の引数を受け取ることができ、デフォルト引数や可変長引数を使用することもできます。また、関数内で他の関数を呼び出すことで、複雑な処理を小さな関数に分割し、コードの可読性と再利用性を高めることができます。\n",
    "変数のスコープには、グローバルスコープとローカルスコープがあります。グローバルスコープの変数は、プログラムのどこからでもアクセスできますが、ローカルスコープの変数は、その関数内でのみアクセスできます。\n",
    "関数は、コードの再利用性を高め、プログラムの可読性を向上させるために非常に重要です。これからPythonを学ぶ皆さんは、関数の定義と使用方法を身につけ、日常生活の問題解決にも関数を活用していきましょう。関数を効果的に使いこなすことで、より効率的で理解しやすいコードを書くことができます。"
   ]
  },
  {
   "cell_type": "markdown",
   "metadata": {},
   "source": [
    "問題1\n",
    "あなたは、友達と一緒に遊園地に行くことにしました。遊園地の入場料は、大人1,500円、子供800円です。\n",
    "以下の情報を使って、合計金額を計算する関数を作成してください。\n",
    "\n",
    "- 大人の人数: 2人\n",
    "- 子供の人数: 3人\n",
    "\n",
    "関数calc_total_price(num_adults, num_children)を定義し、引数として大人の人数と子供の人数を受け取り、合計金額を返すようにしてください。\n",
    "その後、関数を呼び出して結果を出力してください。\n",
    "\n",
    "解答例(Pythonコード):\n"
   ]
  },
  {
   "cell_type": "code",
   "execution_count": 1,
   "metadata": {},
   "outputs": [
    {
     "name": "stdout",
     "output_type": "stream",
     "text": [
      "大人2人、子供3人の合計金額は5400円です。\n"
     ]
    }
   ],
   "source": [
    "def calc_total_price(num_adults, num_children):\n",
    "    \"\"\"\n",
    "    遊園地の入場料の合計金額を計算する関数。\n",
    "\n",
    "    引数:\n",
    "    num_adults -- 大人の人数\n",
    "    num_children -- 子供の人数\n",
    "\n",
    "    返り値:\n",
    "    合計金額\n",
    "    \"\"\"\n",
    "    adult_price = 1500\n",
    "    child_price = 800\n",
    "    total_price = num_adults * adult_price + num_children * child_price\n",
    "    return total_price\n",
    "\n",
    "num_adults = 2\n",
    "num_children = 3\n",
    "total_price = calc_total_price(num_adults, num_children)\n",
    "print(f\"大人{num_adults}人、子供{num_children}人の合計金額は{total_price}円です。\")\n"
   ]
  },
  {
   "cell_type": "markdown",
   "metadata": {},
   "source": [
    "解説:\n",
    "この問題では、遊園地の入場料の合計金額を計算する関数を作成しています。\n",
    "\n",
    "`calc_total_price`関数は、`num_adults`（大人の人数）と`num_children`（子供の人数）の2つの引数を受け取ります。関数内では、大人の料金（`adult_price`）と子供の料金（`child_price`）を定義し、それぞれの人数と料金を掛け合わせて合計金額（`total_price`）を計算しています。最後に、合計金額を返しています。\n",
    "\n",
    "関数の定義の後、`num_adults`と`num_children`に実際の人数を代入し、`calc_total_price`関数を呼び出して合計金額を計算しています。\n",
    "\n",
    "`print`関数を使って、大人の人数、子供の人数、および合計金額を出力しています。\n",
    "\n",
    "このように、関数を使うことで、入力値（大人の人数と子供の人数）に基づいて合計金額を計算するロジックを再利用可能な形で定義することができます。\n"
   ]
  },
  {
   "cell_type": "markdown",
   "metadata": {},
   "source": [
    "問題2\n",
    "あなたは、友達とカラオケに行き、曲を歌いました。あなたが歌った曲のリストは以下の通りです。\n",
    "\n",
    "songs = [\"夜に駆ける\", \"マリーゴールド\", \"ヘビーローテーション\", \"空も飛べるはず\"]\n",
    "\n",
    "曲のタイトルを1つずつ出力する関数print_song_titles(song_list)を定義してください。\n",
    "その後、関数を呼び出して結果を出力してください。\n",
    "\n",
    "解答例(Pythonコード):\n"
   ]
  },
  {
   "cell_type": "code",
   "execution_count": 3,
   "metadata": {},
   "outputs": [
    {
     "name": "stdout",
     "output_type": "stream",
     "text": [
      "あなたが歌った曲:\n",
      "夜に駆ける\n",
      "マリーゴールド\n",
      "ヘビーローテーション\n",
      "空も飛べるはず\n"
     ]
    }
   ],
   "source": [
    "def print_song_titles(song_list):\n",
    "    \"\"\"\n",
    "    曲のタイトルを1つずつ出力する関数。\n",
    "\n",
    "    引数:\n",
    "    song_list -- 曲のタイトルのリスト\n",
    "    \"\"\"\n",
    "    for song in song_list:\n",
    "        print(song)\n",
    "\n",
    "songs = [\"夜に駆ける\", \"マリーゴールド\", \"ヘビーローテーション\", \"空も飛べるはず\"]\n",
    "print(\"あなたが歌った曲:\")\n",
    "print_song_titles(songs)\n"
   ]
  },
  {
   "cell_type": "markdown",
   "metadata": {},
   "source": [
    "\n",
    "解説:\n",
    "この問題では、曲のタイトルを1つずつ出力する関数を作成しています。\n",
    "\n",
    "`print_song_titles`関数は、`song_list`（曲のタイトルのリスト）を引数として受け取ります。関数内では、`for`ループを使って`song_list`の要素を1つずつ取り出し、`print`関数で出力しています。\n",
    "\n",
    "関数の定義の後、`songs`というリストに実際の曲のタイトルを代入しています。\n",
    "\n",
    "`print`関数を使って\"あなたが歌った曲:\"というメッセージを出力した後、`print_song_titles`関数を呼び出して`songs`リストを渡しています。\n",
    "\n",
    "このように、関数を使うことで、リストの要素を1つずつ出力するロジックを再利用可能な形で定義することができます。また、関数にドキュメンテーションを追加することで、関数の目的と引数の説明を明確にしています。"
   ]
  }
 ],
 "metadata": {
  "kernelspec": {
   "display_name": "base",
   "language": "python",
   "name": "python3"
  },
  "language_info": {
   "codemirror_mode": {
    "name": "ipython",
    "version": 3
   },
   "file_extension": ".py",
   "mimetype": "text/x-python",
   "name": "python",
   "nbconvert_exporter": "python",
   "pygments_lexer": "ipython3",
   "version": "3.11.3"
  }
 },
 "nbformat": 4,
 "nbformat_minor": 2
}
