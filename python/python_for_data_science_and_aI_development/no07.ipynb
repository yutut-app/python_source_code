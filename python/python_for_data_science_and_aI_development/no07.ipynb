{
 "cells": [
  {
   "cell_type": "markdown",
   "metadata": {},
   "source": [
    "# Pythonの集合（set）を理解しよう\n",
    "\n",
    "## はじめに\n",
    "\n",
    "こんにちは！これからPythonプログラミングを学ぶ皆さんに、Pythonの集合（set）について説明します。集合は、Pythonにおける重要なデータ構造の一つであり、重複のない要素を格納することができます。集合を理解することは、Pythonでプログラムを書く上で非常に重要です。\n",
    "\n",
    "## 集合の基本\n",
    "\n",
    "集合は、重複のない要素を格納するデータ構造です。集合は、中括弧`{}`を使って定義します。"
   ]
  },
  {
   "cell_type": "code",
   "execution_count": 1,
   "metadata": {},
   "outputs": [
    {
     "name": "stdout",
     "output_type": "stream",
     "text": [
      "{'バナナ', 'りんご', 'オレンジ'}\n"
     ]
    }
   ],
   "source": [
    "# 集合の例\n",
    "fruits = {\"りんご\", \"バナナ\", \"オレンジ\", \"りんご\"}\n",
    "print(fruits)  # 出力結果：{'オレンジ', 'バナナ', 'りんご'}\n"
   ]
  },
  {
   "cell_type": "markdown",
   "metadata": {},
   "source": [
    "上記の例では、`fruits`という集合を定義しています。集合には、重複する要素（\"りんご\"）を含めることができますが、実際に集合が作成される際には、重複する要素は取り除かれます。\n",
    "\n",
    "## 集合の特徴\n",
    "\n",
    "集合には、以下のような特徴があります。\n",
    "\n",
    "1. 重複する要素を持たない\n",
    "2. 要素の順序は保持されない\n",
    "3. 要素の追加、削除が可能\n",
    "4. 集合同士の演算（和集合、積集合、差集合など）が可能\n",
    "\n",
    "## リストや文字列から集合への変換\n",
    "\n",
    "リストや文字列を集合に変換するには、`set()`関数を使用します。これを型変換（タイプキャスティング）と呼びます。\n"
   ]
  },
  {
   "cell_type": "code",
   "execution_count": 2,
   "metadata": {},
   "outputs": [
    {
     "name": "stdout",
     "output_type": "stream",
     "text": [
      "{1, 2, 3, 4, 5}\n",
      "{'b', 'c', 'r', 'd', 'a'}\n"
     ]
    }
   ],
   "source": [
    "# リストから集合への変換\n",
    "numbers_list = [1, 2, 3, 2, 4, 1, 5]\n",
    "numbers_set = set(numbers_list)\n",
    "print(numbers_set)  # 出力結果：{1, 2, 3, 4, 5}\n",
    "\n",
    "# 文字列から集合への変換\n",
    "chars = \"abracadabra\"\n",
    "chars_set = set(chars)\n",
    "print(chars_set)  # 出力結果：{'a', 'b', 'c', 'd', 'r'}"
   ]
  },
  {
   "cell_type": "markdown",
   "metadata": {},
   "source": [
    "上記の例では、`numbers_list`というリストを`set()`関数を使って集合に変換しています。また、`chars`という文字列を`set()`関数を使って集合に変換しています。変換後の集合では、重複する要素が取り除かれていることがわかります。\n",
    "\n",
    "## 集合のメソッド\n",
    "\n",
    "集合には、便利なメソッドが用意されています。以下は、よく使われる集合のメソッドの一部です。\n",
    "\n",
    "### add(要素)\n",
    "\n",
    "`add()`メソッドは、集合に新しい要素を追加します"
   ]
  },
  {
   "cell_type": "code",
   "execution_count": 3,
   "metadata": {},
   "outputs": [
    {
     "name": "stdout",
     "output_type": "stream",
     "text": [
      "{'ぶどう', 'バナナ', 'りんご', 'オレンジ'}\n"
     ]
    }
   ],
   "source": [
    "# add()メソッドの例\n",
    "fruits = {\"りんご\", \"バナナ\", \"オレンジ\"}\n",
    "fruits.add(\"ぶどう\")\n",
    "print(fruits)  # 出力結果：{'オレンジ', 'ぶどう', 'バナナ', 'りんご'}"
   ]
  },
  {
   "cell_type": "markdown",
   "metadata": {},
   "source": [
    "### remove(要素)\n",
    "\n",
    "`remove()`メソッドは、集合から指定した要素を削除します。指定した要素が集合内に存在しない場合は、`KeyError`が発生します。"
   ]
  },
  {
   "cell_type": "code",
   "execution_count": 4,
   "metadata": {},
   "outputs": [
    {
     "name": "stdout",
     "output_type": "stream",
     "text": [
      "{'りんご', 'オレンジ'}\n"
     ]
    },
    {
     "ename": "KeyError",
     "evalue": "'ぶどう'",
     "output_type": "error",
     "traceback": [
      "\u001b[0;31m---------------------------------------------------------------------------\u001b[0m",
      "\u001b[0;31mKeyError\u001b[0m                                  Traceback (most recent call last)",
      "Cell \u001b[0;32mIn[4], line 6\u001b[0m\n\u001b[1;32m      3\u001b[0m fruits\u001b[38;5;241m.\u001b[39mremove(\u001b[38;5;124m\"\u001b[39m\u001b[38;5;124mバナナ\u001b[39m\u001b[38;5;124m\"\u001b[39m)\n\u001b[1;32m      4\u001b[0m \u001b[38;5;28mprint\u001b[39m(fruits)  \u001b[38;5;66;03m# 出力結果：{'オレンジ', 'りんご'}\u001b[39;00m\n\u001b[0;32m----> 6\u001b[0m fruits\u001b[38;5;241m.\u001b[39mremove(\u001b[38;5;124m\"\u001b[39m\u001b[38;5;124mぶどう\u001b[39m\u001b[38;5;124m\"\u001b[39m)\n",
      "\u001b[0;31mKeyError\u001b[0m: 'ぶどう'"
     ]
    }
   ],
   "source": [
    "# remove()メソッドの例\n",
    "fruits = {\"りんご\", \"バナナ\", \"オレンジ\"}\n",
    "fruits.remove(\"バナナ\")\n",
    "print(fruits)  # 出力結果：{'オレンジ', 'りんご'}\n",
    "\n",
    "fruits.remove(\"ぶどう\")  # KeyError: 'ぶどう'"
   ]
  },
  {
   "cell_type": "markdown",
   "metadata": {},
   "source": [
    "### discard(要素)\n",
    "\n",
    "`discard()`メソッドは、集合から指定した要素を削除します。ただし、指定した要素が集合内に存在しない場合でもエラーは発生しません。"
   ]
  },
  {
   "cell_type": "code",
   "execution_count": 5,
   "metadata": {},
   "outputs": [
    {
     "name": "stdout",
     "output_type": "stream",
     "text": [
      "{'バナナ', 'りんご', 'オレンジ'}\n"
     ]
    }
   ],
   "source": [
    "# discard()メソッドの例\n",
    "fruits = {\"りんご\", \"バナナ\", \"オレンジ\"}\n",
    "fruits.discard(\"ぶどう\")  # 集合内に存在しない要素を指定\n",
    "print(fruits)  # 出力結果：{'オレンジ', 'バナナ', 'りんご'}"
   ]
  },
  {
   "cell_type": "markdown",
   "metadata": {},
   "source": [
    "### pop()\n",
    "\n",
    "`pop()`メソッドは、集合からランダムに要素を取り出し、その要素を集合から削除します。集合が空の場合は、`KeyError`が発生します。"
   ]
  },
  {
   "cell_type": "code",
   "execution_count": 6,
   "metadata": {},
   "outputs": [
    {
     "name": "stdout",
     "output_type": "stream",
     "text": [
      "バナナ\n",
      "{'りんご', 'オレンジ'}\n"
     ]
    }
   ],
   "source": [
    "# pop()メソッドの例\n",
    "fruits = {\"りんご\", \"バナナ\", \"オレンジ\"}\n",
    "fruit = fruits.pop()\n",
    "print(fruit)  # 出力結果：ランダムに取り出された要素\n",
    "print(fruits)  # 出力結果：残りの要素"
   ]
  },
  {
   "cell_type": "markdown",
   "metadata": {},
   "source": [
    "### clear()\n",
    "\n",
    "`clear()`メソッドは、集合内のすべての要素を削除します。"
   ]
  },
  {
   "cell_type": "code",
   "execution_count": 7,
   "metadata": {},
   "outputs": [
    {
     "name": "stdout",
     "output_type": "stream",
     "text": [
      "set()\n"
     ]
    }
   ],
   "source": [
    "# clear()メソッドの例\n",
    "fruits = {\"りんご\", \"バナナ\", \"オレンジ\"}\n",
    "fruits.clear()\n",
    "print(fruits)  # 出力結果：set()"
   ]
  },
  {
   "cell_type": "markdown",
   "metadata": {},
   "source": [
    "### len()\n",
    "\n",
    "`len()`関数は、集合内の要素数を返します。"
   ]
  },
  {
   "cell_type": "code",
   "execution_count": 8,
   "metadata": {},
   "outputs": [
    {
     "name": "stdout",
     "output_type": "stream",
     "text": [
      "3\n"
     ]
    }
   ],
   "source": [
    "# len()関数の例\n",
    "fruits = {\"りんご\", \"バナナ\", \"オレンジ\"}\n",
    "print(len(fruits))  # 出力結果：3"
   ]
  },
  {
   "cell_type": "markdown",
   "metadata": {},
   "source": [
    "### 集合の演算\n",
    "\n",
    "集合には、数学的な演算も用意されています。以下は、主な集合の演算です。\n",
    "\n",
    "#### 和集合（union）\n",
    "\n",
    "和集合は、2つの集合のすべての要素を含む新しい集合を返します。和集合は、`|`演算子または`union()`メソッドを使って計算できます。"
   ]
  },
  {
   "cell_type": "code",
   "execution_count": 9,
   "metadata": {},
   "outputs": [
    {
     "name": "stdout",
     "output_type": "stream",
     "text": [
      "{'ぶどう', 'オレンジ', 'りんご', 'メロン', 'バナナ'}\n"
     ]
    }
   ],
   "source": [
    "# 和集合の例\n",
    "set1 = {\"りんご\", \"バナナ\", \"オレンジ\"}\n",
    "set2 = {\"オレンジ\", \"ぶどう\", \"メロン\"}\n",
    "set_union = set1 | set2\n",
    "print(set_union)  # 出力結果：{'オレンジ', 'メロン', 'ぶどう', 'バナナ', 'りんご'}"
   ]
  },
  {
   "cell_type": "markdown",
   "metadata": {},
   "source": [
    "#### 積集合（intersection）\n",
    "\n",
    "積集合は、2つの集合の共通の要素を含む新しい集合を返します。積集合は、`&`演算子または`intersection()`メソッドを使って計算できます。"
   ]
  },
  {
   "cell_type": "code",
   "execution_count": 10,
   "metadata": {},
   "outputs": [
    {
     "name": "stdout",
     "output_type": "stream",
     "text": [
      "{'オレンジ'}\n"
     ]
    }
   ],
   "source": [
    "# 積集合の例\n",
    "set1 = {\"りんご\", \"バナナ\", \"オレンジ\"}\n",
    "set2 = {\"オレンジ\", \"ぶどう\", \"メロン\"}\n",
    "set_intersection = set1 & set2\n",
    "print(set_intersection)  # 出力結果：{'オレンジ'}"
   ]
  },
  {
   "cell_type": "markdown",
   "metadata": {},
   "source": [
    "#### 差集合（difference）\n",
    "\n",
    "差集合は、ある集合から別の集合の要素を取り除いた新しい集合を返します。差集合は、`-`演算子または`difference()`メソッドを使って計算できます。"
   ]
  },
  {
   "cell_type": "code",
   "execution_count": 11,
   "metadata": {},
   "outputs": [
    {
     "name": "stdout",
     "output_type": "stream",
     "text": [
      "{'バナナ', 'りんご'}\n"
     ]
    }
   ],
   "source": [
    "# 差集合の例\n",
    "set1 = {\"りんご\", \"バナナ\", \"オレンジ\"}\n",
    "set2 = {\"オレンジ\", \"ぶどう\", \"メロン\"}\n",
    "set_difference = set1 - set2\n",
    "print(set_difference)  # 出力結果：{'バナナ', 'りんご'}"
   ]
  },
  {
   "cell_type": "markdown",
   "metadata": {},
   "source": [
    "#### 対称差集合（symmetric difference）\n",
    "\n",
    "対称差集合は、2つの集合のどちらか一方にのみ属する要素からなる新しい集合を返します。対称差集合は、`^`演算子または`symmetric_difference()`メソッドを使って計算できます。"
   ]
  },
  {
   "cell_type": "code",
   "execution_count": 12,
   "metadata": {},
   "outputs": [
    {
     "name": "stdout",
     "output_type": "stream",
     "text": [
      "{'ぶどう', 'りんご', 'メロン', 'バナナ'}\n"
     ]
    }
   ],
   "source": [
    "# 対称差集合の例\n",
    "set1 = {\"りんご\", \"バナナ\", \"オレンジ\"}\n",
    "set2 = {\"オレンジ\", \"ぶどう\", \"メロン\"}\n",
    "set_symmetric_difference = set1 ^ set2\n",
    "print(set_symmetric_difference)  # 出力結果：{'メロン', 'ぶどう', 'バナナ', 'りんご'}"
   ]
  },
  {
   "cell_type": "markdown",
   "metadata": {},
   "source": [
    "### 部分集合（subset）と上位集合（superset）\n",
    "\n",
    "ある集合が別の集合の部分集合であるかどうかを確認するには、`issubset()`メソッドを使用します。また、ある集合が別の集合の上位集合であるかどうかを確認するには、`issuperset()`メソッドを使用します。"
   ]
  },
  {
   "cell_type": "code",
   "execution_count": 13,
   "metadata": {},
   "outputs": [
    {
     "name": "stdout",
     "output_type": "stream",
     "text": [
      "True\n",
      "True\n"
     ]
    }
   ],
   "source": [
    "# 部分集合と上位集合の例\n",
    "set1 = {\"りんご\", \"バナナ\"}\n",
    "set2 = {\"りんご\", \"バナナ\", \"オレンジ\"}\n",
    "print(set1.issubset(set2))  # 出力結果：True\n",
    "print(set2.issuperset(set1))  # 出力結果：True"
   ]
  },
  {
   "cell_type": "markdown",
   "metadata": {},
   "source": [
    "上記の例では、`set1`は`set2`の部分集合であり、`set2`は`set1`の上位集合であることがわかります。\n",
    "\n",
    "### frozenset\n",
    "\n",
    "`frozenset`は、不変な集合を表すデータ型です。`frozenset`は、一度作成すると要素の追加、削除、変更ができません。"
   ]
  },
  {
   "cell_type": "code",
   "execution_count": 14,
   "metadata": {},
   "outputs": [
    {
     "name": "stdout",
     "output_type": "stream",
     "text": [
      "frozenset({'バナナ', 'オレンジ', 'りんご'})\n"
     ]
    },
    {
     "ename": "AttributeError",
     "evalue": "'frozenset' object has no attribute 'add'",
     "output_type": "error",
     "traceback": [
      "\u001b[0;31m---------------------------------------------------------------------------\u001b[0m",
      "\u001b[0;31mAttributeError\u001b[0m                            Traceback (most recent call last)",
      "Cell \u001b[0;32mIn[14], line 5\u001b[0m\n\u001b[1;32m      2\u001b[0m fruits \u001b[38;5;241m=\u001b[39m \u001b[38;5;28mfrozenset\u001b[39m([\u001b[38;5;124m\"\u001b[39m\u001b[38;5;124mりんご\u001b[39m\u001b[38;5;124m\"\u001b[39m, \u001b[38;5;124m\"\u001b[39m\u001b[38;5;124mバナナ\u001b[39m\u001b[38;5;124m\"\u001b[39m, \u001b[38;5;124m\"\u001b[39m\u001b[38;5;124mオレンジ\u001b[39m\u001b[38;5;124m\"\u001b[39m])\n\u001b[1;32m      3\u001b[0m \u001b[38;5;28mprint\u001b[39m(fruits)  \u001b[38;5;66;03m# 出力結果：frozenset({'オレンジ', 'バナナ', 'りんご'})\u001b[39;00m\n\u001b[0;32m----> 5\u001b[0m fruits\u001b[38;5;241m.\u001b[39madd(\u001b[38;5;124m\"\u001b[39m\u001b[38;5;124mぶどう\u001b[39m\u001b[38;5;124m\"\u001b[39m)\n",
      "\u001b[0;31mAttributeError\u001b[0m: 'frozenset' object has no attribute 'add'"
     ]
    }
   ],
   "source": [
    "# frozensetの例\n",
    "fruits = frozenset([\"りんご\", \"バナナ\", \"オレンジ\"])\n",
    "print(fruits)  # 出力結果：frozenset({'オレンジ', 'バナナ', 'りんご'})\n",
    "\n",
    "fruits.add(\"ぶどう\")  # AttributeError: 'frozenset' object has no attribute 'add'"
   ]
  },
  {
   "cell_type": "markdown",
   "metadata": {},
   "source": [
    "`frozenset`は、集合の要素として使用したり、辞書のキーとして使用したりすることができます。\n",
    "\n",
    "## 集合の応用例\n",
    "\n",
    "集合は、様々な場面で活用することができます。以下は、集合を使った応用例です。\n",
    "\n",
    "### 重複する要素の削除\n",
    "\n",
    "リストから重複する要素を取り除く場合、集合に変換してから再度リストに変換することで実現できます。"
   ]
  },
  {
   "cell_type": "code",
   "execution_count": 15,
   "metadata": {},
   "outputs": [
    {
     "name": "stdout",
     "output_type": "stream",
     "text": [
      "[1, 2, 3, 4, 5]\n"
     ]
    }
   ],
   "source": [
    "# 重複する要素の削除\n",
    "numbers = [1, 2, 3, 2, 4, 1, 5]\n",
    "unique_numbers = list(set(numbers))\n",
    "print(unique_numbers)  # 出力結果：[1, 2, 3, 4, 5]"
   ]
  },
  {
   "cell_type": "markdown",
   "metadata": {},
   "source": [
    "### 2つのリストの共通の要素を取得\n",
    "\n",
    "2つのリストから共通の要素を取得する場合、集合の積集合を利用することができます。"
   ]
  },
  {
   "cell_type": "code",
   "execution_count": 16,
   "metadata": {},
   "outputs": [
    {
     "name": "stdout",
     "output_type": "stream",
     "text": [
      "['太郎', '明美']\n"
     ]
    }
   ],
   "source": [
    "# 2つのリストの共通の要素を取得\n",
    "friends1 = [\"太郎\", \"花子\", \"次郎\", \"明美\"]\n",
    "friends2 = [\"太郎\", \"明美\", \"健太\"]\n",
    "common_friends = list(set(friends1) & set(friends2))\n",
    "print(common_friends)  # 出力結果：['明美', '太郎']"
   ]
  },
  {
   "cell_type": "markdown",
   "metadata": {},
   "source": [
    "### 集合内の要素の存在判定\n",
    "\n",
    "集合内に特定の要素が存在するかどうかを判定する場合、`in`演算子を使用します。"
   ]
  },
  {
   "cell_type": "code",
   "execution_count": 17,
   "metadata": {},
   "outputs": [
    {
     "name": "stdout",
     "output_type": "stream",
     "text": [
      "True\n",
      "False\n"
     ]
    }
   ],
   "source": [
    "# 集合内の要素の存在判定\n",
    "fruits = {\"りんご\", \"バナナ\", \"オレンジ\"}\n",
    "print(\"バナナ\" in fruits)  # 出力結果：True\n",
    "print(\"ぶどう\" in fruits)  # 出力結果：False"
   ]
  },
  {
   "cell_type": "markdown",
   "metadata": {},
   "source": [
    "## まとめ\n",
    "\n",
    "本ホームページでは、Pythonの集合（set）について説明しました。集合は、重複のない要素を格納するデータ構造であり、要素の順序は保持されません。\n",
    "\n",
    "集合は、リストや文字列から`set()`関数を使って作成することができます。また、`add()`メソッドを使って要素を追加したり、`remove()`メソッドや`discard()`メソッドを使って要素を削除したりすることができます。\n",
    "\n",
    "集合には、和集合、積集合、差集合、対称差集合などの数学的な演算が用意されています。これらの演算を使うことで、複数の集合から必要な要素を取り出すことができます。\n",
    "\n",
    "また、`issubset()`メソッドを使って部分集合を確認したり、`issuperset()`メソッドを使って上位集合を確認したりすることができます。\n",
    "\n",
    "`frozenset`は、不変な集合を表すデータ型であり、集合の要素や辞書のキーとして使用することができます。\n",
    "\n",
    "集合は、重複する要素の削除や、2つのリストの共通の要素を取得するなど、様々な場面で活用することができます。\n",
    "\n",
    "これからPythonを学ぶ皆さんは、集合の基本的な操作を身につけ、プログラムの中で効果的に活用していきましょう。集合は、データの重複を排除し、効率的にデータを管理するための強力なツールです。"
   ]
  },
  {
   "cell_type": "markdown",
   "metadata": {},
   "source": [
    "問題1\n",
    "あなたは友達と一緒に旅行に行き、訪れた都市を記録することにしました。以下の都市を訪れたとします。\n",
    "\n",
    "東京, 京都, 大阪, 名古屋, 東京, 福岡, 京都, 札幌, 東京\n",
    "\n",
    "訪れた都市の重複を取り除き、都市の数を数えるPythonコードを書いてください。\n",
    "\n",
    "解答例(Pythonコード):"
   ]
  },
  {
   "cell_type": "code",
   "execution_count": 18,
   "metadata": {},
   "outputs": [
    {
     "name": "stdout",
     "output_type": "stream",
     "text": [
      "訪れた都市: {'札幌', '京都', '東京', '福岡', '名古屋', '大阪'}\n",
      "訪れた都市の数: 6\n"
     ]
    }
   ],
   "source": [
    "cities = [\"東京\", \"京都\", \"大阪\", \"名古屋\", \"東京\", \"福岡\", \"京都\", \"札幌\", \"東京\"]\n",
    "\n",
    "unique_cities = set(cities)\n",
    "\n",
    "print(\"訪れた都市:\", unique_cities)\n",
    "print(\"訪れた都市の数:\", len(unique_cities))"
   ]
  },
  {
   "cell_type": "markdown",
   "metadata": {},
   "source": [
    "\n",
    "\n",
    "出力結果:\n",
    "```\n",
    "訪れた都市: {'札幌', '名古屋', '大阪', '東京', '京都', '福岡'}\n",
    "訪れた都市の数: 6\n",
    "```\n",
    "\n",
    "解説:\n",
    "この問題では、重複する要素を取り除くために集合を使っています。\n",
    "\n",
    "`cities`というリストには、訪れた都市の名前が格納されています。このリストには、重複する都市（東京、京都）が含まれています。\n",
    "\n",
    "`set()`関数を使って`cities`リストを集合に変換し、`unique_cities`変数に代入しています。集合への変換により、重複する都市が自動的に取り除かれます。\n",
    "\n",
    "`print()`を使って、`unique_cities`を出力することで、重複が取り除かれた都市のリストを確認できます。\n",
    "\n",
    "さらに、`len()`関数を使って`unique_cities`の要素数を取得し、訪れた都市の数を出力しています。\n",
    "\n",
    "このように、集合を使うことで、重複する要素を簡単に取り除くことができます。\n",
    "\n",
    "問題2\n",
    "あなたは、友達と一緒に果物狩りに行きました。あなたが収穫した果物と、友達が収穫した果物は以下の通りです。\n",
    "\n",
    "あなた: りんご, バナナ, オレンジ, ぶどう\n",
    "友達: オレンジ, ぶどう, メロン, スイカ\n",
    "\n",
    "両方が収穫した果物（共通の果物）を見つけ、出力するPythonコードを書いてください。\n",
    "\n",
    "解答例(Pythonコード):"
   ]
  },
  {
   "cell_type": "code",
   "execution_count": 19,
   "metadata": {},
   "outputs": [
    {
     "name": "stdout",
     "output_type": "stream",
     "text": [
      "両方が収穫した果物: {'ぶどう', 'オレンジ'}\n"
     ]
    }
   ],
   "source": [
    "your_fruits = {\"りんご\", \"バナナ\", \"オレンジ\", \"ぶどう\"}\n",
    "friend_fruits = {\"オレンジ\", \"ぶどう\", \"メロン\", \"スイカ\"}\n",
    "\n",
    "common_fruits = your_fruits & friend_fruits\n",
    "\n",
    "print(\"両方が収穫した果物:\", common_fruits)"
   ]
  },
  {
   "cell_type": "markdown",
   "metadata": {},
   "source": [
    "\n",
    "\n",
    "出力結果:\n",
    "```\n",
    "両方が収穫した果物: {'ぶどう', 'オレンジ'}\n",
    "```\n",
    "\n",
    "解説:\n",
    "この問題では、2つの集合の共通の要素を見つけるために、積集合を使っています。\n",
    "\n",
    "`your_fruits`という集合には、あなたが収穫した果物の名前が格納されています。同様に、`friend_fruits`という集合には、友達が収穫した果物の名前が格納されています。\n",
    "\n",
    "`&`演算子を使って、`your_fruits`と`friend_fruits`の積集合を計算し、`common_fruits`変数に代入しています。積集合は、両方の集合に共通する要素のみを含む新しい集合を返します。\n",
    "\n",
    "`print()`を使って、`common_fruits`を出力することで、両方が収穫した果物（共通の果物）を確認できます。\n",
    "\n",
    "このように、集合の積集合を使うことで、2つの集合の共通の要素を簡単に見つけることができます。"
   ]
  },
  {
   "cell_type": "markdown",
   "metadata": {},
   "source": []
  }
 ],
 "metadata": {
  "kernelspec": {
   "display_name": "base",
   "language": "python",
   "name": "python3"
  },
  "language_info": {
   "codemirror_mode": {
    "name": "ipython",
    "version": 3
   },
   "file_extension": ".py",
   "mimetype": "text/x-python",
   "name": "python",
   "nbconvert_exporter": "python",
   "pygments_lexer": "ipython3",
   "version": "3.11.3"
  }
 },
 "nbformat": 4,
 "nbformat_minor": 2
}
