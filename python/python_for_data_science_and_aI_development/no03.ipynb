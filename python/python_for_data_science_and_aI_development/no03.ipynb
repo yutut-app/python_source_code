{
 "cells": [
  {
   "cell_type": "markdown",
   "metadata": {},
   "source": [
    "# Pythonの文字列（str）を理解しよう\n",
    "\n",
    "## はじめに\n",
    "\n",
    "こんにちは！これからPythonプログラミングを学ぶ皆さんに、Pythonの文字列（str）について詳しく説明します。文字列は、プログラムの中で文字の並びを表現するためのデータ型です。文字列を理解することは、Pythonでプログラムを書く上で非常に重要です。\n",
    "\n",
    "## 文字列の基本\n",
    "\n",
    "文字列は、シングルクォート（'）またはダブルクォート（\"）で囲んで表現します。文字列には、文字、数字、空白、特殊文字などを含めることができます。"
   ]
  },
  {
   "cell_type": "code",
   "execution_count": 1,
   "metadata": {},
   "outputs": [
    {
     "name": "stdout",
     "output_type": "stream",
     "text": [
      "こんにちは、世界！\n",
      "2023-04-01\n",
      "I'm a student.\n",
      "彼は\"仕事が好き\"だと言った。\n"
     ]
    }
   ],
   "source": [
    "# 文字列の例\n",
    "message = \"こんにちは、世界！\"\n",
    "print(message)  # 出力結果：こんにちは、世界！\n",
    "\n",
    "date = '2023-04-01'\n",
    "print(date)  # 出力結果：2023-04-01\n",
    "\n",
    "sentence = \"I'm a student.\"\n",
    "print(sentence)  # 出力結果：I'm a student.\n",
    "\n",
    "description = '彼は\"仕事が好き\"だと言った。'\n",
    "print(description)  # 出力結果：彼は\"仕事が好き\"だと言った。"
   ]
  },
  {
   "cell_type": "markdown",
   "metadata": {},
   "source": [
    "上記の例では、`message`という変数に\"こんにちは、世界！\"という文字列を代入し、`print()`関数で出力しています。また、`date`という変数に'2023-04-01'という文字列を代入し、出力しています。\n",
    "\n",
    "文字列の中で、シングルクォートを使いたい場合は、文字列全体をダブルクォートで囲みます。逆に、ダブルクォートを使いたい場合は、文字列全体をシングルクォートで囲みます。これにより、クォートの衝突を避けることができます。\n",
    "\n",
    "## 文字列のインデックス\n",
    "\n",
    "文字列は、順序付けられたシーケンスとして扱うことができます。各文字には、インデックス（番号）が割り当てられています。Pythonでは、インデックスは0から始まることに注意してください。つまり、最初の文字のインデックスは0、2番目の文字のインデックスは1、というように数えていきます。"
   ]
  },
  {
   "cell_type": "code",
   "execution_count": 10,
   "metadata": {},
   "outputs": [
    {
     "name": "stdout",
     "output_type": "stream",
     "text": [
      "P\n",
      "y\n",
      "i\n",
      "n\n",
      "!\n",
      "n\n"
     ]
    }
   ],
   "source": [
    "# 文字列のインデックス\n",
    "text = \"Python is fun!\"\n",
    "print(text[0])  # 出力結果：P（最初の文字）\n",
    "print(text[1])  # 出力結果：y（2番目の文字）\n",
    "print(text[7])  # 出力結果：i（8番目の文字）\n",
    "print(text[13])  # 出力結果：!（最後の文字）\n",
    "print(text[-1])  # 出力結果：!（最後の文字）\n",
    "print(text[-2])  # 出力結果：n（最後から2番目の文字）"
   ]
  },
  {
   "cell_type": "markdown",
   "metadata": {},
   "source": [
    "上記の例では、`text`という変数に\"Python is fun!\"という文字列を代入しています。`text[0]`は文字列の最初の文字、`text[1]`は2番目の文字、`text[7]`は8番目の文字、`text[12]`は最後の文字を表します。\n",
    "\n",
    "負のインデックスは、文字列の末尾から数えます。`text[-1]`は最後の文字、`text[-2]`は最後から2番目の文字、というように数えていきます。\n",
    "\n",
    "インデックスを使うことで、文字列の特定の位置にある文字を取得することができます。ただし、インデックスが文字列の長さを超えた場合は、`IndexError`というエラーが発生するので注意が必要です。\n",
    "\n",
    "## 文字列のスライス\n",
    "\n",
    "スライス（slice）を使うと、文字列の一部を切り出すことができます。スライスは、`[開始インデックス:終了インデックス]`の形式で指定します。開始インデックスから終了インデックスの手前までの文字列が切り出されます。"
   ]
  },
  {
   "cell_type": "code",
   "execution_count": 3,
   "metadata": {},
   "outputs": [
    {
     "name": "stdout",
     "output_type": "stream",
     "text": [
      "Python\n",
      "is\n",
      "Python\n",
      "is fun!\n",
      "Pto sfn\n"
     ]
    }
   ],
   "source": [
    "# 文字列のスライス\n",
    "text = \"Python is fun!\"\n",
    "print(text[0:6])  # 出力結果：Python\n",
    "print(text[7:9])  # 出力結果：is\n",
    "print(text[:6])   # 出力結果：Python\n",
    "print(text[7:])   # 出力結果：is fun!\n",
    "print(text[::2])  # 出力結果：Pto sfn"
   ]
  },
  {
   "cell_type": "markdown",
   "metadata": {},
   "source": [
    "上記の例では、`text`という変数に\"Python is fun!\"という文字列を代入しています。`text[0:6]`は、インデックス0から5までの文字列を切り出します。`text[7:9]`は、インデックス7から8までの文字列を切り出します。\n",
    "\n",
    "開始インデックスや終了インデックスを省略することもできます。`text[:6]`は、先頭からインデックス5までの文字列を切り出し、`text[7:]`は、インデックス7から末尾までの文字列を切り出します。\n",
    "\n",
    "さらに、スライスにはステップ（step）を指定することもできます。`text[::2]`は、文字列全体から1つ飛ばしで文字を切り出します。\n",
    "\n",
    "## 文字列の連結と繰り返し\n",
    "\n",
    "文字列は、`+`演算子を使って連結することができます。また、`*`演算子を使って文字列を繰り返すこともできます。"
   ]
  },
  {
   "cell_type": "code",
   "execution_count": 4,
   "metadata": {},
   "outputs": [
    {
     "name": "stdout",
     "output_type": "stream",
     "text": [
      "こんにちは、太郎さん！\n",
      "ハロー！ハロー！ハロー！\n"
     ]
    }
   ],
   "source": [
    "# 文字列の連結\n",
    "greeting = \"こんにちは、\"\n",
    "name = \"太郎\"\n",
    "message = greeting + name + \"さん！\"\n",
    "print(message)  # 出力結果：こんにちは、太郎さん！\n",
    "\n",
    "# 文字列の繰り返し\n",
    "repeat = \"ハロー！\" * 3\n",
    "print(repeat)  # 出力結果：ハロー！ハロー！ハロー！"
   ]
  },
  {
   "cell_type": "markdown",
   "metadata": {},
   "source": [
    "上記の例では、`greeting`という変数に\"こんにちは、\"という文字列を、`name`という変数に\"太郎\"という文字列を代入しています。それらを`+`演算子で連結し、`message`という変数に代入して出力しています。\n",
    "\n",
    "また、`\"ハロー！\"`という文字列を`*`演算子で3回繰り返し、`repeat`という変数に代入して出力しています。\n",
    "\n",
    "## 文字列の不変性\n",
    "\n",
    "文字列は不変（immutable）なオブジェクトです。つまり、一度作成した文字列の内容を変更することはできません。文字列を変更するように見えるメソッドを適用しても、実際には新しい文字列が作成されるだけです。\n"
   ]
  },
  {
   "cell_type": "code",
   "execution_count": 5,
   "metadata": {},
   "outputs": [
    {
     "ename": "TypeError",
     "evalue": "'str' object does not support item assignment",
     "output_type": "error",
     "traceback": [
      "\u001b[0;31m---------------------------------------------------------------------------\u001b[0m",
      "\u001b[0;31mTypeError\u001b[0m                                 Traceback (most recent call last)",
      "Cell \u001b[0;32mIn[5], line 3\u001b[0m\n\u001b[1;32m      1\u001b[0m \u001b[38;5;66;03m# 文字列の不変性\u001b[39;00m\n\u001b[1;32m      2\u001b[0m text \u001b[38;5;241m=\u001b[39m \u001b[38;5;124m\"\u001b[39m\u001b[38;5;124mHello\u001b[39m\u001b[38;5;124m\"\u001b[39m\n\u001b[0;32m----> 3\u001b[0m text[\u001b[38;5;241m0\u001b[39m] \u001b[38;5;241m=\u001b[39m \u001b[38;5;124m\"\u001b[39m\u001b[38;5;124mJ\u001b[39m\u001b[38;5;124m\"\u001b[39m\n",
      "\u001b[0;31mTypeError\u001b[0m: 'str' object does not support item assignment"
     ]
    }
   ],
   "source": [
    "# 文字列の不変性\n",
    "text = \"Hello\"\n",
    "text[0] = \"J\"  # エラー：文字列は不変なので、個々の文字を変更することはできない"
   ]
  },
  {
   "cell_type": "markdown",
   "metadata": {},
   "source": [
    "上記の例では、`text`という変数に\"Hello\"という文字列を代入しています。`text[0] = \"J\"`としても、文字列は不変なので、個々の文字を変更することはできません。このような操作を行うとエラーが発生します。\n",
    "\n",
    "## 文字列のメソッド\n",
    "\n",
    "文字列には、便利なメソッドが多数用意されています。メソッドを使うことで、文字列を加工したり、情報を取得したりすることができます。以下は、よく使われる文字列のメソッドの一部です。\n",
    "\n",
    "### upper()\n",
    "\n",
    "`upper()`メソッドは、文字列内の全ての小文字を大文字に変換した新しい文字列を返します。\n"
   ]
  },
  {
   "cell_type": "code",
   "execution_count": 6,
   "metadata": {},
   "outputs": [
    {
     "name": "stdout",
     "output_type": "stream",
     "text": [
      "HELLO, WORLD!\n"
     ]
    }
   ],
   "source": [
    "# upper()メソッドの例\n",
    "text = \"hello, world!\"\n",
    "uppercase_text = text.upper()\n",
    "print(uppercase_text)  # 出力結果：HELLO, WORLD!"
   ]
  },
  {
   "cell_type": "markdown",
   "metadata": {},
   "source": [
    "### lower()\n",
    "\n",
    "`lower()`メソッドは、文字列内の全ての大文字を小文字に変換した新しい文字列を返します。\n",
    "\n"
   ]
  },
  {
   "cell_type": "code",
   "execution_count": 7,
   "metadata": {},
   "outputs": [
    {
     "name": "stdout",
     "output_type": "stream",
     "text": [
      "hello, world!\n"
     ]
    }
   ],
   "source": [
    "# lower()メソッドの例\n",
    "text = \"HELLO, WORLD!\"\n",
    "lowercase_text = text.lower()\n",
    "print(lowercase_text)  # 出力結果：hello, world!"
   ]
  },
  {
   "cell_type": "markdown",
   "metadata": {},
   "source": [
    "### replace(旧文字列, 新文字列)\n",
    "\n",
    "`replace(旧文字列, 新文字列)`メソッドは、文字列内の指定した部分文字列を別の文字列に置換した新しい文字列を返します。\n",
    "\n"
   ]
  },
  {
   "cell_type": "code",
   "execution_count": null,
   "metadata": {},
   "outputs": [],
   "source": [
    "# replace()メソッドの例\n",
    "text = \"Hello, world!\"\n",
    "new_text = text.replace(\"world\", \"Python\")\n",
    "print(new_text)  # 出力結果：Hello, Python!"
   ]
  },
  {
   "cell_type": "markdown",
   "metadata": {},
   "source": [
    "### find(部分文字列)\n",
    "\n",
    "`find(部分文字列)`メソッドは、文字列内で指定の部分文字列を検索し、最初に見つかった位置のインデックスを返します。見つからない場合は-1を返します。"
   ]
  },
  {
   "cell_type": "code",
   "execution_count": null,
   "metadata": {},
   "outputs": [],
   "source": [
    "# find()メソッドの例\n",
    "text = \"Hello, world!\"\n",
    "print(text.find(\"world\"))  # 出力結果：7\n",
    "print(text.find(\"Python\"))  # 出力結果：-1"
   ]
  },
  {
   "cell_type": "markdown",
   "metadata": {},
   "source": [
    "## エスケープシーケンス\n",
    "\n",
    "文字列の中には、特殊な意味を持つ文字を表現するためのエスケープシーケンスがあります。エスケープシーケンスは、バックスラッシュ（\\）の後に特定の文字を続けることで表現します。"
   ]
  },
  {
   "cell_type": "code",
   "execution_count": 8,
   "metadata": {},
   "outputs": [
    {
     "name": "stdout",
     "output_type": "stream",
     "text": [
      "こんにちは\n",
      "お元気ですか？\n",
      "タブ文字は\tこのように表現します。\n",
      "バックスラッシュは\\のように表現します。\n",
      "Raw文字列では、\\nや\\tはそのまま表示されます。\n"
     ]
    }
   ],
   "source": [
    "# エスケープシーケンスの例\n",
    "print(\"こんにちは\\nお元気ですか？\")\n",
    "# 出力結果：\n",
    "# こんにちは\n",
    "# お元気ですか？\n",
    "\n",
    "print(\"タブ文字は\\tこのように表現します。\")\n",
    "# 出力結果：タブ文字は    このように表現します。\n",
    "\n",
    "print(\"バックスラッシュは\\\\のように表現します。\")\n",
    "# 出力結果：バックスラッシュは\\のように表現します。\n",
    "\n",
    "print(r\"Raw文字列では、\\nや\\tはそのまま表示されます。\")\n",
    "# 出力結果：Raw文字列では、\\nや\\tはそのまま表示されます。"
   ]
  },
  {
   "cell_type": "markdown",
   "metadata": {},
   "source": [
    "\n",
    "上記の例では、以下のエスケープシーケンスを使用しています。\n",
    "\n",
    "- `\\n`は改行を表します。文字列内で改行したい位置に`\\n`を挿入します。\n",
    "- `\\t`はタブ文字を表します。文字列内でタブを挿入したい位置に`\\t`を使用します。\n",
    "- `\\\\`はバックスラッシュ自体を表現するために使用します。文字列内でバックスラッシュを使用したい場合は、`\\\\`のように2つのバックスラッシュを続けて書きます。\n",
    "- `r`を文字列の先頭に付けると、Raw文字列（生の文字列）となり、エスケープシーケンスが無視されます。\n",
    "\n",
    "## まとめ\n",
    "\n",
    "本ホームページでは、Pythonの文字列（str）について詳しく説明しました。文字列は、シングルクォートまたはダブルクォートで囲んで表現し、インデックスを使って個々の文字にアクセスすることができます。また、スライスを使って文字列の一部を切り出すこともできます。\n",
    "\n",
    "文字列は不変（immutable）なオブジェクトなので、一度作成した文字列の内容を変更することはできません。ただし、`+`演算子を使って文字列を連結したり、`*`演算子を使って文字列を繰り返したりすることができます。\n",
    "\n",
    "文字列には、便利なメソッドが多数用意されており、文字列を加工したり、情報を取得したりすることができます。`upper()`、`lower()`、`replace()`、`find()`などのメソッドを使うことで、文字列を効果的に操作することができます。\n",
    "\n",
    "また、エスケープシーケンスを使って、特殊な文字を表現することもできます。`\\n`は改行、`\\t`はタブ文字、`\\\\`はバックスラッシュ自体を表現するために使用します。\n",
    "\n",
    "文字列は、プログラムの中で頻繁に使用されるデータ型の1つです。文字列を理解し、適切に扱えるようになることは、Pythonプログラミングにおいて非常に重要です。これからPythonを学ぶ皆さんは、文字列の基本的な操作を身につけ、プログラムの中で効果的に活用していきましょう。"
   ]
  },
  {
   "cell_type": "code",
   "execution_count": null,
   "metadata": {},
   "outputs": [],
   "source": []
  }
 ],
 "metadata": {
  "kernelspec": {
   "display_name": "base",
   "language": "python",
   "name": "python3"
  },
  "language_info": {
   "codemirror_mode": {
    "name": "ipython",
    "version": 3
   },
   "file_extension": ".py",
   "mimetype": "text/x-python",
   "name": "python",
   "nbconvert_exporter": "python",
   "pygments_lexer": "ipython3",
   "version": "3.11.3"
  }
 },
 "nbformat": 4,
 "nbformat_minor": 2
}
