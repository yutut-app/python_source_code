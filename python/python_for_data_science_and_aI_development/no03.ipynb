{
 "cells": [
  {
   "cell_type": "markdown",
   "metadata": {},
   "source": [
    "# Pythonの文字列（str）を理解しよう\n",
    "\n",
    "## はじめに\n",
    "\n",
    "こんにちは！これからPythonプログラミングを学ぶ皆さんに、Pythonの文字列（str）について説明します。文字列は、プログラムの中で文字の並びを表現するためのデータ型です。文字列を理解することは、Pythonでプログラムを書く上で非常に重要です。\n",
    "\n",
    "## 文字列の基本\n",
    "\n",
    "文字列は、シングルクォート（'）またはダブルクォート（\"）で囲んで表現します。文字列には、文字、数字、空白、特殊文字などを含めることができます。\n"
   ]
  },
  {
   "cell_type": "code",
   "execution_count": 20,
   "metadata": {},
   "outputs": [
    {
     "name": "stdout",
     "output_type": "stream",
     "text": [
      "こんにちは、世界！\n",
      "2024-04-01\n"
     ]
    }
   ],
   "source": [
    "# 文字列の例\n",
    "message = \"こんにちは、世界！\"\n",
    "print(message)\n",
    "\n",
    "date = '2024-04-01'\n",
    "print(date)"
   ]
  },
  {
   "cell_type": "markdown",
   "metadata": {},
   "source": [
    "\n",
    "上記の例では、`message`という変数に\"こんにちは、世界！\"という文字列を代入し、`print()`関数で出力しています。また、`date`という変数に'2023-04-01'という文字列を代入し、出力しています。\n",
    "\n",
    "## 文字列のインデックスとスライス\n",
    "\n",
    "文字列は、順序付けられたシーケンスとして扱うことができます。各文字には、インデックス（番号）が割り当てられています。インデックスは0から始まり、正の数と負の数で指定できます。\n"
   ]
  },
  {
   "cell_type": "code",
   "execution_count": 21,
   "metadata": {},
   "outputs": [
    {
     "name": "stdout",
     "output_type": "stream",
     "text": [
      "P\n",
      "i\n",
      "!\n"
     ]
    }
   ],
   "source": [
    "# 文字列のインデックス\n",
    "text = \"Python is fun!\"\n",
    "print(text[0])\n",
    "print(text[7])\n",
    "print(text[-1])\n"
   ]
  },
  {
   "cell_type": "code",
   "execution_count": 22,
   "metadata": {},
   "outputs": [
    {
     "name": "stdout",
     "output_type": "stream",
     "text": [
      "Python\n",
      "is\n",
      "Python\n",
      "is fun!\n"
     ]
    }
   ],
   "source": [
    "# 文字列のスライス\n",
    "print(text[0:6])\n",
    "print(text[7:9])\n",
    "print(text[:6])\n",
    "print(text[7:])"
   ]
  },
  {
   "cell_type": "markdown",
   "metadata": {},
   "source": [
    "上記の例では、`text`という変数に\"Python is fun!\"という文字列を代入しています。`text[0]`は文字列の最初の文字、`text[7]`は8番目の文字、`text[-1]`は最後の文字を表します。\n",
    "\n",
    "また、スライスを使って文字列の一部を取り出すこともできます。`text[0:6]`は、インデックス0から5までの文字列を取り出します。`text[7:9]`は、インデックス7から8までの文字列を取り出します。`text[:6]`は、先頭からインデックス5までの文字列を取り出し、`text[7:]`は、インデックス7から末尾までの文字列を取り出します。\n",
    "\n",
    "## 文字列の連結と繰り返し\n",
    "\n",
    "文字列は、`+`演算子を使って連結することができます。また、`*`演算子を使って文字列を繰り返すこともできます。\n"
   ]
  },
  {
   "cell_type": "code",
   "execution_count": 23,
   "metadata": {},
   "outputs": [
    {
     "name": "stdout",
     "output_type": "stream",
     "text": [
      "こんにちは、太郎さん！\n"
     ]
    }
   ],
   "source": [
    "# 文字列の連結\n",
    "greeting = \"こんにちは、\"\n",
    "name = \"太郎\"\n",
    "message = greeting + name + \"さん！\"\n",
    "print(message)  # こんにちは、太郎さん！\n"
   ]
  },
  {
   "cell_type": "code",
   "execution_count": 24,
   "metadata": {},
   "outputs": [
    {
     "name": "stdout",
     "output_type": "stream",
     "text": [
      "ハロー！ハロー！ハロー！\n"
     ]
    }
   ],
   "source": [
    "# 文字列の繰り返し\n",
    "repeat = \"ハロー！\" * 3\n",
    "print(repeat)  # ハロー！ハロー！ハロー！"
   ]
  },
  {
   "cell_type": "markdown",
   "metadata": {},
   "source": [
    "\n",
    "上記の例では、`greeting`という変数に\"こんにちは、\"という文字列を、`name`という変数に\"太郎\"という文字列を代入しています。それらを`+`演算子で連結し、`message`という変数に代入して出力しています。\n",
    "\n",
    "また、`\"ハロー！\"`という文字列を`*`演算子で3回繰り返し、`repeat`という変数に代入して出力しています。\n",
    "\n",
    "## 文字列のメソッド\n",
    "\n",
    "文字列には、便利なメソッドが多数用意されています。メソッドを使うことで、文字列を加工したり、情報を取得したりすることができます。以下では、よく使われるメソッドをいくつか紹介します。"
   ]
  },
  {
   "cell_type": "markdown",
   "metadata": {},
   "source": [
    "### upper()メソッド\n",
    "upper()メソッドは、文字列内の小文字を大文字に変換します。"
   ]
  },
  {
   "cell_type": "code",
   "execution_count": 25,
   "metadata": {},
   "outputs": [
    {
     "name": "stdout",
     "output_type": "stream",
     "text": [
      "HELLO, WORLD!\n"
     ]
    }
   ],
   "source": [
    "text = \"hello, world!\"\n",
    "print(text.upper())  # HELLO, WORLD!"
   ]
  },
  {
   "cell_type": "markdown",
   "metadata": {},
   "source": [
    "### lower()メソッド\n",
    "lower()メソッドは、文字列内の大文字を小文字に変換します。"
   ]
  },
  {
   "cell_type": "code",
   "execution_count": 26,
   "metadata": {},
   "outputs": [
    {
     "name": "stdout",
     "output_type": "stream",
     "text": [
      "hello, world!\n"
     ]
    }
   ],
   "source": [
    "text = \"HELLO, WORLD!\"\n",
    "print(text.lower())  # hello, world!"
   ]
  },
  {
   "cell_type": "markdown",
   "metadata": {},
   "source": [
    "### replace()メソッド\n",
    "replace()メソッドは、文字列内の指定された部分文字列を別の文字列に置換します。"
   ]
  },
  {
   "cell_type": "code",
   "execution_count": 27,
   "metadata": {},
   "outputs": [
    {
     "name": "stdout",
     "output_type": "stream",
     "text": [
      "hello, python!\n"
     ]
    }
   ],
   "source": [
    "text = \"hello, world!\"\n",
    "print(text.replace(\"world\", \"python\"))  # hello, python!"
   ]
  },
  {
   "cell_type": "markdown",
   "metadata": {},
   "source": [
    "### strip()メソッド\n",
    "strip()メソッドは、文字列の先頭と末尾にある空白文字（スペース、タブ、改行など）を削除します。"
   ]
  },
  {
   "cell_type": "code",
   "execution_count": 28,
   "metadata": {},
   "outputs": [
    {
     "name": "stdout",
     "output_type": "stream",
     "text": [
      "hello, world!\n"
     ]
    }
   ],
   "source": [
    "text = \"   hello, world!   \"\n",
    "print(text.strip())  # \"hello, world!\""
   ]
  },
  {
   "cell_type": "markdown",
   "metadata": {},
   "source": [
    "### find()メソッド\n",
    "find()メソッドは、文字列内で指定された部分文字列を検索し、最初に見つかった位置のインデックスを返します。見つからない場合は-1を返します。"
   ]
  },
  {
   "cell_type": "code",
   "execution_count": 29,
   "metadata": {},
   "outputs": [
    {
     "name": "stdout",
     "output_type": "stream",
     "text": [
      "7\n",
      "-1\n"
     ]
    }
   ],
   "source": [
    "text = \"hello, world!\"\n",
    "print(text.find(\"world\"))  # 7\n",
    "print(text.find(\"python\"))  # -1"
   ]
  },
  {
   "cell_type": "markdown",
   "metadata": {},
   "source": [
    "### count()メソッド\n",
    "count()メソッドは、文字列内で指定された部分文字列が出現する回数をカウントします。"
   ]
  },
  {
   "cell_type": "code",
   "execution_count": 30,
   "metadata": {},
   "outputs": [
    {
     "name": "stdout",
     "output_type": "stream",
     "text": [
      "2\n"
     ]
    }
   ],
   "source": [
    "text = \"hello, world!\"\n",
    "print(text.count(\"o\"))  # 2"
   ]
  },
  {
   "cell_type": "markdown",
   "metadata": {},
   "source": [
    "## エスケープシーケンス\n",
    "\n",
    "文字列の中には、特殊な意味を持つ文字を表現するためのエスケープシーケンスがあります。エスケープシーケンスは、バックスラッシュ（\\）の後に特定の文字を続けることで表現します。"
   ]
  },
  {
   "cell_type": "code",
   "execution_count": 31,
   "metadata": {},
   "outputs": [
    {
     "name": "stdout",
     "output_type": "stream",
     "text": [
      "こんにちは\n",
      "お元気ですか？\n"
     ]
    }
   ],
   "source": [
    "print(\"こんにちは\\nお元気ですか？\")\n"
   ]
  },
  {
   "cell_type": "code",
   "execution_count": 32,
   "metadata": {},
   "outputs": [
    {
     "name": "stdout",
     "output_type": "stream",
     "text": [
      "タブ文字は\tこのように表現します。\n"
     ]
    }
   ],
   "source": [
    "print(\"タブ文字は\\tこのように表現します。\")\n"
   ]
  },
  {
   "cell_type": "markdown",
   "metadata": {},
   "source": []
  },
  {
   "cell_type": "code",
   "execution_count": 33,
   "metadata": {},
   "outputs": [
    {
     "name": "stdout",
     "output_type": "stream",
     "text": [
      "バックスラッシュは\\のように表現します。\n"
     ]
    }
   ],
   "source": [
    "print(\"バックスラッシュは\\\\のように表現します。\")"
   ]
  },
  {
   "cell_type": "markdown",
   "metadata": {},
   "source": [
    "\n",
    "上記の例では、`\\n`は改行を表し、`\\t`はタブ文字を表します。また、バックスラッシュそのものを表現するには、`\\\\`のように2つのバックスラッシュを続けて書きます。\n",
    "\n",
    "## フォーマット文字列\n",
    "\n",
    "文字列の中に変数の値を埋め込むために、フォーマット文字列を使うことができます。フォーマット文字列は、`f\"...\"`または`\"...\".format(...)`の形式で表現します。\n"
   ]
  },
  {
   "cell_type": "code",
   "execution_count": 34,
   "metadata": {},
   "outputs": [
    {
     "name": "stdout",
     "output_type": "stream",
     "text": [
      "私の名前は太郎で、25歳です。\n",
      "私の名前は太郎で、25歳です。\n"
     ]
    }
   ],
   "source": [
    "# フォーマット文字列の例\n",
    "name = \"太郎\"\n",
    "age = 25\n",
    "print(f\"私の名前は{name}で、{age}歳です。\")\n",
    "\n",
    "print(\"私の名前は{}で、{}歳です。\".format(name, age))"
   ]
  },
  {
   "cell_type": "markdown",
   "metadata": {},
   "source": [
    "\n",
    "上記の例では、`f\"...\"`形式のフォーマット文字列を使って、`name`と`age`の値を文字列内に埋め込んでいます。`{}`の中に変数名を指定することで、対応する値が文字列内に挿入されます。\n",
    "\n",
    "また、`\"...\".format(...)`形式でも同様に変数の値を埋め込むことができます。`format()`メソッドの引数に、`{}`の順番に対応する値を指定します。\n",
    "\n",
    "## まとめ\n",
    "\n",
    "本ホームページでは、Pythonの文字列（str）について詳しく説明しました。文字列のインデックスとスライス、連結と繰り返し、様々なメソッド、エスケープシーケンス、フォーマット文字列などを紹介しました。\n",
    "\n",
    "文字列は、プログラムの中で頻繁に使用されるデータ型の1つです。文字列を理解し、適切に扱えるようになることは、Pythonプログラミングにおいて非常に重要です。これからPythonを学ぶ皆さんは、文字列の基本的な操作を身につけ、プログラムの中で効果的に活用していきましょう。"
   ]
  },
  {
   "cell_type": "code",
   "execution_count": null,
   "metadata": {},
   "outputs": [],
   "source": []
  }
 ],
 "metadata": {
  "kernelspec": {
   "display_name": "base",
   "language": "python",
   "name": "python3"
  },
  "language_info": {
   "codemirror_mode": {
    "name": "ipython",
    "version": 3
   },
   "file_extension": ".py",
   "mimetype": "text/x-python",
   "name": "python",
   "nbconvert_exporter": "python",
   "pygments_lexer": "ipython3",
   "version": "3.11.3"
  }
 },
 "nbformat": 4,
 "nbformat_minor": 2
}
