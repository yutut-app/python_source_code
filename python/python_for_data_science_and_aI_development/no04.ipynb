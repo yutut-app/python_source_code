{
 "cells": [
  {
   "cell_type": "markdown",
   "metadata": {},
   "source": [
    "# Pythonのリスト（list）とタプル（tuple）を理解しよう\n",
    "\n",
    "## はじめに\n",
    "\n",
    "こんにちは！これからPythonプログラミングを学ぶ皆さんに、Pythonのリストとタプルについて説明します。リストとタプルは、Pythonにおける重要なデータ構造の一つであり、複合データ型と呼ばれています。これらを理解することは、Pythonでプログラムを書く上で非常に重要です。\n",
    "\n",
    "## タプル（tuple）\n",
    "\n",
    "タプルは、順序付けられた不変（immutable）なシーケンスです。タプルは、丸括弧`()`の中にカンマ区切りの要素を入れて表現します。"
   ]
  },
  {
   "cell_type": "code",
   "execution_count": 2,
   "metadata": {},
   "outputs": [
    {
     "name": "stdout",
     "output_type": "stream",
     "text": [
      "('太郎', 25, 1.75)\n"
     ]
    }
   ],
   "source": [
    "# タプルの例\n",
    "person = (\"太郎\", 25, 1.75)\n",
    "print(person)  # 出力結果：('太郎', 25, 1.75)\n"
   ]
  },
  {
   "cell_type": "markdown",
   "metadata": {},
   "source": [
    "上記の例では、`person`というタプルを定義しています。このタプルには、文字列の\"太郎\"、整数の25、浮動小数点数の1.75が含まれています。\n",
    "\n",
    "### タプルのインデックス\n",
    "\n",
    "タプルの各要素には、インデックス（番号）を使ってアクセスすることができます。インデックスは0から始まります。\n"
   ]
  },
  {
   "cell_type": "code",
   "execution_count": 3,
   "metadata": {},
   "outputs": [
    {
     "name": "stdout",
     "output_type": "stream",
     "text": [
      "太郎\n",
      "25\n",
      "1.75\n"
     ]
    }
   ],
   "source": [
    "# タプルの要素にアクセス\n",
    "print(person[0])  # 出力結果：太郎（最初の要素）\n",
    "print(person[1])  # 出力結果：25（2番目の要素）\n",
    "print(person[-1])  # 出力結果：1.75（最後の要素）\n"
   ]
  },
  {
   "cell_type": "markdown",
   "metadata": {},
   "source": [
    "負のインデックスを使うと、タプルの末尾から要素にアクセスできます。`person[-1]`は最後の要素、`person[-2]`は最後から2番目の要素を表します。\n",
    "\n",
    "### タプルの連結とスライス\n",
    "\n",
    "タプルは、`+`演算子を使って連結することができます。また、スライス（slice）を使ってタプルの一部を取り出すこともできます。\n"
   ]
  },
  {
   "cell_type": "code",
   "execution_count": 4,
   "metadata": {},
   "outputs": [
    {
     "name": "stdout",
     "output_type": "stream",
     "text": [
      "('太郎', 25, 1.75, '東京都', '学生')\n",
      "(25, 1.75, '東京都')\n"
     ]
    }
   ],
   "source": [
    "# タプルの連結\n",
    "more_info = (\"東京都\", \"学生\")\n",
    "full_info = person + more_info\n",
    "print(full_info)  # 出力結果：('太郎', 25, 1.75, '東京都', '学生')\n",
    "\n",
    "# タプルのスライス\n",
    "print(full_info[1:4])  # 出力結果：(25, 1.75, '東京都')（2番目から4番目の要素）"
   ]
  },
  {
   "cell_type": "markdown",
   "metadata": {},
   "source": [
    "スライスは、`[開始インデックス:終了インデックス]`の形式で指定します。終了インデックスは、取り出したい要素の次のインデックスになります。\n",
    "\n",
    "### タプルの不変性\n",
    "\n",
    "タプルは不変（immutable）なオブジェクトです。つまり、一度作成したタプルの要素を変更することはできません。\n"
   ]
  },
  {
   "cell_type": "code",
   "execution_count": 5,
   "metadata": {},
   "outputs": [
    {
     "ename": "TypeError",
     "evalue": "'tuple' object does not support item assignment",
     "output_type": "error",
     "traceback": [
      "\u001b[0;31m---------------------------------------------------------------------------\u001b[0m",
      "\u001b[0;31mTypeError\u001b[0m                                 Traceback (most recent call last)",
      "Cell \u001b[0;32mIn[5], line 2\u001b[0m\n\u001b[1;32m      1\u001b[0m \u001b[38;5;66;03m# タプルは不変\u001b[39;00m\n\u001b[0;32m----> 2\u001b[0m person[\u001b[38;5;241m1\u001b[39m] \u001b[38;5;241m=\u001b[39m \u001b[38;5;241m26\u001b[39m\n",
      "\u001b[0;31mTypeError\u001b[0m: 'tuple' object does not support item assignment"
     ]
    }
   ],
   "source": [
    "# タプルは不変\n",
    "person[1] = 26  # エラー：タプルは変更できない\n"
   ]
  },
  {
   "cell_type": "markdown",
   "metadata": {},
   "source": [
    "タプルを変更する必要がある場合は、新しいタプルを作成する必要があります。\n",
    "\n",
    "## リスト（list）\n",
    "\n",
    "リストは、順序付けられた可変（mutable）なシーケンスです。リストは、角括弧`[]`の中にカンマ区切りの要素を入れて表現します。"
   ]
  },
  {
   "cell_type": "code",
   "execution_count": 6,
   "metadata": {},
   "outputs": [
    {
     "name": "stdout",
     "output_type": "stream",
     "text": [
      "[1, 2, 3, 4, 5]\n",
      "['apple', 42, 3.14, True]\n"
     ]
    }
   ],
   "source": [
    "# リストの例\n",
    "numbers = [1, 2, 3, 4, 5]\n",
    "mixed_list = [\"apple\", 42, 3.14, True]\n",
    "print(numbers)  # 出力結果：[1, 2, 3, 4, 5]\n",
    "print(mixed_list)  # 出力結果：['apple', 42, 3.14, True]"
   ]
  },
  {
   "cell_type": "markdown",
   "metadata": {},
   "source": [
    "上記の例では、`numbers`というリストには整数が、`mixed_list`というリストには文字列、整数、浮動小数点数、ブール値が含まれています。\n",
    "\n",
    "### リストのインデックス\n",
    "\n",
    "リストの各要素には、インデックス（番号）を使ってアクセスすることができます。インデックスは0から始まります。\n"
   ]
  },
  {
   "cell_type": "code",
   "execution_count": 7,
   "metadata": {},
   "outputs": [
    {
     "name": "stdout",
     "output_type": "stream",
     "text": [
      "1\n",
      "42\n",
      "True\n"
     ]
    }
   ],
   "source": [
    "# リストの要素にアクセス\n",
    "print(numbers[0])  # 出力結果：1（最初の要素）\n",
    "print(mixed_list[1])  # 出力結果：42（2番目の要素）\n",
    "print(mixed_list[-1])  # 出力結果：True（最後の要素）\n"
   ]
  },
  {
   "cell_type": "markdown",
   "metadata": {},
   "source": [
    "負のインデックスを使うと、リストの末尾から要素にアクセスできます。`mixed_list[-1]`は最後の要素、`mixed_list[-2]`は最後から2番目の要素を表します。\n",
    "\n",
    "### リストの連結とスライス\n",
    "\n",
    "リストは、`+`演算子を使って連結することができます。また、スライス（slice）を使ってリストの一部を取り出すこともできます。\n"
   ]
  },
  {
   "cell_type": "code",
   "execution_count": 8,
   "metadata": {},
   "outputs": [
    {
     "name": "stdout",
     "output_type": "stream",
     "text": [
      "[1, 2, 3, 4, 5, 6, 7, 8, 9, 10]\n",
      "[3, 4, 5, 6, 7]\n"
     ]
    }
   ],
   "source": [
    "# リストの連結\n",
    "more_numbers = [6, 7, 8, 9, 10]\n",
    "all_numbers = numbers + more_numbers\n",
    "print(all_numbers)  # 出力結果：[1, 2, 3, 4, 5, 6, 7, 8, 9, 10]\n",
    "\n",
    "# リストのスライス\n",
    "print(all_numbers[2:7])  # 出力結果：[3, 4, 5, 6, 7]（3番目から7番目の要素）\n"
   ]
  },
  {
   "cell_type": "markdown",
   "metadata": {},
   "source": [
    "スライスは、`[開始インデックス:終了インデックス]`の形式で指定します。終了インデックスは、取り出したい要素の次のインデックスになります。\n",
    "\n",
    "### リストの可変性\n",
    "\n",
    "リストは可変（mutable）なオブジェクトです。つまり、リストの要素を変更したり、追加したり、削除したりすることができます。\n"
   ]
  },
  {
   "cell_type": "code",
   "execution_count": 9,
   "metadata": {},
   "outputs": [
    {
     "name": "stdout",
     "output_type": "stream",
     "text": [
      "[100, 2, 3, 4, 5]\n"
     ]
    }
   ],
   "source": [
    "# リストの要素を変更\n",
    "numbers[0] = 100\n",
    "print(numbers)  # 出力結果：[100, 2, 3, 4, 5]"
   ]
  },
  {
   "cell_type": "markdown",
   "metadata": {},
   "source": [
    "リストの要素を変更する場合は、インデックスを使って直接代入します。\n",
    "\n",
    "### リストのメソッド\n",
    "\n",
    "リストには、便利なメソッドが多数用意されています。以下は、よく使われるリストのメソッドの一部です。\n",
    "\n",
    "#### append(x)\n",
    "\n",
    "`append(x)`メソッドは、リストの末尾に要素xを追加します。\n"
   ]
  },
  {
   "cell_type": "code",
   "execution_count": 10,
   "metadata": {},
   "outputs": [
    {
     "name": "stdout",
     "output_type": "stream",
     "text": [
      "['りんご', 'バナナ', 'オレンジ', 'ぶどう']\n"
     ]
    }
   ],
   "source": [
    "# append()メソッドの例\n",
    "fruits = [\"りんご\", \"バナナ\", \"オレンジ\"]\n",
    "fruits.append(\"ぶどう\")\n",
    "print(fruits)  # 出力結果：['りんご', 'バナナ', 'オレンジ', 'ぶどう']\n"
   ]
  },
  {
   "cell_type": "markdown",
   "metadata": {},
   "source": [
    "#### extend(iterable)\n",
    "\n",
    "`extend(iterable)`メソッドは、リストの末尾に、イテラブルなオブジェクト（リストやタプルなど）の要素を追加します。\n"
   ]
  },
  {
   "cell_type": "code",
   "execution_count": 11,
   "metadata": {},
   "outputs": [
    {
     "name": "stdout",
     "output_type": "stream",
     "text": [
      "['りんご', 'バナナ', 'オレンジ', 'ぶどう', 'メロン', 'パイナップル']\n"
     ]
    }
   ],
   "source": [
    "# extend()メソッドの例\n",
    "more_fruits = [\"メロン\", \"パイナップル\"]\n",
    "fruits.extend(more_fruits)\n",
    "print(fruits)  # 出力結果：['りんご', 'バナナ', 'オレンジ', 'ぶどう', 'メロン', 'パイナップル']\n"
   ]
  },
  {
   "cell_type": "markdown",
   "metadata": {},
   "source": [
    "#### insert(i, x)\n",
    "\n",
    "`insert(i, x)`メソッドは、インデックスiの位置に要素xを挿入します。\n"
   ]
  },
  {
   "cell_type": "code",
   "execution_count": 12,
   "metadata": {},
   "outputs": [
    {
     "name": "stdout",
     "output_type": "stream",
     "text": [
      "['りんご', 'キウイ', 'バナナ', 'オレンジ', 'ぶどう', 'メロン', 'パイナップル']\n"
     ]
    }
   ],
   "source": [
    "# insert()メソッドの例\n",
    "fruits.insert(1, \"キウイ\")\n",
    "print(fruits)  # 出力結果：['りんご', 'キウイ', 'バナナ', 'オレンジ', 'ぶどう', 'メロン', 'パイナップル']\n"
   ]
  },
  {
   "cell_type": "markdown",
   "metadata": {},
   "source": [
    "#### remove(x)\n",
    "\n",
    "`remove(x)`メソッドは、リストから最初に見つかった要素xを削除します。\n"
   ]
  },
  {
   "cell_type": "code",
   "execution_count": 13,
   "metadata": {},
   "outputs": [
    {
     "name": "stdout",
     "output_type": "stream",
     "text": [
      "['りんご', 'キウイ', 'オレンジ', 'ぶどう', 'メロン', 'パイナップル']\n"
     ]
    }
   ],
   "source": [
    "# remove()メソッドの例\n",
    "fruits.remove(\"バナナ\")\n",
    "print(fruits)  # 出力結果：['りんご', 'キウイ', 'オレンジ', 'ぶどう', 'メロン', 'パイナップル']"
   ]
  },
  {
   "cell_type": "markdown",
   "metadata": {},
   "source": [
    "#### pop(i)\n",
    "\n",
    "`pop(i)`メソッドは、インデックスiの位置にある要素を取り出し、リストから削除します。"
   ]
  },
  {
   "cell_type": "code",
   "execution_count": 14,
   "metadata": {},
   "outputs": [
    {
     "name": "stdout",
     "output_type": "stream",
     "text": [
      "オレンジ\n",
      "['りんご', 'キウイ', 'ぶどう', 'メロン', 'パイナップル']\n"
     ]
    }
   ],
   "source": [
    "# pop()メソッドの例\n",
    "fruit = fruits.pop(2)\n",
    "print(fruit)  # 出力結果：オレンジ\n",
    "print(fruits)  # 出力結果：['りんご', 'キウイ', 'ぶどう', 'メロン', 'パイナップル']"
   ]
  },
  {
   "cell_type": "markdown",
   "metadata": {},
   "source": [
    "#### index(x)\n",
    "\n",
    "`index(x)`メソッドは、リストの中で最初に要素xが見つかったインデックスを返します。"
   ]
  },
  {
   "cell_type": "code",
   "execution_count": 15,
   "metadata": {},
   "outputs": [
    {
     "name": "stdout",
     "output_type": "stream",
     "text": [
      "3\n"
     ]
    }
   ],
   "source": [
    "# index()メソッドの例\n",
    "print(fruits.index(\"メロン\"))  # 出力結果：3"
   ]
  },
  {
   "cell_type": "markdown",
   "metadata": {},
   "source": [
    "#### count(x)\n",
    "\n",
    "`count(x)`メソッドは、リストの中で要素xが出現する回数を返します。"
   ]
  },
  {
   "cell_type": "code",
   "execution_count": 16,
   "metadata": {},
   "outputs": [
    {
     "name": "stdout",
     "output_type": "stream",
     "text": [
      "3\n"
     ]
    }
   ],
   "source": [
    "# count()メソッドの例\n",
    "numbers = [1, 2, 3, 4, 1, 2, 1]\n",
    "print(numbers.count(1))  # 出力結果：3"
   ]
  },
  {
   "cell_type": "markdown",
   "metadata": {},
   "source": [
    "#### sort()\n",
    "\n",
    "`sort()`メソッドは、リストの要素を昇順に並べ替えます。"
   ]
  },
  {
   "cell_type": "code",
   "execution_count": 17,
   "metadata": {},
   "outputs": [
    {
     "name": "stdout",
     "output_type": "stream",
     "text": [
      "[1, 1, 2, 3, 3, 4, 5, 5, 5, 6, 9]\n"
     ]
    }
   ],
   "source": [
    "# sort()メソッドの例\n",
    "numbers = [3, 1, 4, 1, 5, 9, 2, 6, 5, 3, 5]\n",
    "numbers.sort()\n",
    "print(numbers)  # 出力結果：[1, 1, 2, 3, 3, 4, 5, 5, 5, 6, 9]"
   ]
  },
  {
   "cell_type": "markdown",
   "metadata": {},
   "source": [
    "#### reverse()\n",
    "\n",
    "`reverse()`メソッドは、リストの要素の順序を逆転します。"
   ]
  },
  {
   "cell_type": "code",
   "execution_count": 18,
   "metadata": {},
   "outputs": [
    {
     "name": "stdout",
     "output_type": "stream",
     "text": [
      "[9, 6, 5, 5, 5, 4, 3, 3, 2, 1, 1]\n"
     ]
    }
   ],
   "source": [
    "# reverse()メソッドの例\n",
    "numbers.reverse()\n",
    "print(numbers)  # 出力結果：[9, 6, 5, 5, 5, 4, 3, 3, 2, 1, 1]"
   ]
  },
  {
   "cell_type": "markdown",
   "metadata": {},
   "source": [
    "## まとめ\n",
    "\n",
    "本ホームページでは、Pythonのリストとタプルについて詳しく説明しました。リストとタプルは、複数の要素を格納できる順序付けられたシーケンスです。タプルは不変（immutable）で、一度作成すると変更できません。一方、リストは可変（mutable）で、要素の変更、追加、削除が可能です。\n",
    "\n",
    "リストとタプルは、インデックスを使って要素にアクセスすることができます。また、連結やスライスを使って、複数の要素を取り出すこともできます。\n",
    "\n",
    "リストには、要素を操作するための便利なメソッドが多数用意されています。`append()`、`extend()`、`insert()`、`remove()`、`pop()`、`index()`、`count()`、`sort()`、`reverse()`などのメソッドを使うことで、リストを効果的に操作することができます。\n",
    "\n",
    "Pythonでプログラムを書く際には、リストとタプルを適切に使い分けることが重要です。データの変更が必要ない場合はタプルを、データの変更が必要な場合はリストを使用するのが一般的です。\n",
    "\n",
    "これからPythonを学ぶ皆さんは、リストとタプルの基本的な操作を身につけ、プログラムの中で効果的に活用していきましょう。リストとタプルは、データを管理するための強力なツールであり、Pythonプログラミングにおいて欠かせない存在です。"
   ]
  },
  {
   "cell_type": "markdown",
   "metadata": {},
   "source": []
  }
 ],
 "metadata": {
  "kernelspec": {
   "display_name": "base",
   "language": "python",
   "name": "python3"
  },
  "language_info": {
   "codemirror_mode": {
    "name": "ipython",
    "version": 3
   },
   "file_extension": ".py",
   "mimetype": "text/x-python",
   "name": "python",
   "nbconvert_exporter": "python",
   "pygments_lexer": "ipython3",
   "version": "3.11.3"
  }
 },
 "nbformat": 4,
 "nbformat_minor": 2
}
