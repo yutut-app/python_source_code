{
 "cells": [
  {
   "cell_type": "markdown",
   "metadata": {},
   "source": [
    "# Pythonの式と変数を理解しよう\n",
    "\n",
    "## はじめに\n",
    "\n",
    "こんにちは！これからPythonプログラミングを学ぶ皆さんに、Pythonの式と変数について説明します。式とは、コンピュータが実行する操作のことで、変数とは値を格納するための名前付きの場所のことです。これらの概念を理解することは、Pythonでプログラムを書く上で非常に重要です。\n",
    "\n",
    "## 式（Expression）\n",
    "\n",
    "式は、Pythonが実行する操作のことです。例えば、基本的な算術演算があります。\n"
   ]
  },
  {
   "cell_type": "code",
   "execution_count": 15,
   "metadata": {},
   "outputs": [
    {
     "name": "stdout",
     "output_type": "stream",
     "text": [
      "15\n",
      "5\n",
      "50\n",
      "3.3333333333333335\n",
      "3\n",
      "1\n",
      "8\n"
     ]
    }
   ],
   "source": [
    "# 足し算\n",
    "print(10 + 5)  # 15\n",
    "\n",
    "# 引き算\n",
    "print(10 - 5)  # 5\n",
    "\n",
    "# 掛け算\n",
    "print(10 * 5)  # 50\n",
    "\n",
    "# 割り算\n",
    "print(10 / 3)  # 3.33...\n",
    "print(10 // 3) # 3\n",
    "\n",
    "# 剰余（割り算の余り）\n",
    "print(10 % 3)  # 1\n",
    "\n",
    "# 冪乗\n",
    "print(2 ** 3)  # 8\n"
   ]
  },
  {
   "cell_type": "markdown",
   "metadata": {},
   "source": [
    "上記の例では、数値を演算子（`+`、`-`、`*`、`/`、`//`、`%`、`**`）で結合しています。演算子は、operand（被演算子）と呼ばれる値に対して操作を行います。Pythonは数学的な規則に従って式を評価します。\n",
    "\n",
    "式は、算術演算以外にも様々な操作があります。例えば、文字列の連結や比較演算などがあります。"
   ]
  },
  {
   "cell_type": "code",
   "execution_count": 8,
   "metadata": {},
   "outputs": [
    {
     "name": "stdout",
     "output_type": "stream",
     "text": [
      "Hello, world!\n",
      "True\n",
      "False\n",
      "True\n"
     ]
    }
   ],
   "source": [
    "# 文字列の連結\n",
    "print(\"Hello, \" + \"world!\")  # Hello, world!\n",
    "\n",
    "# 比較演算\n",
    "print(10 > 5)  # True\n",
    "print(10 == 5)  # False\n",
    "print(10 != 5)  # True"
   ]
  },
  {
   "cell_type": "markdown",
   "metadata": {},
   "source": [
    "## 変数（Variable）\n",
    "\n",
    "変数は、値を格納するための名前付きの場所です。変数を使うことで、値を再利用したり、コードを読みやすくしたりできます。"
   ]
  },
  {
   "cell_type": "code",
   "execution_count": 13,
   "metadata": {},
   "outputs": [
    {
     "name": "stdout",
     "output_type": "stream",
     "text": [
      "120\n",
      "145\n",
      "175\n",
      "映画のデートは、2時間55分です。\n"
     ]
    }
   ],
   "source": [
    "# 変数の定義と値の代入\n",
    "drive_time = 120  # ドライブ時間（分）\n",
    "print(drive_time)  # 120\n",
    "\n",
    "# 変数の値を更新\n",
    "drive_time = 145  # ドライブ時間を145分に更新\n",
    "print(drive_time)  # 150\n",
    "\n",
    "# 式の結果を変数に代入\n",
    "total_time = drive_time + 30  # ドライブ時間に30分の余裕を追加\n",
    "print(total_time)  # 180\n",
    "\n",
    "# 変数を使った式\n",
    "hours = total_time // 60  # 合計時間を時間に変換\n",
    "minutes = total_time % 60  # 合計時間の余りを分として取得\n",
    "print(f\"映画のデートは、{hours}時間{minutes}分です。\") "
   ]
  },
  {
   "cell_type": "markdown",
   "metadata": {},
   "source": [
    "上記の例では、`drive_time`という変数にドライブ時間を代入しています。変数の値は、代入演算子（`=`）を使って更新できます。また、式の結果を変数に代入することもできます。変数を使うことで、コードの意味が明確になり、値の再利用が容易になります。\n",
    "\n",
    "変数名には、英字、数字、アンダースコア（`_`）を使用できますが、数字から始めることはできません。また、Pythonのキーワード（`if`、`for`、`while`など）は変数名として使用できません。変数名は、その変数の目的や内容を表す意味のある名前を付けることが重要です。"
   ]
  },
  {
   "cell_type": "code",
   "execution_count": 10,
   "metadata": {},
   "outputs": [],
   "source": [
    "# 有効な変数名の例\n",
    "score = 100\n",
    "player_name = \"太郎\"\n",
    "player_1_score = 50"
   ]
  },
  {
   "cell_type": "code",
   "execution_count": 11,
   "metadata": {},
   "outputs": [
    {
     "ename": "SyntaxError",
     "evalue": "invalid decimal literal (2576619204.py, line 2)",
     "output_type": "error",
     "traceback": [
      "\u001b[0;36m  Cell \u001b[0;32mIn[11], line 2\u001b[0;36m\u001b[0m\n\u001b[0;31m    1st_player = \"太郎\"  # 数字から始まっている\u001b[0m\n\u001b[0m    ^\u001b[0m\n\u001b[0;31mSyntaxError\u001b[0m\u001b[0;31m:\u001b[0m invalid decimal literal\n"
     ]
    }
   ],
   "source": [
    "# 無効な変数名の例\n",
    "1st_player = \"太郎\"  # 数字から始まっている"
   ]
  },
  {
   "cell_type": "code",
   "execution_count": 12,
   "metadata": {},
   "outputs": [
    {
     "ename": "SyntaxError",
     "evalue": "invalid syntax (3732869515.py, line 2)",
     "output_type": "error",
     "traceback": [
      "\u001b[0;36m  Cell \u001b[0;32mIn[12], line 2\u001b[0;36m\u001b[0m\n\u001b[0;31m    for = 10  # Pythonのキーワードを使用している\u001b[0m\n\u001b[0m        ^\u001b[0m\n\u001b[0;31mSyntaxError\u001b[0m\u001b[0;31m:\u001b[0m invalid syntax\n"
     ]
    }
   ],
   "source": [
    "# 無効な変数名の例\n",
    "for = 10  # Pythonのキーワードを使用している"
   ]
  },
  {
   "cell_type": "markdown",
   "metadata": {},
   "source": [
    "\n",
    "## まとめ\n",
    "\n",
    "本ホームページでは、Pythonの式と変数について説明しました。式は、Pythonが実行する操作のことで、算術演算、文字列の連結、比較演算などがあります。変数は値を格納するための名前付きの場所のことで、値の再利用やコードの可読性を向上させるために使用します。これらの概念を理解することは、Pythonでプログラムを書く上で非常に重要です。今後、プログラムを書く際には、式と変数を適切に使用するようにしましょう。"
   ]
  }
 ],
 "metadata": {
  "kernelspec": {
   "display_name": "base",
   "language": "python",
   "name": "python3"
  },
  "language_info": {
   "codemirror_mode": {
    "name": "ipython",
    "version": 3
   },
   "file_extension": ".py",
   "mimetype": "text/x-python",
   "name": "python",
   "nbconvert_exporter": "python",
   "pygments_lexer": "ipython3",
   "version": "3.11.3"
  }
 },
 "nbformat": 4,
 "nbformat_minor": 2
}
