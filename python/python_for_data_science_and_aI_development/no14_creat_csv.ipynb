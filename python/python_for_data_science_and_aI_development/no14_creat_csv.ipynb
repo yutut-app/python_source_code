{
 "cells": [
  {
   "cell_type": "code",
   "execution_count": 1,
   "metadata": {},
   "outputs": [
    {
     "name": "stdout",
     "output_type": "stream",
     "text": [
      "japanese_festivals.csv ファイルを作成しました。\n"
     ]
    }
   ],
   "source": [
    "import pandas as pd\n",
    "\n",
    "# 祭りデータを作成\n",
    "festivals = [\n",
    "    {\"name\": \"祇園祭\", \"month\": \"7月\", \"prefecture\": \"京都府\"},\n",
    "    {\"name\": \"青森ねぶた祭\", \"month\": \"8月\", \"prefecture\": \"青森県\"},\n",
    "    {\"name\": \"阿波おどり\", \"month\": \"8月\", \"prefecture\": \"徳島県\"},\n",
    "    {\"name\": \"さっぽろ雪まつり\", \"month\": \"2月\", \"prefecture\": \"北海道\"},\n",
    "    {\"name\": \"高山祭\", \"month\": \"4月\", \"prefecture\": \"岐阜県\"},\n",
    "    {\"name\": \"神田祭\", \"month\": \"5月\", \"prefecture\": \"東京都\"},\n",
    "    {\"name\": \"博多祇園山笠\", \"month\": \"7月\", \"prefecture\": \"福岡県\"},\n",
    "    {\"name\": \"長崎くんち\", \"month\": \"10月\", \"prefecture\": \"長崎県\"},\n",
    "    {\"name\": \"秋田竿燈まつり\", \"month\": \"8月\", \"prefecture\": \"秋田県\"},\n",
    "    {\"name\": \"よさこい祭り\", \"month\": \"8月\", \"prefecture\": \"高知県\"},\n",
    "    {\"name\": \"ねぶた祭\", \"month\": \"8月\", \"prefecture\": \"青森県\"},\n",
    "    {\"name\": \"山鹿灯籠まつり\", \"month\": \"8月\", \"prefecture\": \"熊本県\"},\n",
    "    {\"name\": \"花笠まつり\", \"month\": \"8月\", \"prefecture\": \"山形県\"},\n",
    "    {\"name\": \"三社祭\", \"month\": \"5月\", \"prefecture\": \"東京都\"},\n",
    "    {\"name\": \"京都五山送り火\", \"month\": \"8月\", \"prefecture\": \"京都府\"}\n",
    "]\n",
    "\n",
    "# データフレームを作成\n",
    "df = pd.DataFrame(festivals)\n",
    "\n",
    "# CSVファイルとして保存\n",
    "df.to_csv(\"japanese_festivals.csv\", index=False)\n",
    "print(\"japanese_festivals.csv ファイルを作成しました。\")"
   ]
  }
 ],
 "metadata": {
  "kernelspec": {
   "display_name": "base",
   "language": "python",
   "name": "python3"
  },
  "language_info": {
   "codemirror_mode": {
    "name": "ipython",
    "version": 3
   },
   "file_extension": ".py",
   "mimetype": "text/x-python",
   "name": "python",
   "nbconvert_exporter": "python",
   "pygments_lexer": "ipython3",
   "version": "3.11.3"
  }
 },
 "nbformat": 4,
 "nbformat_minor": 2
}
