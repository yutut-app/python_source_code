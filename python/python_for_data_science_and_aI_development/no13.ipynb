{
 "cells": [
  {
   "cell_type": "markdown",
   "metadata": {},
   "source": [
    "# Pythonでファイル操作を学ぼう\n",
    "\n",
    "## はじめに\n",
    "\n",
    "こんにちは！これからPythonプログラミングを学ぶ皆さんに、Pythonのファイル操作について詳しく説明します。ファイル操作は、プログラムでデータを保存したり読み込んだりする際に非常に重要な機能です。日常生活でも、買い物リストを作成したり、更新したり、確認したりする場面でファイル操作の考え方が役立ちます。\n",
    "\n",
    "## ファイルを作成して書き込む\n",
    "\n",
    "まずは、買い物リストのファイルを作成し、内容を書き込む方法から説明します。\n"
   ]
  },
  {
   "cell_type": "code",
   "execution_count": 45,
   "metadata": {},
   "outputs": [
    {
     "name": "stdout",
     "output_type": "stream",
     "text": [
      "買い物リストを作成しました。\n"
     ]
    }
   ],
   "source": [
    "# ファイルを作成して書き込む例\n",
    "with open(\"買い物リスト.txt\", \"w\", encoding=\"utf-8\") as file:\n",
    "    file.write(\"牛乳\\n\")\n",
    "    file.write(\"卵\\n\")\n",
    "    file.write(\"パン\\n\")\n",
    "    file.write(\"バナナ\\n\")\n",
    "\n",
    "print(\"買い物リストを作成しました。\")"
   ]
  },
  {
   "cell_type": "markdown",
   "metadata": {},
   "source": [
    "ここで、`open()`関数は3つの引数を取っています：\n",
    "1. `\"買い物リスト.txt\"`: 作成または開くファイルの名前\n",
    "2. `\"w\"`: ファイルモード（\"w\"は書き込みモード）\n",
    "3. `encoding=\"utf-8\"`: 文字エンコーディング（日本語を正しく扱うため）\n",
    "\n",
    "`with`文を使うことで、ファイルを自動的に閉じてくれるので安全です。`file.write()`メソッドでファイルに内容を書き込みます。`\\n`は改行を意味します。\n",
    "\n",
    "## ファイルを読み込む\n",
    "\n",
    "次に、作成したファイルを読み込む方法を説明します。\n"
   ]
  },
  {
   "cell_type": "code",
   "execution_count": 38,
   "metadata": {},
   "outputs": [
    {
     "name": "stdout",
     "output_type": "stream",
     "text": [
      "買い物リストの内容:\n",
      "牛乳\n",
      "卵\n",
      "パン\n",
      "バナナ\n",
      "\n"
     ]
    }
   ],
   "source": [
    "# ファイルを読み込む例\n",
    "with open(\"買い物リスト.txt\", \"r\", encoding=\"utf-8\") as file:\n",
    "    content = file.read()\n",
    "    print(\"買い物リストの内容:\")\n",
    "    print(content)\n"
   ]
  },
  {
   "cell_type": "markdown",
   "metadata": {},
   "source": [
    "ここでは、`open()`関数の第二引数を`\"r\"`（読み込みモード）に変更しています。`file.read()`メソッドでファイルの内容全体を一度に読み込み、`content`変数に格納しています。\n",
    "\n",
    "## ファイルを1行ずつ読み込む\n",
    "\n",
    "大きなファイルを扱う場合、1行ずつ読み込む方法が便利です。\n"
   ]
  },
  {
   "cell_type": "code",
   "execution_count": 39,
   "metadata": {},
   "outputs": [
    {
     "name": "stdout",
     "output_type": "stream",
     "text": [
      "買い物リストの項目:\n",
      "- 牛乳\n",
      "- 卵\n",
      "- パン\n",
      "- バナナ\n"
     ]
    }
   ],
   "source": [
    "# ファイルを1行ずつ読み込む例\n",
    "print(\"買い物リストの項目:\")\n",
    "with open(\"買い物リスト.txt\", \"r\", encoding=\"utf-8\") as file:\n",
    "    for line in file:\n",
    "        print(\"- \" + line.strip())\n"
   ]
  },
  {
   "cell_type": "markdown",
   "metadata": {},
   "source": [
    "`for line in file:`はファイルオブジェクトを直接イテレートし、1行ずつ`line`変数に代入します。`strip()`メソッドは行末の改行文字を削除します。\n",
    "\n",
    "## ファイルに追記する\n",
    "\n",
    "既存のファイルに新しい内容を追加するには、追記モード`\"a\"`を使用します。\n"
   ]
  },
  {
   "cell_type": "code",
   "execution_count": 40,
   "metadata": {},
   "outputs": [
    {
     "name": "stdout",
     "output_type": "stream",
     "text": [
      "買い物リストに項目を追加しました。\n"
     ]
    }
   ],
   "source": [
    "# ファイルに追記する例\n",
    "with open(\"買い物リスト.txt\", \"a\", encoding=\"utf-8\") as file:\n",
    "    file.write(\"トマト\\n\")\n",
    "    file.write(\"きゅうり\\n\")\n",
    "\n",
    "print(\"買い物リストに項目を追加しました。\")\n"
   ]
  },
  {
   "cell_type": "markdown",
   "metadata": {},
   "source": [
    "\n",
    "追記モード`\"a\"`を使用することで、既存の内容を保持したまま新しい内容をファイルの末尾に追加できます。\n",
    "\n",
    "## ファイルの存在確認\n",
    "\n",
    "ファイル操作を行う前に、ファイルが存在するかどうかを確認するのは良い習慣です。\n"
   ]
  },
  {
   "cell_type": "code",
   "execution_count": 41,
   "metadata": {},
   "outputs": [
    {
     "name": "stdout",
     "output_type": "stream",
     "text": [
      "買い物リストのファイルが存在します。\n"
     ]
    }
   ],
   "source": [
    "import os\n",
    "\n",
    "# ファイルの存在確認\n",
    "if os.path.exists(\"買い物リスト.txt\"):\n",
    "    print(\"買い物リストのファイルが存在します。\")\n",
    "else:\n",
    "    print(\"買い物リストのファイルが見つかりません。\")\n"
   ]
  },
  {
   "cell_type": "markdown",
   "metadata": {},
   "source": [
    "`os.path.exists()`関数は、指定されたパスにファイルまたはディレクトリが存在する場合に`True`を返します。\n"
   ]
  },
  {
   "cell_type": "markdown",
   "metadata": {},
   "source": [
    "\n",
    "## ファイルのコピー\n",
    "\n",
    "ファイルをコピーするには、`shutil.copy()`関数を使用します。\n"
   ]
  },
  {
   "cell_type": "code",
   "execution_count": 42,
   "metadata": {},
   "outputs": [
    {
     "name": "stdout",
     "output_type": "stream",
     "text": [
      "買い物リスト.txtを買い物リストのコピー.txtにコピーしました。\n"
     ]
    }
   ],
   "source": [
    "import shutil\n",
    "\n",
    "# ファイルのコピー\n",
    "source_file = \"買い物リスト.txt\"\n",
    "destination_file = \"買い物リストのコピー.txt\"\n",
    "\n",
    "try:\n",
    "    shutil.copy(source_file, destination_file)\n",
    "    print(f\"{source_file}を{destination_file}にコピーしました。\")\n",
    "except FileNotFoundError:\n",
    "    print(f\"{source_file}が見つかりません。\")\n"
   ]
  },
  {
   "cell_type": "markdown",
   "metadata": {},
   "source": [
    "`shutil.copy()`関数は、ソースファイルが存在しない場合に`FileNotFoundError`を発生させるので、`try-except`文でエラーをキャッチしています。\n"
   ]
  },
  {
   "cell_type": "markdown",
   "metadata": {},
   "source": [
    "\n",
    "## ファイル名の変更\n",
    "\n",
    "ファイル名を変更するには、`os.rename()`関数を使用します。\n"
   ]
  },
  {
   "cell_type": "code",
   "execution_count": 43,
   "metadata": {},
   "outputs": [
    {
     "name": "stdout",
     "output_type": "stream",
     "text": [
      "買い物リストのコピー.txtを新しい買い物リスト.txtに変更しました。\n"
     ]
    }
   ],
   "source": [
    "import os\n",
    "\n",
    "# ファイル名の変更\n",
    "old_name = \"買い物リストのコピー.txt\"\n",
    "new_name = \"新しい買い物リスト.txt\"\n",
    "\n",
    "if os.path.exists(old_name):\n",
    "    os.rename(old_name, new_name)\n",
    "    print(f\"{old_name}を{new_name}に変更しました。\")\n",
    "else:\n",
    "    print(f\"{old_name}が見つかりません。\")\n"
   ]
  },
  {
   "cell_type": "markdown",
   "metadata": {},
   "source": [
    "`os.rename()`関数は2つの引数を取ります：元のファイル名と新しいファイル名です。\n",
    "\n",
    "## ファイルの削除\n",
    "\n",
    "ファイルを削除するには、`os.remove()`関数を使用します。\n"
   ]
  },
  {
   "cell_type": "code",
   "execution_count": 44,
   "metadata": {},
   "outputs": [
    {
     "name": "stdout",
     "output_type": "stream",
     "text": [
      "買い物リスト.txtを削除しました。\n"
     ]
    }
   ],
   "source": [
    "import os\n",
    "\n",
    "# ファイルの削除\n",
    "file_name = \"買い物リスト.txt\"\n",
    "\n",
    "if os.path.exists(file_name):\n",
    "    os.remove(file_name)\n",
    "    print(f\"{file_name}を削除しました。\")\n",
    "else:\n",
    "    print(f\"{file_name}が見つかりません。\")\n"
   ]
  },
  {
   "cell_type": "markdown",
   "metadata": {},
   "source": [
    "ファイルを削除する前に、必ずファイルの存在を確認することをお勧めします。\n"
   ]
  },
  {
   "cell_type": "markdown",
   "metadata": {},
   "source": [
    "\n",
    "## まとめ\n",
    "\n",
    "このホームページでは、Pythonを使った買い物リストのファイル操作について詳しく説明しました。ファイルの作成、書き込み、読み込み、追記、存在確認、名前変更、削除、コピーなど、様々な操作方法を学びました。\n",
    "\n",
    "これらの操作を使いこなすことで、買い物リストをより柔軟に管理できるようになります。例えば、古い買い物リストをバックアップとしてコピーしたり、不要になったリストを削除したり、季節ごとに買い物リストの名前を変更したりすることができます。\n",
    "\n",
    "ファイル操作を行う際は、以下の点に注意しましょう：\n",
    "1. ファイルを開いたら必ず閉じる（`with`文を使うと自動的に閉じてくれます）\n",
    "2. 適切なモード（\"r\"読み込み、\"w\"書き込み、\"a\"追記）を選択する\n",
    "3. 日本語を扱う場合は、適切なエンコーディング（通常は\"utf-8\"）を指定する\n",
    "4. ファイルの削除やリネームなど、取り返しのつかない操作を行う前には、必ず確認を行う\n",
    "5. エラーハンドリングを適切に行い、ファイルが見つからない場合などに対処する\n",
    "\n",
    "これからプログラミングを学ぶ皆さんは、ぜひファイル操作の基本を身につけ、様々なプログラムに活用してみてください。買い物リストの管理だけでなく、日記の記録、レシピの保存、家計簿の管理など、日常生活の様々な場面でプログラムの可能性が大きく広がります。\n",
    "\n",
    "ファイル操作は、データの永続化（保存）と再利用を可能にする重要な技術です。この技術を習得することで、より複雑で実用的なプログラムを作成できるようになるでしょう。"
   ]
  },
  {
   "cell_type": "markdown",
   "metadata": {},
   "source": [
    "問題1\n",
    "あなたは、お気に入りの映画リストを作成することにしました。以下の手順で、ファイルの操作を行うプログラムを作成してください。\n",
    "\n",
    "1. \"favorite_movies.txt\"ファイルを作成し、以下の映画名を書き込んでください。\n",
    "   - となりのトトロ\n",
    "   - 千と千尋の神隠し\n",
    "   - 君の名は。\n",
    "\n",
    "2. 作成したファイルの内容を読み込み、表示してください。\n"
   ]
  },
  {
   "cell_type": "markdown",
   "metadata": {},
   "source": [
    "解答例(Pythonコード):\n"
   ]
  },
  {
   "cell_type": "code",
   "execution_count": 46,
   "metadata": {},
   "outputs": [
    {
     "name": "stdout",
     "output_type": "stream",
     "text": [
      "お気に入りの映画リストを作成しました。\n",
      "\n",
      "お気に入りの映画リスト:\n",
      "となりのトトロ\n",
      "千と千尋の神隠し\n",
      "君の名は。\n",
      "\n"
     ]
    }
   ],
   "source": [
    "# ファイルの作成と書き込み\n",
    "with open(\"favorite_movies.txt\", \"w\", encoding=\"utf-8\") as file:\n",
    "    file.write(\"となりのトトロ\\n\")\n",
    "    file.write(\"千と千尋の神隠し\\n\")\n",
    "    file.write(\"君の名は。\\n\")\n",
    "\n",
    "print(\"お気に入りの映画リストを作成しました。\")\n",
    "\n",
    "# ファイルの内容を読み込んで表示\n",
    "print(\"\\nお気に入りの映画リスト:\")\n",
    "with open(\"favorite_movies.txt\", \"r\", encoding=\"utf-8\") as file:\n",
    "    content = file.read()\n",
    "    print(content)\n"
   ]
  },
  {
   "cell_type": "markdown",
   "metadata": {},
   "source": [
    "解説:\n",
    "この問題では、ファイルの作成、書き込み、読み込みの基本的な操作を行っています。\n",
    "\n",
    "1. まず、`open()`関数を使って\"favorite_movies.txt\"ファイルを書き込みモード(\"w\")で開き、`write()`メソッドを使って映画名を書き込みます。\n",
    "\n",
    "2. 次に、ファイルを読み込みモード(\"r\")で開き、`read()`メソッドを使ってファイルの内容を全て読み込み、表示します。\n",
    "\n",
    "`with`文を使用することで、ファイルが自動的に閉じられるため、明示的に`close()`を呼び出す必要がありません。また、`encoding=\"utf-8\"`を指定することで、日本語を正しく扱うことができます。\n"
   ]
  },
  {
   "cell_type": "markdown",
   "metadata": {},
   "source": [
    "問題2\n",
    "あなたは、友達との約束を記録するためのプログラムを作成することにしました。以下の手順で、ファイルの操作を行うプログラムを作成してください。\n",
    "\n",
    "1. \"appointment.txt\"ファイルを作成し、次の約束を書き込んでください。\n",
    "   - 土曜日：映画を見に行く\n",
    "\n",
    "2. ファイルに新しい約束（日曜日：カフェでランチ）を追記してください。\n",
    "\n",
    "3. 最終的なファイルの内容を読み込み、表示してください。\n"
   ]
  },
  {
   "cell_type": "markdown",
   "metadata": {},
   "source": [
    "解答例(Pythonコード):\n"
   ]
  },
  {
   "cell_type": "code",
   "execution_count": 47,
   "metadata": {},
   "outputs": [
    {
     "name": "stdout",
     "output_type": "stream",
     "text": [
      "約束を記録しました。\n",
      "新しい約束を追加しました。\n",
      "\n",
      "約束リスト:\n",
      "土曜日：映画を見に行く\n",
      "日曜日：カフェでランチ\n",
      "\n"
     ]
    }
   ],
   "source": [
    "# ファイルの作成と書き込み\n",
    "with open(\"appointment.txt\", \"w\", encoding=\"utf-8\") as file:\n",
    "    file.write(\"土曜日：映画を見に行く\\n\")\n",
    "\n",
    "print(\"約束を記録しました。\")\n",
    "\n",
    "# ファイルに新しい約束を追記\n",
    "with open(\"appointment.txt\", \"a\", encoding=\"utf-8\") as file:\n",
    "    file.write(\"日曜日：カフェでランチ\\n\")\n",
    "\n",
    "print(\"新しい約束を追加しました。\")\n",
    "\n",
    "# 最終的なファイルの内容を読み込んで表示\n",
    "print(\"\\n約束リスト:\")\n",
    "with open(\"appointment.txt\", \"r\", encoding=\"utf-8\") as file:\n",
    "    content = file.read()\n",
    "    print(content)\n"
   ]
  },
  {
   "cell_type": "markdown",
   "metadata": {},
   "source": [
    "解説:\n",
    "この問題では、ファイルの作成、書き込み、追記、読み込みの基本的な操作を行っています。\n",
    "\n",
    "1. まず、`open()`関数を使って\"appointment.txt\"ファイルを書き込みモード(\"w\")で開き、最初の約束を書き込みます。\n",
    "\n",
    "2. 次に、ファイルを追記モード(\"a\")で開き、新しい約束を追加します。追記モードを使用することで、既存の内容を保持したまま新しい内容をファイルの末尾に追加できます。\n",
    "\n",
    "3. 最後に、ファイルを読み込みモード(\"r\")で開き、`read()`メソッドを使ってファイルの内容を全て読み込み、表示します。\n",
    "\n",
    "この例でも、`with`文を使用してファイルを自動的に閉じ、`encoding=\"utf-8\"`を指定して日本語を正しく扱っています。\n",
    "\n",
    "これらの操作を通じて、ファイルの基本的な操作方法と、それらを日常生活で活用する方法を学ぶことができます。"
   ]
  }
 ],
 "metadata": {
  "kernelspec": {
   "display_name": "base",
   "language": "python",
   "name": "python3"
  },
  "language_info": {
   "codemirror_mode": {
    "name": "ipython",
    "version": 3
   },
   "file_extension": ".py",
   "mimetype": "text/x-python",
   "name": "python",
   "nbconvert_exporter": "python",
   "pygments_lexer": "ipython3",
   "version": "3.11.3"
  }
 },
 "nbformat": 4,
 "nbformat_minor": 2
}
