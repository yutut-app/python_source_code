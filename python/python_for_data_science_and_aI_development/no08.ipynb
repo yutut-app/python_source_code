{
 "cells": [
  {
   "cell_type": "markdown",
   "metadata": {},
   "source": [
    "# Pythonの条件分岐を理解しよう\n",
    "\n",
    "## はじめに\n",
    "\n",
    "こんにちは！これからPythonプログラミングを学ぶ皆さんに、Pythonの条件分岐について説明します。条件分岐は、プログラムの実行を特定の条件に基づいて変更することができる強力な機能です。条件分岐を理解することは、Pythonでプログラムを書く上で非常に重要です。\n",
    "\n",
    "## 比較演算子\n",
    "\n",
    "比較演算子は、値や式を比較するために使用します。比較の結果は、真（True）または偽（False）のブール値になります。\n"
   ]
  },
  {
   "cell_type": "code",
   "execution_count": 1,
   "metadata": {},
   "outputs": [
    {
     "name": "stdout",
     "output_type": "stream",
     "text": [
      "False\n",
      "True\n",
      "True\n",
      "True\n",
      "False\n",
      "False\n"
     ]
    }
   ],
   "source": [
    "# 比較演算子の例\n",
    "a = 6\n",
    "print(a == 7)  # 出力結果：False\n",
    "print(a == 6)  # 出力結果：True\n",
    "print(a > 5)   # 出力結果：True\n",
    "print(a >= 5)  # 出力結果：True\n",
    "print(a < 6)   # 出力結果：False\n",
    "print(a != 6)  # 出力結果：False\n"
   ]
  },
  {
   "cell_type": "markdown",
   "metadata": {},
   "source": [
    "上記の例では、変数`a`に6を代入し、さまざまな比較演算子を使って比較しています。`==`は等しいかどうか、`>`は大きいかどうか、`>=`は大きいまたは等しいかどうか、`<`は小さいかどうか、`!=`は等しくないかどうかを判定します。\n",
    "\n",
    "## if文\n",
    "\n",
    "if文は、指定された条件が真（True）の場合に、特定のコードブロックを実行します。\n"
   ]
  },
  {
   "cell_type": "code",
   "execution_count": 2,
   "metadata": {},
   "outputs": [
    {
     "name": "stdout",
     "output_type": "stream",
     "text": [
      "あなたは成人です。\n",
      "プログラムを終了します。\n"
     ]
    }
   ],
   "source": [
    "# if文の例\n",
    "age = 20\n",
    "if age >= 18:\n",
    "    print(\"あなたは成人です。\")\n",
    "print(\"プログラムを終了します。\")\n"
   ]
  },
  {
   "cell_type": "markdown",
   "metadata": {},
   "source": [
    "上記の例では、変数`age`に20を代入しています。if文の条件`age >= 18`が真であるため、`\"あなたは成人です。\"`が出力されます。その後、if文の外側にある`\"プログラムを終了します。\"`が実行されます。\n",
    "\n",
    "## else文\n",
    "\n",
    "else文は、if文の条件が偽（False）の場合に実行されるコードブロックを定義します。\n"
   ]
  },
  {
   "cell_type": "code",
   "execution_count": 3,
   "metadata": {},
   "outputs": [
    {
     "name": "stdout",
     "output_type": "stream",
     "text": [
      "あなたは未成年です。\n",
      "プログラムを終了します。\n"
     ]
    }
   ],
   "source": [
    "# else文の例\n",
    "age = 16\n",
    "if age >= 18:\n",
    "    print(\"あなたは成人です。\")\n",
    "else:\n",
    "    print(\"あなたは未成年です。\")\n",
    "print(\"プログラムを終了します。\")\n"
   ]
  },
  {
   "cell_type": "markdown",
   "metadata": {},
   "source": [
    "上記の例では、変数`age`に16を代入しています。if文の条件`age >= 18`が偽であるため、else文の`\"あなたは未成年です。\"`が出力されます。その後、if-else文の外側にある`\"プログラムを終了します。\"`が実行されます。\n",
    "\n",
    "## elif文\n",
    "\n",
    "elif文は、複数の条件を順番にチェックし、最初に真となる条件に対応するコードブロックを実行します。\n"
   ]
  },
  {
   "cell_type": "code",
   "execution_count": 4,
   "metadata": {},
   "outputs": [
    {
     "name": "stdout",
     "output_type": "stream",
     "text": [
      "あなたは成人です。\n",
      "プログラムを終了します。\n"
     ]
    }
   ],
   "source": [
    "# elif文の例\n",
    "age = 30\n",
    "if age < 18:\n",
    "    print(\"あなたは未成年です。\")\n",
    "elif age < 65:\n",
    "    print(\"あなたは成人です。\")\n",
    "else:\n",
    "    print(\"あなたは高齢者です。\")\n",
    "print(\"プログラムを終了します。\")\n"
   ]
  },
  {
   "cell_type": "markdown",
   "metadata": {},
   "source": [
    "上記の例では、変数`age`に30を代入しています。if文の条件`age < 18`が偽であるため、elif文の条件`age < 65`がチェックされます。この条件が真であるため、`\"あなたは成人です。\"`が出力されます。その後、if-elif-else文の外側にある`\"プログラムを終了します。\"`が実行されます。\n",
    "\n",
    "## 論理演算子\n",
    "\n",
    "論理演算子は、複数の条件を組み合わせるために使用します。\n",
    "\n",
    "### and演算子\n",
    "\n",
    "and演算子は、両方の条件が真の場合にのみ真となります。\n"
   ]
  },
  {
   "cell_type": "code",
   "execution_count": 5,
   "metadata": {},
   "outputs": [
    {
     "name": "stdout",
     "output_type": "stream",
     "text": [
      "あなたは働き盛りです。\n"
     ]
    }
   ],
   "source": [
    "# and演算子の例\n",
    "age = 25\n",
    "if age >= 18 and age < 65:\n",
    "    print(\"あなたは働き盛りです。\")\n",
    "else:\n",
    "    print(\"あなたは働き盛りではありません。\")"
   ]
  },
  {
   "cell_type": "markdown",
   "metadata": {},
   "source": [
    "上記の例では、変数`age`に25を代入しています。`age >= 18`と`age < 65`の両方の条件が真であるため、`\"あなたは働き盛りです。\"`が出力されます。\n",
    "\n",
    "### or演算子\n",
    "\n",
    "or演算子は、少なくとも一方の条件が真の場合に真となります。\n"
   ]
  },
  {
   "cell_type": "code",
   "execution_count": 6,
   "metadata": {},
   "outputs": [
    {
     "name": "stdout",
     "output_type": "stream",
     "text": [
      "今日は休日です。\n"
     ]
    }
   ],
   "source": [
    "# or演算子の例\n",
    "day = \"土曜日\"\n",
    "if day == \"土曜日\" or day == \"日曜日\":\n",
    "    print(\"今日は休日です。\")\n",
    "else:\n",
    "    print(\"今日は平日です。\")\n"
   ]
  },
  {
   "cell_type": "markdown",
   "metadata": {},
   "source": [
    "上記の例では、変数`day`に\"土曜日\"を代入しています。`day == \"土曜日\"`または`day == \"日曜日\"`のいずれかの条件が真であるため、`\"今日は休日です。\"`が出力されます。\n",
    "\n",
    "### not演算子\n",
    "\n",
    "not演算子は、条件の真偽を反転します。\n"
   ]
  },
  {
   "cell_type": "code",
   "execution_count": 7,
   "metadata": {},
   "outputs": [
    {
     "name": "stdout",
     "output_type": "stream",
     "text": [
      "あなたは学生です。\n"
     ]
    }
   ],
   "source": [
    "# not演算子の例\n",
    "is_student = True\n",
    "if not is_student:\n",
    "    print(\"あなたは学生ではありません。\")\n",
    "else:\n",
    "    print(\"あなたは学生です。\")\n"
   ]
  },
  {
   "cell_type": "markdown",
   "metadata": {},
   "source": [
    "\n",
    "上記の例では、変数`is_student`にTrueを代入しています。not演算子により条件が反転するため、`\"あなたは学生です。\"`が出力されます。\n",
    "\n",
    "## 条件式\n",
    "\n",
    "条件式は、比較演算子や論理演算子を組み合わせて、より複雑な条件を表現することができます。\n"
   ]
  },
  {
   "cell_type": "code",
   "execution_count": 8,
   "metadata": {},
   "outputs": [
    {
     "name": "stdout",
     "output_type": "stream",
     "text": [
      "あなたの成績はBです。\n"
     ]
    }
   ],
   "source": [
    "# 条件式の例\n",
    "score = 85\n",
    "if score >= 90:\n",
    "    grade = \"A\"\n",
    "elif score >= 80:\n",
    "    grade = \"B\"\n",
    "elif score >= 70:\n",
    "    grade = \"C\"\n",
    "elif score >= 60:\n",
    "    grade = \"D\"\n",
    "else:\n",
    "    grade = \"F\"\n",
    "print(f\"あなたの成績は{grade}です。\")\n"
   ]
  },
  {
   "cell_type": "markdown",
   "metadata": {},
   "source": [
    "上記の例では、変数`score`に85を代入しています。if-elif文を使って、点数に応じた成績を判定しています。`score`が80以上90未満であるため、`grade`に\"B\"が代入され、`\"あなたの成績はBです。\"`が出力されます。\n",
    "\n",
    "## 条件演算子（三項演算子）\n",
    "\n",
    "条件演算子は、if-else文を一行で表現することができる便利な演算子です。\n"
   ]
  },
  {
   "cell_type": "code",
   "execution_count": 9,
   "metadata": {},
   "outputs": [
    {
     "name": "stdout",
     "output_type": "stream",
     "text": [
      "あなたは成人です。\n"
     ]
    }
   ],
   "source": [
    "# 条件演算子の例\n",
    "age = 20\n",
    "status = \"成人\" if age >= 18 else \"未成年\"\n",
    "print(f\"あなたは{status}です。\")\n"
   ]
  },
  {
   "cell_type": "markdown",
   "metadata": {},
   "source": [
    "上記の例では、変数`age`に20を代入しています。条件演算子を使って、`age`が18以上の場合は\"成人\"を、そうでない場合は\"未成年\"を`status`に代入しています。`age`が20であるため、`\"あなたは成人です。\"`が出力されます。\n",
    "\n",
    "## 条件分岐のネスト\n",
    "\n",
    "条件分岐は、必要に応じてネスト（入れ子）にすることができます。\n"
   ]
  },
  {
   "cell_type": "code",
   "execution_count": 10,
   "metadata": {},
   "outputs": [
    {
     "name": "stdout",
     "output_type": "stream",
     "text": [
      "あなたは学生の成人です。\n"
     ]
    }
   ],
   "source": [
    "# 条件分岐のネストの例\n",
    "age = 25\n",
    "is_student = True\n",
    "if age >= 18:\n",
    "    if is_student:\n",
    "        print(\"あなたは学生の成人です。\")\n",
    "    else:\n",
    "        print(\"あなたは学生ではない成人です。\")\n",
    "else:\n",
    "    if is_student:\n",
    "        print(\"あなたは学生の未成年です。\")\n",
    "    else:\n",
    "        print(\"あなたは学生ではない未成年です。\")\n"
   ]
  },
  {
   "cell_type": "markdown",
   "metadata": {},
   "source": [
    "上記の例では、変数`age`に25、`is_student`にTrueを代入しています。最初のif文で成人か未成年かを判定し、その中でさらにif文を使って学生かどうかを判定しています。`age`が25で`is_student`がTrueであるため、`\"あなたは学生の成人です。\"`が出力されます。\n",
    "\n",
    "## 条件分岐の応用例\n",
    "\n",
    "条件分岐は、日常生活のさまざまな場面で活用することができます。以下は、条件分岐を使った応用例です。\n",
    "\n",
    "### 映画の料金を計算する\n",
    "\n",
    "映画館の料金を年齢に応じて計算する例です。\n"
   ]
  },
  {
   "cell_type": "code",
   "execution_count": 11,
   "metadata": {},
   "outputs": [
    {
     "name": "stdout",
     "output_type": "stream",
     "text": [
      "あなたの映画料金は1800円です。\n"
     ]
    }
   ],
   "source": [
    "# 映画の料金を計算する例\n",
    "age = 25\n",
    "if age < 12:\n",
    "    price = 1000\n",
    "elif age < 18:\n",
    "    price = 1500\n",
    "elif age >= 65:\n",
    "    price = 1200\n",
    "else:\n",
    "    price = 1800\n",
    "print(f\"あなたの映画料金は{price}円です。\")\n"
   ]
  },
  {
   "cell_type": "markdown",
   "metadata": {},
   "source": [
    "上記の例では、変数`age`に25を代入しています。if-elif文を使って年齢に応じた料金を設定し、最終的な料金を出力しています。\n",
    "\n",
    "### 遊園地のアトラクションの利用制限\n",
    "\n",
    "遊園地のアトラクションの利用制限を身長に応じて判定する例です。\n"
   ]
  },
  {
   "cell_type": "code",
   "execution_count": 12,
   "metadata": {},
   "outputs": [
    {
     "name": "stdout",
     "output_type": "stream",
     "text": [
      "このアトラクションは保護者の同伴が必要です。\n"
     ]
    }
   ],
   "source": [
    "# 遊園地のアトラクションの利用制限の例\n",
    "height = 140\n",
    "if height >= 160:\n",
    "    print(\"このアトラクションは制限なく利用できます。\")\n",
    "elif height >= 140:\n",
    "    print(\"このアトラクションは保護者の同伴が必要です。\")\n",
    "else:\n",
    "    print(\"このアトラクションは利用できません。\")\n"
   ]
  },
  {
   "cell_type": "markdown",
   "metadata": {},
   "source": [
    "上記の例では、変数`height`に140を代入しています。if-elif文を使って身長に応じた利用制限を判定し、メッセージを出力しています。\n",
    "\n",
    "## まとめ\n",
    "\n",
    "本ホームページでは、Pythonの条件分岐について説明しました。条件分岐は、比較演算子を使って条件を評価し、その結果に基づいてプログラムの実行を変更することができます。\n",
    "\n",
    "if文、else文、elif文を使って、条件に応じたコードブロックを実行することができます。また、and、or、not演算子を使って、複数の条件を組み合わせることができます。\n",
    "\n",
    "条件式を使って、より複雑な条件を表現することができます。また、条件演算子を使って、if-else文を一行で表現することもできます。\n",
    "\n",
    "条件分岐は、必要に応じてネストにすることができ、より細かな条件判定を行うことができます。\n",
    "\n",
    "条件分岐は、映画の料金計算や遊園地のアトラクションの利用制限判定など、日常生活のさまざまな場面で活用することができます。\n",
    "\n",
    "これからPythonを学ぶ皆さんは、条件分岐の基本的な使い方を身につけ、プログラムの中で効果的に活用していきましょう。条件分岐は、プログラムに柔軟性と適応性を与える強力な機能です。"
   ]
  },
  {
   "cell_type": "markdown",
   "metadata": {},
   "source": [
    "問題1\n",
    "あなたは、友達とカラオケに行くことにしました。カラオケ店では、年齢に応じて料金が異なります。\n",
    "以下の条件に従って、あなたと友達の料金を計算し、合計金額を出力するPythonコードを書いてください。\n",
    "\n",
    "- 18歳未満の料金は1000円\n",
    "- 18歳以上65歳未満の料金は1500円\n",
    "- 65歳以上の料金は1200円\n",
    "\n",
    "あなたの年齢:25歳\n",
    "友達の年齢:17歳\n",
    "\n",
    "解答例(Pythonコード):\n"
   ]
  },
  {
   "cell_type": "code",
   "execution_count": 13,
   "metadata": {},
   "outputs": [
    {
     "name": "stdout",
     "output_type": "stream",
     "text": [
      "カラオケの合計料金は2500円です。\n"
     ]
    }
   ],
   "source": [
    "your_age = 25\n",
    "friend_age = 17\n",
    "\n",
    "if your_age < 18:\n",
    "    your_price = 1000\n",
    "elif your_age < 65:\n",
    "    your_price = 1500\n",
    "else:\n",
    "    your_price = 1200\n",
    "\n",
    "if friend_age < 18:\n",
    "    friend_price = 1000\n",
    "elif friend_age < 65:\n",
    "    friend_price = 1500\n",
    "else:\n",
    "    friend_price = 1200\n",
    "\n",
    "total_price = your_price + friend_price\n",
    "print(f\"カラオケの合計料金は{total_price}円です。\")\n"
   ]
  },
  {
   "cell_type": "markdown",
   "metadata": {},
   "source": [
    "解説:\n",
    "この問題では、年齢に応じてカラオケの料金を計算しています。\n",
    "\n",
    "まず、`your_age`と`friend_age`という変数にそれぞれあなたと友達の年齢を代入しています。\n",
    "\n",
    "次に、if-elif文を使って、年齢に応じた料金を決定しています。\n",
    "- 18歳未満の場合、料金は1000円\n",
    "- 18歳以上65歳未満の場合、料金は1500円\n",
    "- 65歳以上の場合、料金は1200円\n",
    "\n",
    "あなたの年齢は25歳なので、`your_price`には1500円が代入されます。友達の年齢は17歳なので、`friend_price`には1000円が代入されます。\n",
    "\n",
    "最後に、`your_price`と`friend_price`を足し合わせて合計料金を計算し、`total_price`に代入しています。\n",
    "\n",
    "`print()`を使って、合計料金を出力しています。\n",
    "\n",
    "このように、条件分岐を使うことで、年齢に応じた料金設定を簡単に実装することができます。\n",
    "\n",
    "問題2\n",
    "あなたは、友達とレストランに行くことにしました。レストランでは、注文した料理の合計金額に応じてサービス料が加算されます。\n",
    "以下の条件に従って、サービス料を計算し、最終的な支払金額を出力するPythonコードを書いてください。\n",
    "\n",
    "- 合計金額が5000円未満の場合、サービス料は0円\n",
    "- 合計金額が5000円以上10000円未満の場合、サービス料は500円\n",
    "- 合計金額が10000円以上の場合、サービス料は1000円\n",
    "\n",
    "注文した料理の合計金額:8000円\n",
    "\n",
    "解答例(Pythonコード):\n"
   ]
  },
  {
   "cell_type": "code",
   "execution_count": 14,
   "metadata": {},
   "outputs": [
    {
     "name": "stdout",
     "output_type": "stream",
     "text": [
      "最終的な支払金額は8500円です。\n"
     ]
    }
   ],
   "source": [
    "total_amount = 8000\n",
    "\n",
    "if total_amount < 5000:\n",
    "    service_charge = 0\n",
    "elif total_amount < 10000:\n",
    "    service_charge = 500\n",
    "else:\n",
    "    service_charge = 1000\n",
    "\n",
    "final_amount = total_amount + service_charge\n",
    "print(f\"最終的な支払金額は{final_amount}円です。\")\n"
   ]
  },
  {
   "cell_type": "markdown",
   "metadata": {},
   "source": [
    "解説:\n",
    "この問題では、注文した料理の合計金額に応じてサービス料を計算しています。\n",
    "\n",
    "まず、`total_amount`という変数に注文した料理の合計金額8000円を代入しています。\n",
    "\n",
    "次に、if-elif文を使って、合計金額に応じたサービス料を決定しています。\n",
    "- 合計金額が5000円未満の場合、サービス料は0円\n",
    "- 合計金額が5000円以上10000円未満の場合、サービス料は500円\n",
    "- 合計金額が10000円以上の場合、サービス料は1000円\n",
    "\n",
    "注文した料理の合計金額は8000円なので、`service_charge`には500円が代入されます。\n",
    "\n",
    "最後に、`total_amount`と`service_charge`を足し合わせて最終的な支払金額を計算し、`final_amount`に代入しています。\n",
    "\n",
    "`print()`を使って、最終的な支払金額を出力しています。\n",
    "\n",
    "このように、条件分岐を使うことで、合計金額に応じたサービス料の設定を簡単に実装することができます。"
   ]
  }
 ],
 "metadata": {
  "kernelspec": {
   "display_name": "base",
   "language": "python",
   "name": "python3"
  },
  "language_info": {
   "codemirror_mode": {
    "name": "ipython",
    "version": 3
   },
   "file_extension": ".py",
   "mimetype": "text/x-python",
   "name": "python",
   "nbconvert_exporter": "python",
   "pygments_lexer": "ipython3",
   "version": "3.11.3"
  }
 },
 "nbformat": 4,
 "nbformat_minor": 2
}
